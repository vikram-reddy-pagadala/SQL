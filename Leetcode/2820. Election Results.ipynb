{
 "cells": [
  {
   "cell_type": "markdown",
   "metadata": {},
   "source": [
    "# **2820. Election Results**\n",
    "\n",
    "**Table: Votes**\n",
    "``` console\n",
    "+-------------+---------+ \n",
    "| Column Name | Type    | \n",
    "+-------------+---------+ \n",
    "| voter       | varchar | \n",
    "| candidate   | varchar |\n",
    "+-------------+---------+\n",
    "```\n",
    "(voter, candidate) is the primary key (combination of unique values) for this table.\n",
    "\n",
    "Each row of this table contains name of the voter and their candidate. \n",
    "\n",
    "The election is conducted in a city where everyone can vote for one or more candidates or choose not to vote. \n",
    "\n",
    "Each person has 1 vote so if they vote for multiple candidates, their vote gets equally split across them. \n",
    "\n",
    "For example, if a person votes for 2 candidates, these candidates receive an equivalent of 0.5 votes each.\n",
    "\n",
    "Write a solution to find candidate who got the most votes and won the election. Output the name of the candidate or If multiple candidates have an equal number of votes, display the names of all of them.\n",
    "\n",
    "Return the result table ordered by candidate in ascending order.\n",
    "\n",
    "The result format is in the following example.\n",
    "\n",
    " \n",
    "\n",
    "**Example 1:**\n",
    "\n",
    "**Input:** \n",
    "**Votes table:**\n",
    "``` console\n",
    "+----------+-----------+\n",
    "| voter    | candidate |\n",
    "+----------+-----------+\n",
    "| Kathy    | null      |\n",
    "| Charles  | Ryan      |\n",
    "| Charles  | Christine |\n",
    "| Charles  | Kathy     |\n",
    "| Benjamin | Christine |\n",
    "| Anthony  | Ryan      |\n",
    "| Edward   | Ryan      |\n",
    "| Terry    | null      |\n",
    "| Evelyn   | Kathy     |\n",
    "| Arthur   | Christine |\n",
    "+----------+-----------+\n",
    "```\n",
    "**Output:** \n",
    "``` console\n",
    "+-----------+\n",
    "| candidate | \n",
    "+-----------+\n",
    "| Christine |  \n",
    "| Ryan      |  \n",
    "+-----------+\n",
    "```\n",
    "**Explanation:** \n",
    "\n",
    "- Kathy and Terry opted not to participate in voting, resulting in their votes being recorded as 0. Charles distributed his vote among three candidates, equating to 0.33 for each candidate. On the other hand, Benjamin, Arthur, Anthony, Edward, and Evelyn each cast their votes for a single candidate.\n",
    "\n",
    "- Collectively, Candidate Ryan and Christine amassed a total of 2.33 votes, while Kathy received a combined total of 1.33 votes.\n",
    "\n",
    "Since Ryan and Christine received an equal number of votes, we will display their names in ascending order."
   ]
  },
  {
   "cell_type": "markdown",
   "metadata": {},
   "source": [
    "**Solution-1:**"
   ]
  },
  {
   "cell_type": "markdown",
   "metadata": {},
   "source": [
    "``` sql\n",
    "WITH voter_candidate_percentage AS (\n",
    "    SELECT \n",
    "        voter,\n",
    "        candidate,\n",
    "        COUNT(*) * 1.0 / SUM(COUNT(*)) OVER (PARTITION BY voter) AS percentage\n",
    "    FROM Votes\n",
    "    WHERE candidate IS NOT NULL\n",
    "    GROUP BY voter, candidate\n",
    "),\n",
    "ranked_candidates AS (\n",
    "    SELECT \n",
    "        candidate,\n",
    "        RANK() OVER (ORDER BY SUM(percentage) DESC) AS rnk\n",
    "    FROM voter_candidate_percentage\n",
    "    GROUP BY candidate\n",
    ")\n",
    "SELECT candidate\n",
    "FROM ranked_candidates\n",
    "WHERE rnk = 1\n",
    "ORDER BY candidate ASC;\n"
   ]
  },
  {
   "cell_type": "markdown",
   "metadata": {},
   "source": [
    "**Solution-2:**"
   ]
  },
  {
   "cell_type": "markdown",
   "metadata": {},
   "source": [
    "``` sql\n",
    "# Write your MySQL query statement below\n",
    "\n",
    "with cte as(select voter, candidate, \n",
    "Round(COUNT(candidate) over (partition by voter, candidate) / COUNT(candidate) over (partition by voter),2) as percen\n",
    "FROM Votes\n",
    "WHERE candidate is not null)\n",
    ",cte2 as(select candidate,\n",
    "RANK()OVER(order by sum(percen) desc) as rn\n",
    "from cte\n",
    "group by candidate)\n",
    "\n",
    "select candidate from cte2 where rn = 1 order by candidate asc"
   ]
  }
 ],
 "metadata": {
  "language_info": {
   "name": "python"
  }
 },
 "nbformat": 4,
 "nbformat_minor": 2
}
