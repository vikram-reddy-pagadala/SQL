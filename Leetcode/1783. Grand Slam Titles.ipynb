{
 "cells": [
  {
   "cell_type": "markdown",
   "metadata": {},
   "source": [
    "# **1783. Grand Slam Titles**\n",
    "``` console\n",
    "Table: Players\n",
    "\n",
    "+----------------+---------+\n",
    "| Column Name    | Type    |\n",
    "+----------------+---------+\n",
    "| player_id      | int     |\n",
    "| player_name    | varchar |\n",
    "+----------------+---------+\n",
    "player_id is the primary key (column with unique values) for this table.\n",
    "Each row in this table contains the name and the ID of a tennis player.\n",
    " \n",
    "\n",
    "Table: Championships\n",
    "\n",
    "+---------------+---------+\n",
    "| Column Name   | Type    |\n",
    "+---------------+---------+\n",
    "| year          | int     |\n",
    "| Wimbledon     | int     |\n",
    "| Fr_open       | int     |\n",
    "| US_open       | int     |\n",
    "| Au_open       | int     |\n",
    "+---------------+---------+\n",
    "year is the primary key (column with unique values) for this table.\n",
    "Each row of this table contains the IDs of the players who won one each tennis tournament of the grand slam.\n",
    " \n",
    "\n",
    "Write a solution to report the number of grand slam tournaments won by each player. Do not include the players who did not win any tournament.\n",
    "\n",
    "Return the result table in any order.\n",
    "\n",
    "The result format is in the following example.\n",
    "\n",
    " \n",
    "\n",
    "Example 1:\n",
    "\n",
    "Input: \n",
    "Players table:\n",
    "+-----------+-------------+\n",
    "| player_id | player_name |\n",
    "+-----------+-------------+\n",
    "| 1         | Nadal       |\n",
    "| 2         | Federer     |\n",
    "| 3         | Novak       |\n",
    "+-----------+-------------+\n",
    "\n",
    "Championships table:\n",
    "+------+-----------+---------+---------+---------+\n",
    "| year | Wimbledon | Fr_open | US_open | Au_open |\n",
    "+------+-----------+---------+---------+---------+\n",
    "| 2018 | 1         | 1       | 1       | 1       |\n",
    "| 2019 | 1         | 1       | 2       | 2       |\n",
    "| 2020 | 2         | 1       | 2       | 2       |\n",
    "+------+-----------+---------+---------+---------+\n",
    "\n",
    "Output: \n",
    "+-----------+-------------+-------------------+\n",
    "| player_id | player_name | grand_slams_count |\n",
    "+-----------+-------------+-------------------+\n",
    "| 2         | Federer     | 5                 |\n",
    "| 1         | Nadal       | 7                 |\n",
    "+-----------+-------------+-------------------+\n",
    "\n",
    "Explanation: \n",
    "Player 1 (Nadal) won 7 titles: Wimbledon (2018, 2019), Fr_open (2018, 2019, 2020), US_open (2018), and Au_open (2018).\n",
    "Player 2 (Federer) won 5 titles: Wimbledon (2020), US_open (2019, 2020), and Au_open (2019, 2020).\n",
    "Player 3 (Novak) did not win anything, we did not include them in the result table.\n",
    "```"
   ]
  },
  {
   "cell_type": "markdown",
   "metadata": {},
   "source": [
    "**Solution-1:**"
   ]
  },
  {
   "cell_type": "markdown",
   "metadata": {},
   "source": [
    "``` sql\n",
    "# Write your MySQL query statement below\n",
    "SELECT player_id,player_name,grand_slams_count\n",
    "FROM players\n",
    "INNER JOIN(\n",
    "SELECT player_id, count(*) as grand_slams_count\n",
    "FROM\n",
    "(SELECT year, Wimbledon as player_id FROM Championships\n",
    "UNION ALL\n",
    "SELECT year, Fr_open as player_id FROM Championships\n",
    "UNION ALL\n",
    "SELECT year, US_open as player_id FROM Championships\n",
    "UNION ALL\n",
    "SELECT year, Au_open as player_id FROM Championships) a\n",
    "GROUP BY player_id) b\n",
    "USING(player_id)"
   ]
  },
  {
   "cell_type": "markdown",
   "metadata": {},
   "source": []
  },
  {
   "cell_type": "markdown",
   "metadata": {},
   "source": [
    "**Solution-2:**"
   ]
  },
  {
   "cell_type": "markdown",
   "metadata": {},
   "source": [
    "``` sql\n",
    "select player_id, player_name, count(*) as grand_slams_count\n",
    "from championships\n",
    "cross join lateral (\n",
    "    values\n",
    "    ('Wimbledon', Wimbledon),\n",
    "    ('Fr_open', Fr_open),\n",
    "    ('US_open', US_open),\n",
    "    ('Au_open', Au_open)\n",
    ") as l(tourny, player_id)\n",
    "left join players using(player_id)\n",
    "group by player_id, player_name"
   ]
  },
  {
   "cell_type": "markdown",
   "metadata": {},
   "source": []
  },
  {
   "cell_type": "markdown",
   "metadata": {},
   "source": [
    "**Solution-3:**"
   ]
  },
  {
   "cell_type": "markdown",
   "metadata": {},
   "source": [
    "``` sql\n",
    "/* Write your T-SQL query statement below */\n",
    "with cte as (select year,play_id\n",
    "from championships\n",
    "unpivot (\n",
    "    play_id for tournment in(Wimbledon, fr_open, us_open, au_open)\n",
    ") as unpivotsales)\n",
    "select player_id,\n",
    "player_name,\n",
    "count(player_id) as grand_slams_count \n",
    "from players join cte on \n",
    "players.player_id = cte.play_id \n",
    "group by player_id,player_name"
   ]
  },
  {
   "cell_type": "markdown",
   "metadata": {},
   "source": []
  },
  {
   "cell_type": "markdown",
   "metadata": {},
   "source": [
    "**Solutioin-4:**"
   ]
  },
  {
   "cell_type": "markdown",
   "metadata": {},
   "source": [
    "``` sql\n",
    "# Write your MySQL query statement below\n",
    "SELECT player_id,player_name,\n",
    "SUM(player_id=Wimbledon)+SUM(player_id=Fr_open)+SUM(player_id=US_open)+SUM(player_id=Au_open)\n",
    "as grand_slams_count\n",
    "FROM Players\n",
    "JOIN Championships\n",
    "ON player_id=Wimbledon or player_id=Fr_open or player_id=US_open or player_id=Au_open\n",
    "GROUP BY player_id;"
   ]
  }
 ],
 "metadata": {
  "language_info": {
   "name": "python"
  }
 },
 "nbformat": 4,
 "nbformat_minor": 2
}
