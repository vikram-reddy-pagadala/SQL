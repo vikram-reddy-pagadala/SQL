{
 "cells": [
  {
   "cell_type": "markdown",
   "metadata": {},
   "source": [
    "# **2893. Calculate Orders Within Each Interval**\n",
    "\n",
    "**Table: Orders**\n",
    "``` console\n",
    "+-------------+------+ \n",
    "| Column Name | Type | \n",
    "+-------------+------+ \n",
    "| minute      | int  | \n",
    "| order_count | int  |\n",
    "+-------------+------+\n",
    "```\n",
    "minute is the primary key for this table.\n",
    "\n",
    "Each row of this table contains the minute and number of orders received during that specific minute. The total number of rows will be a multiple of 6.\n",
    "\n",
    "Write a query to calculate total orders within each interval. Each interval is defined as a combination of 6 minutes.\n",
    "\n",
    "Minutes 1 to 6 fall within interval 1, while minutes 7 to 12 belong to interval 2, and so forth.\n",
    "Return the result table ordered by interval_no in ascending order.\n",
    "\n",
    "The result format is in the following example.\n",
    "\n",
    " \n",
    "\n",
    "Example 1:\n",
    "\n",
    "**Input:** \n",
    "**Orders table:**\n",
    "``` console\n",
    "+--------+-------------+\n",
    "| minute | order_count | \n",
    "+--------+-------------+\n",
    "| 1      | 0           |\n",
    "| 2      | 2           | \n",
    "| 3      | 4           | \n",
    "| 4      | 6           | \n",
    "| 5      | 1           | \n",
    "| 6      | 4           | \n",
    "| 7      | 1           | \n",
    "| 8      | 2           | \n",
    "| 9      | 4           | \n",
    "| 10     | 1           | \n",
    "| 11     | 4           | \n",
    "| 12     | 6           | \n",
    "+--------+-------------+\n",
    "```\n",
    "**Output:**\n",
    "``` console \n",
    "+-------------+--------------+\n",
    "| interval_no | total_orders | \n",
    "+-------------+--------------+\n",
    "| 1           | 17           | \n",
    "| 2           | 18           |    \n",
    "+-------------+--------------+\n",
    "```\n",
    "**Explanation:**\n",
    "\n",
    "- Interval number 1 comprises minutes from 1 to 6. The total orders in these six minutes are (0 + 2 + 4 + 6 + 1 + 4) = 17.\n",
    "\n",
    "- Interval number 2 comprises minutes from 7 to 12. The total orders in these six minutes are (1 + 2 + 4 + 1 + 4 + 6) = 18.\n",
    "\n",
    "Returning table orderd by interval_no in ascending order."
   ]
  },
  {
   "cell_type": "markdown",
   "metadata": {},
   "source": [
    "**Solution-1:**"
   ]
  },
  {
   "cell_type": "markdown",
   "metadata": {},
   "source": [
    "``` sql\n",
    "# Write your MySQL query statement below\n",
    "\n",
    "select * from \n",
    "(select\n",
    "minute / 6 as interval_no,\n",
    "sum(order_count) over(order by minute rows between 5 preceding and current row) as total_orders\n",
    "from orders) a\n",
    "where interval_no % 6  in (0,1,2,3,4,5)\n",
    "order by interval_no asc"
   ]
  },
  {
   "cell_type": "markdown",
   "metadata": {},
   "source": [
    "**Solution-2:**"
   ]
  },
  {
   "cell_type": "markdown",
   "metadata": {},
   "source": [
    "``` sql\n",
    "# Write your MySQL query statement below\n",
    "\n",
    "SELECT CEIL(minute / 6) AS interval_no,\n",
    "       SUM(order_count) AS total_orders\n",
    "FROM Orders\n",
    "GROUP BY interval_no\n",
    "ORDER BY interval_no"
   ]
  }
 ],
 "metadata": {
  "language_info": {
   "name": "python"
  }
 },
 "nbformat": 4,
 "nbformat_minor": 2
}
