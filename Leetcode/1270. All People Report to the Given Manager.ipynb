{
 "cells": [
  {
   "cell_type": "markdown",
   "metadata": {},
   "source": [
    "# **1270. All People Report to the Given Manager**\n",
    "``` console\n",
    "Table: Employees\n",
    "\n",
    "+---------------+---------+\n",
    "| Column Name   | Type    |\n",
    "+---------------+---------+\n",
    "| employee_id   | int     |\n",
    "| employee_name | varchar |\n",
    "| manager_id    | int     |\n",
    "+---------------+---------+\n",
    "employee_id is the column of unique values for this table.\n",
    "Each row of this table indicates that the employee with ID employee_id and name employee_name reports his work to his/her direct manager with manager_id\n",
    "The head of the company is the employee with employee_id = 1.\n",
    " \n",
    "\n",
    "Write a solution to find employee_id of all employees that directly or indirectly report their work to the head of the company.\n",
    "\n",
    "The indirect relation between managers will not exceed three managers as the company is small.\n",
    "\n",
    "Return the result table in any order.\n",
    "\n",
    "The result format is in the following example.\n",
    "\n",
    " \n",
    "\n",
    "Example 1:\n",
    "\n",
    "Input: \n",
    "Employees table:\n",
    "+-------------+---------------+------------+\n",
    "| employee_id | employee_name | manager_id |\n",
    "+-------------+---------------+------------+\n",
    "| 1           | Boss          | 1          |\n",
    "| 3           | Alice         | 3          |\n",
    "| 2           | Bob           | 1          |\n",
    "| 4           | Daniel        | 2          |\n",
    "| 7           | Luis          | 4          |\n",
    "| 8           | Jhon          | 3          |\n",
    "| 9           | Angela        | 8          |\n",
    "| 77          | Robert        | 1          |\n",
    "+-------------+---------------+------------+\n",
    "\n",
    "Output: \n",
    "+-------------+\n",
    "| employee_id |\n",
    "+-------------+\n",
    "| 2           |\n",
    "| 77          |\n",
    "| 4           |\n",
    "| 7           |\n",
    "+-------------+\n",
    "\n",
    "Explanation: \n",
    "The head of the company is the employee with employee_id 1.\n",
    "The employees with employee_id 2 and 77 report their work directly to the head of the company.\n",
    "The employee with employee_id 4 reports their work indirectly to the head of the company 4 --> 2 --> 1. \n",
    "The employee with employee_id 7 reports their work indirectly to the head of the company 7 --> 4 --> 2 --> 1.\n",
    "The employees with employee_id 3, 8, and 9 do not report their work to the head of the company directly or indirectly. \n",
    "```"
   ]
  },
  {
   "cell_type": "markdown",
   "metadata": {},
   "source": [
    "**Solution-1:**"
   ]
  },
  {
   "cell_type": "markdown",
   "metadata": {},
   "source": [
    "``` sql\n",
    "SELECT employee_id\n",
    "FROM employees\n",
    "WHERE employee_id <> 1\n",
    "AND manager_id IN\n",
    "(SELECT e1.employee_id\n",
    "FROM employees e1 \n",
    "JOIN employees e2 \n",
    "ON e1.manager_id = e2.employee_id\n",
    "WHERE e1.manager_id = 1 OR e2.manager_id = 1\n",
    ")"
   ]
  },
  {
   "cell_type": "markdown",
   "metadata": {},
   "source": []
  },
  {
   "cell_type": "markdown",
   "metadata": {},
   "source": [
    "**Solution-2:**"
   ]
  },
  {
   "cell_type": "markdown",
   "metadata": {},
   "source": [
    "``` sql\n",
    "SELECT e1.employee_id\n",
    "FROM Employees e1,\n",
    "     Employees e2,\n",
    "     Employees e3\n",
    "WHERE e1.manager_id = e2.employee_id\n",
    "  AND e2.manager_id = e3.employee_id\n",
    "  AND e3.manager_id = 1 \n",
    "  AND e1.employee_id != 1"
   ]
  },
  {
   "cell_type": "markdown",
   "metadata": {},
   "source": []
  },
  {
   "cell_type": "markdown",
   "metadata": {},
   "source": [
    "**Solution-3:**"
   ]
  },
  {
   "cell_type": "markdown",
   "metadata": {},
   "source": [
    "``` sql\n",
    "SELECT e1.employee_id\n",
    "FROM Employees e1\n",
    "JOIN Employees e2\n",
    "ON e1.manager_id = e2.employee_id\n",
    "JOIN Employees e3\n",
    "ON e2.manager_id = e3.employee_id\n",
    "WHERE e3.manager_id = 1 AND e1.employee_id != 1"
   ]
  },
  {
   "cell_type": "markdown",
   "metadata": {},
   "source": []
  },
  {
   "cell_type": "markdown",
   "metadata": {},
   "source": [
    "**Solution-4:**"
   ]
  },
  {
   "cell_type": "markdown",
   "metadata": {},
   "source": [
    "``` sql\n",
    "with recursive cte as (\n",
    "    select *\n",
    "    from Employees where employee_id=1\n",
    "    union \n",
    "    select e.*\n",
    "    from cte c\n",
    "    join Employees e on c.employee_id=e.manager_id\n",
    ")\n",
    "select employee_id\n",
    "from cte \n",
    "where employee_id!=1"
   ]
  }
 ],
 "metadata": {
  "language_info": {
   "name": "python"
  }
 },
 "nbformat": 4,
 "nbformat_minor": 2
}
