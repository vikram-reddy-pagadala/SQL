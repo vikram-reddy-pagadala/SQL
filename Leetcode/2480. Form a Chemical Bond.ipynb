{
 "cells": [
  {
   "cell_type": "markdown",
   "metadata": {},
   "source": [
    "# **2480. Form a Chemical Bond**\n",
    "\n",
    "**Table: Elements**\n",
    "``` console\n",
    "+-------------+---------+\n",
    "| Column Name | Type    |\n",
    "+-------------+---------+\n",
    "| symbol      | varchar |\n",
    "| type        | enum    |\n",
    "| electrons   | int     |\n",
    "+-------------+---------+\n",
    "```\n",
    "symbol is the primary key (column with unique values) for this table.\n",
    "\n",
    "Each row of this table contains information of one element.\n",
    "\n",
    "type is an ENUM (category) of type ('Metal', 'Nonmetal', 'Noble')\n",
    " - If type is Noble, electrons is 0.\n",
    " - If type is Metal, electrons is the number of electrons that one atom of this element can give.\n",
    " - If type is Nonmetal, electrons is the number of electrons that one atom of this element needs.\n",
    " \n",
    "\n",
    "Two elements can form a bond if one of them is 'Metal' and the other is 'Nonmetal'.\n",
    "\n",
    "Write a solution to find all the pairs of elements that can form a bond.\n",
    "\n",
    "Return the result table in any order.\n",
    "\n",
    "The result format is in the following example.\n",
    "\n",
    " \n",
    "\n",
    "**Example 1:**\n",
    "\n",
    "**Input:** \n",
    "**Elements table:**\n",
    "``` console\n",
    "+--------+----------+-----------+\n",
    "| symbol | type     | electrons |\n",
    "+--------+----------+-----------+\n",
    "| He     | Noble    | 0         |\n",
    "| Na     | Metal    | 1         |\n",
    "| Ca     | Metal    | 2         |\n",
    "| La     | Metal    | 3         |\n",
    "| Cl     | Nonmetal | 1         |\n",
    "| O      | Nonmetal | 2         |\n",
    "| N      | Nonmetal | 3         |\n",
    "+--------+----------+-----------+\n",
    "```\n",
    "**Output:** \n",
    "``` console\n",
    "+-------+----------+\n",
    "| metal | nonmetal |\n",
    "+-------+----------+\n",
    "| La    | Cl       |\n",
    "| Ca    | Cl       |\n",
    "| Na    | Cl       |\n",
    "| La    | O        |\n",
    "| Ca    | O        |\n",
    "| Na    | O        |\n",
    "| La    | N        |\n",
    "| Ca    | N        |\n",
    "| Na    | N        |\n",
    "+-------+----------+\n",
    "```\n",
    "**Explanation:**\n",
    "\n",
    "- Metal elements are La, Ca, and Na.\n",
    "- Nonmeal elements are Cl, O, and N.\n",
    "- Each Metal element pairs with a Nonmetal element in the output table."
   ]
  },
  {
   "cell_type": "markdown",
   "metadata": {},
   "source": [
    "**Solution-1:**"
   ]
  },
  {
   "cell_type": "markdown",
   "metadata": {},
   "source": [
    "``` sql\n",
    "# Write your MySQL query statement below\n",
    "\n",
    "SELECT a.symbol as metal, b.symbol AS nonmetal\n",
    "FROM Elements a, ELEments b\n",
    "WHERE a.type = 'Metal' AND b.type = 'Nonmetal'"
   ]
  },
  {
   "cell_type": "markdown",
   "metadata": {},
   "source": [
    "**Solution-2:**"
   ]
  },
  {
   "cell_type": "markdown",
   "metadata": {},
   "source": [
    "``` sql\n",
    "# The idea here is to filter the records and then perform a cross product.\n",
    "\n",
    "SELECT M.SYMBOL AS METAL, NM.SYMBOL AS NONMETAL\n",
    "FROM \n",
    "( SELECT SYMBOL FROM ELEMENTS AS E WHERE E.TYPE = 'Metal' ) AS M ,\n",
    "( SELECT SYMBOL FROM ELEMENTS AS E  WHERE E.TYPE = 'Nonmetal' ) AS NM \n"
   ]
  }
 ],
 "metadata": {
  "language_info": {
   "name": "python"
  }
 },
 "nbformat": 4,
 "nbformat_minor": 2
}
