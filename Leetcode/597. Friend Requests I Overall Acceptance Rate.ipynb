{
 "cells": [
  {
   "cell_type": "markdown",
   "metadata": {},
   "source": [
    "# **597. Friend Requests I: Overall Acceptance Rate**\n",
    "\n",
    "Table: FriendRequest\n",
    "``` console\n",
    "+----------------+---------+\n",
    "| Column Name    | Type    |\n",
    "+----------------+---------+\n",
    "| sender_id      | int     |\n",
    "| send_to_id     | int     |\n",
    "| request_date   | date    |\n",
    "+----------------+---------+\n",
    "```\n",
    "This table may contain duplicates (In other words, there is no primary key for this table in SQL).\n",
    "This table contains the ID of the user who sent the request, the ID of the user who received the request, and the date of the request.\n",
    " \n",
    "\n",
    "Table: RequestAccepted\n",
    "``` console\n",
    "+----------------+---------+\n",
    "| Column Name    | Type    |\n",
    "+----------------+---------+\n",
    "| requester_id   | int     |\n",
    "| accepter_id    | int     |\n",
    "| accept_date    | date    |\n",
    "+----------------+---------+\n",
    "```\n",
    "This table may contain duplicates (In other words, there is no primary key for this table in SQL).\n",
    "This table contains the ID of the user who sent the request, the ID of the user who received the request, and the date when the request was accepted.\n",
    " \n",
    "\n",
    "Find the overall acceptance rate of requests, which is the number of acceptance divided by the number of requests. Return the answer rounded to 2 decimals places.\n",
    "\n",
    "Note that:\n",
    "\n",
    "The accepted requests are not necessarily from the table friend_request. In this case, Count the total accepted requests (no matter whether they are in the original requests), and divide it by the number of requests to get the acceptance rate.\n",
    "\n",
    "It is possible that a sender sends multiple requests to the same receiver, and a request could be accepted more than once. In this case, the ‘duplicated’ requests or acceptances are only counted once.\n",
    "\n",
    "If there are no requests at all, you should return 0.00 as the accept_rate.\n",
    "The result format is in the following example.\n",
    "\n",
    "\n",
    "Example 1:\n",
    "\n",
    "Input: \n",
    "**FriendRequest table:**\n",
    "\n",
    "```console\n",
    "+-----------+------------+--------------+\n",
    "| sender_id | send_to_id | request_date |\n",
    "+-----------+------------+--------------+\n",
    "| 1         | 2          | 2016/06/01   |\n",
    "| 1         | 3          | 2016/06/01   |\n",
    "| 1         | 4          | 2016/06/01   |\n",
    "| 2         | 3          | 2016/06/02   |\n",
    "| 3         | 4          | 2016/06/09   |\n",
    "+-----------+------------+--------------+\n",
    "```\n",
    "\n",
    "**RequestAccepted table:**\n",
    "\n",
    "```console\n",
    "+--------------+-------------+-------------+\n",
    "| requester_id | accepter_id | accept_date |\n",
    "+--------------+-------------+-------------+\n",
    "| 1            | 2           | 2016/06/03  |\n",
    "| 1            | 3           | 2016/06/08  |\n",
    "| 2            | 3           | 2016/06/08  |\n",
    "| 3            | 4           | 2016/06/09  |\n",
    "| 3            | 4           | 2016/06/10  |\n",
    "+--------------+-------------+-------------+\n",
    "```\n",
    "**Output:**\n",
    "```console\n",
    "+-------------+\n",
    "| accept_rate |\n",
    "+-------------+\n",
    "| 0.8         |\n",
    "+-------------+\n",
    "```\n",
    "\n",
    "**Explanation:**\n",
    "There are 4 unique accepted requests, and there are 5 requests in total. So the rate is 0.80."
   ]
  },
  {
   "cell_type": "markdown",
   "metadata": {},
   "source": [
    "**Solution 1:**"
   ]
  },
  {
   "cell_type": "code",
   "execution_count": null,
   "metadata": {
    "vscode": {
     "languageId": "sql"
    }
   },
   "outputs": [],
   "source": [
    " select \n",
    "    round(\n",
    "        coalesce(\n",
    "            count(distinct requester_id,accepter_id ) / \n",
    "                    (select count(distinct sender_id,send_to_id) from FriendRequest)\n",
    "             , 0),\n",
    "        2) as accept_rate\n",
    " from RequestAccepted"
   ]
  },
  {
   "cell_type": "code",
   "execution_count": null,
   "metadata": {
    "vscode": {
     "languageId": "sql"
    }
   },
   "outputs": [],
   "source": [
    "\n",
    " select \n",
    "    round(\n",
    "        coalesce(\n",
    "            count(distinct (concat(requester_id,accepter_id ))) / \n",
    "            (select count(distinct (concat(sender_id,send_to_id ))) from FriendRequest ) \n",
    "            ,0)\n",
    "        ,2) as accept_rate\n",
    " from RequestAccepted  \n"
   ]
  }
 ],
 "metadata": {
  "language_info": {
   "name": "python"
  }
 },
 "nbformat": 4,
 "nbformat_minor": 2
}
