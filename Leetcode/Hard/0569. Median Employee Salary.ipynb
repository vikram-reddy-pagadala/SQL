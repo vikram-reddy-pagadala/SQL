{
 "cells": [
  {
   "cell_type": "markdown",
   "metadata": {},
   "source": [
    "# **569. Median Employee Salary**\n",
    "``` console\n",
    "Table: Employee\n",
    "\n",
    "+--------------+---------+\n",
    "| Column Name  | Type    |\n",
    "+--------------+---------+\n",
    "| id           | int     |\n",
    "| company      | varchar |\n",
    "| salary       | int     |\n",
    "+--------------+---------+\n",
    "id is the primary key (column with unique values) for this table.\n",
    "Each row of this table indicates the company and the salary of one employee.\n",
    " \n",
    "\n",
    "Write a solution to find the rows that contain the median salary of each company. While calculating the median, when you sort the salaries of the company, break the ties by id.\n",
    "\n",
    "Return the result table in any order.\n",
    "\n",
    "The result format is in the following example.\n",
    "\n",
    " \n",
    "\n",
    "Example 1:\n",
    "\n",
    "Input: \n",
    "Employee table:\n",
    "+----+---------+--------+\n",
    "| id | company | salary |\n",
    "+----+---------+--------+\n",
    "| 1  | A       | 2341   |\n",
    "| 2  | A       | 341    |\n",
    "| 3  | A       | 15     |\n",
    "| 4  | A       | 15314  |\n",
    "| 5  | A       | 451    |\n",
    "| 6  | A       | 513    |\n",
    "| 7  | B       | 15     |\n",
    "| 8  | B       | 13     |\n",
    "| 9  | B       | 1154   |\n",
    "| 10 | B       | 1345   |\n",
    "| 11 | B       | 1221   |\n",
    "| 12 | B       | 234    |\n",
    "| 13 | C       | 2345   |\n",
    "| 14 | C       | 2645   |\n",
    "| 15 | C       | 2645   |\n",
    "| 16 | C       | 2652   |\n",
    "| 17 | C       | 65     |\n",
    "+----+---------+--------+\n",
    "\n",
    "Output: \n",
    "+----+---------+--------+\n",
    "| id | company | salary |\n",
    "+----+---------+--------+\n",
    "| 5  | A       | 451    |\n",
    "| 6  | A       | 513    |\n",
    "| 12 | B       | 234    |\n",
    "| 9  | B       | 1154   |\n",
    "| 14 | C       | 2645   |\n",
    "+----+---------+--------+\n",
    "\n",
    "Explanation: \n",
    "For company A, the rows sorted are as follows:\n",
    "+----+---------+--------+\n",
    "| id | company | salary |\n",
    "+----+---------+--------+\n",
    "| 3  | A       | 15     |\n",
    "| 2  | A       | 341    |\n",
    "| 5  | A       | 451    | <-- median\n",
    "| 6  | A       | 513    | <-- median\n",
    "| 1  | A       | 2341   |\n",
    "| 4  | A       | 15314  |\n",
    "+----+---------+--------+\n",
    "\n",
    "For company B, the rows sorted are as follows:\n",
    "+----+---------+--------+\n",
    "| id | company | salary |\n",
    "+----+---------+--------+\n",
    "| 8  | B       | 13     |\n",
    "| 7  | B       | 15     |\n",
    "| 12 | B       | 234    | <-- median\n",
    "| 11 | B       | 1221   | <-- median\n",
    "| 9  | B       | 1154   |\n",
    "| 10 | B       | 1345   |\n",
    "+----+---------+--------+\n",
    "\n",
    "For company C, the rows sorted are as follows:\n",
    "+----+---------+--------+\n",
    "| id | company | salary |\n",
    "+----+---------+--------+\n",
    "| 17 | C       | 65     |\n",
    "| 13 | C       | 2345   |\n",
    "| 14 | C       | 2645   | <-- median\n",
    "| 15 | C       | 2645   | \n",
    "| 16 | C       | 2652   |\n",
    "+----+---------+--------+\n",
    "```"
   ]
  },
  {
   "cell_type": "markdown",
   "metadata": {},
   "source": [
    "**Solutions:**"
   ]
  },
  {
   "cell_type": "code",
   "execution_count": null,
   "metadata": {
    "vscode": {
     "languageId": "sql"
    }
   },
   "outputs": [],
   "source": [
    "SELECT id, company, salary\n",
    "FROM\n",
    "(SELECT *, ROW_NUMBER() OVER(PARTITION BY company ORDER BY salary) AS row_num,\n",
    "COUNT(*) OVER (PARTITION BY company) AS total_count\n",
    "FROM Employee) a\n",
    "WHERE a.row_num IN (FLOOR((total_count + 1)/2), CEIL((total_count + 1)/2))"
   ]
  },
  {
   "cell_type": "code",
   "execution_count": null,
   "metadata": {
    "vscode": {
     "languageId": "sql"
    }
   },
   "outputs": [],
   "source": [
    "SELECT Id, Company, Salary\n",
    "FROM (\n",
    "SELECT *, ROW_NUMBER() OVER(PARTITION BY COMPANY ORDER BY Salary ASC, Id ASC) AS RN_ASC,\n",
    "ROW_NUMBER() OVER(PARTITION BY COMPANY ORDER BY Salary DESC, Id DESC) AS RN_DESC\n",
    "FROM Employee) AS temp\n",
    "WHERE RN_ASC BETWEEN RN_DESC - 1 AND RN_DESC + 1\n",
    "ORDER BY Company, Salary;"
   ]
  },
  {
   "cell_type": "code",
   "execution_count": null,
   "metadata": {
    "vscode": {
     "languageId": "sql"
    }
   },
   "outputs": [],
   "source": [
    "-- Postgres SQL\n",
    "SELECT Id, Company, Salary\n",
    "FROM (\n",
    "SELECT *, ROW_NUMBER() OVER(PARTITION BY COMPANY ORDER BY Salary ASC, Id ASC) AS RN_ASC,\n",
    "ROW_NUMBER() OVER(PARTITION BY COMPANY ORDER BY Salary DESC, Id DESC) AS RN_DESC\n",
    "FROM Employee) AS temp\n",
    "WHERE ABS(RN_ASC - RN_DESC) = 1  OR ABS(RN_ASC - RN_DESC)= 0\n",
    "ORDER BY Company, Salary;"
   ]
  }
 ],
 "metadata": {
  "language_info": {
   "name": "python"
  }
 },
 "nbformat": 4,
 "nbformat_minor": 2
}
