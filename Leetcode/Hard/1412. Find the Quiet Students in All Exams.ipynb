{
 "cells": [
  {
   "cell_type": "markdown",
   "metadata": {},
   "source": [
    "# **1412. Find the Quiet Students in All Exams**\n",
    "``` console\n",
    "Table: Student\n",
    "\n",
    "+---------------------+---------+\n",
    "| Column Name         | Type    |\n",
    "+---------------------+---------+\n",
    "| student_id          | int     |\n",
    "| student_name        | varchar |\n",
    "+---------------------+---------+\n",
    "student_id is the primary key (column with unique values) for this table.\n",
    "student_name is the name of the student.\n",
    " \n",
    "\n",
    "Table: Exam\n",
    "\n",
    "+---------------+---------+\n",
    "| Column Name   | Type    |\n",
    "+---------------+---------+\n",
    "| exam_id       | int     |\n",
    "| student_id    | int     |\n",
    "| score         | int     |\n",
    "+---------------+---------+\n",
    "(exam_id, student_id) is the primary key (combination of columns with unique values) for this table.\n",
    "Each row of this table indicates that the student with student_id had a score points in the exam with id exam_id.\n",
    " \n",
    "\n",
    "A quiet student is the one who took at least one exam and did not score the highest or the lowest score.\n",
    "\n",
    "Write a solution to report the students (student_id, student_name) being quiet in all exams. Do not return the student who has never taken any exam.\n",
    "\n",
    "Return the result table ordered by student_id.\n",
    "\n",
    "The result format is in the following example.\n",
    "\n",
    " \n",
    "\n",
    "Example 1:\n",
    "\n",
    "Input: \n",
    "Student table:\n",
    "+-------------+---------------+\n",
    "| student_id  | student_name  |\n",
    "+-------------+---------------+\n",
    "| 1           | Daniel        |\n",
    "| 2           | Jade          |\n",
    "| 3           | Stella        |\n",
    "| 4           | Jonathan      |\n",
    "| 5           | Will          |\n",
    "+-------------+---------------+\n",
    "\n",
    "Exam table:\n",
    "+------------+--------------+-----------+\n",
    "| exam_id    | student_id   | score     |\n",
    "+------------+--------------+-----------+\n",
    "| 10         |     1        |    70     |\n",
    "| 10         |     2        |    80     |\n",
    "| 10         |     3        |    90     |\n",
    "| 20         |     1        |    80     |\n",
    "| 30         |     1        |    70     |\n",
    "| 30         |     3        |    80     |\n",
    "| 30         |     4        |    90     |\n",
    "| 40         |     1        |    60     |\n",
    "| 40         |     2        |    70     |\n",
    "| 40         |     4        |    80     |\n",
    "+------------+--------------+-----------+\n",
    "\n",
    "Output: \n",
    "+-------------+---------------+\n",
    "| student_id  | student_name  |\n",
    "+-------------+---------------+\n",
    "| 2           | Jade          |\n",
    "+-------------+---------------+\n",
    "\n",
    "Explanation: \n",
    "For exam 1: Student 1 and 3 hold the lowest and high scores respectively.\n",
    "For exam 2: Student 1 hold both highest and lowest score.\n",
    "For exam 3 and 4: Studnet 1 and 4 hold the lowest and high scores respectively.\n",
    "Student 2 and 5 have never got the highest or lowest in any of the exams.\n",
    "Since student 5 is not taking any exam, he is excluded from the result.\n",
    "So, we only return the information of Student 2.\n",
    "```"
   ]
  },
  {
   "cell_type": "markdown",
   "metadata": {},
   "source": [
    "**Solution-1:**"
   ]
  },
  {
   "cell_type": "markdown",
   "metadata": {},
   "source": [
    "``` sql\n",
    "# Write your MySQL query statement below\n",
    "WITH cte AS (\n",
    "SELECT e.student_id,e.exam_id,\n",
    "rank() over(PARTITION BY e.exam_id ORDER BY e.score DESC) AS desc_rn,\n",
    "rank() over(PARTITION BY e.exam_id ORDER BY e.score ASC) AS asc_rn  \n",
    "FROM Exam e \n",
    "),\n",
    "cte2 AS(\n",
    "    SELECT student_id\n",
    "    FROM cte\n",
    "    WHERE student_id NOT IN(SELECT student_id FROM cte WHERE desc_rn = 1 OR asc_rn = 1)\n",
    ")\n",
    "\n",
    "SELECT DISTINCT s.student_id, s.student_name\n",
    "FROM Student s\n",
    "INNER JOIN cte2 e\n",
    "ON s.student_id = e.student_id \n",
    " "
   ]
  },
  {
   "cell_type": "markdown",
   "metadata": {},
   "source": []
  },
  {
   "cell_type": "markdown",
   "metadata": {},
   "source": [
    "**Solution-2:**"
   ]
  },
  {
   "cell_type": "markdown",
   "metadata": {},
   "source": [
    "``` sql\n",
    "# Write your MySQL query statement below\n",
    "with cte as\n",
    "(\n",
    "select student_id\n",
    "from\n",
    "Exam where (exam_id, score) in\n",
    "(\n",
    "    select exam_id, max(score) from Exam\n",
    "    group by exam_id\n",
    ")\n",
    "union\n",
    "select student_id\n",
    "from\n",
    "Exam where (exam_id, score) in\n",
    "(\n",
    "    select exam_id, min(score) from Exam\n",
    "    group by exam_id\n",
    ")\n",
    ")\n",
    "select student_id, student_name\n",
    "from Student\n",
    "where student_id not in (select student_id from cte)\n",
    "and student_id in (select distinct(student_id) from Exam)\n"
   ]
  },
  {
   "cell_type": "markdown",
   "metadata": {},
   "source": []
  },
  {
   "cell_type": "markdown",
   "metadata": {},
   "source": [
    "**Solution-3:**"
   ]
  },
  {
   "cell_type": "markdown",
   "metadata": {},
   "source": [
    "``` sql\n",
    "WITH cte AS(\n",
    "    SELECT exam_id, exam.student_id, student_name, score, RANK() OVER(PARTITION BY exam_id ORDER BY score) rk1, RANK() OVER(PARTITION BY exam_id ORDER BY score DESC) rk2 \n",
    "    FROM exam LEFT JOIN student\n",
    "    ON exam.student_id = student.student_id\n",
    ")\n",
    "\n",
    "SELECT DISTINCT student_id, student_name\n",
    "FROM cte\n",
    "WHERE student_id NOT IN (SELECT student_id FROM cte WHERE rk1 = 1 or rk2 = 1)\n",
    "ORDER BY student_id"
   ]
  }
 ],
 "metadata": {
  "language_info": {
   "name": "python"
  }
 },
 "nbformat": 4,
 "nbformat_minor": 2
}
