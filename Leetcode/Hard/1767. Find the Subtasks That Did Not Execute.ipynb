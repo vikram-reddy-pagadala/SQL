{
 "cells": [
  {
   "cell_type": "markdown",
   "metadata": {},
   "source": [
    "# **1767. Find the Subtasks That Did Not Execute**\n",
    "``` console\n",
    "Table: Tasks\n",
    "\n",
    "+----------------+---------+\n",
    "| Column Name    | Type    |\n",
    "+----------------+---------+\n",
    "| task_id        | int     |\n",
    "| subtasks_count | int     |\n",
    "+----------------+---------+\n",
    "task_id is the column with unique values for this table.\n",
    "Each row in this table indicates that task_id was divided into subtasks_count subtasks labeled from 1 to subtasks_count.\n",
    "It is guaranteed that 2 <= subtasks_count <= 20.\n",
    " \n",
    "\n",
    "Table: Executed\n",
    "\n",
    "+---------------+---------+\n",
    "| Column Name   | Type    |\n",
    "+---------------+---------+\n",
    "| task_id       | int     |\n",
    "| subtask_id    | int     |\n",
    "+---------------+---------+\n",
    "(task_id, subtask_id) is the combination of columns with unique values for this table.\n",
    "Each row in this table indicates that for the task task_id, the subtask with ID subtask_id was executed successfully.\n",
    "It is guaranteed that subtask_id <= subtasks_count for each task_id.\n",
    " \n",
    "\n",
    "Write a solution to report the IDs of the missing subtasks for each task_id.\n",
    "\n",
    "Return the result table in any order.\n",
    "\n",
    "The result format is in the following example.\n",
    "\n",
    " \n",
    "\n",
    "Example 1:\n",
    "\n",
    "Input: \n",
    "Tasks table:\n",
    "+---------+----------------+\n",
    "| task_id | subtasks_count |\n",
    "+---------+----------------+\n",
    "| 1       | 3              |\n",
    "| 2       | 2              |\n",
    "| 3       | 4              |\n",
    "+---------+----------------+\n",
    "\n",
    "Executed table:\n",
    "+---------+------------+\n",
    "| task_id | subtask_id |\n",
    "+---------+------------+\n",
    "| 1       | 2          |\n",
    "| 3       | 1          |\n",
    "| 3       | 2          |\n",
    "| 3       | 3          |\n",
    "| 3       | 4          |\n",
    "+---------+------------+\n",
    "\n",
    "Output: \n",
    "+---------+------------+\n",
    "| task_id | subtask_id |\n",
    "+---------+------------+\n",
    "| 1       | 1          |\n",
    "| 1       | 3          |\n",
    "| 2       | 1          |\n",
    "| 2       | 2          |\n",
    "+---------+------------+\n",
    "\n",
    "Explanation: \n",
    "Task 1 was divided into 3 subtasks (1, 2, 3). Only subtask 2 was executed successfully, so we include (1, 1) and (1, 3) in the answer.\n",
    "Task 2 was divided into 2 subtasks (1, 2). No subtask was executed successfully, so we include (2, 1) and (2, 2) in the answer.\n",
    "Task 3 was divided into 4 subtasks (1, 2, 3, 4). All of the subtasks were executed successfully.\n",
    "\n",
    "```"
   ]
  },
  {
   "cell_type": "markdown",
   "metadata": {},
   "source": [
    "**Solution-1:**"
   ]
  },
  {
   "cell_type": "markdown",
   "metadata": {},
   "source": [
    "``` sql\n",
    "# Write your MySQL query statement below\n",
    "WITH RECURSIVE cte as(\n",
    "    SELECT \n",
    "    1 AS task_id, 1 AS subtasks_count\n",
    "    UNION \n",
    "    SELECT\n",
    "    task_id + 1, subtasks_count\n",
    "    FROM CTE\n",
    "    WHERE task_id <(SELECT max(task_id) FROM TASKS)\n",
    "    UNION \n",
    "    SELECT \n",
    "    task_id, 1 + subtasks_count\n",
    "    FROM CTE\n",
    "    where subtasks_count < 20\n",
    ")\n",
    "SELECT a.task_id, a.subtask_id\n",
    "FROM\n",
    "(SELECT a.task_id as task_id, a.subtasks_count AS subtask_id\n",
    "FROM cte a, tasks b\n",
    "WHERE a.task_id = b.task_id and a.subtasks_count <= b.subtasks_count) a\n",
    "WHERE (a.task_id,a.subtask_id) NOT IN (SELECT task_id,subtask_id FROM executed)"
   ]
  },
  {
   "cell_type": "markdown",
   "metadata": {},
   "source": []
  },
  {
   "cell_type": "markdown",
   "metadata": {},
   "source": [
    "**Solution-2:**"
   ]
  },
  {
   "cell_type": "markdown",
   "metadata": {},
   "source": [
    "``` sql\n",
    "with recursive number as(\n",
    "    select * from Tasks\n",
    "    union\n",
    "    select task_id, subtasks_count  - 1\n",
    "    from number \n",
    "    where subtasks_count  > 1\n",
    ")\n",
    "select a.task_id, a.subtasks_count as subtask_id\n",
    "from number a\n",
    "WHERE (a.task_id,a.subtasks_count) NOT IN (SELECT task_id,subtask_id FROM executed)"
   ]
  },
  {
   "cell_type": "markdown",
   "metadata": {},
   "source": []
  },
  {
   "cell_type": "markdown",
   "metadata": {},
   "source": [
    "**Solution-3:**"
   ]
  },
  {
   "cell_type": "markdown",
   "metadata": {},
   "source": [
    "``` sql\n",
    "with recursive number as(\n",
    "    select *\n",
    "        from Tasks\n",
    "    union\n",
    "    select task_id, subtasks_count  - 1\n",
    "        from number where subtasks_count  > 1\n",
    ")\n",
    "select a.task_id,a.subtasks_count as subtask_id\n",
    "from number a\n",
    "LEFT JOIN executed b\n",
    "ON a.task_id = b.task_id AND a.subtasks_count = b.subtask_id \n",
    "WHERE b.task_id is null"
   ]
  }
 ],
 "metadata": {
  "language_info": {
   "name": "python"
  }
 },
 "nbformat": 4,
 "nbformat_minor": 2
}
