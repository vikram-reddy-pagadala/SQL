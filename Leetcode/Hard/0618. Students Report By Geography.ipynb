{
 "cells": [
  {
   "cell_type": "markdown",
   "metadata": {},
   "source": [
    "# **618. Students Report By Geography**\n",
    "``` console\n",
    "Table: Student\n",
    "\n",
    "+-------------+---------+\n",
    "| Column Name | Type    |\n",
    "+-------------+---------+\n",
    "| name        | varchar |\n",
    "| continent   | varchar |\n",
    "+-------------+---------+\n",
    "This table may contain duplicate rows.\n",
    "Each row of this table indicates the name of a student and the continent they came from.\n",
    " \n",
    "\n",
    "A school has students from Asia, Europe, and America.\n",
    "\n",
    "Write a solution to pivot the continent column in the Student table so that each name is sorted alphabetically and displayed underneath its corresponding continent. The output headers should be America, Asia, and Europe, respectively.\n",
    "\n",
    "The test cases are generated so that the student number from America is not less than either Asia or Europe.\n",
    "\n",
    "The result format is in the following example.\n",
    "\n",
    " \n",
    "\n",
    "Example 1:\n",
    "\n",
    "Input: \n",
    "Student table:\n",
    "+--------+-----------+\n",
    "| name   | continent |\n",
    "+--------+-----------+\n",
    "| Jane   | America   |\n",
    "| Pascal | Europe    |\n",
    "| Xi     | Asia      |\n",
    "| Jack   | America   |\n",
    "+--------+-----------+\n",
    "\n",
    "Output: \n",
    "+---------+------+--------+\n",
    "| America | Asia | Europe |\n",
    "+---------+------+--------+\n",
    "| Jack    | Xi   | Pascal |\n",
    "| Jane    | null | null   |\n",
    "+---------+------+--------+\n",
    " \n",
    "\n",
    "Follow up: If it is unknown which continent has the most students, could you write a solution to generate the student report?\n",
    "\n",
    "```"
   ]
  },
  {
   "cell_type": "markdown",
   "metadata": {},
   "source": [
    "**Solutions:**"
   ]
  },
  {
   "cell_type": "code",
   "execution_count": null,
   "metadata": {
    "vscode": {
     "languageId": "sql"
    }
   },
   "outputs": [],
   "source": [
    "WITH RankedStudents AS (\n",
    "    SELECT \n",
    "        name,\n",
    "        continent,\n",
    "        ROW_NUMBER() OVER(PARTITION BY continent ORDER BY name) AS row_num\n",
    "    FROM \n",
    "        Student\n",
    ")\n",
    "SELECT \n",
    "    MAX(CASE WHEN continent = 'America' THEN name END) AS America,\n",
    "    MAX(CASE WHEN continent = 'Asia' THEN name END) AS Asia,\n",
    "    MAX(CASE WHEN continent = 'Europe' THEN name END) AS Europe\n",
    "FROM \n",
    "    RankedStudents\n",
    "GROUP BY row_num"
   ]
  },
  {
   "cell_type": "code",
   "execution_count": null,
   "metadata": {
    "vscode": {
     "languageId": "sql"
    }
   },
   "outputs": [],
   "source": [
    "SELECT America,Asia,Europe\n",
    "from\n",
    "(select *,row_number() over (partition by continent order by name) as rank from student) AS RESULT\n",
    "pivot\n",
    "( max(name) FOR  CONTINENT IN\n",
    " ([America],[Asia],[Europe])\n",
    ") AS PIV    "
   ]
  }
 ],
 "metadata": {
  "language_info": {
   "name": "python"
  }
 },
 "nbformat": 4,
 "nbformat_minor": 2
}
