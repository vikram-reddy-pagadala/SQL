{
 "cells": [
  {
   "cell_type": "markdown",
   "metadata": {},
   "source": [
    "# **1127. User Purchase Platform**\n",
    "``` console\n",
    "Table: Spending\n",
    "\n",
    "+-------------+---------+\n",
    "| Column Name | Type    |\n",
    "+-------------+---------+\n",
    "| user_id     | int     |\n",
    "| spend_date  | date    |\n",
    "| platform    | enum    | \n",
    "| amount      | int     |\n",
    "+-------------+---------+\n",
    "The table logs the history of the spending of users that make purchases from an online shopping website that has a desktop and a mobile application.\n",
    "(user_id, spend_date, platform) is the primary key (combination of columns with unique values) of this table.\n",
    "The platform column is an ENUM (category) type of ('desktop', 'mobile').\n",
    " \n",
    "\n",
    "Write a solution to find the total number of users and the total amount spent using the mobile only, the desktop only, and both mobile and desktop together for each date.\n",
    "\n",
    "Return the result table in any order.\n",
    "\n",
    "The result format is in the following example.\n",
    "\n",
    " \n",
    "\n",
    "Example 1:\n",
    "\n",
    "Input: \n",
    "Spending table:\n",
    "+---------+------------+----------+--------+\n",
    "| user_id | spend_date | platform | amount |\n",
    "+---------+------------+----------+--------+\n",
    "| 1       | 2019-07-01 | mobile   | 100    |\n",
    "| 1       | 2019-07-01 | desktop  | 100    |\n",
    "| 2       | 2019-07-01 | mobile   | 100    |\n",
    "| 2       | 2019-07-02 | mobile   | 100    |\n",
    "| 3       | 2019-07-01 | desktop  | 100    |\n",
    "| 3       | 2019-07-02 | desktop  | 100    |\n",
    "+---------+------------+----------+--------+\n",
    "\n",
    "Output: \n",
    "+------------+----------+--------------+-------------+\n",
    "| spend_date | platform | total_amount | total_users |\n",
    "+------------+----------+--------------+-------------+\n",
    "| 2019-07-01 | desktop  | 100          | 1           |\n",
    "| 2019-07-01 | mobile   | 100          | 1           |\n",
    "| 2019-07-01 | both     | 200          | 1           |\n",
    "| 2019-07-02 | desktop  | 100          | 1           |\n",
    "| 2019-07-02 | mobile   | 100          | 1           |\n",
    "| 2019-07-02 | both     | 0            | 0           |\n",
    "+------------+----------+--------------+-------------+ \n",
    "\n",
    "Explanation: \n",
    "On 2019-07-01, user 1 purchased using both desktop and mobile, user 2 purchased using mobile only and user 3 purchased using desktop only.\n",
    "On 2019-07-02, user 2 purchased using mobile only, user 3 purchased using desktop only and no one purchased using both platforms.\n",
    "```"
   ]
  },
  {
   "cell_type": "markdown",
   "metadata": {},
   "source": [
    "**Solution-1:**"
   ]
  },
  {
   "cell_type": "markdown",
   "metadata": {},
   "source": [
    "``` sql\n",
    "WITH CTE AS (SELECT user_id, spend_date, \n",
    "    SUM(CASE platform WHEN 'mobile' THEN amount ELSE 0 END) ma,\n",
    "    SUM(CASE platform WHEN 'desktop' THEN amount ELSE 0 END) da\n",
    "FROM Spending\n",
    "GROUP BY user_id, spend_date)\n",
    "SELECT spend_date, 'desktop' platform, \n",
    "    SUM(CASE WHEN da > 0 AND ma = 0 THEN da ELSE 0 END) total_amount, \n",
    "    SUM(CASE WHEN da > 0 AND ma = 0 THEN 1 ELSE 0 END) total_users\n",
    "FROM CTE\n",
    "GROUP BY spend_date\n",
    "UNION ALL\n",
    "SELECT spend_date, 'mobile' platform, \n",
    "\t SUM(CASE WHEN ma > 0 AND da = 0 THEN ma ELSE 0 END) total_amount, \n",
    "\t SUM(CASE WHEN ma > 0 AND da = 0 THEN 1 ELSE 0 END) total_users\n",
    "FROM CTE\n",
    "GROUP BY spend_date\n",
    "UNION ALL\n",
    "SELECT spend_date, 'both' platform, \n",
    "    SUM(CASE WHEN da > 0 AND ma > 0 THEN ma + da ELSE 0 END) total_amount, \n",
    "    SUM(CASE WHEN da > 0 AND ma > 0 THEN 1 ELSE 0 END) total_users\n",
    "FROM CTE\n",
    "GROUP BY spend_date"
   ]
  },
  {
   "cell_type": "markdown",
   "metadata": {},
   "source": []
  },
  {
   "cell_type": "markdown",
   "metadata": {},
   "source": [
    "**Solution-2:**"
   ]
  },
  {
   "cell_type": "markdown",
   "metadata": {},
   "source": [
    "``` sql\n",
    "SELECT \n",
    "    p.spend_date,\n",
    "    p.platform,\n",
    "    IFNULL(SUM(amount), 0) total_amount,\n",
    "    COUNT(user_id) total_users\n",
    "FROM \n",
    "(\n",
    "    SELECT DISTINCT(spend_date), 'desktop' platform FROM Spending\n",
    "    UNION\n",
    "    SELECT DISTINCT(spend_date), 'mobile' platform FROM Spending\n",
    "    UNION\n",
    "    SELECT DISTINCT(spend_date), 'both' platform FROM Spending\n",
    ") p \n",
    "LEFT JOIN (\n",
    "    SELECT\n",
    "        spend_date,\n",
    "        user_id,\n",
    "        IF(mobile_amount > 0, IF(desktop_amount > 0, 'both', 'mobile'), 'desktop') platform,\n",
    "        (mobile_amount + desktop_amount) amount\n",
    "    FROM (\n",
    "        SELECT\n",
    "          spend_date,\n",
    "          user_id,\n",
    "          SUM(CASE platform WHEN 'mobile' THEN amount ELSE 0 END) mobile_amount,\n",
    "          SUM(CASE platform WHEN 'desktop' THEN amount ELSE 0 END) desktop_amount\n",
    "        FROM Spending\n",
    "        GROUP BY spend_date, user_id\n",
    "    ) o\n",
    ") t\n",
    "ON p.platform=t.platform AND p.spend_date=t.spend_date\n",
    "GROUP BY spend_date, platform"
   ]
  }
 ],
 "metadata": {
  "language_info": {
   "name": "python"
  }
 },
 "nbformat": 4,
 "nbformat_minor": 2
}
