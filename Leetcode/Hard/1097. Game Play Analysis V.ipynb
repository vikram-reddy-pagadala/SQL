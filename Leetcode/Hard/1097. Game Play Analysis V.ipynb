{
 "cells": [
  {
   "cell_type": "markdown",
   "metadata": {},
   "source": [
    "# **1097. Game Play Analysis V**\n",
    "``` console\n",
    "Table: Activity\n",
    "\n",
    "+--------------+---------+\n",
    "| Column Name  | Type    |\n",
    "+--------------+---------+\n",
    "| player_id    | int     |\n",
    "| device_id    | int     |\n",
    "| event_date   | date    |\n",
    "| games_played | int     |\n",
    "+--------------+---------+\n",
    "(player_id, event_date) is the primary key (combination of columns with unique values) of this table.\n",
    "This table shows the activity of players of some games.\n",
    "Each row is a record of a player who logged in and played a number of games (possibly 0) before logging out on someday using some device.\n",
    " \n",
    "\n",
    "The install date of a player is the first login day of that player.\n",
    "\n",
    "We define day one retention of some date x to be the number of players whose install date is x and they logged back in on the day right after x, divided by the number of players whose install date is x, rounded to 2 decimal places.\n",
    "\n",
    "Write a solution to report for each install date, the number of players that installed the game on that day, and the day one retention.\n",
    "\n",
    "Return the result table in any order.\n",
    "\n",
    "The result format is in the following example.\n",
    "\n",
    " \n",
    "\n",
    "Example 1:\n",
    "\n",
    "Input: \n",
    "Activity table:\n",
    "+-----------+-----------+------------+--------------+\n",
    "| player_id | device_id | event_date | games_played |\n",
    "+-----------+-----------+------------+--------------+\n",
    "| 1         | 2         | 2016-03-01 | 5            |\n",
    "| 1         | 2         | 2016-03-02 | 6            |\n",
    "| 2         | 3         | 2017-06-25 | 1            |\n",
    "| 3         | 1         | 2016-03-01 | 0            |\n",
    "| 3         | 4         | 2016-07-03 | 5            |\n",
    "+-----------+-----------+------------+--------------+\n",
    "\n",
    "Output: \n",
    "+------------+----------+----------------+\n",
    "| install_dt | installs | Day1_retention |\n",
    "+------------+----------+----------------+\n",
    "| 2016-03-01 | 2        | 0.50           |\n",
    "| 2017-06-25 | 1        | 0.00           |\n",
    "+------------+----------+----------------+\n",
    "\n",
    "Explanation: \n",
    "Player 1 and 3 installed the game on 2016-03-01 but only player 1 logged back in on 2016-03-02 so the day 1 retention of 2016-03-01 is 1 / 2 = 0.50\n",
    "Player 2 installed the game on 2017-06-25 but didn't log back in on 2017-06-26 so the day 1 retention of 2017-06-25 is 0 / 1 = 0.00\n",
    "```"
   ]
  },
  {
   "cell_type": "markdown",
   "metadata": {},
   "source": [
    "**Solution-1:**"
   ]
  },
  {
   "cell_type": "markdown",
   "metadata": {},
   "source": [
    "``` sql\n",
    "# Write your MySQL query statement below\n",
    "WITH install_date AS(\n",
    "    SELECT player_id, MIN(event_date) AS install_dt\n",
    "    FROM activity\n",
    "    GROUP BY player_id\n",
    ")\n",
    "    SELECT i.install_dt, COUNT(DISTINCT i.player_id) AS installs, \n",
    "    ROUND((COUNT(DISTINCT a.player_id) / COUNT(DISTINCT i.player_id)),2) AS Day1_retention\n",
    "    FROM install_date i\n",
    "    LEFT JOIN activity a\n",
    "    ON DATE_ADD(i.install_dt, INTERVAL 1 DAY) = event_date and i.player_id = a.player_id\n",
    "    GROUP BY i.install_dt"
   ]
  },
  {
   "cell_type": "markdown",
   "metadata": {},
   "source": []
  },
  {
   "cell_type": "markdown",
   "metadata": {},
   "source": [
    "**Solution-1:**"
   ]
  },
  {
   "cell_type": "markdown",
   "metadata": {},
   "source": [
    "``` sql\n",
    "SELECT\n",
    "install_dt,\n",
    "COUNT(DISTINCT player_id) installs,\n",
    "ROUND(SUM(event_date = install_dt + INTERVAL 1 DAY) / COUNT(DISTINCT player_id),2) Day1_retention\n",
    "FROM\n",
    "(SELECT *, MIN(event_date) OVER(PARTITION BY player_id ORDER BY event_date) install_dt FROM activity) temp\n",
    "GROUP BY 1"
   ]
  }
 ],
 "metadata": {
  "language_info": {
   "name": "python"
  }
 },
 "nbformat": 4,
 "nbformat_minor": 2
}
