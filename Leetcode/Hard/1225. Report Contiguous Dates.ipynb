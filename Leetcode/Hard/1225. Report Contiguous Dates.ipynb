{
 "cells": [
  {
   "cell_type": "markdown",
   "metadata": {},
   "source": [
    "# **1225. Report Contiguous Dates**\n",
    "``` console\n",
    "Table: Failed\n",
    "\n",
    "+--------------+---------+\n",
    "| Column Name  | Type    |\n",
    "+--------------+---------+\n",
    "| fail_date    | date    |\n",
    "+--------------+---------+\n",
    "fail_date is the primary key (column with unique values) for this table.\n",
    "This table contains the days of failed tasks.\n",
    " \n",
    "\n",
    "Table: Succeeded\n",
    "\n",
    "+--------------+---------+\n",
    "| Column Name  | Type    |\n",
    "+--------------+---------+\n",
    "| success_date | date    |\n",
    "+--------------+---------+\n",
    "success_date is the primary key (column with unique values) for this table.\n",
    "This table contains the days of succeeded tasks.\n",
    " \n",
    "\n",
    "A system is running one task every day. Every task is independent of the previous tasks. The tasks can fail or succeed.\n",
    "\n",
    "Write a solution to report the period_state for each continuous interval of days in the period from 2019-01-01 to 2019-12-31.\n",
    "\n",
    "period_state is 'failed' if tasks in this interval failed or 'succeeded' if tasks in this interval succeeded. Interval of days are retrieved as start_date and end_date.\n",
    "\n",
    "Return the result table ordered by start_date.\n",
    "\n",
    "The result format is in the following example.\n",
    "\n",
    " \n",
    "\n",
    "Example 1:\n",
    "\n",
    "Input: \n",
    "Failed table:\n",
    "+-------------------+\n",
    "| fail_date         |\n",
    "+-------------------+\n",
    "| 2018-12-28        |\n",
    "| 2018-12-29        |\n",
    "| 2019-01-04        |\n",
    "| 2019-01-05        |\n",
    "+-------------------+\n",
    "\n",
    "Succeeded table:\n",
    "+-------------------+\n",
    "| success_date      |\n",
    "+-------------------+\n",
    "| 2018-12-30        |\n",
    "| 2018-12-31        |\n",
    "| 2019-01-01        |\n",
    "| 2019-01-02        |\n",
    "| 2019-01-03        |\n",
    "| 2019-01-06        |\n",
    "+-------------------+\n",
    "\n",
    "Output: \n",
    "+--------------+--------------+--------------+\n",
    "| period_state | start_date   | end_date     |\n",
    "+--------------+--------------+--------------+\n",
    "| succeeded    | 2019-01-01   | 2019-01-03   |\n",
    "| failed       | 2019-01-04   | 2019-01-05   |\n",
    "| succeeded    | 2019-01-06   | 2019-01-06   |\n",
    "+--------------+--------------+--------------+\n",
    "\n",
    "Explanation: \n",
    "The report ignored the system state in 2018 as we care about the system in the period 2019-01-01 to 2019-12-31.\n",
    "From 2019-01-01 to 2019-01-03 all tasks succeeded and the system state was \"succeeded\".\n",
    "From 2019-01-04 to 2019-01-05 all tasks failed and the system state was \"failed\".\n",
    "From 2019-01-06 to 2019-01-06 all tasks succeeded and the system state was \"succeeded\".\n",
    "```"
   ]
  },
  {
   "cell_type": "markdown",
   "metadata": {},
   "source": [
    "**Solution-1:**"
   ]
  },
  {
   "cell_type": "markdown",
   "metadata": {},
   "source": [
    "``` sql\n",
    "# Write your MySQL query statement below\n",
    "\n",
    "SELECT \n",
    "period_state, MIN(date) AS start_date, MAX(date) as end_date\n",
    "FROM\n",
    "(SELECT *,\n",
    "DATE_ADD(date, INTERVAL -ROW_NUMBER() OVER (PARTITION BY period_state ORDER BY date) DAY) AS group_id\n",
    "FROM\n",
    "(SELECT 'succeeded' AS period_state, success_date as date FROM Succeeded WHERE YEAR(success_date) = 2019\n",
    "UNION ALL\n",
    "SELECT 'failed' AS period_state, fail_date as date FROM Failed WHERE YEAR(fail_date) = 2019)a)b\n",
    "GROUP BY period_state,group_id\n",
    "ORDER BY start_date"
   ]
  },
  {
   "cell_type": "markdown",
   "metadata": {},
   "source": []
  },
  {
   "cell_type": "markdown",
   "metadata": {},
   "source": [
    "**Solution-2:**"
   ]
  },
  {
   "cell_type": "markdown",
   "metadata": {},
   "source": [
    "``` sql\n",
    "# Trick is all the contiguous days will have the same date when we subtract from its corresponding rank\n",
    "\n",
    "SELECT 'failed' AS period_state, MIN(fail_date) AS start_date, MAX(fail_date) AS end_date\n",
    "FROM (SELECT fail_date, ROW_NUMBER()OVER() AS rnk\n",
    "     FROM Failed\n",
    "     WHERE YEAR(fail_date)=2019)a\n",
    "GROUP BY DATE_SUB(fail_date,INTERVAL rnk day)\n",
    "\n",
    "UNION \n",
    "\n",
    "SELECT 'succeeded' AS period_state, MIN(success_date) AS start_date, MAX(success_date) AS end_date\n",
    "FROM (SELECT success_date, ROW_NUMBER() OVER() AS rnk\n",
    "     FROM Succeeded\n",
    "     WHERE YEAR(success_date)=2019)b\n",
    "GROUP BY DATE_SUB(success_date, INTERVAL rnk day)\n",
    "\n",
    "ORDER BY start_date;"
   ]
  }
 ],
 "metadata": {
  "language_info": {
   "name": "python"
  }
 },
 "nbformat": 4,
 "nbformat_minor": 2
}
