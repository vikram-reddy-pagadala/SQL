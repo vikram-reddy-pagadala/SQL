{
 "cells": [
  {
   "cell_type": "markdown",
   "metadata": {},
   "source": [
    "# **2199. Finding the Topic of Each Post**\n",
    "\n",
    "**Table: Keywords**\n",
    "``` sql\n",
    "+-------------+---------+\n",
    "| Column Name | Type    |\n",
    "+-------------+---------+\n",
    "| topic_id    | int     |\n",
    "| word        | varchar |\n",
    "+-------------+---------+\n",
    "```\n",
    "(topic_id, word) is the primary key (combination of columns with unique values) for this table.\n",
    "\n",
    "Each row of this table contains the id of a topic and a word that is used to express this topic.\n",
    "\n",
    "There may be more than one word to express the same topic and one word may be used to express multiple topics.\n",
    " \n",
    "\n",
    "**Table: Posts**\n",
    "``` sql\n",
    "+-------------+---------+\n",
    "| Column Name | Type    |\n",
    "+-------------+---------+\n",
    "| post_id     | int     |\n",
    "| content     | varchar |\n",
    "+-------------+---------+\n",
    "```\n",
    "post_id is the primary key (column with unique values) for this table.\n",
    "\n",
    "Each row of this table contains the ID of a post and its content.\n",
    "\n",
    "Content will consist only of English letters and spaces.\n",
    " \n",
    "\n",
    "Leetcode has collected some posts from its social media website and is interested in finding the topics of each post. Each topic can be expressed by one or more keywords. If a keyword of a certain topic exists in the content of a post (case insensitive) then the post has this topic.\n",
    "\n",
    "Write a solution to find the topics of each post according to the following rules:\n",
    "\n",
    "If the post does not have keywords from any topic, its topic should be \"Ambiguous!\".\n",
    "\n",
    "If the post has at least one keyword of any topic, its topic should be a string of the IDs of its topics sorted in ascending order and separated by commas ','. The string should not contain duplicate IDs.\n",
    "\n",
    "Return the result table in any order.\n",
    "\n",
    "The result format is in the following example.\n",
    "\n",
    " \n",
    "\n",
    "**Example 1:**\n",
    "\n",
    "**Input:** \n",
    "**Keywords table:**\n",
    "``` sql\n",
    "+----------+----------+\n",
    "| topic_id | word     |\n",
    "+----------+----------+\n",
    "| 1        | handball |\n",
    "| 1        | football |\n",
    "| 3        | WAR      |\n",
    "| 2        | Vaccine  |\n",
    "+----------+----------+\n",
    "```\n",
    "**Posts table:**\n",
    "``` sql\n",
    "+---------+------------------------------------------------------------------------+\n",
    "| post_id | content                                                                |\n",
    "+---------+------------------------------------------------------------------------+\n",
    "| 1       | We call it soccer They call it football hahaha                         |\n",
    "| 2       | Americans prefer basketball while Europeans love handball and football |\n",
    "| 3       | stop the war and play handball                                         |\n",
    "| 4       | warning I planted some flowers this morning and then got vaccinated    |\n",
    "+---------+------------------------------------------------------------------------+\n",
    "```\n",
    "**Output:**\n",
    "``` sql \n",
    "+---------+------------+\n",
    "| post_id | topic      |\n",
    "+---------+------------+\n",
    "| 1       | 1          |\n",
    "| 2       | 1          |\n",
    "| 3       | 1,3        |\n",
    "| 4       | Ambiguous! |\n",
    "+---------+------------+\n",
    "```\n",
    "**Explanation:** \n",
    "\n",
    "1: \"We call it soccer They call it football hahaha\"\n",
    "\n",
    "\"football\" expresses topic 1. There is no other word that expresses any other topic.\n",
    "\n",
    "2: \"Americans prefer basketball while Europeans love handball and football\"\n",
    "\n",
    "\"handball\" expresses topic 1. \"football\" expresses topic 1. \n",
    "\n",
    "There is no other word that expresses any other topic.\n",
    "\n",
    "3: \"stop the war and play handball\"\n",
    "\n",
    "\"war\" expresses topic 3. \"handball\" expresses topic 1.\n",
    "\n",
    "There is no other word that expresses any other topic.\n",
    "\n",
    "4: \"warning I planted some flowers this morning and then got vaccinated\"\n",
    "\n",
    "There is no word in this sentence that expresses any topic. Note that \"warning\" is different from \"war\" although they have a common prefix. \n",
    "\n",
    "This post is ambiguous.\n",
    "\n",
    "Note that it is okay to have one word that expresses more than one topic."
   ]
  },
  {
   "cell_type": "markdown",
   "metadata": {},
   "source": [
    "**Solution-1:**"
   ]
  },
  {
   "cell_type": "markdown",
   "metadata": {},
   "source": [
    "``` sql\n",
    "with posts_with_words as(SELECT post_id, word\n",
    "FROM Posts, \n",
    "JSON_TABLE(\n",
    "    CONCAT('[\"', REPLACE(content, ' ', '\",\"'), '\"]'),\n",
    "    '$[*]' COLUMNS (word VARCHAR(255) PATH '$')\n",
    ") AS words)\n",
    "\n",
    ",cte2 as(\n",
    "select distinct post_id, \n",
    "case when a.word = b.word then topic_id else null end as topic\n",
    "from posts_with_words a\n",
    "INNER JOIN keywords b\n",
    "on a.word = b.word \n",
    "HAVING topic is not null)\n",
    "\n",
    "select a.post_id, \n",
    "COALESCE(GROUP_CONCAT(topic order by topic ASC SEPARATOR ','), 'Ambiguous!') AS topic\n",
    "from  posts a\n",
    "LEFT JOIN cte2 b\n",
    "ON a.post_id = b.post_id\n",
    "GROUP BY a.post_id \n",
    "ORDER BY a.post_id  ASC\n"
   ]
  },
  {
   "cell_type": "markdown",
   "metadata": {},
   "source": [
    "**Solution-2:**"
   ]
  },
  {
   "cell_type": "markdown",
   "metadata": {},
   "source": [
    "``` sql\n",
    "SELECT \n",
    "    P.post_id, \n",
    "    IFNULL(GROUP_CONCAT(DISTINCT K.topic_id ORDER BY K.topic_id), 'Ambiguous!') AS topic\n",
    "FROM Posts AS P\n",
    "LEFT JOIN Keywords AS K\n",
    "ON CONCAT(' ', LOWER(P.content), ' ') LIKE CONCAT('% ', LOWER(K.word), ' %')\n",
    "GROUP BY P.post_id"
   ]
  },
  {
   "cell_type": "markdown",
   "metadata": {},
   "source": [
    "**Solution-3:**"
   ]
  },
  {
   "cell_type": "markdown",
   "metadata": {},
   "source": [
    "``` sql\n",
    "-- Write your PostgreSQL query statement below\n",
    "with words as (\n",
    "    Select\n",
    "    post_id,\n",
    "    unnest(string_to_array(lower(content),' ')) as content\n",
    "    from\n",
    "    Posts\n",
    "),\n",
    "valid as (\n",
    "    Select distinct\n",
    "    post_id, \n",
    "    topic_id\n",
    "    from\n",
    "    words w \n",
    "    left join keywords kw on w.content = lower(kw.word)\n",
    "    order by post_id, topic_id\n",
    "),\n",
    "combine as \n",
    "(\n",
    "    Select \n",
    "    post_id,\n",
    "    string_agg(topic_id::text,',') as topic\n",
    "    from \n",
    "    valid\n",
    "    group by post_id\n",
    ")\n",
    "select\n",
    "post_id,\n",
    "case when topic is null then 'Ambiguous!'\n",
    "else topic end as topic\n",
    "from\n",
    "combine\n",
    "order by post_id"
   ]
  },
  {
   "cell_type": "markdown",
   "metadata": {},
   "source": [
    "**Solution-4:**"
   ]
  },
  {
   "cell_type": "markdown",
   "metadata": {},
   "source": [
    "``` sql\n",
    "-- Write your PostgreSQL query statement below\n",
    "with data_cte as (\n",
    "select distinct p.post_id, k.topic_id\n",
    "from Posts p\n",
    "left join Keywords k on concat(' ', p.content, ' ') ilike concat('% ', k.word, ' %') \n",
    ")\n",
    "select post_id, coalesce(string_agg(topic_id::text, ',' order by topic_id), 'Ambiguous!') as topic\n",
    "from data_cte\n",
    "group by post_id;"
   ]
  },
  {
   "cell_type": "markdown",
   "metadata": {},
   "source": [
    "**Solution-5:**"
   ]
  },
  {
   "cell_type": "markdown",
   "metadata": {},
   "source": [
    "``` sql\n",
    "# Write your MySQL query statement below\n",
    "WITH cte AS (\n",
    "  SELECT post_id, topic_id AS topic\n",
    "  FROM Posts p\n",
    "  LEFT JOIN Keywords k\n",
    "  ON LOCATE(CONCAT(' ', word, ' '), CONCAT(' ', content, ' ')) > 0\n",
    ")\n",
    "SELECT post_id, GROUP_CONCAT(DISTINCT IFNULL(topic, \"Ambiguous!\") ORDER BY topic) AS topic\n",
    "FROM cte\n",
    "GROUP BY post_id"
   ]
  },
  {
   "cell_type": "markdown",
   "metadata": {},
   "source": [
    "**Solution-6:**"
   ]
  },
  {
   "cell_type": "markdown",
   "metadata": {},
   "source": [
    "``` sql\n",
    "with agg as (\n",
    "    select p.post_id,\n",
    "           k.topic_id\n",
    "      from Posts p left join\n",
    "           Keywords k on p.content REGEXP concat('(^| )', k.word, '($| )')\n",
    "  order by p.post_id,\n",
    "           k.topic_id)\n",
    "\n",
    "   select post_id,\n",
    "          coalesce(group_concat(distinct topic_id), 'Ambiguous!') topic\n",
    "     from agg \n",
    " group by post_id "
   ]
  }
 ],
 "metadata": {
  "language_info": {
   "name": "python"
  }
 },
 "nbformat": 4,
 "nbformat_minor": 2
}
