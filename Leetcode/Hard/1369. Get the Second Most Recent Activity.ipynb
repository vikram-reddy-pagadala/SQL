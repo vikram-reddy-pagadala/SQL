{
 "cells": [
  {
   "cell_type": "markdown",
   "metadata": {},
   "source": [
    "# **1369. Get the Second Most Recent Activity**\n",
    "``` console\n",
    "Table: UserActivity\n",
    "\n",
    "+---------------+---------+\n",
    "| Column Name   | Type    |\n",
    "+---------------+---------+\n",
    "| username      | varchar |\n",
    "| activity      | varchar |\n",
    "| startDate     | Date    |\n",
    "| endDate       | Date    |\n",
    "+---------------+---------+\n",
    "This table may contain duplicates rows.\n",
    "This table contains information about the activity performed by each user in a period of time.\n",
    "A person with username performed an activity from startDate to endDate.\n",
    " \n",
    "\n",
    "Write a solution to show the second most recent activity of each user.\n",
    "\n",
    "If the user only has one activity, return that one. A user cannot perform more than one activity at the same time.\n",
    "\n",
    "Return the result table in any order.\n",
    "\n",
    "The result format is in the following example.\n",
    "\n",
    " \n",
    "\n",
    "Example 1:\n",
    "\n",
    "Input: \n",
    "UserActivity table:\n",
    "+------------+--------------+-------------+-------------+\n",
    "| username   | activity     | startDate   | endDate     |\n",
    "+------------+--------------+-------------+-------------+\n",
    "| Alice      | Travel       | 2020-02-12  | 2020-02-20  |\n",
    "| Alice      | Dancing      | 2020-02-21  | 2020-02-23  |\n",
    "| Alice      | Travel       | 2020-02-24  | 2020-02-28  |\n",
    "| Bob        | Travel       | 2020-02-11  | 2020-02-18  |\n",
    "+------------+--------------+-------------+-------------+\n",
    "\n",
    "Output: \n",
    "+------------+--------------+-------------+-------------+\n",
    "| username   | activity     | startDate   | endDate     |\n",
    "+------------+--------------+-------------+-------------+\n",
    "| Alice      | Dancing      | 2020-02-21  | 2020-02-23  |\n",
    "| Bob        | Travel       | 2020-02-11  | 2020-02-18  |\n",
    "+------------+--------------+-------------+-------------+\n",
    "\n",
    "Explanation: \n",
    "The most recent activity of Alice is Travel from 2020-02-24 to 2020-02-28, before that she was dancing from 2020-02-21 to 2020-02-23.\n",
    "Bob only has one record, we just take that one.\n",
    "```"
   ]
  },
  {
   "cell_type": "markdown",
   "metadata": {},
   "source": [
    "**Solution-1:**"
   ]
  },
  {
   "cell_type": "markdown",
   "metadata": {},
   "source": [
    "``` sql\n",
    "SELECT * \n",
    "FROM UserActivity \n",
    "GROUP BY username \n",
    "HAVING COUNT(*) = 1\n",
    "\n",
    "UNION ALL\n",
    "\n",
    "SELECT u1.*\n",
    "FROM UserActivity u1 \n",
    "LEFT JOIN UserActivity u2 \n",
    "    ON u1.username = u2.username AND u1.endDate < u2.endDate\n",
    "GROUP BY u1.username, u1.endDate\n",
    "HAVING COUNT(u2.endDate) = 1"
   ]
  },
  {
   "cell_type": "markdown",
   "metadata": {},
   "source": []
  },
  {
   "cell_type": "markdown",
   "metadata": {},
   "source": [
    "**Solution-2:**"
   ]
  },
  {
   "cell_type": "markdown",
   "metadata": {},
   "source": [
    "``` sql\n",
    "# Write your MySQL query statement below\n",
    "\n",
    "select username, activity, startDate, endDate\n",
    "from (\n",
    "select *, count(activity) over(partition by username)cnt, \n",
    "ROW_NUMBER() over(partition by username order by startdate desc) n \n",
    "from UserActivity) tbl\n",
    "where n=2 or cnt<2"
   ]
  },
  {
   "cell_type": "markdown",
   "metadata": {},
   "source": []
  },
  {
   "cell_type": "markdown",
   "metadata": {},
   "source": [
    "**Solution-3:**"
   ]
  },
  {
   "cell_type": "markdown",
   "metadata": {},
   "source": [
    "``` sql\n",
    "SELECT username, activity, startDate, endDate\n",
    "FROM (SELECT username, activity, startDate, endDate,\n",
    "    RANK() OVER(PARTITION BY  username ORDER BY startDate DESC) AS rnk,\n",
    "    COUNT(*) OVER(PARTITION BY username) AS cnt\n",
    "FROM UserActivity) t\n",
    "WHERE \n",
    "CASE WHEN cnt = 1 THEN rnk = 1 ELSE rnk = 2 END"
   ]
  }
 ],
 "metadata": {
  "language_info": {
   "name": "python"
  }
 },
 "nbformat": 4,
 "nbformat_minor": 2
}
