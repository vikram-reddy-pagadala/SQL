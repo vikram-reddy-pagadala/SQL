{
 "cells": [
  {
   "cell_type": "markdown",
   "metadata": {},
   "source": [
    "# **2995. Viewers Turned Streamers**\n",
    "``` console\n",
    "Table: Sessions\n",
    "\n",
    "+---------------+----------+\n",
    "| Column Name   | Type     |\n",
    "+---------------+----------+\n",
    "| user_id       | int      |\n",
    "| session_start | datetime |\n",
    "| session_end   | datetime |\n",
    "| session_id    | int      |\n",
    "| session_type  | enum     |\n",
    "+---------------+----------+\n",
    "session_id is column of unique values for this table.\n",
    "session_type is an ENUM (category) type of (Viewer, Streamer).\n",
    "This table contains user id, session start, session end, session id and session type.\n",
    "Write a solution to find the number of streaming sessions for users whose first session was as a viewer.\n",
    "\n",
    "Return the result table ordered by count of streaming sessions, user_id in descending order.\n",
    "\n",
    "The result format is in the following example.\n",
    "\n",
    " \n",
    "\n",
    "Example 1:\n",
    "\n",
    "Input: \n",
    "Sessions table:\n",
    "+---------+---------------------+---------------------+------------+--------------+\n",
    "| user_id | session_start       | session_end         | session_id | session_type | \n",
    "+---------+---------------------+---------------------+------------+--------------+\n",
    "| 101     | 2023-11-06 13:53:42 | 2023-11-06 14:05:42 | 375        | Viewer       |  \n",
    "| 101     | 2023-11-22 16:45:21 | 2023-11-22 20:39:21 | 594        | Streamer     |   \n",
    "| 102     | 2023-11-16 13:23:09 | 2023-11-16 16:10:09 | 777        | Streamer     | \n",
    "| 102     | 2023-11-17 13:23:09 | 2023-11-17 16:10:09 | 778        | Streamer     | \n",
    "| 101     | 2023-11-20 07:16:06 | 2023-11-20 08:33:06 | 315        | Streamer     | \n",
    "| 104     | 2023-11-27 03:10:49 | 2023-11-27 03:30:49 | 797        | Viewer       | \n",
    "| 103     | 2023-11-27 03:10:49 | 2023-11-27 03:30:49 | 798        | Streamer     |  \n",
    "+---------+---------------------+---------------------+------------+--------------+\n",
    "\n",
    "Output: \n",
    "+---------+----------------+\n",
    "| user_id | sessions_count | \n",
    "+---------+----------------+\n",
    "| 101     | 2              | \n",
    "+---------+----------------+\n",
    "\n",
    "Explanation\n",
    "- user_id 101, initiated their initial session as a viewer on 2023-11-06 at 13:53:42, followed by two subsequent sessions as a Streamer, the count will be 2.\n",
    "- user_id 102, although there are two sessions, the initial session was as a Streamer, so this user will be excluded.\n",
    "- user_id 103 participated in only one session, which was as a Streamer, hence, it won't be considered.\n",
    "- User_id 104 commenced their first session as a viewer but didn't have any subsequent sessions, therefore, they won't be included in the final count. \n",
    "Output table is ordered by sessions count and user_id in descending order.\n",
    "```"
   ]
  },
  {
   "cell_type": "markdown",
   "metadata": {},
   "source": [
    "**Solutions:**"
   ]
  },
  {
   "cell_type": "code",
   "execution_count": null,
   "metadata": {
    "vscode": {
     "languageId": "sql"
    }
   },
   "outputs": [],
   "source": [
    "# Write your MySQL query statement below\n",
    "WITH viewers_list AS (\n",
    "    SELECT user_id, session_type, session_start,\n",
    "    RANK() OVER(PARTITION BY user_id ORDER BY session_start) AS rn\n",
    "    FROM Sessions\n",
    ")\n",
    "\n",
    "SELECT s.user_id AS user_id, SUM(s.session_type = 'Streamer') AS sessions_count\n",
    "FROM sessions s\n",
    "INNER JOIN (SELECT * FROM viewers_list WHERE session_type = 'viewer' AND rn = 1) v\n",
    "ON s.user_id = v.user_id AND s.session_start > v.session_start \n",
    "GROUP BY s.user_id\n",
    "ORDER BY sessions_count DESC, s.user_id DESC"
   ]
  }
 ],
 "metadata": {
  "language_info": {
   "name": "python"
  }
 },
 "nbformat": 4,
 "nbformat_minor": 2
}
