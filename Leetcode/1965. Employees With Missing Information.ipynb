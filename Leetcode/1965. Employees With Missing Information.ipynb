{
 "cells": [
  {
   "cell_type": "markdown",
   "metadata": {},
   "source": [
    "# **1965. Employees With Missing Information**\n",
    "``` console\n",
    "Table: Employees\n",
    "\n",
    "+-------------+---------+\n",
    "| Column Name | Type    |\n",
    "+-------------+---------+\n",
    "| employee_id | int     |\n",
    "| name        | varchar |\n",
    "+-------------+---------+\n",
    "employee_id is the column with unique values for this table.\n",
    "Each row of this table indicates the name of the employee whose ID is employee_id.\n",
    " \n",
    "\n",
    "Table: Salaries\n",
    "\n",
    "+-------------+---------+\n",
    "| Column Name | Type    |\n",
    "+-------------+---------+\n",
    "| employee_id | int     |\n",
    "| salary      | int     |\n",
    "+-------------+---------+\n",
    "employee_id is the column with unique values for this table.\n",
    "Each row of this table indicates the salary of the employee whose ID is employee_id.\n",
    " \n",
    "\n",
    "Write a solution to report the IDs of all the employees with missing information. The information of an employee is missing if:\n",
    "\n",
    "The employee's name is missing, or\n",
    "The employee's salary is missing.\n",
    "Return the result table ordered by employee_id in ascending order.\n",
    "\n",
    "The result format is in the following example.\n",
    "\n",
    " \n",
    "\n",
    "Example 1:\n",
    "\n",
    "Input: \n",
    "Employees table:\n",
    "+-------------+----------+\n",
    "| employee_id | name     |\n",
    "+-------------+----------+\n",
    "| 2           | Crew     |\n",
    "| 4           | Haven    |\n",
    "| 5           | Kristian |\n",
    "+-------------+----------+\n",
    "Salaries table:\n",
    "+-------------+--------+\n",
    "| employee_id | salary |\n",
    "+-------------+--------+\n",
    "| 5           | 76071  |\n",
    "| 1           | 22517  |\n",
    "| 4           | 63539  |\n",
    "+-------------+--------+\n",
    "Output: \n",
    "+-------------+\n",
    "| employee_id |\n",
    "+-------------+\n",
    "| 1           |\n",
    "| 2           |\n",
    "+-------------+\n",
    "Explanation: \n",
    "Employees 1, 2, 4, and 5 are working at this company.\n",
    "The name of employee 1 is missing.\n",
    "The salary of employee 2 is missing.\n",
    "```"
   ]
  },
  {
   "cell_type": "markdown",
   "metadata": {},
   "source": [
    "**Solution-1:**"
   ]
  },
  {
   "cell_type": "markdown",
   "metadata": {},
   "source": [
    "``` sql\n",
    "SELECT employee_id\n",
    "FROM\n",
    "(SELECT a.employee_id,a.name, b.salary\n",
    "FROM Employees a\n",
    "LEFT JOIN Salaries b ON a.employee_id = b.employee_id\n",
    "UNION\n",
    "SELECT b.employee_id, a.name, b.salary\n",
    "FROM Employees a\n",
    "RIGHT JOIN Salaries b ON a.employee_id = b.employee_id)a\n",
    "WHERE name is null or Salary is null\n",
    "ORDER BY employee_id;"
   ]
  }
 ],
 "metadata": {
  "language_info": {
   "name": "python"
  }
 },
 "nbformat": 4,
 "nbformat_minor": 2
}
