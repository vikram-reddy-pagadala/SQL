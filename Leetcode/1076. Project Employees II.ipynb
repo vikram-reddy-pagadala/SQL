{
 "cells": [
  {
   "cell_type": "markdown",
   "metadata": {},
   "source": [
    "# **1076. Project Employees II**\n",
    "\n",
    "**Table: Project**\n",
    "``` console\n",
    "+-------------+---------+\n",
    "| Column Name | Type    |\n",
    "+-------------+---------+\n",
    "| project_id  | int     |\n",
    "| employee_id | int     |\n",
    "+-------------+---------+\n",
    "```\n",
    "(project_id, employee_id) is the primary key (combination of columns with unique values) of this table.\n",
    "employee_id is a foreign key (reference column) to Employee table.\n",
    "Each row of this table indicates that the employee with employee_id is working on the project with project_id.\n",
    " \n",
    "**Table: Employee**\n",
    "``` console\n",
    "+------------------+---------+\n",
    "| Column Name      | Type    |\n",
    "+------------------+---------+\n",
    "| employee_id      | int     |\n",
    "| name             | varchar |\n",
    "| experience_years | int     |\n",
    "+------------------+---------+\n",
    "```\n",
    "employee_id is the primary key (column with unique values) of this table.\n",
    "Each row of this table contains information about one employee.\n",
    " \n",
    "Write a solution to report all the projects that have the most employees.\n",
    "\n",
    "Return the result table in any order.\n",
    "\n",
    "The result format is in the following example.\n",
    "\n",
    "\n",
    "**Example 1:**\n",
    "\n",
    "**Input:**\n",
    "\n",
    "**Project table:**\n",
    "``` console\n",
    "+-------------+-------------+\n",
    "| project_id  | employee_id |\n",
    "+-------------+-------------+\n",
    "| 1           | 1           |\n",
    "| 1           | 2           |\n",
    "| 1           | 3           |\n",
    "| 2           | 1           |\n",
    "| 2           | 4           |\n",
    "+-------------+-------------+\n",
    "```\n",
    "**Employee table:**\n",
    "``` console\n",
    "+-------------+--------+------------------+\n",
    "| employee_id | name   | experience_years |\n",
    "+-------------+--------+------------------+\n",
    "| 1           | Khaled | 3                |\n",
    "| 2           | Ali    | 2                |\n",
    "| 3           | John   | 1                |\n",
    "| 4           | Doe    | 2                |\n",
    "+-------------+--------+------------------+\n",
    "```\n",
    "**Output:** \n",
    "``` console\n",
    "+-------------+\n",
    "| project_id  |\n",
    "+-------------+\n",
    "| 1           |\n",
    "+-------------+\n",
    "```\n",
    "**Explanation:** The first project has 3 employees while the second one has 2."
   ]
  },
  {
   "cell_type": "markdown",
   "metadata": {},
   "source": [
    "**Solution 1:**"
   ]
  },
  {
   "cell_type": "code",
   "execution_count": null,
   "metadata": {
    "vscode": {
     "languageId": "sql"
    }
   },
   "outputs": [],
   "source": [
    "SELECT project_id\n",
    "FROM project\n",
    "GROUP BY project_id\n",
    "HAVING COUNT(DISTINCT employee_id) = (\n",
    "    SELECT COUNT(DISTINCT employee_id) as cnt \n",
    "    FROM project\n",
    "    GROUP BY project_id\n",
    "    ORDER BY cnt DESC \n",
    "    LIMIT 1\n",
    ")"
   ]
  },
  {
   "cell_type": "markdown",
   "metadata": {},
   "source": [
    "**Solution 2:**"
   ]
  },
  {
   "cell_type": "code",
   "execution_count": null,
   "metadata": {
    "vscode": {
     "languageId": "sql"
    }
   },
   "outputs": [],
   "source": [
    "SELECT project_id\n",
    "FROM project\n",
    "GROUP BY project_id\n",
    "HAVING COUNT(employee_id) >= ALL(SELECT COUNT(employee_id) FROM project GROUP BY project_id)"
   ]
  },
  {
   "cell_type": "markdown",
   "metadata": {},
   "source": [
    "**Solution 3:**"
   ]
  },
  {
   "cell_type": "code",
   "execution_count": null,
   "metadata": {
    "vscode": {
     "languageId": "sql"
    }
   },
   "outputs": [],
   "source": [
    "WITH count_ AS (\n",
    "    SELECT project_id, COUNT(DISTINCT employee_id) AS num_emp\n",
    "    FROM project\n",
    "    GROUP BY project_id\n",
    ")\n",
    "SELECT project_id\n",
    "FROM count_\n",
    "WHERE num_emp = (SELECT MAX(num_emp) FROM count_);\n"
   ]
  },
  {
   "cell_type": "markdown",
   "metadata": {},
   "source": [
    "**Solution 4:**"
   ]
  },
  {
   "cell_type": "code",
   "execution_count": null,
   "metadata": {
    "vscode": {
     "languageId": "sql"
    }
   },
   "outputs": [],
   "source": [
    "# Code Author Naveen Kumar Vadlamudi \n",
    "SELECT T1.PROJECT_ID \n",
    "FROM \n",
    "    (\n",
    "        SELECT \n",
    "        P.PROJECT_ID,\n",
    "        DENSE_RANK() OVER (ORDER BY COUNT(*) DESC) AS CRANK\n",
    "        FROM PROJECT AS P \n",
    "        GROUP BY PROJECT_ID \n",
    "    )   AS T1\n",
    "WHERE T1.CRANK = 1"
   ]
  },
  {
   "cell_type": "markdown",
   "metadata": {},
   "source": [
    "**Solution 5:**"
   ]
  },
  {
   "cell_type": "code",
   "execution_count": null,
   "metadata": {
    "vscode": {
     "languageId": "sql"
    }
   },
   "outputs": [],
   "source": [
    "# Code Author Naveen Kumar Vadlamudi \n",
    "SELECT T1.PROJECT_ID \n",
    "FROM \n",
    "    (\n",
    "        SELECT \n",
    "        P.PROJECT_ID,\n",
    "        DENSE_RANK() OVER (PARTITION BY PROJECT_ID ORDER BY COUNT(*) DESC) AS CRANK\n",
    "        FROM PROJECT AS P \n",
    "    )   AS T1\n",
    "WHERE T1.CRANK = 1"
   ]
  },
  {
   "cell_type": "markdown",
   "metadata": {},
   "source": [
    "**Solution 6:**"
   ]
  },
  {
   "cell_type": "code",
   "execution_count": null,
   "metadata": {
    "vscode": {
     "languageId": "sql"
    }
   },
   "outputs": [],
   "source": [
    "\n",
    "WITH max_emp_in_proj AS (\n",
    "            SELECT  project_id,\n",
    "            COUNT(employee_id) AS emp_count,\n",
    "            MAX(COUNT(employee_id)) OVER () AS max_count\n",
    "            FROM Project\n",
    "            GROUP BY project_id\n",
    "            )\n",
    "\n",
    "SELECT  project_id\n",
    "FROM    max_emp_in_proj\n",
    "WHERE   emp_count = max_count"
   ]
  }
 ],
 "metadata": {
  "language_info": {
   "name": "python"
  }
 },
 "nbformat": 4,
 "nbformat_minor": 2
}
