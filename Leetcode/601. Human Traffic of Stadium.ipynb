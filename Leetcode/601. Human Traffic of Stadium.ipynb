{
 "cells": [
  {
   "cell_type": "markdown",
   "metadata": {},
   "source": [
    "# **601. Human Traffic of Stadium**\n",
    "\n",
    "**Table: Stadium**\n",
    "``` console\n",
    "+---------------+---------+\n",
    "| Column Name   | Type    |\n",
    "+---------------+---------+\n",
    "| id            | int     |\n",
    "| visit_date    | date    |\n",
    "| people        | int     |\n",
    "+---------------+---------+\n",
    "```\n",
    "visit_date is the column with unique values for this table.\n",
    "Each row of this table contains the visit date and visit id to the stadium with the number of people during the visit.\n",
    "As the id increases, the date increases as well.\n",
    " \n",
    "\n",
    "Write a solution to display the records with three or more rows with consecutive id's, and the number of people is greater than or equal to 100 for each.\n",
    "\n",
    "Return the result table ordered by visit_date in ascending order.\n",
    "\n",
    "The result format is in the following example.\n",
    "\n",
    "**Example 1:**\n",
    "\n",
    "**Input:** \n",
    "**Stadium table:**\n",
    "``` console\n",
    "+------+------------+-----------+\n",
    "| id   | visit_date | people    |\n",
    "+------+------------+-----------+\n",
    "| 1    | 2017-01-01 | 10        |\n",
    "| 2    | 2017-01-02 | 109       |\n",
    "| 3    | 2017-01-03 | 150       |\n",
    "| 4    | 2017-01-04 | 99        |\n",
    "| 5    | 2017-01-05 | 145       |\n",
    "| 6    | 2017-01-06 | 1455      |\n",
    "| 7    | 2017-01-07 | 199       |\n",
    "| 8    | 2017-01-09 | 188       |\n",
    "+------+------------+-----------+\n",
    "```\n",
    "**Output:** \n",
    "``` console\n",
    "+------+------------+-----------+\n",
    "| id   | visit_date | people    |\n",
    "+------+------------+-----------+\n",
    "| 5    | 2017-01-05 | 145       |\n",
    "| 6    | 2017-01-06 | 1455      |\n",
    "| 7    | 2017-01-07 | 199       |\n",
    "| 8    | 2017-01-09 | 188       |\n",
    "+------+------------+-----------+\n",
    "```\n",
    "**Explanation:** \n",
    "The four rows with ids 5, 6, 7, and 8 have consecutive ids and each of them has >= 100 people attended. Note that row 8 was included even though the visit_date was not the next day after row 7.\n",
    "The rows with ids 2 and 3 are not included because we need at least three consecutive ids."
   ]
  },
  {
   "cell_type": "markdown",
   "metadata": {},
   "source": [
    "**Solutions:**"
   ]
  },
  {
   "cell_type": "code",
   "execution_count": null,
   "metadata": {
    "vscode": {
     "languageId": "sql"
    }
   },
   "outputs": [],
   "source": [
    "WITH cte AS(\n",
    "    SELECT *, \n",
    "    COUNT(*) OVER(ORDER BY id RANGE BETWEEN CURRENT ROW AND 2 FOLLOWING) AS following_cnt,\n",
    "    COUNT(*) OVER(ORDER BY id RANGE BETWEEN 2 PRECEDING AND CURRENT ROW) AS preceding_cnt,\n",
    "    COUNT(*) OVER(ORDER BY id RANGE BETWEEN 1 PRECEDING AND 1 FOLLOWING) AS current_cnt\n",
    "    FROM Stadium\n",
    "    WHERE people >= 100\n",
    ")\n",
    "\n",
    "SELECT id, visit_date, people\n",
    "FROM cte\n",
    "WHERE following_cnt = 3 OR preceding_cnt = 3 OR current_cnt = 3\n",
    "ORDER BY visit_date"
   ]
  },
  {
   "cell_type": "code",
   "execution_count": null,
   "metadata": {
    "vscode": {
     "languageId": "sql"
    }
   },
   "outputs": [],
   "source": [
    "WITH cte AS (\n",
    "SELECT *, id - ROW_NUMBER() OVER() AS id_diff\n",
    "FROM stadium\n",
    "WHERE people >= 100\n",
    ")\n",
    "SELECT id, visit_date, people\n",
    "FROM cte\n",
    "WHERE id_diff IN (  SELECT id_diff \n",
    "                    FROM q1 \n",
    "                    GROUP BY id_diff \n",
    "                    HAVING COUNT(*) > 2)\n",
    "ORDER BY visit_date"
   ]
  }
 ],
 "metadata": {
  "language_info": {
   "name": "python"
  }
 },
 "nbformat": 4,
 "nbformat_minor": 2
}
