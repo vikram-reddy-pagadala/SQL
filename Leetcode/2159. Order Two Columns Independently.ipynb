{
 "cells": [
  {
   "cell_type": "markdown",
   "metadata": {},
   "source": [
    "# **2159. Order Two Columns Independently**\n",
    "\n",
    "**Table: Data**\n",
    "``` console\n",
    "+-------------+------+\n",
    "| Column Name | Type |\n",
    "+-------------+------+\n",
    "| first_col   | int  |\n",
    "| second_col  | int  |\n",
    "+-------------+------+\n",
    "```\n",
    "This table may contain duplicate rows.\n",
    " \n",
    "\n",
    "Write a solution to independently:\n",
    "\n",
    "order first_col in ascending order.\n",
    "order second_col in descending order.\n",
    "The result format is in the following example.\n",
    "\n",
    " \n",
    "\n",
    "**Example 1:**\n",
    "\n",
    "**Input:** \n",
    "**Data table:**\n",
    "``` console\n",
    "+-----------+------------+\n",
    "| first_col | second_col |\n",
    "+-----------+------------+\n",
    "| 4         | 2          |\n",
    "| 2         | 3          |\n",
    "| 3         | 1          |\n",
    "| 1         | 4          |\n",
    "+-----------+------------+\n",
    "```\n",
    "**Output:**\n",
    "``` console \n",
    "+-----------+------------+\n",
    "| first_col | second_col |\n",
    "+-----------+------------+\n",
    "| 1         | 4          |\n",
    "| 2         | 3          |\n",
    "| 3         | 2          |\n",
    "| 4         | 1          |\n",
    "+-----------+------------+\n",
    "```"
   ]
  },
  {
   "cell_type": "markdown",
   "metadata": {},
   "source": [
    "**Solution-1:**"
   ]
  },
  {
   "cell_type": "markdown",
   "metadata": {},
   "source": [
    "``` sql\n",
    "# Write your MySQL query statement below\n",
    "\n",
    "SELECT a.first_col, b.second_col\n",
    "FROM\n",
    "(SELECT first_col, ROW_NUMBER()OVER(ORDER BY first_col) as first_order FROM Data ) a\n",
    "JOIN\n",
    "(SELECT second_col, ROW_NUMBER()OVER(ORDER BY second_col DESC) as second_order FROM Data) b\n",
    "ON a.first_order = b.second_order"
   ]
  },
  {
   "cell_type": "markdown",
   "metadata": {},
   "source": [
    "**Solution-2:**"
   ]
  },
  {
   "cell_type": "markdown",
   "metadata": {},
   "source": [
    "``` sql\n",
    "WITH col_ranks AS (\n",
    "  SELECT\n",
    "    D.first_col,\n",
    "    D.second_col,\n",
    "    ROW_NUMBER() OVER (ORDER BY D.first_col) AS fc_rnk,\n",
    "    ROW_NUMBER() OVER (ORDER BY D.second_col DESC) AS sc_rnk\n",
    "  FROM\n",
    "    Data D\n",
    ")\n",
    "SELECT\n",
    "  CR1.first_col,\n",
    "  CR2.second_col\n",
    "FROM\n",
    "  col_ranks CR1\n",
    "  INNER JOIN col_ranks CR2 ON CR1.fc_rnk = CR2.sc_rnk\n",
    "ORDER BY\n",
    "  CR1.fc_rnk;"
   ]
  }
 ],
 "metadata": {
  "language_info": {
   "name": "python"
  }
 },
 "nbformat": 4,
 "nbformat_minor": 2
}
