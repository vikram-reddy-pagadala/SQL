{
 "cells": [
  {
   "cell_type": "markdown",
   "metadata": {},
   "source": [
    "# **1384. Total Sales Amount by Year**\n",
    "``` console\n",
    "Table: Product\n",
    "\n",
    "+---------------+---------+\n",
    "| Column Name   | Type    |\n",
    "+---------------+---------+\n",
    "| product_id    | int     |\n",
    "| product_name  | varchar |\n",
    "+---------------+---------+\n",
    "product_id is the primary key (column with unique values) for this table.\n",
    "product_name is the name of the product.\n",
    " \n",
    "\n",
    "Table: Sales\n",
    "\n",
    "+---------------------+---------+\n",
    "| Column Name         | Type    |\n",
    "+---------------------+---------+\n",
    "| product_id          | int     |\n",
    "| period_start        | date    |\n",
    "| period_end          | date    |\n",
    "| average_daily_sales | int     |\n",
    "+---------------------+---------+\n",
    "product_id is the primary key (column with unique values) for this table. \n",
    "period_start and period_end indicate the start and end date for the sales period, and both dates are inclusive.\n",
    "The average_daily_sales column holds the average daily sales amount of the items for the period.\n",
    "The dates of the sales years are between 2018 to 2020.\n",
    " \n",
    "\n",
    "Write a solution to report the total sales amount of each item for each year, with corresponding product_name, product_id, report_year, and total_amount.\n",
    "\n",
    "Return the result table ordered by product_id and report_year.\n",
    "\n",
    "The result format is in the following example.\n",
    "\n",
    " \n",
    "\n",
    "Example 1:\n",
    "\n",
    "Input: \n",
    "Product table:\n",
    "+------------+--------------+\n",
    "| product_id | product_name |\n",
    "+------------+--------------+\n",
    "| 1          | LC Phone     |\n",
    "| 2          | LC T-Shirt   |\n",
    "| 3          | LC Keychain  |\n",
    "+------------+--------------+\n",
    "\n",
    "Sales table:\n",
    "+------------+--------------+-------------+---------------------+\n",
    "| product_id | period_start | period_end  | average_daily_sales |\n",
    "+------------+--------------+-------------+---------------------+\n",
    "| 1          | 2019-01-25   | 2019-02-28  | 100                 |\n",
    "| 2          | 2018-12-01   | 2020-01-01  | 10                  |\n",
    "| 3          | 2019-12-01   | 2020-01-31  | 1                   |\n",
    "+------------+--------------+-------------+---------------------+\n",
    "\n",
    "Output: \n",
    "+------------+--------------+-------------+--------------+\n",
    "| product_id | product_name | report_year | total_amount |\n",
    "+------------+--------------+-------------+--------------+\n",
    "| 1          | LC Phone     |    2019     | 3500         |\n",
    "| 2          | LC T-Shirt   |    2018     | 310          |\n",
    "| 2          | LC T-Shirt   |    2019     | 3650         |\n",
    "| 2          | LC T-Shirt   |    2020     | 10           |\n",
    "| 3          | LC Keychain  |    2019     | 31           |\n",
    "| 3          | LC Keychain  |    2020     | 31           |\n",
    "+------------+--------------+-------------+--------------+\n",
    "\n",
    "Explanation: \n",
    "LC Phone was sold for the period of 2019-01-25 to 2019-02-28, and there are 35 days for this period. Total amount 35*100 = 3500. \n",
    "LC T-shirt was sold for the period of 2018-12-01 to 2020-01-01, and there are 31, 365, 1 days for years 2018, 2019 and 2020 respectively.\n",
    "LC Keychain was sold for the period of 2019-12-01 to 2020-01-31, and there are 31, 31 days for years 2019 and 2020 respectively.\n",
    "```"
   ]
  },
  {
   "cell_type": "markdown",
   "metadata": {},
   "source": [
    "**Solutions:**"
   ]
  },
  {
   "cell_type": "code",
   "execution_count": null,
   "metadata": {
    "vscode": {
     "languageId": "sql"
    }
   },
   "outputs": [],
   "source": [
    "WITH RECURSIVE CTE AS\n",
    "    (SELECT MIN(period_start) as date\n",
    "     FROM Sales \n",
    "     UNION ALL\n",
    "     SELECT DATE_ADD(date, INTERVAL 1 day)\n",
    "     FROM CTE\n",
    "     WHERE date <= ALL (SELECT MAX(period_end) FROM Sales))\n",
    "\n",
    " \n",
    "SELECT \n",
    "        s.product_id, p.product_name, LEFT(e.date,4) as report_year, SUM(s.average_daily_sales) as total_amount\n",
    "FROM Sales s\n",
    "JOIN Product p ON p.product_id = s.product_id\n",
    "JOIN CTE e ON s.period_start<=e.date AND s.period_end>=e.date\n",
    "GROUP BY 1,2,3 \n",
    "ORDER BY 1,3"
   ]
  }
 ],
 "metadata": {
  "language_info": {
   "name": "python"
  }
 },
 "nbformat": 4,
 "nbformat_minor": 2
}
