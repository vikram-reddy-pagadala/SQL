{
 "cells": [
  {
   "cell_type": "markdown",
   "metadata": {},
   "source": [
    "# **180. Consecutive Numbers**\n",
    "\n",
    "**Table: Logs**\n",
    "``` console\n",
    "+-------------+---------+\n",
    "| Column Name | Type    |\n",
    "+-------------+---------+\n",
    "| id          | int     |\n",
    "| num         | varchar |\n",
    "+-------------+---------+\n",
    "```\n",
    "In SQL, id is the primary key for this table.\n",
    "id is an autoincrement column starting from 1.\n",
    " \n",
    "\n",
    "Find all numbers that appear at least three times consecutively.\n",
    "\n",
    "Return the result table in any order.\n",
    "\n",
    "The result format is in the following example.\n",
    "\n",
    "**Example 1:**\n",
    "\n",
    "**Input:** \n",
    "**Logs table:**\n",
    "``` console\n",
    "+----+-----+\n",
    "| id | num |\n",
    "+----+-----+\n",
    "| 1  | 1   |\n",
    "| 2  | 1   |\n",
    "| 3  | 1   |\n",
    "| 4  | 2   |\n",
    "| 5  | 1   |\n",
    "| 6  | 2   |\n",
    "| 7  | 2   |\n",
    "+----+-----+\n",
    "```\n",
    "**Output:** \n",
    "``` console\n",
    "+-----------------+\n",
    "| ConsecutiveNums |\n",
    "+-----------------+\n",
    "| 1               |\n",
    "+-----------------+\n",
    "```\n",
    "**Explanation:** 1 is the only number that appears consecutively for at least three times."
   ]
  },
  {
   "cell_type": "markdown",
   "metadata": {},
   "source": [
    "**Solution 1:**"
   ]
  },
  {
   "cell_type": "markdown",
   "metadata": {
    "vscode": {
     "languageId": "sql"
    }
   },
   "source": [
    "``` sql\n",
    "SELECT DISTINCT a.num AS ConsecutiveNums \n",
    "FROM logs a\n",
    "INNER JOIN logs b\n",
    "ON a.id = b.id - 1 AND a.num = b.num\n",
    "INNER JOIN logs c\n",
    "ON a.id = c.id - 2 AND a.num = c.num"
   ]
  },
  {
   "cell_type": "markdown",
   "metadata": {},
   "source": [
    "**Solution-2:**"
   ]
  },
  {
   "cell_type": "markdown",
   "metadata": {
    "vscode": {
     "languageId": "sql"
    }
   },
   "source": [
    "``` sql\n",
    "SELECT DISTINCT l1.num AS ConsecutiveNums\n",
    "FROM Logs l1\n",
    "JOIN Logs l2 ON l1.id = l2.id - 1\n",
    "JOIN Logs l3 ON l1.id = l3.id - 2\n",
    "WHERE l1.num = l2.num AND l2.num = l3.num;"
   ]
  },
  {
   "cell_type": "markdown",
   "metadata": {},
   "source": [
    "**Solution 3:**"
   ]
  },
  {
   "cell_type": "markdown",
   "metadata": {
    "vscode": {
     "languageId": "sql"
    }
   },
   "source": [
    "``` sql\n",
    "WITH cte AS (\n",
    "    SELECT num,\n",
    "    LEAD(num,1) OVER(ORDER BY id) num1,\n",
    "    LEAD(num,2) OVER(ORDER BY id) num2\n",
    "    FROM logs\n",
    ")\n",
    "\n",
    "SELECT DISTINCT num AS ConsecutiveNums \n",
    "FROM cte \n",
    "WHERE (num=num1) AND (num=num2)"
   ]
  },
  {
   "cell_type": "markdown",
   "metadata": {},
   "source": [
    "**Solution-4:**"
   ]
  },
  {
   "cell_type": "markdown",
   "metadata": {
    "vscode": {
     "languageId": "sql"
    }
   },
   "source": [
    "``` sql\n",
    "SELECT DISTINCT\n",
    "    num AS ConsecutiveNums\n",
    "FROM\n",
    "    (\n",
    "        SELECT \n",
    "            num,\n",
    "            LAG(num, 1) OVER (ORDER BY id) as num1,\n",
    "            LAG(num, 2) OVER (ORDER BY id) as num2\n",
    "        FROM\n",
    "            Logs\n",
    "    ) AS subquery\n",
    "WHERE\n",
    "    (num=num1) AND (num=num2)"
   ]
  },
  {
   "cell_type": "markdown",
   "metadata": {},
   "source": [
    "**Solution-5:**"
   ]
  },
  {
   "cell_type": "markdown",
   "metadata": {
    "vscode": {
     "languageId": "sql"
    }
   },
   "source": [
    "``` sql\n",
    "--Approach - Using  LEAD and LAG\n",
    "SELECT DISTINCT num AS ConsecutiveNums\n",
    "FROM (\n",
    "    SELECT \n",
    "        LAG(id) OVER (ORDER BY id) AS prev_id,\n",
    "        id,\n",
    "        LEAD(id) OVER (ORDER BY id) AS next_id,\n",
    "        LAG(num) OVER (ORDER BY id) AS prev_num,\n",
    "        num,\n",
    "        LEAD(num) OVER (ORDER BY id) AS next_num\n",
    "    FROM logs\n",
    ") subquery\n",
    "WHERE prev_num = num \n",
    "  AND num = next_num\n",
    "  AND next_id - id = 1 \n",
    "  AND id - prev_id = 1;"
   ]
  },
  {
   "cell_type": "markdown",
   "metadata": {},
   "source": [
    "**Solution-6:**"
   ]
  },
  {
   "cell_type": "markdown",
   "metadata": {
    "vscode": {
     "languageId": "sql"
    }
   },
   "source": [
    "``` sql\n",
    "--Approach - Using EXISTS and SUBQUERY \n",
    "SELECT DISTINCT l1.num AS ConsecutiveNums\n",
    "FROM Logs l1\n",
    "WHERE EXISTS (\n",
    "    SELECT 1\n",
    "    FROM Logs l2\n",
    "    WHERE l2.id = l1.id + 1 AND l2.num = l1.num\n",
    "    AND EXISTS (\n",
    "        SELECT 1\n",
    "        FROM Logs l3\n",
    "        WHERE l3.id = l1.id + 2 AND l3.num = l1.num\n",
    "    )\n",
    ");"
   ]
  }
 ],
 "metadata": {
  "language_info": {
   "name": "python"
  }
 },
 "nbformat": 4,
 "nbformat_minor": 2
}
