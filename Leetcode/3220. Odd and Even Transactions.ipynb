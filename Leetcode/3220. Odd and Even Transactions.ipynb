{
 "cells": [
  {
   "cell_type": "markdown",
   "metadata": {},
   "source": [
    "# **3220. Odd and Even Transactions**\n",
    "``` console\n",
    "Table: transactions\n",
    "\n",
    "+------------------+------+\n",
    "| Column Name      | Type | \n",
    "+------------------+------+\n",
    "| transaction_id   | int  |\n",
    "| amount           | int  |\n",
    "| transaction_date | date |\n",
    "+------------------+------+\n",
    "\n",
    "The transactions_id column uniquely identifies each row in this table.\n",
    "Each row of this table contains the transaction id, amount and transaction date.\n",
    "Write a solution to find the sum of amounts for odd and even transactions for each day. If there are no odd or even transactions for a specific date, display as 0.\n",
    "\n",
    "Return the result table ordered by transaction_date in ascending order.\n",
    "\n",
    "The result format is in the following example.\n",
    "\n",
    " \n",
    "\n",
    "Example:\n",
    "\n",
    "Input:\n",
    "\n",
    "transactions table:\n",
    "\n",
    "+----------------+--------+------------------+\n",
    "| transaction_id | amount | transaction_date |\n",
    "+----------------+--------+------------------+\n",
    "| 1              | 150    | 2024-07-01       |\n",
    "| 2              | 200    | 2024-07-01       |\n",
    "| 3              | 75     | 2024-07-01       |\n",
    "| 4              | 300    | 2024-07-02       |\n",
    "| 5              | 50     | 2024-07-02       |\n",
    "| 6              | 120    | 2024-07-03       |\n",
    "+----------------+--------+------------------+\n",
    "  \n",
    "Output:\n",
    "\n",
    "+------------------+---------+----------+\n",
    "| transaction_date | odd_sum | even_sum |\n",
    "+------------------+---------+----------+\n",
    "| 2024-07-01       | 75      | 350      |\n",
    "| 2024-07-02       | 0       | 350      |\n",
    "| 2024-07-03       | 0       | 120      |\n",
    "+------------------+---------+----------+\n",
    "  \n",
    "Explanation:\n",
    "\n",
    "For transaction dates:\n",
    "2024-07-01:\n",
    "Sum of amounts for odd transactions: 75\n",
    "Sum of amounts for even transactions: 150 + 200 = 350\n",
    "2024-07-02:\n",
    "Sum of amounts for odd transactions: 0\n",
    "Sum of amounts for even transactions: 300 + 50 = 350\n",
    "2024-07-03:\n",
    "Sum of amounts for odd transactions: 0\n",
    "Sum of amounts for even transactions: 120\n",
    "Note: The output table is ordered by transaction_date in ascending order.\n",
    "\n",
    "```"
   ]
  },
  {
   "cell_type": "markdown",
   "metadata": {},
   "source": [
    "**Solution-1:**"
   ]
  },
  {
   "cell_type": "markdown",
   "metadata": {},
   "source": [
    "``` sql\n",
    "\n",
    "SELECT \n",
    "    transaction_date, \n",
    "    SUM(CASE WHEN amount % 2 = 1 THEN amount ELSE 0 END) AS odd_sum,\n",
    "    SUM(CASE WHEN amount % 2 = 0 THEN amount ELSE 0 END) AS even_sum\n",
    "FROM \n",
    "    transactions\n",
    "GROUP BY \n",
    "    transaction_date\n",
    "ORDER BY \n",
    "    transaction_date;\n"
   ]
  }
 ],
 "metadata": {
  "language_info": {
   "name": "python"
  }
 },
 "nbformat": 4,
 "nbformat_minor": 2
}
