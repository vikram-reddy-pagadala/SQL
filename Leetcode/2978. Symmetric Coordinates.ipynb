{
 "cells": [
  {
   "cell_type": "markdown",
   "metadata": {},
   "source": [
    "# **2978. Symmetric Coordinates**\n",
    "\n",
    "**Table: Coordinates**\n",
    "``` console\n",
    "+-------------+------+\n",
    "| Column Name | Type |\n",
    "+-------------+------+\n",
    "| X           | int  |\n",
    "| Y           | int  |\n",
    "+-------------+------+\n",
    "```\n",
    "Each row includes X and Y, where both are integers. Table may contain duplicate values.\n",
    "Two coordindates (X1, Y1) and (X2, Y2) are said to be symmetric coordintes if X1 == Y2 and X2 == Y1.\n",
    "\n",
    "Write a solution that outputs, among all these symmetric coordintes, only those unique coordinates that satisfy the condition X1 <= Y1.\n",
    "\n",
    "Return the result table ordered by X and Y (respectively) in ascending order.\n",
    "\n",
    "The result format is in the following example.\n",
    "\n",
    " \n",
    "\n",
    "**Example 1:**\n",
    "\n",
    "**Input:** \n",
    "**Coordinates table:**\n",
    "``` console\n",
    "+----+----+\n",
    "| X  | Y  |\n",
    "+----+----+\n",
    "| 20 | 20 |\n",
    "| 20 | 20 |\n",
    "| 20 | 21 |\n",
    "| 23 | 22 |\n",
    "| 22 | 23 |\n",
    "| 21 | 20 |\n",
    "+----+----+\n",
    "```\n",
    "**Output:** \n",
    "``` console\n",
    "+----+----+\n",
    "| x  | y  |\n",
    "+----+----+\n",
    "| 20 | 20 |\n",
    "| 20 | 21 |\n",
    "| 22 | 23 |\n",
    "+----+----+\n",
    "```\n",
    "**Explanation:** \n",
    "\n",
    "- (20, 20) and (20, 20) are symmetric coordinates because, X1 == Y2 and X2 == Y1. This results in displaying (20, 20) as a distinctive coordinates.\n",
    "- (20, 21) and (21, 20) are symmetric coordinates because, X1 == Y2 and X2 == Y1. However, only (20, 21) will be displayed because X1 <= Y1.\n",
    "- (23, 22) and (22, 23) are symmetric coordinates because, X1 == Y2 and X2 == Y1. However, only (22, 23) will be displayed because X1 <= Y1.\n",
    "The output table is sorted by X and Y in ascending order."
   ]
  },
  {
   "cell_type": "markdown",
   "metadata": {},
   "source": [
    "**Solution-1:**"
   ]
  },
  {
   "cell_type": "markdown",
   "metadata": {},
   "source": [
    "``` sql\n",
    "# Write your MySQL query statement below\n",
    "\n",
    "select  distinct a.x, a.y\n",
    "from (select *, row_number() over() rn from Coordinates) a\n",
    "inner join (select *, row_number() over() rn from Coordinates) b\n",
    "on a.x = b.y and a.y=b.x  and a.rn <> b.rn and a.x<=a.y\n",
    "order by a.x asc, a.y asc"
   ]
  },
  {
   "cell_type": "markdown",
   "metadata": {},
   "source": [
    "**Solution-2:*8"
   ]
  },
  {
   "cell_type": "markdown",
   "metadata": {},
   "source": [
    "``` sql\n",
    "select least(c1.X, c1.Y) as \"x\", greatest(c1.X, c1.Y) as \"y\"\n",
    "from Coordinates as c1\n",
    "join Coordinates as c2\n",
    "    on (c1.X = c2.Y) and (c1.Y = c2.X)\n",
    "group by 1, 2\n",
    "having count(*) > 1\n",
    "order by 1, 2"
   ]
  },
  {
   "cell_type": "markdown",
   "metadata": {},
   "source": [
    "**Solution-3:**"
   ]
  },
  {
   "cell_type": "markdown",
   "metadata": {},
   "source": [
    "``` sql\n",
    "/* Write your T-SQL query statement below */\n",
    "select * from(\n",
    "select c1.x, c1.y\n",
    "from Coordinates c1\n",
    "join Coordinates c2\n",
    "on c1.x = c2.y and c1.y = c2.x\n",
    "where c1.x < c1.y \n",
    "union \n",
    "select x, y\n",
    "from Coordinates \n",
    "where x = y \n",
    "group by x , y\n",
    "having count(*)>1)a\n",
    "order by x"
   ]
  },
  {
   "cell_type": "markdown",
   "metadata": {},
   "source": [
    "**Solution-4:**"
   ]
  },
  {
   "cell_type": "markdown",
   "metadata": {},
   "source": [
    "``` sql\n",
    "# Write your MySQL query statement below\n",
    "with cte as (\n",
    "    select X as X, Y as Y from Coordinates where X <> Y group by X, Y\n",
    "    union all\n",
    "    select Y as X, X as Y from Coordinates where X <> Y group by Y, X\n",
    "    union all\n",
    "    select X as X, Y as Y from Coordinates where X = Y\n",
    ")\n",
    "select X,Y\n",
    "from cte\n",
    "group by X,Y\n",
    "having count(*) > 1 and X <= Y\n",
    "order by X,Y"
   ]
  }
 ],
 "metadata": {
  "language_info": {
   "name": "python"
  }
 },
 "nbformat": 4,
 "nbformat_minor": 2
}
