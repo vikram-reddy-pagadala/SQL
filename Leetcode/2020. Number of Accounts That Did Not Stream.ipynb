{
 "cells": [
  {
   "cell_type": "markdown",
   "metadata": {},
   "source": [
    "# **2020. Number of Accounts That Did Not Stream**\n",
    "\n",
    "**Table: Subscriptions**\n",
    "``` console\n",
    "+-------------+------+\n",
    "| Column Name | Type |\n",
    "+-------------+------+\n",
    "| account_id  | int  |\n",
    "| start_date  | date |\n",
    "| end_date    | date |\n",
    "+-------------+------+\n",
    "```\n",
    "- account_id is the primary key column for this table.\n",
    "- Each row of this table indicates the start and end dates of an account's subscription.\n",
    "- Note that always start_date < end_date.\n",
    " \n",
    "\n",
    "**Table: Streams**\n",
    "``` console\n",
    "+-------------+------+\n",
    "| Column Name | Type |\n",
    "+-------------+------+\n",
    "| session_id  | int  |\n",
    "| account_id  | int  |\n",
    "| stream_date | date |\n",
    "+-------------+------+\n",
    "```\n",
    "session_id is the primary key column for this table.\n",
    "account_id is a foreign key from the Subscriptions table.\n",
    "Each row of this table contains information about the account and the date associated with a stream session.\n",
    " \n",
    "\n",
    "Write an SQL query to report the number of accounts that has an active subscription in 2021 but did not have any stream session in 2021\n",
    "\n",
    "The query result format is in the following example.\n",
    "\n",
    " \n",
    "\n",
    "**Example 1:**\n",
    "\n",
    "**Input:** \n",
    "**Subscriptions table:**\n",
    "``` console\n",
    "+------------+------------+------------+\n",
    "| account_id | start_date | end_date   |\n",
    "+------------+------------+------------+\n",
    "| 9          | 2020-02-18 | 2021-10-30 |\n",
    "| 3          | 2021-09-21 | 2021-11-13 |\n",
    "| 11         | 2020-02-28 | 2020-08-18 |\n",
    "| 13         | 2021-04-20 | 2021-09-22 |\n",
    "| 4          | 2020-10-26 | 2021-05-08 |\n",
    "| 5          | 2020-09-11 | 2021-01-17 |\n",
    "+------------+------------+------------+\n",
    "```\n",
    "**Streams table:**\n",
    "``` console\n",
    "+------------+------------+-------------+\n",
    "| session_id | account_id | stream_date |\n",
    "+------------+------------+-------------+\n",
    "| 14         | 9          | 2020-05-16  |\n",
    "| 16         | 3          | 2021-10-27  |\n",
    "| 18         | 11         | 2020-04-29  |\n",
    "| 17         | 13         | 2021-08-08  |\n",
    "| 19         | 4          | 2020-12-31  |\n",
    "| 13         | 5          | 2021-01-05  |\n",
    "+------------+------------+-------------+\n",
    "```\n",
    "**Output:** \n",
    "``` console\n",
    "+----------------+\n",
    "| accounts_count |\n",
    "+----------------+\n",
    "| 2              |\n",
    "+----------------+\n",
    "```\n",
    "**Explanation:** \n",
    "- Users 4 and 9 did not stream in 2021.\n",
    "- User 11 did not subscribe in 2021."
   ]
  },
  {
   "cell_type": "markdown",
   "metadata": {},
   "source": [
    "**Solution-1:**"
   ]
  },
  {
   "cell_type": "markdown",
   "metadata": {},
   "source": [
    "``` sql\n",
    "# Write your MySQL query statement below\n",
    "\n",
    "SELECT COUNT(*) AS accounts_count\n",
    "FROM Subscriptions s1\n",
    "JOIN Streams s2\n",
    "ON s1.account_id = s2.account_id and YEAR(stream_date) <> 2021 AND\n",
    "(YEAR(start_date) = 2021 OR YEAR(end_date)= 2021)"
   ]
  },
  {
   "cell_type": "markdown",
   "metadata": {},
   "source": [
    "**Solution-2:**"
   ]
  },
  {
   "cell_type": "markdown",
   "metadata": {},
   "source": [
    "``` sql\n",
    "SELECT COUNT(account_id) AS accounts_count  # find counts\n",
    "FROM Subscriptions\n",
    "WHERE YEAR(start_date) <= 2021 AND YEAR(end_date) >= 2021 # has subscription in 2021\n",
    "\tAND account_id NOT IN (SELECT account_id FROM Streams WHERE YEAR(stream_date) = '2021') \n",
    "    -- has no streams in 2021"
   ]
  }
 ],
 "metadata": {
  "language_info": {
   "name": "python"
  }
 },
 "nbformat": 4,
 "nbformat_minor": 2
}
