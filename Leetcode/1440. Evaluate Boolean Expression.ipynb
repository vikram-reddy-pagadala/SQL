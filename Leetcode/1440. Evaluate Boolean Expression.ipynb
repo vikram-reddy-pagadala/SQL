{
 "cells": [
  {
   "cell_type": "markdown",
   "metadata": {},
   "source": [
    "# **1440. Evaluate Boolean Expression**\n",
    "``` console\n",
    "Table Variables:\n",
    "\n",
    "+---------------+---------+\n",
    "| Column Name   | Type    |\n",
    "+---------------+---------+\n",
    "| name          | varchar |\n",
    "| value         | int     |\n",
    "+---------------+---------+\n",
    "In SQL, name is the primary key for this table.\n",
    "This table contains the stored variables and their values.\n",
    " \n",
    "\n",
    "Table Expressions:\n",
    "\n",
    "+---------------+---------+\n",
    "| Column Name   | Type    |\n",
    "+---------------+---------+\n",
    "| left_operand  | varchar |\n",
    "| operator      | enum    |\n",
    "| right_operand | varchar |\n",
    "+---------------+---------+\n",
    "In SQL, (left_operand, operator, right_operand) is the primary key for this table.\n",
    "This table contains a boolean expression that should be evaluated.\n",
    "operator is an enum that takes one of the values ('<', '>', '=')\n",
    "The values of left_operand and right_operand are guaranteed to be in the Variables table.\n",
    " \n",
    "\n",
    "Evaluate the boolean expressions in Expressions table.\n",
    "\n",
    "Return the result table in any order.\n",
    "\n",
    "The result format is in the following example.\n",
    "\n",
    " \n",
    "\n",
    "Example 1:\n",
    "\n",
    "Input: \n",
    "Variables table:\n",
    "+------+-------+\n",
    "| name | value |\n",
    "+------+-------+\n",
    "| x    | 66    |\n",
    "| y    | 77    |\n",
    "+------+-------+\n",
    "\n",
    "Expressions table:\n",
    "+--------------+----------+---------------+\n",
    "| left_operand | operator | right_operand |\n",
    "+--------------+----------+---------------+\n",
    "| x            | >        | y             |\n",
    "| x            | <        | y             |\n",
    "| x            | =        | y             |\n",
    "| y            | >        | x             |\n",
    "| y            | <        | x             |\n",
    "| x            | =        | x             |\n",
    "+--------------+----------+---------------+\n",
    "\n",
    "Output: \n",
    "+--------------+----------+---------------+-------+\n",
    "| left_operand | operator | right_operand | value |\n",
    "+--------------+----------+---------------+-------+\n",
    "| x            | >        | y             | false |\n",
    "| x            | <        | y             | true  |\n",
    "| x            | =        | y             | false |\n",
    "| y            | >        | x             | true  |\n",
    "| y            | <        | x             | false |\n",
    "| x            | =        | x             | true  |\n",
    "+--------------+----------+---------------+-------+\n",
    "\n",
    "Explanation: \n",
    "As shown, you need to find the value of each boolean expression in the table using the variables table.\n",
    "```"
   ]
  },
  {
   "cell_type": "markdown",
   "metadata": {},
   "source": [
    "**Solution-1:**"
   ]
  },
  {
   "cell_type": "markdown",
   "metadata": {},
   "source": [
    "``` sql\n",
    "SELECT e.left_operand, e.operator, e.right_operand,\n",
    "    (\n",
    "        CASE\n",
    "            WHEN e.operator = '<' AND v1.value < v2.value THEN 'true'\n",
    "            WHEN e.operator = '=' AND v1.value = v2.value THEN 'true'\n",
    "            WHEN e.operator = '>' AND v1.value > v2.value THEN 'true'\n",
    "            ELSE 'false'\n",
    "        END\n",
    "    ) AS value\n",
    "FROM Expressions e\n",
    "JOIN Variables v1\n",
    "ON e.left_operand = v1.name\n",
    "JOIN Variables v2\n",
    "ON e.right_operand = v2.name"
   ]
  },
  {
   "cell_type": "markdown",
   "metadata": {},
   "source": []
  },
  {
   "cell_type": "markdown",
   "metadata": {},
   "source": [
    "**Solution-2:**"
   ]
  },
  {
   "cell_type": "markdown",
   "metadata": {},
   "source": [
    "``` sql\n",
    "# Write your MySQL query statement below\n",
    "SELECT a.left_operand, a.operator, a.right_operand,\n",
    "CASE \n",
    "    WHEN a.operator = '<' AND a.left_value < a.right_value then 'true'\n",
    "    WHEN a.operator = '=' AND a.left_value = a.right_value then 'true'\n",
    "    WHEN a.operator = '>' AND a.left_value > a.right_value then 'true'\n",
    "    ELSE 'false'\n",
    "END as value\n",
    "FROM\n",
    "(select e.left_operand, e.operator, e.right_operand,\n",
    "MAX(case when e.left_operand = name THEN value END) as left_value,\n",
    "MAX(case when e.right_operand = name THEN value END) as right_value\n",
    "FROM expressions e, Variables\n",
    "GROUP BY 1,2,3)a"
   ]
  },
  {
   "cell_type": "markdown",
   "metadata": {},
   "source": []
  },
  {
   "cell_type": "markdown",
   "metadata": {},
   "source": [
    "``` sql\n",
    "# Write your MySQL query statement below\n",
    "SELECT a.left_operand, a.operator, a.right_operand,\n",
    "CASE \n",
    "    WHEN (a.operator = '<' AND a.left_value < a.right_value) OR \n",
    "        (a.operator = '=' AND a.left_value = a.right_value) OR \n",
    "        (a.operator = '>' AND a.left_value > a.right_value) \n",
    "    then 'true'\n",
    "    ELSE 'false'\n",
    "END as value\n",
    "FROM\n",
    "(select e.left_operand, e.operator, e.right_operand,\n",
    "MAX(case when e.left_operand = name THEN value END) as left_value,\n",
    "MAX(case when e.right_operand = name THEN value END) as right_value\n",
    "FROM expressions e, Variables\n",
    "GROUP BY 1,2,3)a"
   ]
  }
 ],
 "metadata": {
  "language_info": {
   "name": "python"
  }
 },
 "nbformat": 4,
 "nbformat_minor": 2
}
