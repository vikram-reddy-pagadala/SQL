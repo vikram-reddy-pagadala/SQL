{
 "cells": [
  {
   "cell_type": "markdown",
   "metadata": {},
   "source": [
    "# **1308. Running Total for Different Genders**\n",
    "``` console\n",
    "Table: Scores\n",
    "\n",
    "+---------------+---------+\n",
    "| Column Name   | Type    |\n",
    "+---------------+---------+\n",
    "| player_name   | varchar |\n",
    "| gender        | varchar |\n",
    "| day           | date    |\n",
    "| score_points  | int     |\n",
    "+---------------+---------+\n",
    "(gender, day) is the primary key (combination of columns with unique values) for this table.\n",
    "A competition is held between the female team and the male team.\n",
    "Each row of this table indicates that a player_name and with gender has scored score_point in someday.\n",
    "Gender is 'F' if the player is in the female team and 'M' if the player is in the male team.\n",
    " \n",
    "\n",
    "Write a solution to find the total score for each gender on each day.\n",
    "\n",
    "Return the result table ordered by gender and day in ascending order.\n",
    "\n",
    "The result format is in the following example.\n",
    "\n",
    " \n",
    "\n",
    "Example 1:\n",
    "\n",
    "Input: \n",
    "Scores table:\n",
    "+-------------+--------+------------+--------------+\n",
    "| player_name | gender | day        | score_points |\n",
    "+-------------+--------+------------+--------------+\n",
    "| Aron        | F      | 2020-01-01 | 17           |\n",
    "| Alice       | F      | 2020-01-07 | 23           |\n",
    "| Bajrang     | M      | 2020-01-07 | 7            |\n",
    "| Khali       | M      | 2019-12-25 | 11           |\n",
    "| Slaman      | M      | 2019-12-30 | 13           |\n",
    "| Joe         | M      | 2019-12-31 | 3            |\n",
    "| Jose        | M      | 2019-12-18 | 2            |\n",
    "| Priya       | F      | 2019-12-31 | 23           |\n",
    "| Priyanka    | F      | 2019-12-30 | 17           |\n",
    "+-------------+--------+------------+--------------+\n",
    "\n",
    "Output: \n",
    "+--------+------------+-------+\n",
    "| gender | day        | total |\n",
    "+--------+------------+-------+\n",
    "| F      | 2019-12-30 | 17    |\n",
    "| F      | 2019-12-31 | 40    |\n",
    "| F      | 2020-01-01 | 57    |\n",
    "| F      | 2020-01-07 | 80    |\n",
    "| M      | 2019-12-18 | 2     |\n",
    "| M      | 2019-12-25 | 13    |\n",
    "| M      | 2019-12-30 | 26    |\n",
    "| M      | 2019-12-31 | 29    |\n",
    "| M      | 2020-01-07 | 36    |\n",
    "+--------+------------+-------+\n",
    "\n",
    "Explanation: \n",
    "For the female team:\n",
    "The first day is 2019-12-30, Priyanka scored 17 points and the total score for the team is 17.\n",
    "The second day is 2019-12-31, Priya scored 23 points and the total score for the team is 40.\n",
    "The third day is 2020-01-01, Aron scored 17 points and the total score for the team is 57.\n",
    "The fourth day is 2020-01-07, Alice scored 23 points and the total score for the team is 80.\n",
    "\n",
    "For the male team:\n",
    "The first day is 2019-12-18, Jose scored 2 points and the total score for the team is 2.\n",
    "The second day is 2019-12-25, Khali scored 11 points and the total score for the team is 13.\n",
    "The third day is 2019-12-30, Slaman scored 13 points and the total score for the team is 26.\n",
    "The fourth day is 2019-12-31, Joe scored 3 points and the total score for the team is 29.\n",
    "The fifth day is 2020-01-07, Bajrang scored 7 points and the total score for the team is 36.\n",
    "```"
   ]
  },
  {
   "cell_type": "markdown",
   "metadata": {},
   "source": [
    "**Solution-1:**"
   ]
  },
  {
   "cell_type": "markdown",
   "metadata": {},
   "source": [
    "``` sql\n",
    "SELECT gender, day, SUM(score_points) OVER(PARTITION BY gender ORDER BY day ASC) as total\n",
    "FROM Scores\n",
    "ORDER BY gender, day"
   ]
  }
 ],
 "metadata": {
  "language_info": {
   "name": "python"
  }
 },
 "nbformat": 4,
 "nbformat_minor": 2
}
