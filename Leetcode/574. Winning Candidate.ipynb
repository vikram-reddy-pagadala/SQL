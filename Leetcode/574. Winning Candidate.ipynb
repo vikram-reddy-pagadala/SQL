{
 "cells": [
  {
   "cell_type": "markdown",
   "metadata": {},
   "source": [
    "# **574. Winning Candidate**\n",
    "``` console\n",
    "Table: Candidate\n",
    "\n",
    "+-------------+----------+\n",
    "| Column Name | Type     |\n",
    "+-------------+----------+\n",
    "| id          | int      |\n",
    "| name        | varchar  |\n",
    "+-------------+----------+\n",
    "\n",
    "id is the column with unique values for this table.\n",
    "Each row of this table contains information about the id and the name of a candidate.\n",
    " \n",
    "\n",
    "Table: Vote\n",
    "\n",
    "+-------------+------+\n",
    "| Column Name | Type |\n",
    "+-------------+------+\n",
    "| id          | int  |\n",
    "| candidateId | int  |\n",
    "+-------------+------+\n",
    "\n",
    "id is an auto-increment primary key (column with unique values).\n",
    "candidateId is a foreign key (reference column) to id from the Candidate table.\n",
    "Each row of this table determines the candidate who got the ith vote in the elections.\n",
    " \n",
    "\n",
    "Write a solution to report the name of the winning candidate (i.e., the candidate who got the largest number of votes).\n",
    "\n",
    "The test cases are generated so that exactly one candidate wins the elections.\n",
    "\n",
    "The result format is in the following example.\n",
    "\n",
    " \n",
    "\n",
    "Example 1:\n",
    "\n",
    "Input: \n",
    "\n",
    "Candidate table:\n",
    "+----+------+\n",
    "| id | name |\n",
    "+----+------+\n",
    "| 1  | A    |\n",
    "| 2  | B    |\n",
    "| 3  | C    |\n",
    "| 4  | D    |\n",
    "| 5  | E    |\n",
    "+----+------+\n",
    "\n",
    "Vote table:\n",
    "+----+-------------+\n",
    "| id | candidateId |\n",
    "+----+-------------+\n",
    "| 1  | 2           |\n",
    "| 2  | 4           |\n",
    "| 3  | 3           |\n",
    "| 4  | 2           |\n",
    "| 5  | 5           |\n",
    "+----+-------------+\n",
    "\n",
    "Output: \n",
    "+------+\n",
    "| name |\n",
    "+------+\n",
    "| B    |\n",
    "+------+\n",
    "\n",
    "Explanation: \n",
    "\n",
    "Candidate B has 2 votes. Candidates C, D, and E have 1 vote each.\n",
    "The winner is candidate B.\n",
    "```"
   ]
  },
  {
   "cell_type": "markdown",
   "metadata": {},
   "source": [
    "**Solution-1:**"
   ]
  },
  {
   "cell_type": "markdown",
   "metadata": {},
   "source": [
    "``` sql\n",
    "SELECT name\n",
    "FROM Candidate c\n",
    "INNER JOIN Vote\n",
    "ON c.id = candidateId\n",
    "GROUP BY name\n",
    "ORDER BY COUNT(candidateId) DESC\n",
    "LIMIT 1"
   ]
  },
  {
   "cell_type": "markdown",
   "metadata": {},
   "source": [
    "SELECT grouping AS transactions_count, COUNT(*) AS visits_count\n",
    "FROM\n",
    "(SELECT (transaction_date) AS transaction_date, COUNT(*) AS grouping\n",
    "FROM Visits v\n",
    "LEFT JOIN Transactions t\n",
    "ON v.user_id = t.user_id AND visit_date =  transaction_date\n",
    "GROUP BY transaction_date) a\n",
    "GROUP BY grouping"
   ]
  }
 ],
 "metadata": {
  "language_info": {
   "name": "python"
  }
 },
 "nbformat": 4,
 "nbformat_minor": 2
}
