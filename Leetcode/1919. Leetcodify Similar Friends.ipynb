{
 "cells": [
  {
   "cell_type": "markdown",
   "metadata": {},
   "source": [
    "# **1919. Leetcodify Similar Friends**\n",
    "\n",
    "**Table: Listens**\n",
    "``` console\n",
    "+-------------+---------+\n",
    "| Column Name | Type    |\n",
    "+-------------+---------+\n",
    "| user_id     | int     |\n",
    "| song_id     | int     |\n",
    "| day         | date    |\n",
    "+-------------+---------+\n",
    "```\n",
    "This table may contain duplicate rows.\n",
    "\n",
    "Each row of this table indicates that the user user_id listened to the song song_id on the day day.\n",
    " \n",
    "\n",
    "**Table: Friendship**\n",
    "``` console\n",
    "+---------------+---------+\n",
    "| Column Name   | Type    |\n",
    "+---------------+---------+\n",
    "| user1_id      | int     |\n",
    "| user2_id      | int     |\n",
    "+---------------+---------+\n",
    "``` \n",
    "(user1_id, user2_id) is the primary key (combination of columns with unique values) for this table.\n",
    "\n",
    "Each row of this table indicates that the users user1_id and user2_id are friends.\n",
    "\n",
    "Note that user1_id < user2_id.\n",
    " \n",
    "\n",
    "Write a solution to report the similar friends of Leetcodify users. A user x and user y are similar friends if:\n",
    "\n",
    "Users x and y are friends, and\n",
    "\n",
    "Users x and y listened to the same three or more different songs on the same day.\n",
    "\n",
    "Return the result table in any order. Note that you must return the similar pairs of friends the same way they were represented in the input (i.e., always user1_id < user2_id).\n",
    "\n",
    "The result format is in the following example.\n",
    "\n",
    " \n",
    "\n",
    "**Example 1:**\n",
    "\n",
    "**Input:** \n",
    "**Listens table:**\n",
    "``` console\n",
    "+---------+---------+------------+\n",
    "| user_id | song_id | day        |\n",
    "+---------+---------+------------+\n",
    "| 1       | 10      | 2021-03-15 |\n",
    "| 1       | 11      | 2021-03-15 |\n",
    "| 1       | 12      | 2021-03-15 |\n",
    "| 2       | 10      | 2021-03-15 |\n",
    "| 2       | 11      | 2021-03-15 |\n",
    "| 2       | 12      | 2021-03-15 |\n",
    "| 3       | 10      | 2021-03-15 |\n",
    "| 3       | 11      | 2021-03-15 |\n",
    "| 3       | 12      | 2021-03-15 |\n",
    "| 4       | 10      | 2021-03-15 |\n",
    "| 4       | 11      | 2021-03-15 |\n",
    "| 4       | 13      | 2021-03-15 |\n",
    "| 5       | 10      | 2021-03-16 |\n",
    "| 5       | 11      | 2021-03-16 |\n",
    "| 5       | 12      | 2021-03-16 |\n",
    "+---------+---------+------------+\n",
    "```\n",
    "**Friendship table:**\n",
    "``` console\n",
    "+----------+----------+\n",
    "| user1_id | user2_id |\n",
    "+----------+----------+\n",
    "| 1        | 2        |\n",
    "| 2        | 4        |\n",
    "| 2        | 5        |\n",
    "+----------+----------+\n",
    "```\n",
    "**Output:** \n",
    "``` console\n",
    "+----------+----------+\n",
    "| user1_id | user2_id |\n",
    "+----------+----------+\n",
    "| 1        | 2        |\n",
    "+----------+----------+\n",
    "```\n",
    "**Explanation:** \n",
    "\n",
    "Users 1 and 2 are friends, and they listened to songs 10, 11, and 12 on the same day. They are similar friends.\n",
    "\n",
    "Users 1 and 3 listened to songs 10, 11, and 12 on the same day, but they are not friends.\n",
    "\n",
    "Users 2 and 4 are friends, but they did not listen to the same three different songs.\n",
    "\n",
    "Users 2 and 5 are friends and listened to songs 10, 11, and 12, but they did not listen to them on the same day."
   ]
  },
  {
   "cell_type": "markdown",
   "metadata": {},
   "source": [
    "**Solution-1:**"
   ]
  },
  {
   "cell_type": "markdown",
   "metadata": {},
   "source": [
    "``` sql\n",
    "# Write your MySQL query statement below\n",
    "\n",
    "SELECT DISTINCT b.*\n",
    "FROM\n",
    "(SELECT a.user_id AS user1_id, b.user_id AS user2_id \n",
    "FROM Listens a\n",
    "JOIN Listens b\n",
    "ON a.song_id = b.song_id AND a.user_id < b.user_id AND a.day = b.day\n",
    "GROUP BY a.user_id, b.user_id, b.day\n",
    "HAVING COUNT(DISTINCT a.song_id) >= 3)a\n",
    "JOIN Friendship b\n",
    "ON a.user1_id = b.user1_id AND a.user2_id = b.user2_id\n",
    "ORDER BY b.user1_id, b.user2_id"
   ]
  },
  {
   "cell_type": "markdown",
   "metadata": {},
   "source": [
    "**Solution-2:**"
   ]
  },
  {
   "cell_type": "markdown",
   "metadata": {},
   "source": [
    "``` sql\n",
    "SELECT DISTINCT a.user_id AS user1_id, b.user_id AS user2_id --# 1 Find distinct combos\n",
    "FROM Listens a, Listens b\n",
    "WHERE a.day = b.day\n",
    "\tAND a.song_id = b.song_id\n",
    "\tAND a.user_id != b.user_id\n",
    "\tAND (a.user_id, b.user_id) IN (SELECT * FROM Friendship) --# 2They are also in Friendship table\t\n",
    "GROUP BY a.user_id, b.user_id, b.day\n",
    "HAVING COUNT(DISTINCT a.song_id) >= 3 -- # 3 There are >= 3 overlaps"
   ]
  },
  {
   "cell_type": "markdown",
   "metadata": {},
   "source": [
    "**Solution-3:**"
   ]
  },
  {
   "cell_type": "markdown",
   "metadata": {},
   "source": [
    "``` sql\n",
    "SELECT DISTINCT l1.user_id AS user1_id, l2.user_id AS user2_id\n",
    "FROM Listens l1\n",
    "JOIN Listens l2\n",
    "ON l1.song_id = l2.song_id\n",
    "AND l1.day = l2.day\n",
    "AND l1.user_id < l2.user_id\n",
    "AND (l1.user_id, l2.user_id) IN (SELECT * FROM Friendship)\n",
    "GROUP BY l1.user_id, l2.user_id, l1.day\n",
    "HAVING COUNT(DISTINCT l1.song_id) >= 3"
   ]
  }
 ],
 "metadata": {
  "language_info": {
   "name": "python"
  }
 },
 "nbformat": 4,
 "nbformat_minor": 2
}
