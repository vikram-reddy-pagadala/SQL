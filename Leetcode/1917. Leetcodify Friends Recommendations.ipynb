{
 "cells": [
  {
   "cell_type": "markdown",
   "metadata": {},
   "source": [
    "# **1917. Leetcodify Friends Recommendations**\n",
    "\n",
    "**Table: Listens**\n",
    "``` console\n",
    "+-------------+---------+\n",
    "| Column Name | Type    |\n",
    "+-------------+---------+\n",
    "| user_id     | int     |\n",
    "| song_id     | int     |\n",
    "| day         | date    |\n",
    "+-------------+---------+\n",
    "```\n",
    "This table may contain duplicates (In other words, there is no primary key for this table in SQL).\n",
    "Each row of this table indicates that the user user_id listened to the song song_id on the day day.\n",
    " \n",
    "\n",
    "**Table: Friendship**\n",
    "``` console\n",
    "+---------------+---------+\n",
    "| Column Name   | Type    |\n",
    "+---------------+---------+\n",
    "| user1_id      | int     |\n",
    "| user2_id      | int     |\n",
    "+---------------+---------+\n",
    "```\n",
    "In SQL,(user1_id, user2_id) is the primary key for this table.\n",
    "Each row of this table indicates that the users user1_id and user2_id are friends.\n",
    "Note that user1_id < user2_id.\n",
    " \n",
    "\n",
    "Recommend friends to Leetcodify users. We recommend user x to user y if:\n",
    "\n",
    "Users x and y are not friends, and\n",
    "Users x and y listened to the same three or more different songs on the same day.\n",
    "Note that friend recommendations are unidirectional, meaning if user x and user y should be recommended to each other, the result table should have both user x recommended to user y and user y recommended to user x. Also, note that the result table should not contain duplicates (i.e., user y should not be recommended to user x multiple times.).\n",
    "\n",
    "Return the result table in any order.\n",
    "\n",
    "The result format is in the following example.\n",
    "\n",
    " \n",
    "\n",
    "**Example 1:**\n",
    "\n",
    "**Input:** \n",
    "**Listens table:**\n",
    "``` console\n",
    "+---------+---------+------------+\n",
    "| user_id | song_id | day        |\n",
    "+---------+---------+------------+\n",
    "| 1       | 10      | 2021-03-15 |\n",
    "| 1       | 11      | 2021-03-15 |\n",
    "| 1       | 12      | 2021-03-15 |\n",
    "| 2       | 10      | 2021-03-15 |\n",
    "| 2       | 11      | 2021-03-15 |\n",
    "| 2       | 12      | 2021-03-15 |\n",
    "| 3       | 10      | 2021-03-15 |\n",
    "| 3       | 11      | 2021-03-15 |\n",
    "| 3       | 12      | 2021-03-15 |\n",
    "| 4       | 10      | 2021-03-15 |\n",
    "| 4       | 11      | 2021-03-15 |\n",
    "| 4       | 13      | 2021-03-15 |\n",
    "| 5       | 10      | 2021-03-16 |\n",
    "| 5       | 11      | 2021-03-16 |\n",
    "| 5       | 12      | 2021-03-16 |\n",
    "+---------+---------+------------+\n",
    "```\n",
    "**Friendship table:**\n",
    "``` console\n",
    "+----------+----------+\n",
    "| user1_id | user2_id |\n",
    "+----------+----------+\n",
    "| 1        | 2        |\n",
    "+----------+----------+\n",
    "```\n",
    "**Output:** \n",
    "``` console\n",
    "+---------+----------------+\n",
    "| user_id | recommended_id |\n",
    "+---------+----------------+\n",
    "| 1       | 3              |\n",
    "| 2       | 3              |\n",
    "| 3       | 1              |\n",
    "| 3       | 2              |\n",
    "+---------+----------------+\n",
    "```\n",
    "**Explanation:** \n",
    "\n",
    "Users 1 and 2 listened to songs 10, 11, and 12 on the same day, but they are already friends.\n",
    "\n",
    "Users 1 and 3 listened to songs 10, 11, and 12 on the same day. Since they are not friends, we recommend them to each other.\n",
    "\n",
    "Users 1 and 4 did not listen to the same three songs.\n",
    "\n",
    "Users 1 and 5 listened to songs 10, 11, and 12, but on different days.\n",
    "\n",
    "Similarly, we can see that users 2 and 3 listened to songs 10, 11, and 12 on the same day and are not friends, so we recommend them to each other."
   ]
  },
  {
   "cell_type": "markdown",
   "metadata": {},
   "source": [
    "**Solution-1:**"
   ]
  },
  {
   "cell_type": "markdown",
   "metadata": {},
   "source": [
    "``` sql\n",
    "# Write your MySQL query statement below\n",
    "\n",
    "SELECT a.user_id AS user_id , b.user_id AS recommended_id\n",
    "FROM Listens a\n",
    "JOIN Listens b\n",
    "ON a.user_id <> b.user_id AND a.song_id = b.song_id and a.day = b.day\n",
    "WHERE (a.user_id, b.user_id) NOT IN( \n",
    "SELECT user1_id , user2_id from friendship\n",
    "UNION \n",
    "SELECT user2_id , user1_id from friendship)\n",
    "GROUP BY a.user_id, b.user_id, a.day\n",
    "HAVING COUNT(DISTINCT a.song_id)>=3\n",
    "ORDER by 1,2"
   ]
  },
  {
   "cell_type": "markdown",
   "metadata": {},
   "source": [
    "**solution-2:**"
   ]
  },
  {
   "cell_type": "markdown",
   "metadata": {},
   "source": [
    "``` sql\n",
    "# Write your MySQL query statement below\n",
    "WITH cte AS(\n",
    "SELECT a.user_id AS user_id , b.user_id AS recommended_id\n",
    "FROM Listens a\n",
    "JOIN Listens b\n",
    "ON a.user_id < b.user_id AND a.song_id = b.song_id and a.day = b.day\n",
    "WHERE NOT EXISTS (SELECT user1_id, user2_id from friendship WHERE a.user_id = user1_id AND b.user_id = user2_id)\n",
    "GROUP BY a.user_id, b.user_id, a.day\n",
    "HAVING COUNT(DISTINCT a.song_id)>=3)\n",
    "\n",
    "SELECT user_id, recommended_id FROM cte\n",
    "UNION\n",
    "SELECT recommended_id, user_id FROM cte\n"
   ]
  },
  {
   "cell_type": "markdown",
   "metadata": {},
   "source": [
    "**Solution-3:**"
   ]
  },
  {
   "cell_type": "markdown",
   "metadata": {},
   "source": [
    "``` sql\n",
    "-- Write your PostgreSQL query statement below\n",
    "\n",
    "-- step 1: find users listened to the sam song three or more different song on the same day\n",
    "\n",
    "WITH tbl_song_more_than_2 AS(\n",
    "SELECT \n",
    "\tL.user_id, L1.user_id user_id1\n",
    "FROM\n",
    "\tListens L\n",
    "INNER JOIN\n",
    "\tListens L1 ON L.day = L1.day AND L.user_id <> L1.user_id AND L.song_id = L1.song_id\n",
    "GROUP BY \n",
    "\tL.user_id, L1.user_id, L.day\n",
    "HAVING COUNT(DISTINCT L.song_id) > 2\n",
    ")\n",
    "\n",
    "-- step 2: filter users not friend => not in table \"friendShip\"\n",
    "\n",
    "SELECT DISTINCT\n",
    "\tuser_id user_id,\n",
    "\tuser_id1 recommended_id\n",
    "FROM\n",
    "\ttbl_song_more_than_2 C WHERE NOT EXISTS (SELECT 1 FROM Friendship F WHERE  (C.user_id = F.user1_id AND C.user_id1 = F.user2_id) OR (C.user_id = F.user2_id AND C.user_id1 = F.user1_id))\n"
   ]
  },
  {
   "cell_type": "markdown",
   "metadata": {},
   "source": []
  },
  {
   "cell_type": "markdown",
   "metadata": {},
   "source": [
    "**Solution-4:**"
   ]
  },
  {
   "cell_type": "markdown",
   "metadata": {},
   "source": [
    "``` sql\n",
    "SELECT a.user_id AS user_id , b.user_id AS recommended_id\n",
    "FROM Listens a\n",
    "JOIN Listens b\n",
    "ON a.user_id <> b.user_id AND a.song_id = b.song_id and a.day = b.day\n",
    "WHERE NOT EXISTS (SELECT user1_id, user2_id from friendship\n",
    "WHERE (a.user_id = user1_id AND b.user_id = user2_id) OR\n",
    "(a.user_id = user2_id AND b.user_id = user1_id)\n",
    ")\n",
    "GROUP BY a.user_id, b.user_id, a.day\n",
    "HAVING COUNT(DISTINCT a.song_id)>=3"
   ]
  }
 ],
 "metadata": {
  "language_info": {
   "name": "python"
  }
 },
 "nbformat": 4,
 "nbformat_minor": 2
}
