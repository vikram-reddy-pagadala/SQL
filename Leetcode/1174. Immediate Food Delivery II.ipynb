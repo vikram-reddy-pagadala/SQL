{
 "cells": [
  {
   "cell_type": "markdown",
   "metadata": {},
   "source": [
    "# **1174. Immediate Food Delivery II**\n",
    "``` console\n",
    "Table: Delivery\n",
    "+-----------------------------+---------+\n",
    "| Column Name                 | Type    |\n",
    "+-----------------------------+---------+\n",
    "| delivery_id                 | int     |\n",
    "| customer_id                 | int     |\n",
    "| order_date                  | date    |\n",
    "| customer_pref_delivery_date | date    |\n",
    "+-----------------------------+---------+\n",
    "\n",
    "delivery_id is the column of unique values of this table.\n",
    "The table holds information about food delivery to customers that make orders at some date and specify a preferred delivery date (on the same order date or after it).\n",
    " \n",
    "\n",
    "If the customer's preferred delivery date is the same as the order date, then the order is called immediate; otherwise, it is called scheduled.\n",
    "\n",
    "The first order of a customer is the order with the earliest order date that the customer made. It is guaranteed that a customer has precisely one first order.\n",
    "\n",
    "Write a solution to find the percentage of immediate orders in the first orders of all customers, rounded to 2 decimal places.\n",
    "\n",
    "The result format is in the following example.\n",
    "\n",
    " \n",
    "\n",
    "Example 1:\n",
    "\n",
    "Input: \n",
    "Delivery table:\n",
    "+-------------+-------------+------------+-----------------------------+\n",
    "| delivery_id | customer_id | order_date | customer_pref_delivery_date |\n",
    "+-------------+-------------+------------+-----------------------------+\n",
    "| 1           | 1           | 2019-08-01 | 2019-08-02                  |\n",
    "| 2           | 2           | 2019-08-02 | 2019-08-02                  |\n",
    "| 3           | 1           | 2019-08-11 | 2019-08-12                  |\n",
    "| 4           | 3           | 2019-08-24 | 2019-08-24                  |\n",
    "| 5           | 3           | 2019-08-21 | 2019-08-22                  |\n",
    "| 6           | 2           | 2019-08-11 | 2019-08-13                  |\n",
    "| 7           | 4           | 2019-08-09 | 2019-08-09                  |\n",
    "+-------------+-------------+------------+-----------------------------+\n",
    "\n",
    "Output: \n",
    "+----------------------+\n",
    "| immediate_percentage |\n",
    "+----------------------+\n",
    "| 50.00                |\n",
    "+----------------------+\n",
    "\n",
    "Explanation: \n",
    "The customer id 1 has a first order with delivery id 1 and it is scheduled.\n",
    "The customer id 2 has a first order with delivery id 2 and it is immediate.\n",
    "The customer id 3 has a first order with delivery id 5 and it is scheduled.\n",
    "The customer id 4 has a first order with delivery id 7 and it is immediate.\n",
    "Hence, half the customers have immediate first orders."
   ]
  },
  {
   "cell_type": "markdown",
   "metadata": {},
   "source": [
    "**Solutions:**"
   ]
  },
  {
   "cell_type": "code",
   "execution_count": null,
   "metadata": {
    "vscode": {
     "languageId": "sql"
    }
   },
   "outputs": [],
   "source": [
    "SELECT ROUND((SUM(order_date = customer_pref_delivery_date)/COUNT(*))*100,2) AS immediate_percentage \n",
    "FROM Delivery\n",
    "WHERE (customer_id ,order_date) IN (SELECT customer_id , MIN(order_date) FROM Delivery GROUP BY customer_id)"
   ]
  },
  {
   "cell_type": "code",
   "execution_count": null,
   "metadata": {
    "vscode": {
     "languageId": "sql"
    }
   },
   "outputs": [],
   "source": [
    "SELECT ROUND(AVG(order_date = customer_pref_delivery_date)*100,2) AS immediate_percentage \n",
    "FROM Delivery\n",
    "WHERE (customer_id ,order_date) IN (SELECT customer_id , MIN(order_date) FROM Delivery GROUP BY customer_id)\n"
   ]
  }
 ],
 "metadata": {
  "language_info": {
   "name": "python"
  }
 },
 "nbformat": 4,
 "nbformat_minor": 2
}
