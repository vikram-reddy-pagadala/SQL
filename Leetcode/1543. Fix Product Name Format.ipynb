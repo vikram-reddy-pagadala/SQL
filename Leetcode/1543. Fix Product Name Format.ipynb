{
 "cells": [
  {
   "cell_type": "markdown",
   "metadata": {},
   "source": [
    "# **1543. Fix Product Name Format**\n",
    "``` console\n",
    "Table: Sales\n",
    "\n",
    "+--------------+---------+\n",
    "| Column Name  | Type    |\n",
    "+--------------+---------+\n",
    "| sale_id      | int     |\n",
    "| product_name | varchar |\n",
    "| sale_date    | date    |\n",
    "+--------------+---------+\n",
    "sale_id is the column with unique values for this table.\n",
    "Each row of this table contains the product name and the date it was sold.\n",
    " \n",
    "\n",
    "Since table Sales was filled manually in the year 2000, product_name may contain leading and/or trailing white spaces, also they are case-insensitive.\n",
    "\n",
    "Write a solution to report\n",
    "\n",
    "product_name in lowercase without leading or trailing white spaces.\n",
    "sale_date in the format ('YYYY-MM').\n",
    "total the number of times the product was sold in this month.\n",
    "Return the result table ordered by product_name in ascending order. In case of a tie, order it by sale_date in ascending order.\n",
    "\n",
    "The result format is in the following example.\n",
    "\n",
    " \n",
    "\n",
    "Example 1:\n",
    "\n",
    "Input: \n",
    "Sales table:\n",
    "+---------+--------------+------------+\n",
    "| sale_id | product_name | sale_date  |\n",
    "+---------+--------------+------------+\n",
    "| 1       | LCPHONE      | 2000-01-16 |\n",
    "| 2       | LCPhone      | 2000-01-17 |\n",
    "| 3       | LcPhOnE      | 2000-02-18 |\n",
    "| 4       | LCKeyCHAiN   | 2000-02-19 |\n",
    "| 5       | LCKeyChain   | 2000-02-28 |\n",
    "| 6       | Matryoshka   | 2000-03-31 |\n",
    "+---------+--------------+------------+\n",
    "Output: \n",
    "+--------------+-----------+-------+\n",
    "| product_name | sale_date | total |\n",
    "+--------------+-----------+-------+\n",
    "| lckeychain   | 2000-02   | 2     |\n",
    "| lcphone      | 2000-01   | 2     |\n",
    "| lcphone      | 2000-02   | 1     |\n",
    "| matryoshka   | 2000-03   | 1     |\n",
    "+--------------+-----------+-------+\n",
    "\n",
    "Explanation: \n",
    "In January, 2 LcPhones were sold. Please note that the product names are not case sensitive and may contain spaces.\n",
    "In February, 2 LCKeychains and 1 LCPhone were sold.\n",
    "In March, one matryoshka was sold.\n",
    "```"
   ]
  },
  {
   "cell_type": "markdown",
   "metadata": {},
   "source": [
    "**Solution-1:**"
   ]
  },
  {
   "cell_type": "markdown",
   "metadata": {},
   "source": [
    "``` sql\n",
    "SELECT\n",
    "LOWER(TRIM(product_name)) AS product_name,\n",
    "SUBSTRING(sale_date,1,7) AS sale_date, COUNT(*) As total\n",
    "FROM Sales\n",
    "GROUP BY 1, 2\n",
    "ORDER BY 1,2"
   ]
  },
  {
   "cell_type": "markdown",
   "metadata": {},
   "source": []
  },
  {
   "cell_type": "markdown",
   "metadata": {},
   "source": [
    "**Solution-2:**"
   ]
  },
  {
   "cell_type": "markdown",
   "metadata": {},
   "source": [
    "``` sql\n",
    "SELECT\n",
    "\tLOWER(TRIM(product_name)) AS product_name,\n",
    "\tDATE_FORMAT(sale_date, \"%Y-%m\") AS sale_date,\n",
    "\tCOUNT(sale_id) AS total\n",
    "FROM Sales\n",
    "GROUP BY LOWER(TRIM(product_name)), DATE_FORMAT(sale_date, \"%Y-%m\")\n",
    "ORDER BY product_name ASC, sale_date ASC"
   ]
  }
 ],
 "metadata": {
  "language_info": {
   "name": "python"
  }
 },
 "nbformat": 4,
 "nbformat_minor": 2
}
