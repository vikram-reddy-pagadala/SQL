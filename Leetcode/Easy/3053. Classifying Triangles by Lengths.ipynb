{
 "cells": [
  {
   "cell_type": "markdown",
   "metadata": {},
   "source": [
    "# **3053. Classifying Triangles by Lengths**\n",
    "\n",
    "**Table: Triangles**\n",
    "``` console\n",
    "+-------------+------+ \n",
    "| Column Name | Type | \n",
    "+-------------+------+ \n",
    "| A           | int  | \n",
    "| B           | int  |\n",
    "| C           | int  |\n",
    "+-------------+------+\n",
    "```\n",
    "(A, B, C) is the primary key for this table.\n",
    "\n",
    "Each row include the lengths of each of a triangle's three sides.\n",
    "\n",
    "Write a query to find the type of triangle. Output one of the following for each row:\n",
    "\n",
    "Equilateral: It's a triangle with 3 sides of equal length.\n",
    "\n",
    "Isosceles: It's a triangle with 2 sides of equal length.\n",
    "\n",
    "Scalene: It's a triangle with 3 sides of differing lengths.\n",
    "\n",
    "Not A Triangle: The given values of A, B, and C don't form a triangle.\n",
    "\n",
    "Return the result table in any order.\n",
    "\n",
    "The result format is in the following example.\n",
    "\n",
    " \n",
    "\n",
    "**Example 1:**\n",
    "\n",
    "**Input:** \n",
    "**Triangles table:**\n",
    "``` console\n",
    "+----+----+----+\n",
    "| A  | B  | C  |\n",
    "+----+----+----+\n",
    "| 20 | 20 | 23 |\n",
    "| 20 | 20 | 20 |\n",
    "| 20 | 21 | 22 |\n",
    "| 13 | 14 | 30 |\n",
    "+----+----+----+\n",
    "```\n",
    "**Output:** \n",
    "``` console\n",
    "+----------------+\n",
    "| triangle_type  | \n",
    "+----------------+\n",
    "| Isosceles      | \n",
    "| Equilateral    |\n",
    "| Scalene        |\n",
    "| Not A Triangle |\n",
    "+----------------+\n",
    "```\n",
    "**Explanation:** \n",
    "- Values in the first row from an Isosceles triangle, because A = B.\n",
    "- Values in the second row from an Equilateral triangle, because A = B = C.\n",
    "- Values in the third row from an Scalene triangle, because A != B != C.\n",
    "- Values in the fourth row cannot form a triangle, because the combined value of sides A and B is not larger than that of side C."
   ]
  },
  {
   "cell_type": "markdown",
   "metadata": {},
   "source": [
    "**Solution-1:**"
   ]
  },
  {
   "cell_type": "markdown",
   "metadata": {},
   "source": [
    "``` sql\n",
    "# Write your MySQL query statement below\n",
    "\n",
    "SELECT\n",
    "CASE \n",
    "WHEN A = B AND A = C THEN 'Equilateral'\n",
    "WHEN A + B <= C OR B + C <= A OR C + A <= B THEN 'Not A Triangle'\n",
    "WHEN A != B AND  A != C  AND B != C THEN 'Scalene'\n",
    "ELSE 'Isosceles' END AS triangle_type\n",
    "FROM Triangles"
   ]
  },
  {
   "cell_type": "markdown",
   "metadata": {},
   "source": [
    "**Solution-2:**"
   ]
  },
  {
   "cell_type": "markdown",
   "metadata": {},
   "source": [
    "``` sql\n",
    "SELECT\n",
    "  CASE\n",
    "    WHEN A + B <= C OR A + C <= B OR B + C <= A THEN 'Not A Triangle'\n",
    "    WHEN A = B AND B = C THEN 'Equilateral'\n",
    "    WHEN A = B OR A = C OR B = C THEN 'Isosceles'\n",
    "    ELSE 'Scalene'\n",
    "  END AS triangle_type\n",
    "FROM Triangles;"
   ]
  }
 ],
 "metadata": {
  "language_info": {
   "name": "python"
  }
 },
 "nbformat": 4,
 "nbformat_minor": 2
}
