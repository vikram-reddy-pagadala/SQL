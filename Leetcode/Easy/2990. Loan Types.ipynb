{
 "cells": [
  {
   "cell_type": "markdown",
   "metadata": {},
   "source": [
    "# **2990. Loan Types**\n",
    "\n",
    "**Table: Loans**\n",
    "``` console\n",
    "+-------------+---------+\n",
    "| Column Name | Type    |\n",
    "+-------------+---------+\n",
    "| loan_id     | int     |\n",
    "| user_id     | int     |\n",
    "| loan_type   | varchar |\n",
    "+-------------+---------+\n",
    "```\n",
    "loan_id is column of unique values for this table.\n",
    "\n",
    "This table contains loan_id, user_id, and loan_type.\n",
    "\n",
    "Write a solution to find all distinct user_id's that have at least one Refinance loan type and at least one Mortgage loan type.\n",
    "\n",
    "Return the result table ordered by user_id in ascending order.\n",
    "\n",
    "The result format is in the following example.\n",
    "\n",
    " \n",
    "\n",
    "**Example 1:**\n",
    "\n",
    "**Input:**\n",
    "**Loans table:**\n",
    "``` console\n",
    "+---------+---------+-----------+\n",
    "| loan_id | user_id | loan_type |\n",
    "+---------+---------+-----------+\n",
    "| 683     | 101     | Mortgage  |\n",
    "| 218     | 101     | AutoLoan  |\n",
    "| 802     | 101     | Inschool  |\n",
    "| 593     | 102     | Mortgage  |\n",
    "| 138     | 102     | Refinance |\n",
    "| 294     | 102     | Inschool  |\n",
    "| 308     | 103     | Refinance |\n",
    "| 389     | 104     | Mortgage  |\n",
    "+---------+---------+-----------+\n",
    "```\n",
    "**Output**\n",
    "``` console\n",
    "+---------+\n",
    "| user_id | \n",
    "+---------+\n",
    "| 102     | \n",
    "+---------+\n",
    "```\n",
    "**Explanation**\n",
    "\n",
    "- User_id 101 has three loan types, one of which is a Mortgage. However, this user does not have any loan type categorized as Refinance, so user_id 101 won't be considered.\n",
    "- User_id 102 possesses three loan types: one for Mortgage and one for Refinance. Hence, user_id 102 will be included in the result.\n",
    "- User_id 103 has a loan type of Refinance but lacks a Mortgage loan type, so user_id 103 won't be considered.\n",
    "- User_id 104 has a Mortgage loan type but doesn't have a Refinance loan type, thus, user_id 104 won't be considered.\n",
    "Output table is ordered by user_id in ascending order."
   ]
  },
  {
   "cell_type": "markdown",
   "metadata": {},
   "source": [
    "**Solution-1:**"
   ]
  },
  {
   "cell_type": "markdown",
   "metadata": {},
   "source": [
    "``` sql\n",
    "# Write your MySQL query statement below\n",
    "\n",
    "SELECT DISTINCT user_id\n",
    "FROM Loans\n",
    "WHERE loan_type IN ('Mortgage','Refinance')\n",
    "GROUP BY user_id\n",
    "HAVING COUNT(DISTINCT loan_type) = 2"
   ]
  },
  {
   "cell_type": "markdown",
   "metadata": {},
   "source": [
    "**Solution-2:**"
   ]
  },
  {
   "cell_type": "markdown",
   "metadata": {},
   "source": [
    "``` sql\n",
    "# Write your MySQL query statement below\n",
    "\n",
    "select user_id from loans group by user_id having sum(loan_type = \"Refinance\") > 0 \n",
    "and sum(loan_type = \"Mortgage\") > 0 order by 1 asc;"
   ]
  },
  {
   "cell_type": "markdown",
   "metadata": {},
   "source": [
    "**Solution-3:**"
   ]
  },
  {
   "cell_type": "markdown",
   "metadata": {},
   "source": [
    "``` sql\n",
    "# Write your MySQL query statement below\n",
    "\n",
    "SELECT DISTINCT L1.user_id\n",
    "FROM Loans L1\n",
    "JOIN Loans L2 ON L1.user_id = L2.user_id\n",
    "WHERE L1.loan_type = 'Mortgage' AND L2.loan_type = 'Refinance'\n",
    "ORDER BY L1.user_id;"
   ]
  }
 ],
 "metadata": {
  "language_info": {
   "name": "python"
  }
 },
 "nbformat": 4,
 "nbformat_minor": 2
}
