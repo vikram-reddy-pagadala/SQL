{
 "cells": [
  {
   "cell_type": "markdown",
   "metadata": {},
   "source": [
    "# **2853. Highest Salaries Difference**\n",
    "\n",
    "**Table: Salaries**\n",
    "``` console\n",
    "+-------------+---------+ \n",
    "| Column Name | Type    | \n",
    "+-------------+---------+ \n",
    "| emp_name    | varchar | \n",
    "| department  | varchar | \n",
    "| salary      | int     |\n",
    "+-------------+---------+\n",
    "``` \n",
    "(emp_name, department) is the primary key (combination of unique values) for this table.\n",
    "\n",
    "Each row of this table contains emp_name, department and salary. There will be at least one entry for the engineering and marketing departments.\n",
    "\n",
    "Write a solution to calculate the difference between the highest salaries in the marketing and engineering department. Output the absolute difference in salaries.\n",
    "\n",
    "Return the result table.\n",
    "\n",
    "The result format is in the following example.\n",
    "\n",
    " \n",
    "\n",
    "**Example 1:**\n",
    "\n",
    "**Input:** \n",
    "**Salaries table:**\n",
    "``` console\n",
    "+----------+-------------+--------+\n",
    "| emp_name | department  | salary |\n",
    "+----------+-------------+--------+\n",
    "| Kathy    | Engineering | 50000  |\n",
    "| Roy      | Marketing   | 30000  |\n",
    "| Charles  | Engineering | 45000  |\n",
    "| Jack     | Engineering | 85000  | \n",
    "| Benjamin | Marketing   | 34000  |\n",
    "| Anthony  | Marketing   | 42000  |\n",
    "| Edward   | Engineering | 102000 |\n",
    "| Terry    | Engineering | 44000  |\n",
    "| Evelyn   | Marketing   | 53000  |\n",
    "| Arthur   | Engineering | 32000  |\n",
    "+----------+-------------+--------+\n",
    "```\n",
    "**Output:**\n",
    "``` console \n",
    "+-------------------+\n",
    "| salary_difference | \n",
    "+-------------------+\n",
    "| 49000             | \n",
    "+-------------------+\n",
    "```\n",
    "**Explanation:** \n",
    "- The Engineering and Marketing departments have the highest salaries of 102,000 and 53,000, respectively. Resulting in an absolute difference of 49,000."
   ]
  },
  {
   "cell_type": "markdown",
   "metadata": {},
   "source": [
    "**Solution-1:**"
   ]
  },
  {
   "cell_type": "markdown",
   "metadata": {},
   "source": [
    "``` sql\n",
    "SELECT \n",
    "ABS(SUM(CASE WHEN department = 'Engineering' THEN salary\n",
    "WHEN department = 'Marketing' THEN -salary ELSE 0 END)) AS salary_difference\n",
    "FROM\n",
    "(SELECT \n",
    "department, Max(salary) As salary\n",
    "FROM Salaries\n",
    "GROUP BY department)a"
   ]
  },
  {
   "cell_type": "markdown",
   "metadata": {},
   "source": [
    "**Solution-2:**"
   ]
  },
  {
   "cell_type": "markdown",
   "metadata": {},
   "source": [
    "``` sql\n",
    "# Write your MySQL query statement below\n",
    "\n",
    "SELECT ABS((SELECT MAX(salary) as salary FROM Salaries WHERE department = \"Engineering\") \n",
    "- (SELECT MAX(salary) as salary FROM Salaries WHERE department = \"Marketing\")) AS salary_difference "
   ]
  },
  {
   "cell_type": "markdown",
   "metadata": {},
   "source": [
    "**Solution-3:**"
   ]
  },
  {
   "cell_type": "markdown",
   "metadata": {},
   "source": [
    "``` sql\n",
    "select abs(max( CASE WHEN department='Engineering' THEN salary  END) - max( CASE WHEN department='Marketing' THEN salary  END))as salary_difference\n",
    "from Salaries"
   ]
  }
 ],
 "metadata": {
  "language_info": {
   "name": "python"
  }
 },
 "nbformat": 4,
 "nbformat_minor": 2
}
