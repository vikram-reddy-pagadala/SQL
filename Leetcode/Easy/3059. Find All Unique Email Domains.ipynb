{
 "cells": [
  {
   "cell_type": "markdown",
   "metadata": {},
   "source": [
    "# **3059. Find All Unique Email Domains**\n",
    "\n",
    "**Table: Emails**\n",
    "``` console\n",
    "+-------------+---------+\n",
    "| Column Name | Type    |\n",
    "+-------------+---------+\n",
    "| id          | int     |\n",
    "| email       | varchar |\n",
    "+-------------+---------+\n",
    "```\n",
    "id is the primary key (column with unique values) for this table.\n",
    "\n",
    "Each row of this table contains an email. The emails will not contain uppercase letters.\n",
    "\n",
    "Write a solution to find all unique email domains and count the number of individuals associated with each domain. Consider only those domains that end with .com.\n",
    "\n",
    "Return the result table orderd by email domains in ascending order.\n",
    "\n",
    "The result format is in the following example.\n",
    "\n",
    " \n",
    "\n",
    "**Example 1:**\n",
    "\n",
    "**Input:** \n",
    "**Emails table:**\n",
    "``` console\n",
    "+-----+-----------------------+\n",
    "| id  | email                 |\n",
    "+-----+-----------------------+\n",
    "| 336 | hwkiy@test.edu        |\n",
    "| 489 | adcmaf@outlook.com    |\n",
    "| 449 | vrzmwyum@yahoo.com    |\n",
    "| 95  | tof@test.edu          |\n",
    "| 320 | jxhbagkpm@example.org |\n",
    "| 411 | zxcf@outlook.com      |\n",
    "+----+------------------------+\n",
    "```\n",
    "**Output:** \n",
    "``` console\n",
    "+--------------+-------+\n",
    "| email_domain | count |\n",
    "+--------------+-------+\n",
    "| outlook.com  | 2     |\n",
    "| yahoo.com    | 1     |  \n",
    "+--------------+-------+\n",
    "```\n",
    "**Explanation:** \n",
    "- The valid domains ending with \".com\" are only \"outlook.com\" and \"yahoo.com\", with respective counts of 2 and 1.\n",
    "Output table is ordered by email_domains in ascending order.\n"
   ]
  },
  {
   "cell_type": "markdown",
   "metadata": {},
   "source": [
    "**Solution-1:**"
   ]
  },
  {
   "cell_type": "markdown",
   "metadata": {},
   "source": [
    "``` sql\n",
    "# Write your MySQL query statement below\n",
    "\n",
    "SELECT RIGHT(email, LENGTH(email) - LOCATE('@',email)) as email_domain, COUNT(*) as count\n",
    "FROM Emails\n",
    "WHERE RIGHT(email,4) = '.com'\n",
    "GROUP BY email_domain\n",
    "ORDER BY email_domain ASC"
   ]
  },
  {
   "cell_type": "markdown",
   "metadata": {},
   "source": [
    "**Solution-2:**"
   ]
  },
  {
   "cell_type": "markdown",
   "metadata": {},
   "source": [
    "``` sql\n",
    "SELECT \n",
    "  SUBSTRING_INDEX(email, '@', -1) AS email_domain, \n",
    "  COUNT(DISTINCT id) AS count \n",
    "FROM \n",
    "  Emails \n",
    "WHERE \n",
    "  email LIKE '%.com' \n",
    "GROUP BY \n",
    "  email_domain \n",
    "ORDER BY \n",
    "  email_domain asc;"
   ]
  }
 ],
 "metadata": {
  "language_info": {
   "name": "python"
  }
 },
 "nbformat": 4,
 "nbformat_minor": 2
}
