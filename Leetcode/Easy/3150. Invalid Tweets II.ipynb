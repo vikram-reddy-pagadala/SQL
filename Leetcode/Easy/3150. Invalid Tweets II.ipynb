{
 "cells": [
  {
   "cell_type": "markdown",
   "metadata": {},
   "source": [
    "# **3150. Invalid Tweets II**\n",
    "\n",
    "**Table: Tweets**\n",
    "``` console\n",
    "+----------------+---------+\n",
    "| Column Name    | Type    |\n",
    "+----------------+---------+\n",
    "| tweet_id       | int     |\n",
    "| content        | varchar |\n",
    "+----------------+---------+\n",
    "```\n",
    "tweet_id is the primary key (column with unique values) for this table.\n",
    "\n",
    "This table contains all the tweets in a social media app.\n",
    "\n",
    "Write a solution to find invalid tweets. A tweet is considered invalid if it meets any of the following criteria:\n",
    "\n",
    "It exceeds 140 characters in length.\n",
    "\n",
    "It has more than 3 mentions.\n",
    "\n",
    "It includes more than 3 hashtags.\n",
    "\n",
    "Return the result table ordered by tweet_id in ascending order.\n",
    "\n",
    "The result format is in the following example.\n",
    "\n",
    " \n",
    "\n",
    "**Example:**\n",
    "\n",
    "**Input:**\n",
    "\n",
    "**Tweets table:**\n",
    "``` console\n",
    "  +----------+-----------------------------------------------------------------------------------+\n",
    "  | tweet_id | content                                                                           |\n",
    "  +----------+-----------------------------------------------------------------------------------+\n",
    "  | 1        | Traveling, exploring, and living my best life @JaneSmith @SaraJohnson @LisaTaylor |\n",
    "  |          | @MikeBrown #Foodie #Fitness #Learning                                             | \n",
    "  | 2        | Just had the best dinner with friends! #Foodie #Friends #Fun                      |\n",
    "  | 4        | Working hard on my new project #Work #Goals #Productivity #Fun                    |\n",
    "  +----------+-----------------------------------------------------------------------------------+\n",
    "  ```\n",
    "**Output:**\n",
    "``` console\n",
    "  +----------+\n",
    "  | tweet_id |\n",
    "  +----------+\n",
    "  | 1        |\n",
    "  | 4        |\n",
    "  +----------+\n",
    "```\n",
    "**Explanation:**\n",
    "\n",
    "tweet_id 1 contains 4 mentions.\n",
    "\n",
    "tweet_id 4 contains 4 hashtags.\n",
    "\n",
    "Output table is ordered by tweet_id in ascending order."
   ]
  },
  {
   "cell_type": "markdown",
   "metadata": {},
   "source": [
    "**Solution-1:**"
   ]
  },
  {
   "cell_type": "markdown",
   "metadata": {},
   "source": [
    "``` sql\n",
    "# Write your MySQL query statement below\n",
    "\n",
    "SELECT tweet_id\n",
    "FROM Tweets\n",
    "WHERE LENGTH(content) > 140 OR \n",
    "LENGTH(content)- LENGTH(REPLACE(content, '@', '')) > 3 OR\n",
    "LENGTH(content)- LENGTH(REPLACE(content, '#', '')) > 3\n",
    "ORDER BY tweet_id ASC"
   ]
  },
  {
   "cell_type": "markdown",
   "metadata": {},
   "source": [
    "**Solution-2:**"
   ]
  },
  {
   "cell_type": "markdown",
   "metadata": {},
   "source": [
    "``` sql\n",
    "# Write your MySQL query statement below\n",
    "\n",
    "SELECT tweet_id\n",
    "FROM Tweets\n",
    "WHERE LENGTH(content) > 140 OR \n",
    "content like '%#%#%#%#%' OR\n",
    "content like '%@%@%@%@%'\n",
    "ORDER BY tweet_id ASC"
   ]
  },
  {
   "cell_type": "markdown",
   "metadata": {},
   "source": [
    "**Solution-3:**"
   ]
  },
  {
   "cell_type": "markdown",
   "metadata": {},
   "source": [
    "``` sql\n",
    "# Write your MySQL query statement below\n",
    "--Use regular expression REGEXP_SUBSTR() to check the existence of the 4−th \"@\" or \"#\".\n",
    "\n",
    "select tweet_id\n",
    "from tweets\n",
    "where char_length(CONTENT) > 140\n",
    "or regexp_substr(content, '@', 1, 4) is not null\n",
    "or regexp_substr(content, '#', 1, 4) is not null\n",
    "order by tweet_id asc"
   ]
  }
 ],
 "metadata": {
  "language_info": {
   "name": "python"
  }
 },
 "nbformat": 4,
 "nbformat_minor": 2
}
