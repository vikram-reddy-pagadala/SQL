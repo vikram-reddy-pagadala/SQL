{
 "cells": [
  {
   "cell_type": "markdown",
   "metadata": {},
   "source": [
    "# **1777. Product's Price for Each Store**\n",
    "``` console\n",
    "Table: Products\n",
    "\n",
    "+-------------+---------+\n",
    "| Column Name | Type    |\n",
    "+-------------+---------+\n",
    "| product_id  | int     |\n",
    "| store       | enum    |\n",
    "| price       | int     |\n",
    "+-------------+---------+\n",
    "In SQL, (product_id, store) is the primary key for this table.\n",
    "store is a category of type ('store1', 'store2', 'store3') where each represents the store this product is available at.\n",
    "price is the price of the product at this store.\n",
    " \n",
    "\n",
    "Find the price of each product in each store.\n",
    "\n",
    "Return the result table in any order.\n",
    "\n",
    "The result format is in the following example.\n",
    "\n",
    " \n",
    "\n",
    "Example 1:\n",
    "\n",
    "Input: \n",
    "Products table:\n",
    "+-------------+--------+-------+\n",
    "| product_id  | store  | price |\n",
    "+-------------+--------+-------+\n",
    "| 0           | store1 | 95    |\n",
    "| 0           | store3 | 105   |\n",
    "| 0           | store2 | 100   |\n",
    "| 1           | store1 | 70    |\n",
    "| 1           | store3 | 80    |\n",
    "+-------------+--------+-------+\n",
    "\n",
    "Output: \n",
    "+-------------+--------+--------+--------+\n",
    "| product_id  | store1 | store2 | store3 |\n",
    "+-------------+--------+--------+--------+\n",
    "| 0           | 95     | 100    | 105    |\n",
    "| 1           | 70     | null   | 80     |\n",
    "+-------------+--------+--------+--------+\n",
    "\n",
    "Explanation: \n",
    "Product 0 price's are 95 for store1, 100 for store2 and, 105 for store3.\n",
    "Product 1 price's are 70 for store1, 80 for store3 and, it's not sold in store2.\n",
    "\n",
    "```"
   ]
  },
  {
   "cell_type": "markdown",
   "metadata": {},
   "source": [
    "**Solution-1:**"
   ]
  },
  {
   "cell_type": "markdown",
   "metadata": {},
   "source": [
    "``` sql\n",
    "# Write your MySQL query statement below\n",
    "\n",
    "SELECT\n",
    "product_id,\n",
    "MAX(CASE WHEN store = 'store1' THEN price ELSE NULL END) as store1,\n",
    "MAX(CASE WHEN store = 'store2' THEN price ELSE NULL END) as store2,\n",
    "MAX(CASE WHEN store = 'store3' THEN price ELSE NULL END) as store3\n",
    "FROM Products\n",
    "GROUP BY product_id"
   ]
  },
  {
   "cell_type": "markdown",
   "metadata": {},
   "source": []
  },
  {
   "cell_type": "markdown",
   "metadata": {},
   "source": [
    "**Solution-2:**"
   ]
  },
  {
   "cell_type": "markdown",
   "metadata": {},
   "source": [
    "``` sql\n",
    "/* Write your T-SQL MS sql server query statement below */\n",
    "SELECT *\n",
    "FROM (\n",
    "       SELECT product_id,store,price FROM Products\n",
    "     )T1\n",
    "PIVOT\n",
    "(MAX(price) FOR store IN (\n",
    "                           [store1],\n",
    "                           [store2],\n",
    "                           [store3]\n",
    "                         ) \n",
    ")T2"
   ]
  }
 ],
 "metadata": {
  "language_info": {
   "name": "python"
  }
 },
 "nbformat": 4,
 "nbformat_minor": 2
}
