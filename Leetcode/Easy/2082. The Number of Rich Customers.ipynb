{
 "cells": [
  {
   "cell_type": "markdown",
   "metadata": {},
   "source": [
    "# **2082. The Number of Rich Customers**\n",
    "\n",
    "**Table: Store**\n",
    "``` console\n",
    "+-------------+------+\n",
    "| Column Name | Type |\n",
    "+-------------+------+\n",
    "| bill_id     | int  |\n",
    "| customer_id | int  |\n",
    "| amount      | int  |\n",
    "+-------------+------+\n",
    "```\n",
    "- bill_id is the primary key (column with unique values) for this table.\n",
    "- Each row contains information about the amount of one bill and the customer associated with it.\n",
    " \n",
    "\n",
    "Write a solution to report the number of customers who had at least one bill with an amount strictly greater than 500.\n",
    "\n",
    "The result format is in the following example.\n",
    "\n",
    " \n",
    "\n",
    "**Example 1:**\n",
    "\n",
    "**Input:** \n",
    "**Store table:**\n",
    "``` console\n",
    "+---------+-------------+--------+\n",
    "| bill_id | customer_id | amount |\n",
    "+---------+-------------+--------+\n",
    "| 6       | 1           | 549    |\n",
    "| 8       | 1           | 834    |\n",
    "| 4       | 2           | 394    |\n",
    "| 11      | 3           | 657    |\n",
    "| 13      | 3           | 257    |\n",
    "+---------+-------------+--------+\n",
    "```\n",
    "**Output:** \n",
    "``` console\n",
    "+------------+\n",
    "| rich_count |\n",
    "+------------+\n",
    "| 2          |\n",
    "+------------+\n",
    "```\n",
    "**Explanation:** \n",
    "- Customer 1 has two bills with amounts strictly greater than 500.\n",
    "- Customer 2 does not have any bills with an amount strictly greater than 500.\n",
    "- Customer 3 has one bill with an amount strictly greater than 500.\n"
   ]
  },
  {
   "cell_type": "markdown",
   "metadata": {},
   "source": [
    "**Solution-1:**"
   ]
  },
  {
   "cell_type": "markdown",
   "metadata": {},
   "source": [
    "``` sql\n",
    "# Write your MySQL query statement below\n",
    "\n",
    "SELECT COUNT(DISTINCT customer_id) as rich_count\n",
    "FROM Store\n",
    "WHERE amount > 500"
   ]
  }
 ],
 "metadata": {
  "language_info": {
   "name": "python"
  }
 },
 "nbformat": 4,
 "nbformat_minor": 2
}
