{
 "cells": [
  {
   "cell_type": "markdown",
   "metadata": {},
   "source": [
    "# **603. Consecutive Available Seats**\n",
    "\n",
    "**Table: Cinema**\n",
    "``` console\n",
    "+-------------+------+\n",
    "| Column Name | Type |\n",
    "+-------------+------+\n",
    "| seat_id     | int  |\n",
    "| free        | bool |\n",
    "+-------------+------+\n",
    "```\n",
    "\n",
    "seat_id is an auto-increment column for this table.\n",
    "Each row of this table indicates whether the ith seat is free or not. 1 means free while 0 means occupied.\n",
    " \n",
    "\n",
    "Find all the consecutive available seats in the cinema.\n",
    "\n",
    "Return the result table ordered by seat_id in ascending order.\n",
    "\n",
    "The test cases are generated so that more than two seats are consecutively available.\n",
    "\n",
    "The result format is in the following example.\n",
    "\n",
    "**Example 1:**\n",
    "\n",
    "Input: \n",
    "**Cinema table:**\n",
    "```Console\n",
    "+---------+------+\n",
    "| seat_id | free |\n",
    "+---------+------+\n",
    "| 1       | 1    |\n",
    "| 2       | 0    |\n",
    "| 3       | 1    |\n",
    "| 4       | 1    |\n",
    "| 5       | 1    |\n",
    "+---------+------+\n",
    "```\n",
    "\n",
    "**Output:**\n",
    "``` console\n",
    "+---------+\n",
    "| seat_id |\n",
    "+---------+\n",
    "| 3       |\n",
    "| 4       |\n",
    "| 5       |\n",
    "+---------+\n",
    "```"
   ]
  },
  {
   "cell_type": "markdown",
   "metadata": {},
   "source": [
    "**Solution 1:**"
   ]
  },
  {
   "cell_type": "markdown",
   "metadata": {
    "vscode": {
     "languageId": "sql"
    }
   },
   "source": [
    "``` sql\n",
    "SELECT \n",
    "DISTINCT c1.seat_id\n",
    "FROM cinema c1\n",
    "INNER JOIN cinema c2\n",
    "ON abs(c1. seat_id - c2.seat_id) = 1 AND c1.free = 1 AND c2.free = 1\n",
    "ORDER BY c1.seat_id;"
   ]
  },
  {
   "cell_type": "markdown",
   "metadata": {},
   "source": [
    "**Solution 2:**"
   ]
  },
  {
   "cell_type": "markdown",
   "metadata": {
    "vscode": {
     "languageId": "sql"
    }
   },
   "source": [
    "``` sql\n",
    "SELECT seat_id\n",
    "FROM (\n",
    "SELECT seat_id,\n",
    "free,\n",
    "LEAD(free,1) OVER (ORDER BY seat_id) AS next_seat,\n",
    "LAG(free,1) OVER (ORDER BY seat_id) AS pre_seat\n",
    "FROM Cinema) a\n",
    "WHERE free+next_seat=2 OR free+pre_seat=2"
   ]
  },
  {
   "cell_type": "markdown",
   "metadata": {
    "vscode": {
     "languageId": "sql"
    }
   },
   "source": [
    "``` sql\n",
    "SELECT seat_id\n",
    "FROM (\n",
    "SELECT seat_id,\n",
    "free,\n",
    "LEAD(free,1) OVER (ORDER BY seat_id) AS next_seat,\n",
    "LAG(free,1) OVER (ORDER BY seat_id) AS pre_seat\n",
    "FROM Cinema) a\n",
    "WHERE (free = next_seat) OR (free = pre_seat)"
   ]
  }
 ],
 "metadata": {
  "language_info": {
   "name": "python"
  }
 },
 "nbformat": 4,
 "nbformat_minor": 2
}
