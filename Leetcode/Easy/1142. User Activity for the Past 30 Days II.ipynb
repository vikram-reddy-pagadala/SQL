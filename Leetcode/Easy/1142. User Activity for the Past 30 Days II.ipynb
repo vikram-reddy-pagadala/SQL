{
 "cells": [
  {
   "cell_type": "markdown",
   "metadata": {},
   "source": [
    "# **1142. User Activity for the Past 30 Days II**\n",
    "\n",
    "**Table: Activity**\n",
    "``` console\n",
    "+---------------+---------+\n",
    "| Column Name   | Type    |\n",
    "+---------------+---------+\n",
    "| user_id       | int     |\n",
    "| session_id    | int     |\n",
    "| activity_date | date    |\n",
    "| activity_type | enum    |\n",
    "+---------------+---------+\n",
    "```\n",
    "\n",
    "This table may have duplicate rows.\n",
    "The activity_type column is an ENUM (category) of type ('open_session', 'end_session', 'scroll_down', 'send_message').\n",
    "The table shows the user activities for a social media website. \n",
    "Note that each session belongs to exactly one user.\n",
    "\n",
    "Write a solution to find the average number of sessions per user for a period of 30 days ending 2019-07-27 inclusively, rounded to 2 decimal places. The sessions we want to count for a user are those with at least one activity in that time period.\n",
    "\n",
    "The result format is in the following example.\n",
    "\n",
    "**Example 1:**\n",
    "\n",
    "**Input:**\n",
    "**Activity table:**\n",
    "``` console\n",
    "+---------+------------+---------------+---------------+\n",
    "| user_id | session_id | activity_date | activity_type |\n",
    "+---------+------------+---------------+---------------+\n",
    "| 1       | 1          | 2019-07-20    | open_session  |\n",
    "| 1       | 1          | 2019-07-20    | scroll_down   |\n",
    "| 1       | 1          | 2019-07-20    | end_session   |\n",
    "| 2       | 4          | 2019-07-20    | open_session  |\n",
    "| 2       | 4          | 2019-07-21    | send_message  |\n",
    "| 2       | 4          | 2019-07-21    | end_session   |\n",
    "| 3       | 2          | 2019-07-21    | open_session  |\n",
    "| 3       | 2          | 2019-07-21    | send_message  |\n",
    "| 3       | 2          | 2019-07-21    | end_session   |\n",
    "| 3       | 5          | 2019-07-21    | open_session  |\n",
    "| 3       | 5          | 2019-07-21    | scroll_down   |\n",
    "| 3       | 5          | 2019-07-21    | end_session   |\n",
    "| 4       | 3          | 2019-06-25    | open_session  |\n",
    "| 4       | 3          | 2019-06-25    | end_session   |\n",
    "+---------+------------+---------------+---------------+\n",
    "```\n",
    "**Output:**\n",
    "``` console\n",
    "+---------------------------+ \n",
    "| average_sessions_per_user |\n",
    "+---------------------------+ \n",
    "| 1.33                      |\n",
    "+---------------------------+\n",
    "```\n",
    "**Explanation:** \n",
    "User 1 and 2 each had 1 session in the past 30 days while user 3 had 2 sessions \n",
    "so the average is (1 + 1 + 2) / 3 = 1.33."
   ]
  },
  {
   "cell_type": "markdown",
   "metadata": {},
   "source": [
    "**Solution 1:**"
   ]
  },
  {
   "cell_type": "markdown",
   "metadata": {
    "vscode": {
     "languageId": "sql"
    }
   },
   "source": [
    "``` sql\n",
    "SELECT IFNULL(ROUND(COUNT(DISTINCT session_id) / COUNT(DISTINCT user_id),2),0.00) AS average_sessions_per_user \n",
    "FROM activity\n",
    "WHERE DATEDIFF('2019-07-27',activity_date) BETWEEN 0 AND 29;"
   ]
  },
  {
   "cell_type": "markdown",
   "metadata": {},
   "source": [
    "**Solution 2:**"
   ]
  },
  {
   "cell_type": "markdown",
   "metadata": {
    "vscode": {
     "languageId": "sql"
    }
   },
   "source": [
    "``` sql\n",
    "# Write your MySQL query statement below\n",
    "\n",
    "SELECT IFNULL(ROUND(COUNT(DISTINCT session_id) / COUNT(DISTINCT user_id),2),0.00) AS average_sessions_per_user \n",
    "FROM activity\n",
    "WHERE activity_date >= '2019-06-28' and activity_date <= '2019-07-27';"
   ]
  }
 ],
 "metadata": {
  "language_info": {
   "name": "python"
  }
 },
 "nbformat": 4,
 "nbformat_minor": 2
}
