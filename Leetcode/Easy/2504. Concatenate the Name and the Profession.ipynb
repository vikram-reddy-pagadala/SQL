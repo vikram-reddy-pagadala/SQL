{
 "cells": [
  {
   "cell_type": "markdown",
   "metadata": {},
   "source": [
    "# **2504. Concatenate the Name and the Profession**\n",
    "\n",
    "**Table: Person**\n",
    "``` console\n",
    "+-------------+---------+\n",
    "| Column Name | Type    |\n",
    "+-------------+---------+\n",
    "| person_id   | int     |\n",
    "| name        | varchar |\n",
    "| profession  | ENUM    |\n",
    "+-------------+---------+\n",
    "``` \n",
    "person_id is the primary key (column with a unique value) for this table.\n",
    "\n",
    "Each row in this table contains a person's ID, name, and profession.\n",
    "\n",
    "The profession column in an enum of the type ('Doctor', 'Singer', 'Actor', 'Player', 'Engineer', or 'Lawyer')\n",
    " \n",
    "\n",
    "Write a solution to report each person's name followed by the first letter of their profession enclosed in parentheses.\n",
    "\n",
    "Return the result table ordered by person_id in descending order.\n",
    "\n",
    "The result format is shown in the following example.\n",
    "\n",
    " \n",
    "\n",
    "**Example 1:**\n",
    "\n",
    "**Input:** \n",
    "**Person table:**\n",
    "``` console\n",
    "+-----------+-------+------------+\n",
    "| person_id | name  | profession |\n",
    "+-----------+-------+------------+\n",
    "| 1         | Alex  | Singer     |\n",
    "| 3         | Alice | Actor      |\n",
    "| 2         | Bob   | Player     |\n",
    "| 4         | Messi | Doctor     |\n",
    "| 6         | Tyson | Engineer   |\n",
    "| 5         | Meir  | Lawyer     |\n",
    "+-----------+-------+------------+\n",
    "```\n",
    "**Output:** \n",
    "``` console\n",
    "+-----------+----------+\n",
    "| person_id | name     |\n",
    "+-----------+----------+\n",
    "| 6         | Tyson(E) |\n",
    "| 5         | Meir(L)  |\n",
    "| 4         | Messi(D) |\n",
    "| 3         | Alice(A) |\n",
    "| 2         | Bob(P)   |\n",
    "| 1         | Alex(S)  |\n",
    "+-----------+----------+\n",
    "```\n",
    "**Explanation:** \n",
    "\n",
    "Note that there should not be any white space between the name and the first letter of the profession."
   ]
  },
  {
   "cell_type": "markdown",
   "metadata": {},
   "source": [
    "**Solution-1:**"
   ]
  },
  {
   "cell_type": "markdown",
   "metadata": {},
   "source": [
    "``` sql\n",
    "# Write your MySQL query statement below\n",
    "\n",
    "SELECT person_id, CONCAT(name,'(', SUBSTRING(profession,1,1),')') AS name\n",
    "FROM Person\n",
    "ORDER BY person_id DESC"
   ]
  },
  {
   "cell_type": "markdown",
   "metadata": {},
   "source": [
    "**Solution-2:**"
   ]
  },
  {
   "cell_type": "markdown",
   "metadata": {},
   "source": [
    "``` sql\n",
    "SELECT \n",
    "    person_id,\n",
    "    CONCAT(name, '(', LEFT(profession, 1), ')') name\n",
    "FROM Person\n",
    "ORDER BY person_id DESC"
   ]
  }
 ],
 "metadata": {
  "language_info": {
   "name": "python"
  }
 },
 "nbformat": 4,
 "nbformat_minor": 2
}
