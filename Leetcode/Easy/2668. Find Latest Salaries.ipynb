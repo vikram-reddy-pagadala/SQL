{
 "cells": [
  {
   "cell_type": "markdown",
   "metadata": {},
   "source": [
    "# **2668. Find Latest Salaries**\n",
    "\n",
    "**Table: Salary**\n",
    "``` console\n",
    "+---------------+---------+ \n",
    "| Column Name   | Type    | \n",
    "+---------------+---------+ \n",
    "| emp_id        | int     | \n",
    "| firstname     | varchar |\n",
    "| lastname      | varchar |\n",
    "| salary        | varchar |\n",
    "| department_id | varchar |\n",
    "+---------------+---------+\n",
    "```\n",
    "(emp_id, salary) is the primary key (combination of columns with unique values) for this table.\n",
    "\n",
    "Each row contains employees details and their yearly salaries, however, some of the records are old and contain outdated salary information. \n",
    "Write a solution to find the current salary of each employee assuming that salaries increase each year. Output their emp_id, firstname, lastname, salary, and department_id.\n",
    "\n",
    "Return the result table ordered by emp_id in ascending order.\n",
    "\n",
    "The result format is in the following example.\n",
    "\n",
    " \n",
    "\n",
    "**Example 1:**\n",
    "\n",
    "**Input:**\n",
    "**Salary table:**\n",
    "``` console\n",
    "+--------+-----------+----------+--------+---------------+\n",
    "| emp_id | firstname | lastname | salary | department_id |\n",
    "+--------+-----------+----------+--------+---------------+ \n",
    "| 1      | Todd      | Wilson   | 110000 | D1006         |\n",
    "| 1      | Todd      | Wilson   | 106119 | D1006         | \n",
    "| 2      | Justin    | Simon    | 128922 | D1005         | \n",
    "| 2      | Justin    | Simon    | 130000 | D1005         | \n",
    "| 3      | Kelly     | Rosario  | 42689  | D1002         | \n",
    "| 4      | Patricia  | Powell   | 162825 | D1004         |\n",
    "| 4      | Patricia  | Powell   | 170000 | D1004         |\n",
    "| 5      | Sherry    | Golden   | 44101  | D1002         | \n",
    "| 6      | Natasha   | Swanson  | 79632  | D1005         | \n",
    "| 6      | Natasha   | Swanson  | 90000  | D1005         |\n",
    "+--------+-----------+----------+--------+---------------+\n",
    "```\n",
    "**Output:**\n",
    "``` console\n",
    "+--------+-----------+----------+--------+---------------+\n",
    "| emp_id | firstname | lastname | salary | department_id |\n",
    "+--------+-----------+----------+--------+---------------+ \n",
    "| 1      | Todd      | Wilson   | 110000 | D1006         |\n",
    "| 2      | Justin    | Simon    | 130000 | D1005         | \n",
    "| 3      | Kelly     | Rosario  | 42689  | D1002         | \n",
    "| 4      | Patricia  | Powell   | 170000 | D1004         |\n",
    "| 5      | Sherry    | Golden   | 44101  | D1002         | \n",
    "| 6      | Natasha   | Swanson  | 90000  | D1005         |\n",
    "+--------+-----------+----------+--------+---------------+\n",
    "```\n",
    "**Explanation:**\n",
    "- emp_id 1 has two records with a salary of 110000, 106119 out of these 110000 is an updated salary (Assuming salary is increasing each year)\n",
    "- emp_id 2 has two records with a salary of 128922, 130000 out of these 130000 is an updated salary.\n",
    "- emp_id 3 has only one salary record so that is already an updated salary.\n",
    "- emp_id 4 has two records with a salary of 162825, 170000 out of these 170000 is an updated salary.\n",
    "- emp_id 5 has only one salary record so that is already an updated salary.\n",
    "- emp_id 6 has two records with a salary of 79632, 90000 out of these 90000 is an updated salary."
   ]
  },
  {
   "cell_type": "markdown",
   "metadata": {},
   "source": [
    "**Solution-1:**"
   ]
  },
  {
   "cell_type": "markdown",
   "metadata": {},
   "source": [
    "``` sql\n",
    "# Write your MySQL query statement below\n",
    "\n",
    "SELECT * FROM Salary\n",
    "WHERE (emp_id,salary) IN (SELECT emp_id, MAX(SALARY) AS salary FROM Salary GROUP BY emp_id)\n",
    "ORDER BY emp_id ASC"
   ]
  },
  {
   "cell_type": "markdown",
   "metadata": {},
   "source": [
    "**Solution-2:**"
   ]
  },
  {
   "cell_type": "markdown",
   "metadata": {},
   "source": [
    "``` sql\n",
    "# Write your MySQL query statement below\n",
    "\n",
    "SELECT emp_id,firstname,lastname, MAX(SALARY) AS salary, department_id \n",
    "FROM Salary\n",
    "GROUP BY emp_id,firstname,lastname\n",
    "ORDER BY emp_id ASC"
   ]
  }
 ],
 "metadata": {
  "language_info": {
   "name": "python"
  }
 },
 "nbformat": 4,
 "nbformat_minor": 2
}
