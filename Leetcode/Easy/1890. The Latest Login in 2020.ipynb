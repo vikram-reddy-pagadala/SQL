{
 "cells": [
  {
   "cell_type": "markdown",
   "metadata": {},
   "source": [
    "# **1890. The Latest Login in 2020**\n",
    "``` console\n",
    "Table: Logins\n",
    "\n",
    "+----------------+----------+\n",
    "| Column Name    | Type     |\n",
    "+----------------+----------+\n",
    "| user_id        | int      |\n",
    "| time_stamp     | datetime |\n",
    "+----------------+----------+\n",
    "\n",
    "(user_id, time_stamp) is the primary key (combination of columns with unique values) for this table.\n",
    "Each row contains information about the login time for the user with ID user_id.\n",
    " \n",
    "\n",
    "Write a solution to report the latest login for all users in the year 2020. Do not include the users who did not login in 2020.\n",
    "\n",
    "Return the result table in any order.\n",
    "\n",
    "The result format is in the following example.\n",
    "\n",
    " \n",
    "\n",
    "Example 1:\n",
    "\n",
    "Input: \n",
    "Logins table:\n",
    "+---------+---------------------+\n",
    "| user_id | time_stamp          |\n",
    "+---------+---------------------+\n",
    "| 6       | 2020-06-30 15:06:07 |\n",
    "| 6       | 2021-04-21 14:06:06 |\n",
    "| 6       | 2019-03-07 00:18:15 |\n",
    "| 8       | 2020-02-01 05:10:53 |\n",
    "| 8       | 2020-12-30 00:46:50 |\n",
    "| 2       | 2020-01-16 02:49:50 |\n",
    "| 2       | 2019-08-25 07:59:08 |\n",
    "| 14      | 2019-07-14 09:00:00 |\n",
    "| 14      | 2021-01-06 11:59:59 |\n",
    "+---------+---------------------+\n",
    "\n",
    "Output: \n",
    "+---------+---------------------+\n",
    "| user_id | last_stamp          |\n",
    "+---------+---------------------+\n",
    "| 6       | 2020-06-30 15:06:07 |\n",
    "| 8       | 2020-12-30 00:46:50 |\n",
    "| 2       | 2020-01-16 02:49:50 |\n",
    "+---------+---------------------+\n",
    "\n",
    "Explanation: \n",
    "\n",
    "User 6 logged into their account 3 times but only once in 2020, so we include this login in the result table.\n",
    "\n",
    "User 8 logged into their account 2 times in 2020, once in February and once in December. We include only the latest one (December) in the result table.\n",
    "\n",
    "User 2 logged into their account 2 times but only once in 2020, so we include this login in the result table.\n",
    "User 14 did not login in 2020, so we do not include them in the result table.\n",
    "```"
   ]
  },
  {
   "cell_type": "markdown",
   "metadata": {},
   "source": [
    "**Solutions-1:**"
   ]
  },
  {
   "cell_type": "markdown",
   "metadata": {},
   "source": [
    "``` sql\n",
    "SELECT user_id, MAX(time_stamp) as last_stamp\n",
    "FROM Logins\n",
    "WHERE YEAR(time_stamp) = 2020\n",
    "GROUP BY user_id"
   ]
  }
 ],
 "metadata": {
  "language_info": {
   "name": "python"
  }
 },
 "nbformat": 4,
 "nbformat_minor": 2
}
