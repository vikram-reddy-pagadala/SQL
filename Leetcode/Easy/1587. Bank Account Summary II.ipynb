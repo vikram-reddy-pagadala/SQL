{
 "cells": [
  {
   "cell_type": "markdown",
   "metadata": {},
   "source": [
    "# **1587. Bank Account Summary II**\n",
    "``` sql\n",
    "Table: Users\n",
    "\n",
    "+--------------+---------+\n",
    "| Column Name  | Type    |\n",
    "+--------------+---------+\n",
    "| account      | int     |\n",
    "| name         | varchar |\n",
    "+--------------+---------+\n",
    "\n",
    "account is the primary key (column with unique values) for this table.\n",
    "\n",
    "Each row of this table contains the account number of each user in the bank.\n",
    "\n",
    "There will be no two users having the same name in the table.\n",
    " \n",
    "\n",
    "Table: Transactions\n",
    "\n",
    "+---------------+---------+\n",
    "| Column Name   | Type    |\n",
    "+---------------+---------+\n",
    "| trans_id      | int     |\n",
    "| account       | int     |\n",
    "| amount        | int     |\n",
    "| transacted_on | date    |\n",
    "+---------------+---------+\n",
    "\n",
    "trans_id is the primary key (column with unique values) for this table.\n",
    "\n",
    "Each row of this table contains all changes made to all accounts.\n",
    "\n",
    "amount is positive if the user received money and negative if they transferred money.\n",
    "\n",
    "All accounts start with a balance of 0.\n",
    " \n",
    "\n",
    "Write a solution to report the name and balance of users with a balance higher than 10000. The balance of an account is equal to the sum of the amounts of all transactions involving that account.\n",
    "\n",
    "Return the result table in any order.\n",
    "\n",
    "The result format is in the following example.\n",
    "\n",
    " \n",
    "\n",
    "Example 1:\n",
    "\n",
    "Input: \n",
    "Users table:\n",
    "+------------+--------------+\n",
    "| account    | name         |\n",
    "+------------+--------------+\n",
    "| 900001     | Alice        |\n",
    "| 900002     | Bob          |\n",
    "| 900003     | Charlie      |\n",
    "+------------+--------------+\n",
    "\n",
    "Transactions table:\n",
    "+------------+------------+------------+---------------+\n",
    "| trans_id   | account    | amount     | transacted_on |\n",
    "+------------+------------+------------+---------------+\n",
    "| 1          | 900001     | 7000       |  2020-08-01   |\n",
    "| 2          | 900001     | 7000       |  2020-09-01   |\n",
    "| 3          | 900001     | -3000      |  2020-09-02   |\n",
    "| 4          | 900002     | 1000       |  2020-09-12   |\n",
    "| 5          | 900003     | 6000       |  2020-08-07   |\n",
    "| 6          | 900003     | 6000       |  2020-09-07   |\n",
    "| 7          | 900003     | -4000      |  2020-09-11   |\n",
    "+------------+------------+------------+---------------+\n",
    "\n",
    "Output: \n",
    "+------------+------------+\n",
    "| name       | balance    |\n",
    "+------------+------------+\n",
    "| Alice      | 11000      |\n",
    "+------------+------------+\n",
    "```\n",
    "**Explanation:** \n",
    "\n",
    "Alice's balance is (7000 + 7000 - 3000) = 11000.\n",
    "\n",
    "Bob's balance is 1000.\n",
    "\n",
    "Charlie's balance is (6000 + 6000 - 4000) = 8000.\n"
   ]
  },
  {
   "cell_type": "markdown",
   "metadata": {},
   "source": [
    "**Solution-1:**"
   ]
  },
  {
   "cell_type": "markdown",
   "metadata": {
    "vscode": {
     "languageId": "sql"
    }
   },
   "source": [
    "``` sql\n",
    "SELECT name as NAME, SUM(amount) AS BALANCE\n",
    "FROM Users\n",
    "INNER JOIN Transactions \n",
    "ON Users.account = Transactions.account\n",
    "GROUP BY name\n",
    "HAVING SUM(amount) > 10000"
   ]
  },
  {
   "cell_type": "markdown",
   "metadata": {},
   "source": [
    "**Solution-2:**"
   ]
  },
  {
   "cell_type": "markdown",
   "metadata": {
    "vscode": {
     "languageId": "sql"
    }
   },
   "source": [
    "``` sql\n",
    "Select U.name,sum(T.amount) as balance \n",
    "from Users U , Transactions T \n",
    "where U.account = T.account \n",
    "group by U.account \n",
    "having balance > 10000;"
   ]
  }
 ],
 "metadata": {
  "language_info": {
   "name": "python"
  }
 },
 "nbformat": 4,
 "nbformat_minor": 2
}
