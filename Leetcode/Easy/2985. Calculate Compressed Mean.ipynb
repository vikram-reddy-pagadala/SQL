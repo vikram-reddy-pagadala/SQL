{
 "cells": [
  {
   "cell_type": "markdown",
   "metadata": {},
   "source": [
    "# **2985. Calculate Compressed Mean**\n",
    "\n",
    "**Table: Orders**\n",
    "``` console\n",
    "+-------------------+------+\n",
    "| Column Name       | Type |\n",
    "+-------------------+------+\n",
    "| order_id          | int  |\n",
    "| item_count        | int  |\n",
    "| order_occurrences | int  |\n",
    "+-------------------+------+\n",
    "```\n",
    "order_id is column of unique values for this table.\n",
    "\n",
    "This table contains order_id, item_count, and order_occurrences.\n",
    "\n",
    "Write a solution to calculate the average number of items per order, rounded to 2 decimal places.\n",
    "\n",
    "Return the result table in any order.\n",
    "\n",
    "The result format is in the following example.\n",
    "\n",
    " \n",
    "\n",
    "**Example 1:**\n",
    "\n",
    "**Input:** \n",
    "**Orders table:**\n",
    "``` console\n",
    "+----------+------------+-------------------+\n",
    "| order_id | item_count | order_occurrences | \n",
    "+----------+------------+-------------------+\n",
    "| 10       | 1          | 500               | \n",
    "| 11       | 2          | 1000              |     \n",
    "| 12       | 3          | 800               |  \n",
    "| 13       | 4          | 1000              | \n",
    "+----------+------------+-------------------+\n",
    "```\n",
    "**Output**\n",
    "``` console\n",
    "+-------------------------+\n",
    "| average_items_per_order | \n",
    "+-------------------------+\n",
    "| 2.70                    |\n",
    "+-------------------------+\n",
    "```\n",
    "**Explanation**\n",
    "\n",
    "The calculation is as follows:\n",
    " - Total items: (1 * 500) + (2 * 1000) + (3 * 800) + (4 * 1000) = 8900 \n",
    " - Total orders: 500 + 1000 + 800 + 1000 = 3300 \n",
    " - Therefore, the average items per order is 8900 / 3300 = 2.70"
   ]
  },
  {
   "cell_type": "markdown",
   "metadata": {},
   "source": [
    "**Solution-1:**"
   ]
  },
  {
   "cell_type": "markdown",
   "metadata": {},
   "source": [
    "``` sql\n",
    "# Write your MySQL query statement below\n",
    "\n",
    "SELECT\n",
    "ROUND(SUM(item_count * order_occurrences) / SUM(order_occurrences),2) AS average_items_per_order\n",
    "FROM Orders"
   ]
  }
 ],
 "metadata": {
  "language_info": {
   "name": "python"
  }
 },
 "nbformat": 4,
 "nbformat_minor": 2
}
