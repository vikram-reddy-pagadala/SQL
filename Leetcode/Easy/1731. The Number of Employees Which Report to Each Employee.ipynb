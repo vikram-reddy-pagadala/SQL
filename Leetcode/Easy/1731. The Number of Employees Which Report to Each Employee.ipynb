{
 "cells": [
  {
   "cell_type": "markdown",
   "metadata": {},
   "source": [
    "# **1731. The Number of Employees Which Report to Each Employee**\n",
    "``` console\n",
    "Table: Employees\n",
    "\n",
    "+-------------+----------+\n",
    "| Column Name | Type     |\n",
    "+-------------+----------+\n",
    "| employee_id | int      |\n",
    "| name        | varchar  |\n",
    "| reports_to  | int      |\n",
    "| age         | int      |\n",
    "+-------------+----------+\n",
    "\n",
    "employee_id is the column with unique values for this table.\n",
    "This table contains information about the employees and the id of the manager they report to. Some employees do not report to anyone (reports_to is null). \n",
    " \n",
    "\n",
    "For this problem, we will consider a manager an employee who has at least 1 other employee reporting to them.\n",
    "\n",
    "Write a solution to report the ids and the names of all managers, the number of employees who report directly to them, and the average age of the reports rounded to the nearest integer.\n",
    "\n",
    "Return the result table ordered by employee_id.\n",
    "\n",
    "The result format is in the following example.\n",
    "\n",
    "Example 1:\n",
    "\n",
    "Input: \n",
    "Employees table:\n",
    "+-------------+---------+------------+-----+\n",
    "| employee_id | name    | reports_to | age |\n",
    "+-------------+---------+------------+-----+\n",
    "| 9           | Hercy   | null       | 43  |\n",
    "| 6           | Alice   | 9          | 41  |\n",
    "| 4           | Bob     | 9          | 36  |\n",
    "| 2           | Winston | null       | 37  |\n",
    "+-------------+---------+------------+-----+\n",
    "Output: \n",
    "+-------------+-------+---------------+-------------+\n",
    "| employee_id | name  | reports_count | average_age |\n",
    "+-------------+-------+---------------+-------------+\n",
    "| 9           | Hercy | 2             | 39          |\n",
    "+-------------+-------+---------------+-------------+\n",
    "Explanation: Hercy has 2 people report directly to him, Alice and Bob. Their average age is (41+36)/2 = 38.5, which is 39 after rounding it to the nearest integer.\n",
    "Example 2:\n",
    "\n",
    "Input: \n",
    "\n",
    "Employees table:\n",
    "+-------------+---------+------------+-----+ \n",
    "| employee_id | name    | reports_to | age |\n",
    "|-------------|---------|------------|-----|\n",
    "| 1           | Michael | null       | 45  |\n",
    "| 2           | Alice   | 1          | 38  |\n",
    "| 3           | Bob     | 1          | 42  |\n",
    "| 4           | Charlie | 2          | 34  |\n",
    "| 5           | David   | 2          | 40  |\n",
    "| 6           | Eve     | 3          | 37  |\n",
    "| 7           | Frank   | null       | 50  |\n",
    "| 8           | Grace   | null       | 48  |\n",
    "+-------------+---------+------------+-----+ \n",
    "\n",
    "Output: \n",
    "+-------------+---------+---------------+-------------+\n",
    "| employee_id | name    | reports_count | average_age |\n",
    "| ----------- | ------- | ------------- | ----------- |\n",
    "| 1           | Michael | 2             | 40          |\n",
    "| 2           | Alice   | 2             | 37          |\n",
    "| 3           | Bob     | 1             | 37          |\n",
    "+-------------+---------+---------------+-------------+\n",
    "```"
   ]
  },
  {
   "cell_type": "markdown",
   "metadata": {},
   "source": [
    "**Solutions**"
   ]
  },
  {
   "cell_type": "code",
   "execution_count": null,
   "metadata": {
    "vscode": {
     "languageId": "sql"
    }
   },
   "outputs": [],
   "source": [
    "SELECT a.employee_id, a.name, COUNT(*) AS reports_count, ROUND(AVG(b.age)) AS average_age\n",
    "FROM Employees a\n",
    "INNER JOIN Employees b\n",
    "ON a.employee_id = b.reports_to\n",
    "GROUP BY a.employee_id\n",
    "ORDER BY a.employee_id"
   ]
  },
  {
   "cell_type": "code",
   "execution_count": null,
   "metadata": {
    "vscode": {
     "languageId": "sql"
    }
   },
   "outputs": [],
   "source": [
    "# Write your MySQL query statement below\n",
    "\n",
    "SELECT \n",
    "  reports_to AS employee_id, \n",
    "  (SELECT name \n",
    "    FROM employees e1 \n",
    "    WHERE e.reports_to = e1.employee_id \n",
    "  ) AS name, \n",
    "  COUNT(reports_to) AS reports_count, \n",
    "  ROUND(AVG(age)) AS average_age \n",
    "FROM employees e \n",
    "GROUP BY reports_to \n",
    "HAVING reports_count > 0 \n",
    "ORDER BY employee_id"
   ]
  }
 ],
 "metadata": {
  "language_info": {
   "name": "python"
  }
 },
 "nbformat": 4,
 "nbformat_minor": 2
}
