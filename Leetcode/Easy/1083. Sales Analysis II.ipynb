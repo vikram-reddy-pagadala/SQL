{
 "cells": [
  {
   "cell_type": "markdown",
   "metadata": {},
   "source": [
    "# **1083. Sales Analysis II**\n",
    "\n",
    "**Table: Product**\n",
    "``` console\n",
    "+--------------+---------+\n",
    "| Column Name  | Type    |\n",
    "+--------------+---------+\n",
    "| product_id   | int     |\n",
    "| product_name | varchar |\n",
    "| unit_price   | int     |\n",
    "+--------------+---------+\n",
    "```\n",
    "product_id is the primary key (column with unique values) of this table.\n",
    "Each row of this table indicates the name and the price of each product.\n",
    "**Table: Sales**\n",
    "``` console\n",
    "+-------------+---------+\n",
    "| Column Name | Type    |\n",
    "+-------------+---------+\n",
    "| seller_id   | int     |\n",
    "| product_id  | int     |\n",
    "| buyer_id    | int     |\n",
    "| sale_date   | date    |\n",
    "| quantity    | int     |\n",
    "| price       | int     |\n",
    "+-------------+---------+\n",
    "```\n",
    "This table might have repeated rows.\n",
    "product_id is a foreign key (reference column) to the Product table.\n",
    "buyer_id is never NULL. \n",
    "sale_date is never NULL. \n",
    "Each row of this table contains some information about one sale.\n",
    " \n",
    "\n",
    "Write a solution to report the buyers who have bought S8 but not iPhone. Note that S8 and iPhone are products presented in the Product table.\n",
    "\n",
    "Return the result table in any order.\n",
    "\n",
    "The result format is in the following example.\n",
    "\n",
    "**Example 1:**\n",
    "\n",
    "**Input:**\n",
    "**Product table:**\n",
    "``` console\n",
    "+------------+--------------+------------+\n",
    "| product_id | product_name | unit_price |\n",
    "+------------+--------------+------------+\n",
    "| 1          | S8           | 1000       |\n",
    "| 2          | G4           | 800        |\n",
    "| 3          | iPhone       | 1400       |\n",
    "+------------+--------------+------------+\n",
    "```\n",
    "**Sales table:**\n",
    "``` console\n",
    "+-----------+------------+----------+------------+----------+-------+\n",
    "| seller_id | product_id | buyer_id | sale_date  | quantity | price |\n",
    "+-----------+------------+----------+------------+----------+-------+\n",
    "| 1         | 1          | 1        | 2019-01-21 | 2        | 2000  |\n",
    "| 1         | 2          | 2        | 2019-02-17 | 1        | 800   |\n",
    "| 2         | 1          | 3        | 2019-06-02 | 1        | 800   |\n",
    "| 3         | 3          | 3        | 2019-05-13 | 2        | 2800  |\n",
    "+-----------+------------+----------+------------+----------+-------+\n",
    "```\n",
    "**Output:**\n",
    "``` console\n",
    "+-------------+\n",
    "| buyer_id    |\n",
    "+-------------+\n",
    "| 1           |\n",
    "+-------------+\n",
    "```\n",
    "\n",
    "**Explanation:**\n",
    "The buyer with id 1 bought an S8 but did not buy an iPhone. The buyer with id 3 bought both."
   ]
  },
  {
   "cell_type": "markdown",
   "metadata": {},
   "source": [
    "**Solution 1:**"
   ]
  },
  {
   "cell_type": "markdown",
   "metadata": {
    "vscode": {
     "languageId": "sql"
    }
   },
   "source": [
    "``` sql\n",
    "SELECT DISTINCT s.buyer_id FROM sales s\n",
    "INNER JOIN product p\n",
    "ON s.product_id = p.product_id and p.product_name = 'S8'\n",
    "where s.buyer_id not in\n",
    "(SELECT\n",
    "DISTINCT s.buyer_id\n",
    "FROM Sales S\n",
    "INNER JOIN product p\n",
    "ON s.product_id = p.product_id\n",
    "WHERE p.product_name = 'iPhone')"
   ]
  },
  {
   "cell_type": "markdown",
   "metadata": {},
   "source": [
    "**Solution 2:**"
   ]
  },
  {
   "cell_type": "markdown",
   "metadata": {
    "vscode": {
     "languageId": "sql"
    }
   },
   "source": [
    "``` sql\n",
    "SELECT s.buyer_id\n",
    "FROM Sales AS s INNER JOIN Product AS p\n",
    "ON s.product_id = p.product_id\n",
    "GROUP BY s.buyer_id\n",
    "HAVING SUM(CASE WHEN p.product_name = 'S8' THEN 1 ELSE 0 END) > 0\n",
    "AND SUM(CASE WHEN p.product_name = 'iPhone' THEN 1 ELSE 0 END) = 0;"
   ]
  },
  {
   "cell_type": "markdown",
   "metadata": {},
   "source": [
    "**Solution 3:**"
   ]
  },
  {
   "cell_type": "markdown",
   "metadata": {
    "vscode": {
     "languageId": "sql"
    }
   },
   "source": [
    "``` sql\n",
    "SELECT buyer_id \n",
    "FROM Sales s \n",
    "JOIN Product p \n",
    "ON s.product_id = p.product_id\n",
    "GROUP BY buyer_id\n",
    "HAVING SUM(product_name='S8') > 0 AND SUM(product_name='iPhone') = 0"
   ]
  }
 ],
 "metadata": {
  "language_info": {
   "name": "python"
  }
 },
 "nbformat": 4,
 "nbformat_minor": 2
}
