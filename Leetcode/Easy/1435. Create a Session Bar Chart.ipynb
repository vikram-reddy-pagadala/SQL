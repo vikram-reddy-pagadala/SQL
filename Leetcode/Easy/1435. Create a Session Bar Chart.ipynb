{
 "cells": [
  {
   "cell_type": "markdown",
   "metadata": {},
   "source": [
    "# **1435. Create a Session Bar Chart**\n",
    "``` console\n",
    "Table: Sessions\n",
    "\n",
    "+---------------------+---------+\n",
    "| Column Name         | Type    |\n",
    "+---------------------+---------+\n",
    "| session_id          | int     |\n",
    "| duration            | int     |\n",
    "+---------------------+---------+\n",
    "session_id is the column of unique values for this table.\n",
    "duration is the time in seconds that a user has visited the application.\n",
    " \n",
    "\n",
    "You want to know how long a user visits your application. You decided to create bins of \"[0-5>\", \"[5-10>\", \"[10-15>\", and \"15 minutes or more\" and count the number of sessions on it.\n",
    "\n",
    "Write a solution to report the (bin, total).\n",
    "\n",
    "Return the result table in any order.\n",
    "\n",
    "The result format is in the following example.\n",
    "\n",
    " \n",
    "\n",
    "Example 1:\n",
    "\n",
    "Input: \n",
    "Sessions table:\n",
    "+-------------+---------------+\n",
    "| session_id  | duration      |\n",
    "+-------------+---------------+\n",
    "| 1           | 30            |\n",
    "| 2           | 199           |\n",
    "| 3           | 299           |\n",
    "| 4           | 580           |\n",
    "| 5           | 1000          |\n",
    "+-------------+---------------+\n",
    "\n",
    "Output: \n",
    "+--------------+--------------+\n",
    "| bin          | total        |\n",
    "+--------------+--------------+\n",
    "| [0-5>        | 3            |\n",
    "| [5-10>       | 1            |\n",
    "| [10-15>      | 0            |\n",
    "| 15 or more   | 1            |\n",
    "+--------------+--------------+\n",
    "\n",
    "Explanation: \n",
    "For session_id 1, 2, and 3 have a duration greater or equal than 0 minutes and less than 5 minutes.\n",
    "For session_id 4 has a duration greater or equal than 5 minutes and less than 10 minutes.\n",
    "There is no session with a duration greater than or equal to 10 minutes and less than 15 minutes.\n",
    "For session_id 5 has a duration greater than or equal to 15 minutes.\n",
    "\n",
    "```"
   ]
  },
  {
   "cell_type": "markdown",
   "metadata": {},
   "source": [
    "**Solution-1:**"
   ]
  },
  {
   "cell_type": "markdown",
   "metadata": {},
   "source": [
    "``` sql\n",
    "SELECT '[0-5>' AS bin, SUM(CASE WHEN (duration/60)<5 THEN 1 ELSE 0 END) AS total\n",
    "FROM sessions\n",
    "UNION ALL\n",
    "SELECT '[5-10>' AS bin, SUM(CASE WHEN (duration/60) >=5 AND (duration/60) <10 THEN 1 ELSE 0 END) AS total\n",
    "FROM sessions\n",
    "UNION ALL\n",
    "SELECT '[10-15>' AS bin, SUM(CASE WHEN (duration/60) >=10 AND (duration/60) <15 THEN 1 ELSE 0 END) AS total\n",
    "FROM sessions\n",
    "UNION ALL\n",
    "SELECT '15 or more' AS bin, SUM(CASE WHEN (duration/60) >=15 THEN 1 ELSE 0 END) AS total\n",
    "FROM sessions"
   ]
  },
  {
   "cell_type": "markdown",
   "metadata": {},
   "source": []
  },
  {
   "cell_type": "markdown",
   "metadata": {},
   "source": [
    "**Solution-2:**"
   ]
  },
  {
   "cell_type": "markdown",
   "metadata": {},
   "source": [
    "``` sql\n",
    "# Write your MySQL query statement below\n",
    "SELECT a.bin, COALESCE(b.total,0) AS total\n",
    "FROM\n",
    "(SELECT '[0-5>'AS bin\n",
    "UNION ALL\n",
    "SELECT '[5-10>'AS bin\n",
    "UNION ALL\n",
    "SELECT '[10-15>'AS bin\n",
    "UNION ALL\n",
    "SELECT '15 or more'AS bin) a\n",
    "LEFT JOIN (SELECT\n",
    "'[0-5>'AS bin, COUNT(*) AS total\n",
    "FROM Sessions\n",
    "WHERE duration < 300\n",
    "GROUP BY 1\n",
    "UNION ALL\n",
    "SELECT\n",
    "'[5-10>'AS bin, COUNT(*) AS total\n",
    "FROM Sessions\n",
    "WHERE duration >= 300 AND duration < 600\n",
    "GROUP BY 1\n",
    "UNION ALL\n",
    "SELECT\n",
    "'[10-15>'AS bin, COUNT(*) AS total\n",
    "FROM Sessions\n",
    "WHERE duration >= 600 AND duration < 900\n",
    "GROUP BY 1\n",
    "UNION ALL\n",
    "SELECT\n",
    "'15 or more'AS bin, COUNT(*) AS total\n",
    "FROM Sessions\n",
    "WHERE duration >= 900\n",
    "GROUP BY 1) b\n",
    "ON a.bin = b.bin\n"
   ]
  },
  {
   "cell_type": "markdown",
   "metadata": {},
   "source": []
  },
  {
   "cell_type": "markdown",
   "metadata": {},
   "source": [
    "**Solution-3:**"
   ]
  },
  {
   "cell_type": "markdown",
   "metadata": {},
   "source": [
    "``` sql\n",
    "# Write your MySQL query statement below\n",
    "SELECT a.bin, COALESCE(b.total,0) AS total\n",
    "FROM\n",
    "(SELECT '[0-5>'AS bin\n",
    "UNION ALL\n",
    "SELECT '[5-10>'AS bin\n",
    "UNION ALL\n",
    "SELECT '[10-15>'AS bin\n",
    "UNION ALL\n",
    "SELECT '15 or more'AS bin) a\n",
    "LEFT JOIN (SELECT\n",
    "CASE\n",
    "WHEN duration < 300 THEN '[0-5>'\n",
    "WHEN duration >= 300 AND duration < 600 THEN '[5-10>'\n",
    "WHEN duration >= 600 AND duration < 900 THEN '[10-15>'\n",
    "ElSE '15 or more'\n",
    "END AS bin, COUNT(*) AS total\n",
    "FROM Sessions\n",
    "GROUP BY 1) b\n",
    "ON a.bin = b.bin\n"
   ]
  }
 ],
 "metadata": {
  "language_info": {
   "name": "python"
  }
 },
 "nbformat": 4,
 "nbformat_minor": 2
}
