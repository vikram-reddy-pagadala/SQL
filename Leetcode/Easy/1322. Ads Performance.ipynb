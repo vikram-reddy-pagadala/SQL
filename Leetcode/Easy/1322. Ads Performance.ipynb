{
 "cells": [
  {
   "cell_type": "markdown",
   "metadata": {},
   "source": [
    "# **1322. Ads Performance**\n",
    "``` console\n",
    "Table: Ads\n",
    "\n",
    "+---------------+---------+\n",
    "| Column Name   | Type    |\n",
    "+---------------+---------+\n",
    "| ad_id         | int     |\n",
    "| user_id       | int     |\n",
    "| action        | enum    |\n",
    "+---------------+---------+\n",
    "(ad_id, user_id) is the primary key (combination of columns with unique values) for this table.\n",
    "Each row of this table contains the ID of an Ad, the ID of a user, and the action taken by this user regarding this Ad.\n",
    "The action column is an ENUM (category) type of ('Clicked', 'Viewed', 'Ignored').\n",
    " \n",
    "\n",
    "A company is running Ads and wants to calculate the performance of each Ad.\n",
    "\n",
    "Performance of the Ad is measured using Click-Through Rate (CTR) where:\n",
    "\n",
    "\n",
    "Write a solution to find the ctr of each Ad. Round ctr to two decimal points.\n",
    "\n",
    "Return the result table ordered by ctr in descending order and by ad_id in ascending order in case of a tie.\n",
    "\n",
    "The result format is in the following example.\n",
    "\n",
    " \n",
    "\n",
    "Example 1:\n",
    "\n",
    "Input: \n",
    "Ads table:\n",
    "+-------+---------+---------+\n",
    "| ad_id | user_id | action  |\n",
    "+-------+---------+---------+\n",
    "| 1     | 1       | Clicked |\n",
    "| 2     | 2       | Clicked |\n",
    "| 3     | 3       | Viewed  |\n",
    "| 5     | 5       | Ignored |\n",
    "| 1     | 7       | Ignored |\n",
    "| 2     | 7       | Viewed  |\n",
    "| 3     | 5       | Clicked |\n",
    "| 1     | 4       | Viewed  |\n",
    "| 2     | 11      | Viewed  |\n",
    "| 1     | 2       | Clicked |\n",
    "+-------+---------+---------+\n",
    "\n",
    "Output: \n",
    "+-------+-------+\n",
    "| ad_id | ctr   |\n",
    "+-------+-------+\n",
    "| 1     | 66.67 |\n",
    "| 3     | 50.00 |\n",
    "| 2     | 33.33 |\n",
    "| 5     | 0.00  |\n",
    "+-------+-------+\n",
    "\n",
    "Explanation: \n",
    "for ad_id = 1, ctr = (2/(2+1)) * 100 = 66.67\n",
    "for ad_id = 2, ctr = (1/(1+2)) * 100 = 33.33\n",
    "for ad_id = 3, ctr = (1/(1+1)) * 100 = 50.00\n",
    "for ad_id = 5, ctr = 0.00, Note that ad_id = 5 has no clicks or views.\n",
    "Note that we do not care about Ignored Ads.\n",
    "```"
   ]
  },
  {
   "cell_type": "markdown",
   "metadata": {},
   "source": [
    "**Solution-1:**"
   ]
  },
  {
   "cell_type": "markdown",
   "metadata": {},
   "source": [
    "``` sql\n",
    "SELECT ad_id,\n",
    "CASE WHEN (SUM(action = 'Clicked') + SUM(action = 'viewed')) = 0 THEN 0.00\n",
    "ELSE\n",
    "ROUND((SUM(action = 'Clicked') * 100 / (SUM(action = 'Clicked') + SUM(action = 'viewed'))),2)\n",
    "END as ctr\n",
    "FROM Ads\n",
    "GROUP BY ad_id\n",
    "ORDER BY ctr DESC,ad_id ASC"
   ]
  }
 ],
 "metadata": {
  "language_info": {
   "name": "python"
  }
 },
 "nbformat": 4,
 "nbformat_minor": 2
}
