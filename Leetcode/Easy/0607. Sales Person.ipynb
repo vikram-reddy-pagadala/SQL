{
 "cells": [
  {
   "cell_type": "markdown",
   "metadata": {},
   "source": [
    "# **607. Sales Person**\n",
    "``` console\n",
    "Table: SalesPerson\n",
    "\n",
    "+-----------------+---------+\n",
    "| Column Name     | Type    |\n",
    "+-----------------+---------+\n",
    "| sales_id        | int     |\n",
    "| name            | varchar |\n",
    "| salary          | int     |\n",
    "| commission_rate | int     |\n",
    "| hire_date       | date    |\n",
    "+-----------------+---------+\n",
    "sales_id is the primary key (column with unique values) for this table.\n",
    "Each row of this table indicates the name and the ID of a salesperson alongside their salary, commission rate, and hire date.\n",
    " \n",
    "\n",
    "Table: Company\n",
    "\n",
    "+-------------+---------+\n",
    "| Column Name | Type    |\n",
    "+-------------+---------+\n",
    "| com_id      | int     |\n",
    "| name        | varchar |\n",
    "| city        | varchar |\n",
    "+-------------+---------+\n",
    "com_id is the primary key (column with unique values) for this table.\n",
    "Each row of this table indicates the name and the ID of a company and the city in which the company is located.\n",
    " \n",
    "\n",
    "Table: Orders\n",
    "\n",
    "+-------------+------+\n",
    "| Column Name | Type |\n",
    "+-------------+------+\n",
    "| order_id    | int  |\n",
    "| order_date  | date |\n",
    "| com_id      | int  |\n",
    "| sales_id    | int  |\n",
    "| amount      | int  |\n",
    "+-------------+------+\n",
    "order_id is the primary key (column with unique values) for this table.\n",
    "com_id is a foreign key (reference column) to com_id from the Company table.\n",
    "sales_id is a foreign key (reference column) to sales_id from the SalesPerson table.\n",
    "Each row of this table contains information about one order. This includes the ID of the company, the ID of the salesperson, the date of the order, and the amount paid.\n",
    " \n",
    "\n",
    "Write a solution to find the names of all the salespersons who did not have any orders related to the company with the name \"RED\".\n",
    "\n",
    "Return the result table in any order.\n",
    "\n",
    "The result format is in the following example.\n",
    "\n",
    " \n",
    "\n",
    "Example 1:\n",
    "\n",
    "Input: \n",
    "SalesPerson table:\n",
    "+----------+------+--------+-----------------+------------+\n",
    "| sales_id | name | salary | commission_rate | hire_date  |\n",
    "+----------+------+--------+-----------------+------------+\n",
    "| 1        | John | 100000 | 6               | 4/1/2006   |\n",
    "| 2        | Amy  | 12000  | 5               | 5/1/2010   |\n",
    "| 3        | Mark | 65000  | 12              | 12/25/2008 |\n",
    "| 4        | Pam  | 25000  | 25              | 1/1/2005   |\n",
    "| 5        | Alex | 5000   | 10              | 2/3/2007   |\n",
    "+----------+------+--------+-----------------+------------+\n",
    "\n",
    "Company table:\n",
    "+--------+--------+----------+\n",
    "| com_id | name   | city     |\n",
    "+--------+--------+----------+\n",
    "| 1      | RED    | Boston   |\n",
    "| 2      | ORANGE | New York |\n",
    "| 3      | YELLOW | Boston   |\n",
    "| 4      | GREEN  | Austin   |\n",
    "+--------+--------+----------+\n",
    "\n",
    "Orders table:\n",
    "+----------+------------+--------+----------+--------+\n",
    "| order_id | order_date | com_id | sales_id | amount |\n",
    "+----------+------------+--------+----------+--------+\n",
    "| 1        | 1/1/2014   | 3      | 4        | 10000  |\n",
    "| 2        | 2/1/2014   | 4      | 5        | 5000   |\n",
    "| 3        | 3/1/2014   | 1      | 1        | 50000  |\n",
    "| 4        | 4/1/2014   | 1      | 4        | 25000  |\n",
    "+----------+------------+--------+----------+--------+\n",
    "\n",
    "Output: \n",
    "+------+\n",
    "| name |\n",
    "+------+\n",
    "| Amy  |\n",
    "| Mark |\n",
    "| Alex |\n",
    "+------+\n",
    "\n",
    "Explanation: \n",
    "According to orders 3 and 4 in the Orders table, it is easy to tell that only salesperson John and Pam have sales to company RED, so we report all the other names in the table salesperson.\n",
    "```"
   ]
  },
  {
   "cell_type": "markdown",
   "metadata": {},
   "source": [
    "**Solutions:**"
   ]
  },
  {
   "cell_type": "code",
   "execution_count": null,
   "metadata": {
    "vscode": {
     "languageId": "sql"
    }
   },
   "outputs": [],
   "source": [
    "SELECT name \n",
    "FROM SalesPerson\n",
    "WHERE sales_id NOT IN( SELECT sales_id \n",
    "FROM Orders o \n",
    "JOIN Company c \n",
    "ON c.com_id = o.com_id AND c.name = 'RED'\n",
    ")"
   ]
  },
  {
   "cell_type": "code",
   "execution_count": null,
   "metadata": {
    "vscode": {
     "languageId": "sql"
    }
   },
   "outputs": [],
   "source": []
  }
 ],
 "metadata": {
  "language_info": {
   "name": "python"
  }
 },
 "nbformat": 4,
 "nbformat_minor": 2
}
