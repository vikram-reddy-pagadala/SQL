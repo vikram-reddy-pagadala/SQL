{
 "cells": [
  {
   "cell_type": "markdown",
   "metadata": {},
   "source": [
    "# **1809. Ad-Free Sessions**\n",
    "``` console\n",
    "Table: Playback\n",
    "\n",
    "+-------------+------+\n",
    "| Column Name | Type |\n",
    "+-------------+------+\n",
    "| session_id  | int  |\n",
    "| customer_id | int  |\n",
    "| start_time  | int  |\n",
    "| end_time    | int  |\n",
    "+-------------+------+\n",
    "session_id is the column with unique values for this table.\n",
    "customer_id is the ID of the customer watching this session.\n",
    "The session runs during the inclusive interval between start_time and end_time.\n",
    "It is guaranteed that start_time <= end_time and that two sessions for the same customer do not intersect.\n",
    " \n",
    "\n",
    "Table: Ads\n",
    "\n",
    "+-------------+------+\n",
    "| Column Name | Type |\n",
    "+-------------+------+\n",
    "| ad_id       | int  |\n",
    "| customer_id | int  |\n",
    "| timestamp   | int  |\n",
    "+-------------+------+\n",
    "ad_id is the column with unique values for this table.\n",
    "customer_id is the ID of the customer viewing this ad.\n",
    "timestamp is the moment of time at which the ad was shown.\n",
    " \n",
    "\n",
    "Write a solution to report all the sessions that did not get shown any ads.\n",
    "\n",
    "Return the result table in any order.\n",
    "\n",
    "The result format is in the following example.\n",
    "\n",
    " \n",
    "\n",
    "Example 1:\n",
    "\n",
    "Input: \n",
    "Playback table:\n",
    "+------------+-------------+------------+----------+\n",
    "| session_id | customer_id | start_time | end_time |\n",
    "+------------+-------------+------------+----------+\n",
    "| 1          | 1           | 1          | 5        |\n",
    "| 2          | 1           | 15         | 23       |\n",
    "| 3          | 2           | 10         | 12       |\n",
    "| 4          | 2           | 17         | 28       |\n",
    "| 5          | 2           | 2          | 8        |\n",
    "+------------+-------------+------------+----------+\n",
    "\n",
    "Ads table:\n",
    "+-------+-------------+-----------+\n",
    "| ad_id | customer_id | timestamp |\n",
    "+-------+-------------+-----------+\n",
    "| 1     | 1           | 5         |\n",
    "| 2     | 2           | 17        |\n",
    "| 3     | 2           | 20        |\n",
    "+-------+-------------+-----------+\n",
    "\n",
    "Output: \n",
    "+------------+\n",
    "| session_id |\n",
    "+------------+\n",
    "| 2          |\n",
    "| 3          |\n",
    "| 5          |\n",
    "+------------+\n",
    "\n",
    "Explanation: \n",
    "The ad with ID 1 was shown to user 1 at time 5 while they were in session 1.\n",
    "The ad with ID 2 was shown to user 2 at time 17 while they were in session 4.\n",
    "The ad with ID 3 was shown to user 2 at time 20 while they were in session 4.\n",
    "We can see that sessions 1 and 4 had at least one ad. Sessions 2, 3, and 5 did not have any ads, so we return them.\n",
    "```"
   ]
  },
  {
   "cell_type": "markdown",
   "metadata": {},
   "source": [
    "**Solution-1:**"
   ]
  },
  {
   "cell_type": "markdown",
   "metadata": {},
   "source": [
    "``` sql\n",
    "# Write your MySQL query statement below\n",
    "\n",
    "SELECT session_id\n",
    "FROM playback \n",
    "WHERE session_id NOT IN\n",
    "(SELECT DISTINCT session_id\n",
    "FROM Playback p\n",
    "JOIN ads a\n",
    "ON p.customer_id = a.customer_id AND (start_time <= timestamp and end_time >= timestamp))"
   ]
  },
  {
   "cell_type": "markdown",
   "metadata": {},
   "source": []
  },
  {
   "cell_type": "markdown",
   "metadata": {},
   "source": [
    "**Solution-2:**"
   ]
  },
  {
   "cell_type": "markdown",
   "metadata": {},
   "source": [
    "``` sql\n",
    "# Write your MySQL query statement below\n",
    "\n",
    "SELECT session_id\n",
    "FROM Playback p\n",
    "LEFT JOIN ads a\n",
    "ON p.customer_id = a.customer_id AND (start_time <= timestamp and end_time >= timestamp)\n",
    "WHERE a.customer_id is null"
   ]
  }
 ],
 "metadata": {
  "language_info": {
   "name": "python"
  }
 },
 "nbformat": 4,
 "nbformat_minor": 2
}
