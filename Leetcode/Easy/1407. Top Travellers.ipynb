{
 "cells": [
  {
   "cell_type": "markdown",
   "metadata": {},
   "source": [
    "# **1407. Top Travellers**\n",
    "``` console\n",
    "Table: Users\n",
    "\n",
    "+---------------+---------+\n",
    "| Column Name   | Type    |\n",
    "+---------------+---------+\n",
    "| id            | int     |\n",
    "| name          | varchar |\n",
    "+---------------+---------+\n",
    "id is the column with unique values for this table.\n",
    "name is the name of the user.\n",
    " \n",
    "\n",
    "Table: Rides\n",
    "\n",
    "+---------------+---------+\n",
    "| Column Name   | Type    |\n",
    "+---------------+---------+\n",
    "| id            | int     |\n",
    "| user_id       | int     |\n",
    "| distance      | int     |\n",
    "+---------------+---------+\n",
    "id is the column with unique values for this table.\n",
    "user_id is the id of the user who traveled the distance \"distance\".\n",
    " \n",
    "\n",
    "Write a solution to report the distance traveled by each user.\n",
    "\n",
    "Return the result table ordered by travelled_distance in descending order, if two or more users traveled the same distance, order them by their name in ascending order.\n",
    "\n",
    "The result format is in the following example.\n",
    "\n",
    " \n",
    "\n",
    "Example 1:\n",
    "\n",
    "Input: \n",
    "Users table:\n",
    "+------+-----------+\n",
    "| id   | name      |\n",
    "+------+-----------+\n",
    "| 1    | Alice     |\n",
    "| 2    | Bob       |\n",
    "| 3    | Alex      |\n",
    "| 4    | Donald    |\n",
    "| 7    | Lee       |\n",
    "| 13   | Jonathan  |\n",
    "| 19   | Elvis     |\n",
    "+------+-----------+\n",
    "\n",
    "Rides table:\n",
    "+------+----------+----------+\n",
    "| id   | user_id  | distance |\n",
    "+------+----------+----------+\n",
    "| 1    | 1        | 120      |\n",
    "| 2    | 2        | 317      |\n",
    "| 3    | 3        | 222      |\n",
    "| 4    | 7        | 100      |\n",
    "| 5    | 13       | 312      |\n",
    "| 6    | 19       | 50       |\n",
    "| 7    | 7        | 120      |\n",
    "| 8    | 19       | 400      |\n",
    "| 9    | 7        | 230      |\n",
    "+------+----------+----------+\n",
    "\n",
    "Output: \n",
    "+----------+--------------------+\n",
    "| name     | travelled_distance |\n",
    "+----------+--------------------+\n",
    "| Elvis    | 450                |\n",
    "| Lee      | 450                |\n",
    "| Bob      | 317                |\n",
    "| Jonathan | 312                |\n",
    "| Alex     | 222                |\n",
    "| Alice    | 120                |\n",
    "| Donald   | 0                  |\n",
    "+----------+--------------------+\n",
    "\n",
    "Explanation: \n",
    "Elvis and Lee traveled 450 miles, Elvis is the top traveler as his name is alphabetically smaller than Lee.\n",
    "Bob, Jonathan, Alex, and Alice have only one ride and we just order them by the total distances of the ride.\n",
    "Donald did not have any rides, the distance traveled by him is 0.\n",
    "```"
   ]
  },
  {
   "cell_type": "markdown",
   "metadata": {},
   "source": [
    "**Solutions:**"
   ]
  },
  {
   "cell_type": "code",
   "execution_count": null,
   "metadata": {
    "vscode": {
     "languageId": "sql"
    }
   },
   "outputs": [],
   "source": [
    "SELECT name, COALESCE(SUM(distance),0) AS travelled_distance\n",
    "FROM Users u\n",
    "LEFT JOIN Rides r\n",
    "ON r.user_id = u.id\n",
    "GROUP BY u.id, name\n",
    "ORDER BY travelled_distance DESC, name"
   ]
  },
  {
   "cell_type": "code",
   "execution_count": null,
   "metadata": {
    "vscode": {
     "languageId": "sql"
    }
   },
   "outputs": [],
   "source": [
    "select name, sum(\n",
    "    case when distance is null then 0\n",
    "    else distance\n",
    "    end\n",
    ") travelled_distance from users\n",
    "left join rides on rides.user_id=users.id \n",
    "group by user_id, name\n",
    "order by travelled_distance desc,name asc;"
   ]
  }
 ],
 "metadata": {
  "language_info": {
   "name": "python"
  }
 },
 "nbformat": 4,
 "nbformat_minor": 2
}
