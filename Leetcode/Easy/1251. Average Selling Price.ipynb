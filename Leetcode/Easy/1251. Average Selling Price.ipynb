{
 "cells": [
  {
   "cell_type": "markdown",
   "metadata": {},
   "source": [
    "# **1251. Average Selling Price**\n",
    "\n",
    "**Table: Prices**\n",
    "``` sql\n",
    "+---------------+---------+\n",
    "| Column Name   | Type    |\n",
    "+---------------+---------+\n",
    "| product_id    | int     |\n",
    "| start_date    | date    |\n",
    "| end_date      | date    |\n",
    "| price         | int     |\n",
    "+---------------+---------+\n",
    "```\n",
    "(product_id, start_date, end_date) is the primary key (combination of columns with unique values) for this table.\n",
    "\n",
    "Each row of this table indicates the price of the product_id in the period from start_date to end_date.\n",
    "\n",
    "For each product_id there will be no two overlapping periods. That means there will be no two intersecting periods for the same product_id.\n",
    " \n",
    "\n",
    "**Table: UnitsSold**\n",
    "``` sql\n",
    "+---------------+---------+\n",
    "| Column Name   | Type    |\n",
    "+---------------+---------+\n",
    "| product_id    | int     |\n",
    "| purchase_date | date    |\n",
    "| units         | int     |\n",
    "+---------------+---------+\n",
    "```\n",
    "This table may contain duplicate rows.\n",
    "\n",
    "Each row of this table indicates the date, units, and product_id of each product sold. \n",
    " \n",
    "\n",
    "Write a solution to find the average selling price for each product. average_price should be rounded to 2 decimal places. \n",
    "\n",
    "If a product does not have any sold units, its average selling price is assumed to be 0.\n",
    "\n",
    "Return the result table in any order.\n",
    "\n",
    "The result format is in the following example.\n",
    "\n",
    " \n",
    "\n",
    "**Example 1:**\n",
    "\n",
    "**Input:** \n",
    "**Prices table:**\n",
    "``` sql\n",
    "+------------+------------+------------+--------+\n",
    "| product_id | start_date | end_date   | price  |\n",
    "+------------+------------+------------+--------+\n",
    "| 1          | 2019-02-17 | 2019-02-28 | 5      |\n",
    "| 1          | 2019-03-01 | 2019-03-22 | 20     |\n",
    "| 2          | 2019-02-01 | 2019-02-20 | 15     |\n",
    "| 2          | 2019-02-21 | 2019-03-31 | 30     |\n",
    "+------------+------------+------------+--------+\n",
    "```\n",
    "**UnitsSold table:**\n",
    "``` sql\n",
    "+------------+---------------+-------+\n",
    "| product_id | purchase_date | units |\n",
    "+------------+---------------+-------+\n",
    "| 1          | 2019-02-25    | 100   |\n",
    "| 1          | 2019-03-01    | 15    |\n",
    "| 2          | 2019-02-10    | 200   |\n",
    "| 2          | 2019-03-22    | 30    |\n",
    "+------------+---------------+-------+\n",
    "```\n",
    "**Output:**\n",
    "``` sql \n",
    "+------------+---------------+\n",
    "| product_id | average_price |\n",
    "+------------+---------------+\n",
    "| 1          | 6.96          |\n",
    "| 2          | 16.96         |\n",
    "+------------+---------------+\n",
    "```\n",
    "**Explanation:**\n",
    "\n",
    "Average selling price = Total Price of Product / Number of products sold.\n",
    "\n",
    "Average selling price for product 1 = ((100 * 5) + (15 * 20)) / 115 = 6.96\n",
    "\n",
    "Average selling price for product 2 = ((200 * 15) + (30 * 30)) / 230 = 16.96\n"
   ]
  },
  {
   "cell_type": "markdown",
   "metadata": {},
   "source": [
    "**Solution-1**"
   ]
  },
  {
   "cell_type": "markdown",
   "metadata": {
    "vscode": {
     "languageId": "sql"
    }
   },
   "source": [
    "``` sql\n",
    "SELECT p.product_id, \n",
    "ROUND(COALESCE((SUM(p.price * u.units) / SUM(u.units)),0),2) AS average_price\n",
    "FROM Prices p\n",
    "LEFT JOIN UnitsSold u\n",
    "ON p.product_id = u.product_id AND (u.purchase_date BETWEEN p.start_date AND p.end_date)\n",
    "GROUP BY p.product_id"
   ]
  },
  {
   "cell_type": "markdown",
   "metadata": {},
   "source": [
    "**Solution-2**"
   ]
  },
  {
   "cell_type": "markdown",
   "metadata": {
    "vscode": {
     "languageId": "sql"
    }
   },
   "source": [
    "``` sql\n",
    "SELECT \n",
    "    DISTINCT(p.product_id),\n",
    "    IFNULL(ROUND(SUM(p.price * u.units) OVER w / SUM(u.units) OVER w, 2), 0) AS average_price\n",
    "FROM  prices p \n",
    "LEFT JOIN unitssold u \n",
    "    ON p.product_id = u.product_id \n",
    "    AND u.purchase_date BETWEEN p.start_date AND p.end_date\n",
    "WINDOW w AS (PARTITION BY p.product_id);"
   ]
  }
 ],
 "metadata": {
  "language_info": {
   "name": "python"
  }
 },
 "nbformat": 4,
 "nbformat_minor": 2
}
