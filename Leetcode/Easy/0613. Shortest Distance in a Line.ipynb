{
 "cells": [
  {
   "cell_type": "markdown",
   "metadata": {},
   "source": [
    "# **613. Shortest Distance in a Line**\n",
    "\n",
    "**Table: Point**\n",
    "``` console\n",
    "+-------------+------+\n",
    "| Column Name | Type |\n",
    "+-------------+------+\n",
    "| x           | int  |\n",
    "+-------------+------+\n",
    "```\n",
    "\n",
    "In SQL, x is the primary key column for this table.\n",
    "Each row of this table indicates the position of a point on the X-axis.\n",
    "\n",
    "Find the shortest distance between any two points from the Point table.\n",
    "\n",
    "The result format is in the following example.\n",
    "\n",
    "**Example 1:**\n",
    "\n",
    "Input: \n",
    "**Point table:**\n",
    "``` console\n",
    "+----+\n",
    "| x  |\n",
    "+----+\n",
    "| -1 |\n",
    "| 0  |\n",
    "| 2  |\n",
    "+----+\n",
    "```\n",
    "\n",
    "**Output:**\n",
    "``` console\n",
    "+----------+\n",
    "| shortest |\n",
    "+----------+\n",
    "| 1        |\n",
    "+----------+\n",
    "```\n",
    "\n",
    "**Explanation:** The shortest distance is between points -1 and 0 which is |(-1) - 0| = 1.\n",
    " \n",
    "\n",
    "Follow up: How could you optimize your solution if the Point table is ordered in ascending order?"
   ]
  },
  {
   "cell_type": "markdown",
   "metadata": {},
   "source": [
    "**Solution 1:**"
   ]
  },
  {
   "cell_type": "markdown",
   "metadata": {
    "vscode": {
     "languageId": "sql"
    }
   },
   "source": [
    "``` sql\n",
    "SELECT MIN(ABS(p1.x - p2.x)) AS shortest\n",
    "FROM point p1, point p2\n",
    "WHERE p1.x < p2.x"
   ]
  },
  {
   "cell_type": "markdown",
   "metadata": {},
   "source": [
    "**Solution 2:**"
   ]
  },
  {
   "cell_type": "markdown",
   "metadata": {
    "vscode": {
     "languageId": "sql"
    }
   },
   "source": [
    "``` sql\n",
    "SELECT MIN(p1.x - p2.x)AS shortest\n",
    "FROM point p1, point p2\n",
    "WHERE p1.x > p2.x"
   ]
  }
 ],
 "metadata": {
  "language_info": {
   "name": "python"
  }
 },
 "nbformat": 4,
 "nbformat_minor": 2
}
