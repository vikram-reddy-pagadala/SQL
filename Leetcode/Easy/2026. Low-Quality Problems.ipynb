{
 "cells": [
  {
   "cell_type": "markdown",
   "metadata": {},
   "source": [
    "# **2026. Low-Quality Problems**\n",
    "\n",
    "**Table: Problems**\n",
    "``` console\n",
    "+-------------+------+\n",
    "| Column Name | Type |\n",
    "+-------------+------+\n",
    "| problem_id  | int  |\n",
    "| likes       | int  |\n",
    "| dislikes    | int  |\n",
    "+-------------+------+\n",
    "```\n",
    "In SQL, problem_id is the primary key column for this table.\n",
    "Each row of this table indicates the number of likes and dislikes for a LeetCode problem.\n",
    " \n",
    "\n",
    "Find the IDs of the low-quality problems. A LeetCode problem is low-quality if the like percentage of the problem (number of likes divided by the total number of votes) is strictly less than 60%.\n",
    "\n",
    "Return the result table ordered by problem_id in ascending order.\n",
    "\n",
    "The result format is in the following example.\n",
    "\n",
    " \n",
    "\n",
    "**Example 1:**\n",
    "\n",
    "**Input:** \n",
    "**Problems table:**\n",
    "``` console\n",
    "+------------+-------+----------+\n",
    "| problem_id | likes | dislikes |\n",
    "+------------+-------+----------+\n",
    "| 6          | 1290  | 425      |\n",
    "| 11         | 2677  | 8659     |\n",
    "| 1          | 4446  | 2760     |\n",
    "| 7          | 8569  | 6086     |\n",
    "| 13         | 2050  | 4164     |\n",
    "| 10         | 9002  | 7446     |\n",
    "+------------+-------+----------+\n",
    "```\n",
    "**Output:**\n",
    "``` console\n",
    "+------------+\n",
    "| problem_id |\n",
    "+------------+\n",
    "| 7          |\n",
    "| 10         |\n",
    "| 11         |\n",
    "| 13         |\n",
    "+------------+\n",
    "```\n",
    "**Explanation:** \n",
    "- The like percentages are as follows:\n",
    "- Problem 1: (4446 / (4446 + 2760)) * 100 = 61.69858%\n",
    "- Problem 6: (1290 / (1290 + 425)) * 100 = 75.21866%\n",
    "- Problem 7: (8569 / (8569 + 6086)) * 100 = 58.47151%\n",
    "- Problem 10: (9002 / (9002 + 7446)) * 100 = 54.73006%\n",
    "- Problem 11: (2677 / (2677 + 8659)) * 100 = 23.61503%\n",
    "- Problem 13: (2050 / (2050 + 4164)) * 100 = 32.99002%\n",
    "Problems 7, 10, 11, and 13 are low-quality problems because their like percentages are less than 60%.\n"
   ]
  },
  {
   "cell_type": "markdown",
   "metadata": {
    "vscode": {
     "languageId": "makefile"
    }
   },
   "source": [
    "**Solution-1:**"
   ]
  },
  {
   "cell_type": "markdown",
   "metadata": {},
   "source": [
    "``` sql\n",
    "# Write your MySQL query statement below\n",
    "\n",
    "SELECT Problem_id\n",
    "FROM Problems\n",
    "WHERE (likes * 100 /(likes+dislikes)) < 60\n",
    "ORDER BY problem_id"
   ]
  },
  {
   "cell_type": "markdown",
   "metadata": {},
   "source": [
    "**Solution-2:**"
   ]
  },
  {
   "cell_type": "markdown",
   "metadata": {},
   "source": [
    "``` sql\n",
    "# Write your MySQL query statement below\n",
    "\n",
    "SELECT problem_id\n",
    "FROM\n",
    "(SELECT Problem_id, ROUND((likes * 100 /(likes+dislikes)),5) as percentage\n",
    "FROM Problems) a\n",
    "WHERE percentage < 60\n",
    "ORDER BY problem_id"
   ]
  }
 ],
 "metadata": {
  "language_info": {
   "name": "python"
  }
 },
 "nbformat": 4,
 "nbformat_minor": 2
}
