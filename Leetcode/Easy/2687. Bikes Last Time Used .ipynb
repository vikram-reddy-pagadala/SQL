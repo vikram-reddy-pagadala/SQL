{
 "cells": [
  {
   "cell_type": "markdown",
   "metadata": {},
   "source": [
    "# **2687. Bikes Last Time Used** \n",
    "\n",
    "**Table: Bikes**\n",
    "``` console\n",
    "+-------------+----------+ \n",
    "| Column Name | Type     | \n",
    "+-------------+----------+ \n",
    "| ride_id     | int      | \n",
    "| bike_number | int      | \n",
    "| start_time  | datetime |\n",
    "| end_time    | datetime |\n",
    "+-------------+----------+\n",
    "```\n",
    "ride_id column contains unique values.\n",
    "\n",
    "Each row contains a ride information that includes ride_id, bike number, start and end time of the ride.\n",
    "\n",
    "It is guaranteed that start_time and end_time are valid datetime values.\n",
    "\n",
    "Write a solution to find the last time when each bike was used.\n",
    "\n",
    "Return the result table ordered by the bikes that were most recently used. \n",
    "\n",
    "The result format is in the following example.\n",
    "\n",
    " \n",
    "\n",
    "**Example 1:**\n",
    "\n",
    "**Input:**\n",
    "**Bikes table:**\n",
    "``` console\n",
    "+---------+-------------+---------------------+---------------------+ \n",
    "| ride_id | bike_number | start_time          | end_time            |  \n",
    "+---------+-------------+---------------------+---------------------+\n",
    "| 1       | W00576      | 2012-03-25 11:30:00 | 2012-03-25 12:40:00 |\n",
    "| 2       | W00300      | 2012-03-25 10:30:00 | 2012-03-25 10:50:00 |\n",
    "| 3       | W00455      | 2012-03-26 14:30:00 | 2012-03-26 17:40:00 |\n",
    "| 4       | W00455      | 2012-03-25 12:30:00 | 2012-03-25 13:40:00 |\n",
    "| 5       | W00576      | 2012-03-25 08:10:00 | 2012-03-25 09:10:00 |\n",
    "| 6       | W00576      | 2012-03-28 02:30:00 | 2012-03-28 02:50:00 |\n",
    "+---------+-------------+---------------------+---------------------+ \n",
    "```\n",
    "**Output:**\n",
    "``` console\n",
    "+-------------+---------------------+ \n",
    "| bike_number | end_time            |  \n",
    "+-------------+---------------------+\n",
    "| W00576      | 2012-03-28 02:50:00 |\n",
    "| W00455      | 2012-03-26 17:40:00 |\n",
    "| W00300      | 2012-03-25 10:50:00 |\n",
    "+-------------+---------------------+ \n",
    "```\n",
    "**Explanation:**\n",
    "\n",
    "- bike with number W00576 has three rides, out of that, most recent ride is with ride_id 6 which ended on 2012-03-28 02:50:00.\n",
    "- bike with number W00300 has only 1 ride so we will include end_time in output directly. \n",
    "- bike with number W00455 has two rides, out of that, most recent ride is with ride_id 3 which ended on 2012-03-26 17:40:00. \n",
    "- Returning output in order by the bike that were most recently used."
   ]
  },
  {
   "cell_type": "markdown",
   "metadata": {},
   "source": [
    "**Solution-1:**"
   ]
  },
  {
   "cell_type": "markdown",
   "metadata": {},
   "source": [
    "``` sql\n",
    "# Write your MySQL query statement below\n",
    "\n",
    "SELECT bike_number, MAX(end_time) AS end_time\n",
    "FROM Bikes\n",
    "GROUP BY bike_number\n",
    "ORDER BY end_time DESC"
   ]
  }
 ],
 "metadata": {
  "language_info": {
   "name": "python"
  }
 },
 "nbformat": 4,
 "nbformat_minor": 2
}
