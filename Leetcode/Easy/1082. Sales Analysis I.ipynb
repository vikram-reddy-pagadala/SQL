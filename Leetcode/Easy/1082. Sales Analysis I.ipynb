{
 "cells": [
  {
   "cell_type": "markdown",
   "metadata": {},
   "source": [
    "# **1082. Sales Analysis I**\n",
    "\n",
    "**Table: Product**\n",
    "``` console\n",
    "+--------------+---------+\n",
    "| Column Name  | Type    |\n",
    "+--------------+---------+\n",
    "| product_id   | int     |\n",
    "| product_name | varchar |\n",
    "| unit_price   | int     |\n",
    "+--------------+---------+\n",
    "```\n",
    "product_id is the primary key (column with unique values) of this table.\n",
    "Each row of this table indicates the name and the price of each product.\n",
    "**Table: Sales**\n",
    "``` console\n",
    "+-------------+---------+\n",
    "| Column Name | Type    |\n",
    "+-------------+---------+\n",
    "| seller_id   | int     |\n",
    "| product_id  | int     |\n",
    "| buyer_id    | int     |\n",
    "| sale_date   | date    |\n",
    "| quantity    | int     |\n",
    "| price       | int     |\n",
    "+-------------+---------+\n",
    "```\n",
    "\n",
    "This table can have repeated rows.\n",
    "product_id is a foreign key (reference column) to the Product table.\n",
    "Each row of this table contains some information about one sale.\n",
    "\n",
    "Write a solution that reports the best seller by total sales price, If there is a tie, report them all.\n",
    "\n",
    "Return the result table in any order.\n",
    "\n",
    "The result format is in the following example\n",
    "\n",
    "**Example 1:**\n",
    "\n",
    "**Input:** \n",
    "**Product table:**\n",
    "``` console\n",
    "+------------+--------------+------------+\n",
    "| product_id | product_name | unit_price |\n",
    "+------------+--------------+------------+\n",
    "| 1          | S8           | 1000       |\n",
    "| 2          | G4           | 800        |\n",
    "| 3          | iPhone       | 1400       |\n",
    "+------------+--------------+------------+\n",
    "```\n",
    "**Sales table:**\n",
    "``` console\n",
    "+-----------+------------+----------+------------+----------+-------+\n",
    "| seller_id | product_id | buyer_id | sale_date  | quantity | price |\n",
    "+-----------+------------+----------+------------+----------+-------+\n",
    "| 1         | 1          | 1        | 2019-01-21 | 2        | 2000  |\n",
    "| 1         | 2          | 2        | 2019-02-17 | 1        | 800   |\n",
    "| 2         | 2          | 3        | 2019-06-02 | 1        | 800   |\n",
    "| 3         | 3          | 4        | 2019-05-13 | 2        | 2800  |\n",
    "+-----------+------------+----------+------------+----------+-------+\n",
    "```\n",
    "**Output:**\n",
    "``` console\n",
    "+-------------+\n",
    "| seller_id   |\n",
    "+-------------+\n",
    "| 1           |\n",
    "| 3           |\n",
    "+-------------+\n",
    "```\n",
    "**Explanation:** Both sellers with id 1 and 3 sold products with the most total price of 2800."
   ]
  },
  {
   "cell_type": "markdown",
   "metadata": {},
   "source": [
    "**Solution 1:**"
   ]
  },
  {
   "cell_type": "code",
   "execution_count": null,
   "metadata": {
    "vscode": {
     "languageId": "sql"
    }
   },
   "outputs": [],
   "source": [
    "SELECT seller_id\n",
    "FROM sales\n",
    "GROUP BY seller_id\n",
    "HAVING SUM(price) = (\n",
    "                    SELECT sum(price) as summation\n",
    "                    FROM Sales\n",
    "                    GROUP BY seller_id\n",
    "                    ORDER BY summation DESC\n",
    "                    LIMIT 1\n",
    "                    )"
   ]
  },
  {
   "cell_type": "markdown",
   "metadata": {},
   "source": [
    "**Solution 2:**"
   ]
  },
  {
   "cell_type": "code",
   "execution_count": null,
   "metadata": {
    "vscode": {
     "languageId": "sql"
    }
   },
   "outputs": [],
   "source": [
    "# Write your MySQL query statement below\n",
    "  WITH cte AS\n",
    "  ( SELECT \n",
    "            seller_id, \n",
    "            DENSE_RANK() OVER(ORDER BY SUM(price)DESC) AS rnk\n",
    "    FROM Sales\n",
    "    GROUP BY seller_id\n",
    "  )\n",
    "  SELECT seller_id\n",
    "  FROM cte\n",
    "  WHERE rnk = 1\n",
    "\n",
    "\n"
   ]
  },
  {
   "cell_type": "markdown",
   "metadata": {},
   "source": [
    "**Solution 3:**"
   ]
  },
  {
   "cell_type": "code",
   "execution_count": null,
   "metadata": {
    "vscode": {
     "languageId": "sql"
    }
   },
   "outputs": [],
   "source": [
    "SELECT seller_id\n",
    "FROM sales\n",
    "GROUP BY seller_id\n",
    "HAVING sum(price) >= all(SELECT SUM(price) AS total_sales FROM sales GROUP BY seller_id)\n"
   ]
  }
 ],
 "metadata": {
  "language_info": {
   "name": "python"
  }
 },
 "nbformat": 4,
 "nbformat_minor": 2
}
