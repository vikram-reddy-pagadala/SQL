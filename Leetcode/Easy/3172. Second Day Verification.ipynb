{
 "cells": [
  {
   "cell_type": "markdown",
   "metadata": {
    "vscode": {
     "languageId": "plaintext"
    }
   },
   "source": [
    "# **3172. Second Day Verification**\n",
    "\n",
    "**Table: emails**\n",
    "``` console\n",
    "+-------------+----------+\n",
    "| Column Name | Type     | \n",
    "+-------------+----------+\n",
    "| email_id    | int      |\n",
    "| user_id     | int      |\n",
    "| signup_date | datetime |\n",
    "+-------------+----------+\n",
    "```\n",
    "(email_id, user_id) is the primary key (combination of columns with unique values) for this table.\n",
    "\n",
    "Each row of this table contains the email ID, user ID, and signup date.\n",
    "**Table: texts**\n",
    "``` console\n",
    "+---------------+----------+\n",
    "| Column Name   | Type     | \n",
    "+---------------+----------+\n",
    "| text_id       | int      |\n",
    "| email_id      | int      |\n",
    "| signup_action | enum     |\n",
    "| action_date   | datetime |\n",
    "+---------------+----------+\n",
    "```\n",
    "(text_id, email_id) is the primary key (combination of columns with unique values) for this table. \n",
    "\n",
    "signup_action is an enum type of ('Verified', 'Not Verified'). \n",
    "\n",
    "Each row of this table contains the text ID, email ID, signup action, and action date.\n",
    "\n",
    "Write a Solution to find the user IDs of those who verified their sign-up on the second day.\n",
    "\n",
    "Return the result table ordered by user_id in ascending order.\n",
    "\n",
    "The result format is in the following example.\n",
    "\n",
    " \n",
    "\n",
    "**Example:**\n",
    "\n",
    "**Input:**\n",
    "\n",
    "**emails table:**\n",
    "``` console\n",
    "+----------+---------+---------------------+\n",
    "| email_id | user_id | signup_date         |\n",
    "+----------+---------+---------------------+\n",
    "| 125      | 7771    | 2022-06-14 09:30:00|\n",
    "| 433      | 1052    | 2022-07-09 08:15:00|\n",
    "| 234      | 7005    | 2022-08-20 10:00:00|\n",
    "+----------+---------+---------------------+\n",
    "```\n",
    "**texts table:**\n",
    "``` console\n",
    "+---------+----------+--------------+---------------------+\n",
    "| text_id | email_id | signup_action| action_date         |\n",
    "+---------+----------+--------------+---------------------+\n",
    "| 1       | 125      | Verified     | 2022-06-15 08:30:00 |\n",
    "| 2       | 433      | Not Verified | 2022-07-10 10:45:00 |\n",
    "| 4       | 234      | Verified     | 2022-08-21 09:30:00 |\n",
    "+---------+----------+--------------+---------------------+\n",
    "```\n",
    "**Output:**\n",
    "``` console\n",
    "+---------+\n",
    "| user_id |\n",
    "+---------+\n",
    "| 7005    |\n",
    "| 7771    |\n",
    "+---------+\n",
    "```\n",
    "**Explanation:**\n",
    "\n",
    "- User with user_id 7005 and email_id 234 signed up on 2022-08-20 10:00:00 and verified on second day of the signup.\n",
    "- User with user_id 7771 and email_id 125 signed up on 2022-06-14 09:30:00 and verified on second day of the signup."
   ]
  },
  {
   "cell_type": "markdown",
   "metadata": {},
   "source": [
    "**Solution-1:**"
   ]
  },
  {
   "cell_type": "markdown",
   "metadata": {},
   "source": [
    "``` sql\n",
    "# Write your MySQL query statement below\n",
    "\n",
    "SELECT a.user_id\n",
    "FROM emails a\n",
    "JOIN texts b\n",
    "ON a.email_id = b.email_id AND (date(b.action_date)-date(signup_date)) = 1\n",
    "AND b.signup_action = 'verified' \n",
    "ORDER BY a.user_id ASC"
   ]
  }
 ],
 "metadata": {
  "language_info": {
   "name": "python"
  }
 },
 "nbformat": 4,
 "nbformat_minor": 2
}
