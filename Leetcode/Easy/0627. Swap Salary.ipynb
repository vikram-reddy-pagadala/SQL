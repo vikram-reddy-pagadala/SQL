{
 "cells": [
  {
   "cell_type": "markdown",
   "metadata": {},
   "source": [
    "# **627. Swap Salary**\n",
    "``` console\n",
    "Table: Salary\n",
    "\n",
    "+-------------+----------+\n",
    "| Column Name | Type     |\n",
    "+-------------+----------+\n",
    "| id          | int      |\n",
    "| name        | varchar  |\n",
    "| sex         | ENUM     |\n",
    "| salary      | int      |\n",
    "+-------------+----------+\n",
    "id is the primary key (column with unique values) for this table.\n",
    "The sex column is ENUM (category) value of type ('m', 'f').\n",
    "The table contains information about an employee.\n",
    " \n",
    "\n",
    "Write a solution to swap all 'f' and 'm' values (i.e., change all 'f' values to 'm' and vice versa) with a single update statement and no intermediate temporary tables.\n",
    "\n",
    "Note that you must write a single update statement, do not write any select statement for this problem.\n",
    "\n",
    "The result format is in the following example.\n",
    "\n",
    " \n",
    "\n",
    "Example 1:\n",
    "\n",
    "Input: \n",
    "Salary table:\n",
    "+----+------+-----+--------+\n",
    "| id | name | sex | salary |\n",
    "+----+------+-----+--------+\n",
    "| 1  | A    | m   | 2500   |\n",
    "| 2  | B    | f   | 1500   |\n",
    "| 3  | C    | m   | 5500   |\n",
    "| 4  | D    | f   | 500    |\n",
    "+----+------+-----+--------+\n",
    "\n",
    "Output: \n",
    "+----+------+-----+--------+\n",
    "| id | name | sex | salary |\n",
    "+----+------+-----+--------+\n",
    "| 1  | A    | f   | 2500   |\n",
    "| 2  | B    | m   | 1500   |\n",
    "| 3  | C    | f   | 5500   |\n",
    "| 4  | D    | m   | 500    |\n",
    "+----+------+-----+--------+\n",
    "\n",
    "Explanation: \n",
    "(1, A) and (3, C) were changed from 'm' to 'f'.\n",
    "(2, B) and (4, D) were changed from 'f' to 'm'.\n",
    "```"
   ]
  },
  {
   "cell_type": "markdown",
   "metadata": {},
   "source": [
    "**Solutions:**"
   ]
  },
  {
   "cell_type": "code",
   "execution_count": null,
   "metadata": {
    "vscode": {
     "languageId": "sql"
    }
   },
   "outputs": [],
   "source": [
    "-- Write your MySQL query statement below\n",
    "\n",
    "UPDATE SALARY SET SEX = (CASE WHEN sex = 'm' THEN 'f' ElSE 'm' END)"
   ]
  }
 ],
 "metadata": {
  "language_info": {
   "name": "python"
  }
 },
 "nbformat": 4,
 "nbformat_minor": 2
}
