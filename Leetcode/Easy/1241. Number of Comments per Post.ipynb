{
 "cells": [
  {
   "cell_type": "markdown",
   "metadata": {},
   "source": [
    "# **1241. Number of Comments per Post**\n",
    "``` console\n",
    "Table: Submissions\n",
    "\n",
    "+---------------+----------+\n",
    "| Column Name   | Type     |\n",
    "+---------------+----------+\n",
    "| sub_id        | int      |\n",
    "| parent_id     | int      |\n",
    "+---------------+----------+\n",
    "This table may have duplicate rows.\n",
    "Each row can be a post or comment on the post.\n",
    "parent_id is null for posts.\n",
    "parent_id for comments is sub_id for another post in the table.\n",
    " \n",
    "\n",
    "Write a solution to find the number of comments per post. The result table should contain post_id and its corresponding number_of_comments.\n",
    "\n",
    "The Submissions table may contain duplicate comments. You should count the number of unique comments per post.\n",
    "\n",
    "The Submissions table may contain duplicate posts. You should treat them as one post.\n",
    "\n",
    "The result table should be ordered by post_id in ascending order.\n",
    "\n",
    "The result format is in the following example.\n",
    "\n",
    " \n",
    "\n",
    "Example 1:\n",
    "\n",
    "Input: \n",
    "Submissions table:\n",
    "+---------+------------+\n",
    "| sub_id  | parent_id  |\n",
    "+---------+------------+\n",
    "| 1       | Null       |\n",
    "| 2       | Null       |\n",
    "| 1       | Null       |\n",
    "| 12      | Null       |\n",
    "| 3       | 1          |\n",
    "| 5       | 2          |\n",
    "| 3       | 1          |\n",
    "| 4       | 1          |\n",
    "| 9       | 1          |\n",
    "| 10      | 2          |\n",
    "| 6       | 7          |\n",
    "+---------+------------+\n",
    "\n",
    "Output: \n",
    "+---------+--------------------+\n",
    "| post_id | number_of_comments |\n",
    "+---------+--------------------+\n",
    "| 1       | 3                  |\n",
    "| 2       | 2                  |\n",
    "| 12      | 0                  |\n",
    "+---------+--------------------+\n",
    "\n",
    "Explanation: \n",
    "The post with id 1 has three comments in the table with id 3, 4, and 9. The comment with id 3 is repeated in the table, we counted it only once.\n",
    "The post with id 2 has two comments in the table with id 5 and 10.\n",
    "The post with id 12 has no comments in the table.\n",
    "The comment with id 6 is a comment on a deleted post with id 7 so we ignored it.\n",
    "\n",
    "```"
   ]
  },
  {
   "cell_type": "markdown",
   "metadata": {},
   "source": [
    "**Solution-1:**"
   ]
  },
  {
   "cell_type": "markdown",
   "metadata": {},
   "source": [
    "``` sql\n",
    "SELECT \n",
    "a.sub_id as post_id, COUNT(DISTINCT b.SUB_ID) as number_of_comments \n",
    "FROM\n",
    "(SELECT DISTINCT sub_id FROM submissions WHERE PARENT_ID IS NULL) a\n",
    "LEFT JOIN submissions b\n",
    "ON b.parent_id =  a.sub_id\n",
    "GROUP BY a.sub_id\n",
    "ORDER BY a.sub_id"
   ]
  },
  {
   "cell_type": "markdown",
   "metadata": {},
   "source": []
  },
  {
   "cell_type": "markdown",
   "metadata": {},
   "source": [
    "**Solution-2:**"
   ]
  },
  {
   "cell_type": "markdown",
   "metadata": {},
   "source": [
    "``` sql\n",
    "# Write your MySQL query statement below\n",
    "SELECT\n",
    "    DISTINCT sub_id post_id,\n",
    "    (\n",
    "        SELECT COUNT(DISTINCT sub_id)\n",
    "        FROM Submissions s2\n",
    "        WHERE s1.sub_id = s2.parent_id\n",
    "    ) number_of_comments\n",
    "FROM Submissions s1\n",
    "WHERE parent_id IS NULL\n",
    "ORDER BY sub_id;"
   ]
  },
  {
   "cell_type": "markdown",
   "metadata": {},
   "source": []
  },
  {
   "cell_type": "markdown",
   "metadata": {},
   "source": [
    "**Solution-3:**"
   ]
  },
  {
   "cell_type": "markdown",
   "metadata": {},
   "source": [
    "``` sql\n",
    "SELECT\n",
    "    S1.sub_id AS post_id,\n",
    "    COUNT(DISTINCT S2.sub_id) AS number_of_comments\n",
    "FROM\n",
    "    Submissions S1\n",
    "LEFT JOIN\n",
    "    Submissions S2\n",
    "ON\n",
    "    S1.sub_id = S2.parent_id\n",
    "WHERE S1.parent_id IS NULL\n",
    "GROUP BY S1.sub_id"
   ]
  }
 ],
 "metadata": {
  "language_info": {
   "name": "python"
  }
 },
 "nbformat": 4,
 "nbformat_minor": 2
}
