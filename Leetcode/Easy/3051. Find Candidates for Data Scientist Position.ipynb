{
 "cells": [
  {
   "cell_type": "markdown",
   "metadata": {},
   "source": [
    "# **3051. Find Candidates for Data Scientist Position**\n",
    "\n",
    "**Table: Candidates**\n",
    "``` console\n",
    "+--------------+---------+ \n",
    "| Column Name  | Type    | \n",
    "+--------------+---------+ \n",
    "| candidate_id | int     | \n",
    "| skill        | varchar |\n",
    "+--------------+---------+\n",
    "```\n",
    "(candidate_id, skill) is the primary key (columns with unique values) for this table.\n",
    "\n",
    "Each row includes candidate_id and skill.\n",
    "\n",
    "Write a query to find the candidates best suited for a Data Scientist position. The candidate must be proficient in Python, Tableau, and PostgreSQL.\n",
    "\n",
    "Return the result table ordered by candidate_id in ascending order.\n",
    "\n",
    "The result format is in the following example.\n",
    "\n",
    " \n",
    "\n",
    "**Example 1:**\n",
    "\n",
    "**Input:** \n",
    "**Candidates table:**\n",
    "``` console\n",
    "+---------------+--------------+\n",
    "| candidate_id  | skill        | \n",
    "+---------------+--------------+\n",
    "| 123           | Python       |\n",
    "| 234           | R            | \n",
    "| 123           | Tableau      | \n",
    "| 123           | PostgreSQL   | \n",
    "| 234           | PowerBI      | \n",
    "| 234           | SQL Server   | \n",
    "| 147           | Python       | \n",
    "| 147           | Tableau      | \n",
    "| 147           | Java         |\n",
    "| 147           | PostgreSQL   |\n",
    "| 256           | Tableau      |\n",
    "| 102           | DataAnalysis |\n",
    "+---------------+--------------+\n",
    "```\n",
    "**Output:** \n",
    "``` console\n",
    "+--------------+\n",
    "| candidate_id |  \n",
    "+--------------+\n",
    "| 123          |  \n",
    "| 147          | \n",
    "+--------------+\n",
    "```\n",
    "**Explanation:**\n",
    "\n",
    "- Candidates 123 and 147 possess the necessary skills in Python, Tableau, and PostgreSQL for the data scientist position.\n",
    "- Candidates 234 and 102 do not possess any of the required skills for this position.\n",
    "- Candidate 256 has proficiency in Tableau but is missing skills in Python and PostgreSQL.\n",
    "The output table is sorted by candidate_id in ascending order."
   ]
  },
  {
   "cell_type": "markdown",
   "metadata": {},
   "source": [
    "**Solution-1:**"
   ]
  },
  {
   "cell_type": "markdown",
   "metadata": {},
   "source": [
    "``` sql\n",
    "# Write your MySQL query statement below\n",
    "\n",
    "SELECT candidate_id\n",
    "FROM Candidates\n",
    "WHERE skill IN ('Python', 'Tableau','PostgreSQL')\n",
    "GROUP BY candidate_id\n",
    "HAVING COUNT(*)=3\n",
    "ORDER BY candidate_id ASC"
   ]
  },
  {
   "cell_type": "markdown",
   "metadata": {},
   "source": [
    "**Solution-2:**"
   ]
  },
  {
   "cell_type": "markdown",
   "metadata": {},
   "source": [
    "``` sql\n",
    "SELECT candidate_id FROM Candidates\n",
    "GROUP BY candidate_id\n",
    "HAVING SUM(skill='Python' OR skill='Tableau' OR skill='PostgreSQL')=3\n",
    "ORDER BY candidate_id;"
   ]
  }
 ],
 "metadata": {
  "language_info": {
   "name": "python"
  }
 },
 "nbformat": 4,
 "nbformat_minor": 2
}
