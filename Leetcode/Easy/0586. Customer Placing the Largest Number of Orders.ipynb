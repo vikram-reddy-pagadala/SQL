{
 "cells": [
  {
   "cell_type": "markdown",
   "metadata": {},
   "source": [
    "# **586. Customer Placing the Largest Number of Orders**\n",
    "``` console\n",
    "Table: Orders\n",
    "\n",
    "+-----------------+----------+\n",
    "| Column Name     | Type     |\n",
    "+-----------------+----------+\n",
    "| order_number    | int      |\n",
    "| customer_number | int      |\n",
    "+-----------------+----------+\n",
    "order_number is the primary key (column with unique values) for this table.\n",
    "This table contains information about the order ID and the customer ID.\n",
    " \n",
    "\n",
    "Write a solution to find the customer_number for the customer who has placed the largest number of orders.\n",
    "\n",
    "The test cases are generated so that exactly one customer will have placed more orders than any other customer.\n",
    "\n",
    "The result format is in the following example.\n",
    "\n",
    " \n",
    "\n",
    "Example 1:\n",
    "\n",
    "Input: \n",
    "Orders table:\n",
    "+--------------+-----------------+\n",
    "| order_number | customer_number |\n",
    "+--------------+-----------------+\n",
    "| 1            | 1               |\n",
    "| 2            | 2               |\n",
    "| 3            | 3               |\n",
    "| 4            | 3               |\n",
    "+--------------+-----------------+\n",
    "\n",
    "Output: \n",
    "+-----------------+\n",
    "| customer_number |\n",
    "+-----------------+\n",
    "| 3               |\n",
    "+-----------------+\n",
    "\n",
    "Explanation: \n",
    "The customer with number 3 has two orders, which is greater than either customer 1 or 2 because each of them only has one order. \n",
    "So the result is customer_number 3.\n",
    " \n",
    "\n",
    "Follow up: What if more than one customer has the largest number of orders, can you find all the customer_number in this case?\n",
    "```"
   ]
  },
  {
   "cell_type": "markdown",
   "metadata": {},
   "source": [
    "**Solutions:**"
   ]
  },
  {
   "cell_type": "markdown",
   "metadata": {
    "vscode": {
     "languageId": "sql"
    }
   },
   "source": [
    "``` sql\n",
    "-- Write your PostgreSQL query statement below\n",
    "SELECT customer_number\n",
    "FROM Orders\n",
    "GROUP BY customer_number\n",
    "ORDER BY COUNT(order_number) DESC\n",
    "LIMIT 1"
   ]
  }
 ],
 "metadata": {
  "language_info": {
   "name": "python"
  }
 },
 "nbformat": 4,
 "nbformat_minor": 2
}
