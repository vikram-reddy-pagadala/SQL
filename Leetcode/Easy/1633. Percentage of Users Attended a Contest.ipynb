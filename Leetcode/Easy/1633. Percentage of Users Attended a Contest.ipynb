{
 "cells": [
  {
   "cell_type": "markdown",
   "metadata": {},
   "source": [
    "# **1633. Percentage of Users Attended a Contest**\n",
    "``` console\n",
    "Table: Users\n",
    "\n",
    "+-------------+---------+\n",
    "| Column Name | Type    |\n",
    "+-------------+---------+\n",
    "| user_id     | int     |\n",
    "| user_name   | varchar |\n",
    "+-------------+---------+\n",
    "user_id is the primary key (column with unique values) for this table.\n",
    "Each row of this table contains the name and the id of a user.\n",
    " \n",
    "\n",
    "Table: Register\n",
    "\n",
    "+-------------+---------+\n",
    "| Column Name | Type    |\n",
    "+-------------+---------+\n",
    "| contest_id  | int     |\n",
    "| user_id     | int     |\n",
    "+-------------+---------+\n",
    "(contest_id, user_id) is the primary key (combination of columns with unique values) for this table.\n",
    "Each row of this table contains the id of a user and the contest they registered into.\n",
    " \n",
    "\n",
    "Write a solution to find the percentage of the users registered in each contest rounded to two decimals.\n",
    "\n",
    "Return the result table ordered by percentage in descending order. In case of a tie, order it by contest_id in ascending order.\n",
    "\n",
    "The result format is in the following example.\n",
    "\n",
    " \n",
    "\n",
    "Example 1:\n",
    "\n",
    "Input: \n",
    "Users table:\n",
    "+---------+-----------+\n",
    "| user_id | user_name |\n",
    "+---------+-----------+\n",
    "| 6       | Alice     |\n",
    "| 2       | Bob       |\n",
    "| 7       | Alex      |\n",
    "+---------+-----------+\n",
    "\n",
    "Register table:\n",
    "+------------+---------+\n",
    "| contest_id | user_id |\n",
    "+------------+---------+\n",
    "| 215        | 6       |\n",
    "| 209        | 2       |\n",
    "| 208        | 2       |\n",
    "| 210        | 6       |\n",
    "| 208        | 6       |\n",
    "| 209        | 7       |\n",
    "| 209        | 6       |\n",
    "| 215        | 7       |\n",
    "| 208        | 7       |\n",
    "| 210        | 2       |\n",
    "| 207        | 2       |\n",
    "| 210        | 7       |\n",
    "+------------+---------+\n",
    "\n",
    "Output: \n",
    "+------------+------------+\n",
    "| contest_id | percentage |\n",
    "+------------+------------+\n",
    "| 208        | 100.0      |\n",
    "| 209        | 100.0      |\n",
    "| 210        | 100.0      |\n",
    "| 215        | 66.67      |\n",
    "| 207        | 33.33      |\n",
    "+------------+------------+\n",
    "\n",
    "Explanation: \n",
    "All the users registered in contests 208, 209, and 210. The percentage is 100% and we sort them in the answer table by contest_id in ascending order.\n",
    "Alice and Alex registered in contest 215 and the percentage is ((2/3) * 100) = 66.67%\n",
    "Bob registered in contest 207 and the percentage is ((1/3) * 100) = 33.33%\n",
    "```"
   ]
  },
  {
   "cell_type": "markdown",
   "metadata": {},
   "source": [
    "**Solutions:**"
   ]
  },
  {
   "cell_type": "code",
   "execution_count": null,
   "metadata": {
    "vscode": {
     "languageId": "sql"
    }
   },
   "outputs": [],
   "source": [
    "SELECT contest_id, ROUND( COUNT(DISTINCT user_id) *100.0 / (SELECT COUNT(*) FROM Users),2) AS percentage\n",
    "FROM Register\n",
    "GROUP BY contest_id\n",
    "ORDER BY percentage DESC,contest_id"
   ]
  }
 ],
 "metadata": {
  "language_info": {
   "name": "python"
  }
 },
 "nbformat": 4,
 "nbformat_minor": 2
}
