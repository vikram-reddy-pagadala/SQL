{
 "cells": [
  {
   "cell_type": "markdown",
   "metadata": {},
   "source": [
    "# **1907. Count Salary Categories**\n",
    "``` console\n",
    "Table: Accounts\n",
    "\n",
    "+-------------+------+\n",
    "| Column Name | Type |\n",
    "+-------------+------+\n",
    "| account_id  | int  |\n",
    "| income      | int  |\n",
    "+-------------+------+\n",
    "account_id is the primary key (column with unique values) for this table.\n",
    "Each row contains information about the monthly income for one bank account.\n",
    " \n",
    "\n",
    "Write a solution to calculate the number of bank accounts for each salary category. The salary categories are:\n",
    "\n",
    "\"Low Salary\": All the salaries strictly less than $20000.\n",
    "\"Average Salary\": All the salaries in the inclusive range [$20000, $50000].\n",
    "\"High Salary\": All the salaries strictly greater than $50000.\n",
    "The result table must contain all three categories. If there are no accounts in a category, return 0.\n",
    "\n",
    "Return the result table in any order.\n",
    "\n",
    "The result format is in the following example.\n",
    "\n",
    " \n",
    "\n",
    "Example 1:\n",
    "\n",
    "Input: \n",
    "Accounts table:\n",
    "+------------+--------+\n",
    "| account_id | income |\n",
    "+------------+--------+\n",
    "| 3          | 108939 |\n",
    "| 2          | 12747  |\n",
    "| 8          | 87709  |\n",
    "| 6          | 91796  |\n",
    "+------------+--------+\n",
    "\n",
    "Output: \n",
    "+----------------+----------------+\n",
    "| category       | accounts_count |\n",
    "+----------------+----------------+\n",
    "| Low Salary     | 1              |\n",
    "| Average Salary | 0              |\n",
    "| High Salary    | 3              |\n",
    "+----------------+----------------+\n",
    "\n",
    "Explanation: \n",
    "Low Salary: Account 2.\n",
    "Average Salary: No accounts.\n",
    "High Salary: Accounts 3, 6, and 8.\n",
    "```"
   ]
  },
  {
   "cell_type": "markdown",
   "metadata": {},
   "source": [
    "**Solutions:**"
   ]
  },
  {
   "cell_type": "code",
   "execution_count": null,
   "metadata": {
    "vscode": {
     "languageId": "sql"
    }
   },
   "outputs": [],
   "source": [
    "SELECT 'High Salary' AS category, SUM( CASE WHEN income >50000 THEN 1 ELSE 0 END ) AS accounts_count\n",
    "FROM Accounts\n",
    "\n",
    "UNION \n",
    "\n",
    "SELECT 'Average Salary' AS category, SUM( CASE WHEN income BETWEEN 20000 AND 50000 THEN 1 ELSE 0 END ) AS accounts_count\n",
    "FROM Accounts\n",
    "\n",
    "UNION\n",
    "\n",
    "SELECT 'Low Salary' AS category, SUM( CASE WHEN income <20000 THEN 1 ELSE 0 END ) AS accounts_count\n",
    "FROM Accounts;\n"
   ]
  },
  {
   "cell_type": "code",
   "execution_count": null,
   "metadata": {
    "vscode": {
     "languageId": "sql"
    }
   },
   "outputs": [],
   "source": [
    "SELECT \n",
    "\"Low Salary\" AS category, COALESCE(COUNT(*),0) AS accounts_count\n",
    "FROM Accounts\n",
    "WHERE income < 20000\n",
    "\n",
    "UNION \n",
    "\n",
    "SELECT \n",
    "\"Average Salary\" AS category, COALESCE(COUNT(*),0) AS accounts_count\n",
    "FROM Accounts\n",
    "WHERE income between 20000 AND 50000\n",
    "\n",
    "UNION \n",
    "\n",
    "SELECT \n",
    "\"High Salary\" AS category, COALESCE(COUNT(*),0) AS accounts_count\n",
    "FROM Accounts\n",
    "WHERE income > 50000"
   ]
  },
  {
   "cell_type": "code",
   "execution_count": null,
   "metadata": {
    "vscode": {
     "languageId": "sql"
    }
   },
   "outputs": [],
   "source": [
    "# Write your MySQL query statement below\n",
    "SELECT \n",
    "    'Low Salary' AS category,\n",
    "    SUM(income < 20000) AS accounts_count\n",
    "FROM \n",
    "    Accounts\n",
    "\n",
    "UNION \n",
    "\n",
    "    SELECT \n",
    "        'Average Salary' AS category,\n",
    "        SUM(income BETWEEN 20000 AND 50000 ) AS accounts_count\n",
    "    FROM \n",
    "        Accounts\n",
    "\n",
    "UNION\n",
    "\n",
    "    SELECT \n",
    "        'High Salary' AS category,\n",
    "        SUM(income > 50000) AS accounts_count\n",
    "    FROM \n",
    "        Accounts;"
   ]
  }
 ],
 "metadata": {
  "language_info": {
   "name": "python"
  }
 },
 "nbformat": 4,
 "nbformat_minor": 2
}
