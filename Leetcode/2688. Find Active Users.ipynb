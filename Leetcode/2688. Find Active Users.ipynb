{
 "cells": [
  {
   "cell_type": "markdown",
   "metadata": {},
   "source": [
    "# **2688. Find Active Users**\n",
    "\n",
    "**Table: Users**\n",
    "``` console\n",
    "+-------------+----------+ \n",
    "| Column Name | Type     | \n",
    "+-------------+----------+ \n",
    "| user_id     | int      | \n",
    "| item        | varchar  |\n",
    "| created_at  | datetime |\n",
    "| amount      | int      |\n",
    "+-------------+----------+\n",
    "```\n",
    "This table may contain duplicate records. \n",
    "Each row includes the user ID, the purchased item, the date of purchase, and the purchase amount.\n",
    "Write a solution to identify active users. An active user is a user that has made a second purchase within 7 days of any other of their purchases.\n",
    "\n",
    "For example, if the ending date is May 31, 2023. So any date between May 31, 2023, and June 7, 2023 (inclusive) would be considered \"within 7 days\" of May 31, 2023.\n",
    "\n",
    "Return a list of user_id which denotes the list of active users in any order.\n",
    "\n",
    "The result format is in the following example.\n",
    "\n",
    " \n",
    "\n",
    "**Example 1:**\n",
    "\n",
    "**Input:**\n",
    "**Users table:**\n",
    "``` console\n",
    "+---------+-------------------+------------+--------+ \n",
    "| user_id | item              | created_at | amount |  \n",
    "+---------+-------------------+------------+--------+\n",
    "| 5       | Smart Crock Pot   | 2021-09-18 | 698882 |\n",
    "| 6       | Smart Lock        | 2021-09-14 | 11487  |\n",
    "| 6       | Smart Thermostat  | 2021-09-10 | 674762 |\n",
    "| 8       | Smart Light Strip | 2021-09-29 | 630773 |\n",
    "| 4       | Smart Cat Feeder  | 2021-09-02 | 693545 |\n",
    "| 4       | Smart Bed         | 2021-09-13 | 170249 |\n",
    "+---------+-------------------+------------+--------+ \n",
    "```\n",
    "**Output:**\n",
    "``` console\n",
    "+---------+\n",
    "| user_id | \n",
    "+---------+\n",
    "| 6       | \n",
    "+---------+\n",
    "```\n",
    "**Explanation:** \n",
    "\n",
    "- User with user_id 5 has only one transaction, so he is not an active user.\n",
    "\n",
    "- User with user_id 6 has two transaction his first transaction was on 2021-09-10 and second transation was on 2021-09-14. The distance between the first and second transactions date is <= 7 days. So he is an active user. \n",
    "\n",
    "- User with user_id 8 has only one transaction, so he is not an active user. \n",
    " \n",
    "- User with user_id 4 has two transaction his first transaction was on 2021-09-02 and second transation was on 2021-09-13. The distance between the first and second transactions date is > 7 days. So he is not an active user. \n"
   ]
  },
  {
   "cell_type": "markdown",
   "metadata": {},
   "source": [
    "**_Solution-1:_**"
   ]
  },
  {
   "cell_type": "markdown",
   "metadata": {},
   "source": [
    "``` sql\n",
    "SELECT DISTINCT user_id\n",
    "FROM\n",
    "(SELECT user_id, \n",
    "COUNT(*)OVER(PARTITION BY user_id) as cnt,\n",
    "DATEDIFF(LEAD(created_at)OVER(PARTITION BY user_id ORDER BY created_at),created_at) as diff\n",
    "FROM USERS)a\n",
    "WHERE cnt >=2 AND diff <=7"
   ]
  },
  {
   "cell_type": "markdown",
   "metadata": {},
   "source": [
    "**_Solutioin-2:_**"
   ]
  },
  {
   "cell_type": "markdown",
   "metadata": {},
   "source": [
    "``` sql\n",
    "# Write your MySQL query statement below\n",
    "\n",
    "SELECT DISTINCT user_id\n",
    "FROM\n",
    "(SELECT user_id,DATEDIFF(LEAD(created_at)OVER(PARTITION BY user_id ORDER BY created_at),created_at) as diff\n",
    "FROM USERS)a\n",
    "WHERE diff <=7"
   ]
  }
 ],
 "metadata": {
  "language_info": {
   "name": "python"
  }
 },
 "nbformat": 4,
 "nbformat_minor": 2
}
