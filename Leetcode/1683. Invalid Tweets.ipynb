{
 "cells": [
  {
   "cell_type": "markdown",
   "metadata": {},
   "source": [
    "# **1683. Invalid Tweets**\n",
    "``` console\n",
    "Table: Tweets\n",
    "\n",
    "+----------------+---------+\n",
    "| Column Name    | Type    |\n",
    "+----------------+---------+\n",
    "| tweet_id       | int     |\n",
    "| content        | varchar |\n",
    "+----------------+---------+\n",
    "tweet_id is the primary key (column with unique values) for this table.\n",
    "This table contains all the tweets in a social media app.\n",
    " \n",
    "\n",
    "Write a solution to find the IDs of the invalid tweets. The tweet is invalid if the number of characters used in the content of the tweet is strictly greater than 15.\n",
    "\n",
    "Return the result table in any order.\n",
    "\n",
    "The result format is in the following example.\n",
    "\n",
    " \n",
    "\n",
    "Example 1:\n",
    "\n",
    "Input: \n",
    "Tweets table:\n",
    "+----------+-----------------------------------+\n",
    "| tweet_id | content                           |\n",
    "+----------+-----------------------------------+\n",
    "| 1        | Let us Code                       |\n",
    "| 2        | More than fifteen chars are here! |\n",
    "+----------+-----------------------------------+\n",
    "\n",
    "Output: \n",
    "+----------+\n",
    "| tweet_id |\n",
    "+----------+\n",
    "| 2        |\n",
    "+----------+\n",
    "\n",
    "Explanation: \n",
    "Tweet 1 has length = 11. It is a valid tweet.\n",
    "Tweet 2 has length = 33. It is an invalid tweet.\n",
    "```"
   ]
  },
  {
   "cell_type": "markdown",
   "metadata": {},
   "source": [
    "**Solution:**"
   ]
  },
  {
   "cell_type": "code",
   "execution_count": null,
   "metadata": {
    "vscode": {
     "languageId": "sql"
    }
   },
   "outputs": [],
   "source": [
    "SELECT tweet_id\n",
    "FROM Tweets\n",
    "WHERE LENGTH(CONTENT)>15"
   ]
  }
 ],
 "metadata": {
  "language_info": {
   "name": "python"
  }
 },
 "nbformat": 4,
 "nbformat_minor": 2
}
