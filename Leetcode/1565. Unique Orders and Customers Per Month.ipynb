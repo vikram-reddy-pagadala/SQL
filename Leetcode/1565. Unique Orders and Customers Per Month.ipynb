{
 "cells": [
  {
   "cell_type": "markdown",
   "metadata": {},
   "source": [
    "# **1565. Unique Orders and Customers Per Month**\n",
    "``` console\n",
    "Table: Orders\n",
    "\n",
    "+---------------+---------+\n",
    "| Column Name   | Type    |\n",
    "+---------------+---------+\n",
    "| order_id      | int     |\n",
    "| order_date    | date    |\n",
    "| customer_id   | int     |\n",
    "| invoice       | int     |\n",
    "+---------------+---------+\n",
    "order_id is the column with unique values for this table.\n",
    "This table contains information about the orders made by customer_id.\n",
    " \n",
    "\n",
    "Write a solution to find the number of unique orders and the number of unique customers with invoices > $20 for each different month.\n",
    "\n",
    "Return the result table sorted in any order.\n",
    "\n",
    "The result format is in the following example.\n",
    "\n",
    " \n",
    "\n",
    "Example 1:\n",
    "\n",
    "Input: \n",
    "Orders table:\n",
    "+----------+------------+-------------+------------+\n",
    "| order_id | order_date | customer_id | invoice    |\n",
    "+----------+------------+-------------+------------+\n",
    "| 1        | 2020-09-15 | 1           | 30         |\n",
    "| 2        | 2020-09-17 | 2           | 90         |\n",
    "| 3        | 2020-10-06 | 3           | 20         |\n",
    "| 4        | 2020-10-20 | 3           | 21         |\n",
    "| 5        | 2020-11-10 | 1           | 10         |\n",
    "| 6        | 2020-11-21 | 2           | 15         |\n",
    "| 7        | 2020-12-01 | 4           | 55         |\n",
    "| 8        | 2020-12-03 | 4           | 77         |\n",
    "| 9        | 2021-01-07 | 3           | 31         |\n",
    "| 10       | 2021-01-15 | 2           | 20         |\n",
    "+----------+------------+-------------+------------+\n",
    "\n",
    "Output: \n",
    "+---------+-------------+----------------+\n",
    "| month   | order_count | customer_count |\n",
    "+---------+-------------+----------------+\n",
    "| 2020-09 | 2           | 2              |\n",
    "| 2020-10 | 1           | 1              |\n",
    "| 2020-12 | 2           | 1              |\n",
    "| 2021-01 | 1           | 1              |\n",
    "+---------+-------------+----------------+\n",
    "\n",
    "Explanation: \n",
    "In September 2020 we have two orders from 2 different customers with invoices > $20.\n",
    "In October 2020 we have two orders from 1 customer, and only one of the two orders has invoice > $20.\n",
    "In November 2020 we have two orders from 2 different customers but invoices < $20, so we don't include that month.\n",
    "In December 2020 we have two orders from 1 customer both with invoices > $20.\n",
    "In January 2021 we have two orders from 2 different customers, but only one of them with invoice > $20.\n",
    "```"
   ]
  },
  {
   "cell_type": "markdown",
   "metadata": {},
   "source": [
    "**Solution-1:**"
   ]
  },
  {
   "cell_type": "markdown",
   "metadata": {},
   "source": [
    "``` sql\n",
    "SELECT DATE_FORMAT(order_date, '%Y-%m') as month, \n",
    "COUNT(customer_id) AS order_count,\n",
    "COUNT(DISTINCT customer_id) AS customer_count\n",
    "FROM Orders\n",
    "WHERE invoice > 20\n",
    "GROUP BY 1"
   ]
  },
  {
   "cell_type": "markdown",
   "metadata": {},
   "source": []
  },
  {
   "cell_type": "markdown",
   "metadata": {},
   "source": [
    "**Solution-2:**"
   ]
  },
  {
   "cell_type": "markdown",
   "metadata": {},
   "source": [
    "``` sql\n",
    "# Write your MySQL query statement below\n",
    "SELECT  LEFT(order_date, 7) month,\n",
    "        COUNT(DISTINCT order_id) order_count,\n",
    "        COUNT(DISTINCT customer_id) customer_count\n",
    "FROM orders\n",
    "WHERE invoice > 20\n",
    "GROUP BY 1;"
   ]
  }
 ],
 "metadata": {
  "language_info": {
   "name": "python"
  }
 },
 "nbformat": 4,
 "nbformat_minor": 2
}
