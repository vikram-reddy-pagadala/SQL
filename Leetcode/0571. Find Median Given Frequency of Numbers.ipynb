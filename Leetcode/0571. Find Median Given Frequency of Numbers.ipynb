{
 "cells": [
  {
   "cell_type": "markdown",
   "metadata": {},
   "source": [
    "# **571. Find Median Given Frequency of Numbers**\n",
    "``` console\n",
    "Table: Numbers\n",
    "\n",
    "+-------------+------+\n",
    "| Column Name | Type |\n",
    "+-------------+------+\n",
    "| num         | int  |\n",
    "| frequency   | int  |\n",
    "+-------------+------+\n",
    "num is the primary key (column with unique values) for this table.\n",
    "Each row of this table shows the frequency of a number in the database.\n",
    " \n",
    "\n",
    "The median is the value separating the higher half from the lower half of a data sample.\n",
    "\n",
    "Write a solution to report the median of all the numbers in the database after decompressing the Numbers table. Round the median to one decimal point.\n",
    "\n",
    "The result format is in the following example.\n",
    "\n",
    " \n",
    "\n",
    "Example 1:\n",
    "\n",
    "Input: \n",
    "Numbers table:\n",
    "+-----+-----------+\n",
    "| num | frequency |\n",
    "+-----+-----------+\n",
    "| 0   | 7         |\n",
    "| 1   | 1         |\n",
    "| 2   | 3         |\n",
    "| 3   | 1         |\n",
    "+-----+-----------+\n",
    "\n",
    "Output: \n",
    "+--------+\n",
    "| median |\n",
    "+--------+\n",
    "| 0.0    |\n",
    "+--------+\n",
    "\n",
    "Explanation: \n",
    "If we decompress the Numbers table, we will get [0, 0, 0, 0, 0, 0, 0, 1, 2, 2, 2, 3], so the median is (0 + 0) / 2 = 0.\n",
    "\n",
    "```"
   ]
  },
  {
   "cell_type": "markdown",
   "metadata": {},
   "source": [
    "**Solution-1:**"
   ]
  },
  {
   "cell_type": "markdown",
   "metadata": {},
   "source": [
    "``` sql\n",
    "SELECT  AVG(n.Num) median\n",
    "FROM Numbers n\n",
    "WHERE n.Frequency >= ABS((SELECT SUM(Frequency) FROM Numbers WHERE Num<=n.Num) -\n",
    "                         (SELECT SUM(Frequency) FROM Numbers WHERE Num>=n.Num))"
   ]
  }
 ],
 "metadata": {
  "language_info": {
   "name": "python"
  }
 },
 "nbformat": 4,
 "nbformat_minor": 2
}
