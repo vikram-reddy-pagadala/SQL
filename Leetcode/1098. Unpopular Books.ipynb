{
 "cells": [
  {
   "cell_type": "markdown",
   "metadata": {},
   "source": [
    "# **1098. Unpopular Books**\n",
    "``` console\n",
    "Table: Books\n",
    "\n",
    "+----------------+---------+\n",
    "| Column Name    | Type    |\n",
    "+----------------+---------+\n",
    "| book_id        | int     |\n",
    "| name           | varchar |\n",
    "| available_from | date    |\n",
    "+----------------+---------+\n",
    "book_id is the primary key (column with unique values) of this table.\n",
    " \n",
    "\n",
    "Table: Orders\n",
    "\n",
    "+----------------+---------+\n",
    "| Column Name    | Type    |\n",
    "+----------------+---------+\n",
    "| order_id       | int     |\n",
    "| book_id        | int     |\n",
    "| quantity       | int     |\n",
    "| dispatch_date  | date    |\n",
    "+----------------+---------+\n",
    "order_id is the primary key (column with unique values) of this table.\n",
    "book_id is a foreign key (reference column) to the Books table.\n",
    " \n",
    "\n",
    "Write a solution to report the books that have sold less than 10 copies in the last year, excluding books that have been available for less than one month from today. Assume today is 2019-06-23.\n",
    "\n",
    "Return the result table in any order.\n",
    "\n",
    "The result format is in the following example.\n",
    "\n",
    " \n",
    "\n",
    "Example 1:\n",
    "\n",
    "Input: \n",
    "Books table:\n",
    "+---------+--------------------+----------------+\n",
    "| book_id | name               | available_from |\n",
    "+---------+--------------------+----------------+\n",
    "| 1       | \"Kalila And Demna\" | 2010-01-01     |\n",
    "| 2       | \"28 Letters\"       | 2012-05-12     |\n",
    "| 3       | \"The Hobbit\"       | 2019-06-10     |\n",
    "| 4       | \"13 Reasons Why\"   | 2019-06-01     |\n",
    "| 5       | \"The Hunger Games\" | 2008-09-21     |\n",
    "+---------+--------------------+----------------+\n",
    "\n",
    "Orders table:\n",
    "+----------+---------+----------+---------------+\n",
    "| order_id | book_id | quantity | dispatch_date |\n",
    "+----------+---------+----------+---------------+\n",
    "| 1        | 1       | 2        | 2018-07-26    |\n",
    "| 2        | 1       | 1        | 2018-11-05    |\n",
    "| 3        | 3       | 8        | 2019-06-11    |\n",
    "| 4        | 4       | 6        | 2019-06-05    |\n",
    "| 5        | 4       | 5        | 2019-06-20    |\n",
    "| 6        | 5       | 9        | 2009-02-02    |\n",
    "| 7        | 5       | 8        | 2010-04-13    |\n",
    "+----------+---------+----------+---------------+\n",
    "\n",
    "Output: \n",
    "+-----------+--------------------+\n",
    "| book_id   | name               |\n",
    "+-----------+--------------------+\n",
    "| 1         | \"Kalila And Demna\" |\n",
    "| 2         | \"28 Letters\"       |\n",
    "| 5         | \"The Hunger Games\" |\n",
    "+-----------+--------------------+\n",
    "```"
   ]
  },
  {
   "cell_type": "markdown",
   "metadata": {},
   "source": [
    "**Solutions:**"
   ]
  },
  {
   "cell_type": "code",
   "execution_count": null,
   "metadata": {
    "vscode": {
     "languageId": "sql"
    }
   },
   "outputs": [],
   "source": [
    "SELECT b.book_id, name\n",
    "FROM Books b\n",
    "LEFT JOIN Orders o\n",
    "ON b.book_id = o.book_id \n",
    "and (dispatch_date between date_sub('2019-06-23', INTERVAL 1 YEAR) AND '2019-06-23')\n",
    "WHERE available_from < date_sub('2019-06-23', INTERVAL 1 MONTH) \n",
    "GROUP BY b.book_id, name\n",
    "HAVING SUM(quantity) < 10 or SUM(quantity) is null"
   ]
  }
 ],
 "metadata": {
  "language_info": {
   "name": "python"
  }
 },
 "nbformat": 4,
 "nbformat_minor": 2
}
