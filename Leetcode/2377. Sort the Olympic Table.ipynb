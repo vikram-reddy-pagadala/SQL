{
 "cells": [
  {
   "cell_type": "markdown",
   "metadata": {},
   "source": [
    "# **2377. Sort the Olympic Table**\n",
    "\n",
    "**Table: Olympic**\n",
    "``` console\n",
    "+---------------+---------+\n",
    "| Column Name   | Type    |\n",
    "+---------------+---------+\n",
    "| country       | varchar |\n",
    "| gold_medals   | int     |\n",
    "| silver_medals | int     |\n",
    "| bronze_medals | int     |\n",
    "+---------------+---------+\n",
    "```\n",
    "In SQL, country is the primary key for this table.\n",
    "\n",
    "Each row in this table shows a country name and the number of gold, silver, and bronze medals it won in the Olympic games.\n",
    " \n",
    "\n",
    "The Olympic table is sorted according to the following rules:\n",
    "\n",
    "The country with more gold medals comes first.\n",
    "\n",
    "If there is a tie in the gold medals, the country with more silver medals comes first.\n",
    "\n",
    "If there is a tie in the silver medals, the country with more bronze medals comes first.\n",
    "\n",
    "If there is a tie in the bronze medals, the countries with the tie are sorted in ascending order lexicographically.\n",
    "\n",
    "Write a solution to sort the Olympic table.\n",
    "\n",
    "The result format is shown in the following example.\n",
    "\n",
    " \n",
    "\n",
    "**Example 1:**\n",
    "\n",
    "**Input:** \n",
    "**Olympic table:**\n",
    "``` console\n",
    "+-------------+-------------+---------------+---------------+\n",
    "| country     | gold_medals | silver_medals | bronze_medals |\n",
    "+-------------+-------------+---------------+---------------+\n",
    "| China       | 10          | 10            | 20            |\n",
    "| South Sudan | 0           | 0             | 1             |\n",
    "| USA         | 10          | 10            | 20            |\n",
    "| Israel      | 2           | 2             | 3             |\n",
    "| Egypt       | 2           | 2             | 2             |\n",
    "+-------------+-------------+---------------+---------------+\n",
    "```\n",
    "**Output:** \n",
    "``` console\n",
    "+-------------+-------------+---------------+---------------+\n",
    "| country     | gold_medals | silver_medals | bronze_medals |\n",
    "+-------------+-------------+---------------+---------------+\n",
    "| China       | 10          | 10            | 20            |\n",
    "| USA         | 10          | 10            | 20            |\n",
    "| Israel      | 2           | 2             | 3             |\n",
    "| Egypt       | 2           | 2             | 2             |\n",
    "| South Sudan | 0           | 0             | 1             |\n",
    "+-------------+-------------+---------------+---------------+\n",
    "```\n",
    "**Explanation:** \n",
    "\n",
    "The tie between China and USA is broken by their lexicographical names. Since \"China\" is lexicographically smaller than \"USA\", it comes first.\n",
    "\n",
    "Israel comes before Egypt because it has more bronze medals."
   ]
  },
  {
   "cell_type": "markdown",
   "metadata": {},
   "source": [
    "**Solution-1:**"
   ]
  },
  {
   "cell_type": "markdown",
   "metadata": {},
   "source": [
    "``` sql\n",
    "# Write your MySQL query statement below\n",
    "\n",
    "SELECT * FROM Olympic\n",
    "ORDER BY gold_medals DESC, silver_medals DESC, bronze_medals DESC, country ASC"
   ]
  }
 ],
 "metadata": {
  "language_info": {
   "name": "python"
  }
 },
 "nbformat": 4,
 "nbformat_minor": 2
}
