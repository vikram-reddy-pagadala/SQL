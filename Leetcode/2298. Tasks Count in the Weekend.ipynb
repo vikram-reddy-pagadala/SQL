{
 "cells": [
  {
   "cell_type": "markdown",
   "metadata": {},
   "source": [
    "# **2298. Tasks Count in the Weekend**\n",
    "\n",
    "**Table: Tasks**\n",
    "``` console\n",
    "+-------------+------+\n",
    "| Column Name | Type |\n",
    "+-------------+------+\n",
    "| task_id     | int  |\n",
    "| assignee_id | int  |\n",
    "| submit_date | date |\n",
    "+-------------+------+\n",
    "```\n",
    "task_id is the primary key (column with unique values) for this table.\n",
    "\n",
    "Each row in this table contains the ID of a task, the id of the assignee, and the submission date.\n",
    " \n",
    "\n",
    "Write a solution to report:\n",
    "\n",
    "the number of tasks that were submitted during the weekend (Saturday, Sunday) as weekend_cnt, and\n",
    "the number of tasks that were submitted during the working days as working_cnt.\n",
    "\n",
    "Return the result table in any order.\n",
    "\n",
    "The result format is shown in the following example.\n",
    "\n",
    " \n",
    "\n",
    "**Example 1:**\n",
    "\n",
    "**Input:** \n",
    "**Tasks table:**\n",
    "``` console\n",
    "+---------+-------------+-------------+\n",
    "| task_id | assignee_id | submit_date |\n",
    "+---------+-------------+-------------+\n",
    "| 1       | 1           | 2022-06-13  |\n",
    "| 2       | 6           | 2022-06-14  |\n",
    "| 3       | 6           | 2022-06-15  |\n",
    "| 4       | 3           | 2022-06-18  |\n",
    "| 5       | 5           | 2022-06-19  |\n",
    "| 6       | 7           | 2022-06-19  |\n",
    "+---------+-------------+-------------+\n",
    "```\n",
    "**Output:** \n",
    "``` console\n",
    "+-------------+-------------+\n",
    "| weekend_cnt | working_cnt |\n",
    "+-------------+-------------+\n",
    "| 3           | 3           |\n",
    "+-------------+-------------+\n",
    "```\n",
    "**Explanation:** \n",
    "- Task 1 was submitted on Monday.\n",
    "- Task 2 was submitted on Tuesday.\n",
    "- Task 3 was submitted on Wednesday.\n",
    "- Task 4 was submitted on Saturday.\n",
    "- Task 5 was submitted on Sunday.\n",
    "- Task 6 was submitted on Sunday.\n",
    "- 3 tasks were submitted during the weekend.\n",
    "- 3 tasks were submitted during the working days."
   ]
  },
  {
   "cell_type": "markdown",
   "metadata": {},
   "source": [
    "**Solution-1:**"
   ]
  },
  {
   "cell_type": "markdown",
   "metadata": {},
   "source": [
    "``` sql\n",
    "# Write your MySQL query statement below\n",
    "\n",
    "SELECT \n",
    "SUM(\n",
    "    CASE \n",
    "    WHEN dayname(submit_date) \n",
    "    IN ('Saturday', 'Sunday') \n",
    "    THEN 1 ELSE 0 END) As weekend_cnt,\n",
    "SUM(\n",
    "    CASE \n",
    "    WHEN dayname(submit_date) \n",
    "    IN ('Monday', 'Tuesday', 'Wednesday', 'Thursday', 'Friday') \n",
    "    THEN 1 ELSE 0 END) As working_cnt\n",
    "FROM Tasks"
   ]
  },
  {
   "cell_type": "markdown",
   "metadata": {},
   "source": [
    "**Solution-2:**"
   ]
  },
  {
   "cell_type": "markdown",
   "metadata": {},
   "source": [
    "``` sql\n",
    "# Write your MySQL query statement below\n",
    "\n",
    "SELECT \n",
    "SUM(CASE WHEN weekday(submit_date) IN (5,6) THEN 1 ELSE 0 END) As weekend_cnt,\n",
    "SUM(CASE WHEN weekday(submit_date) IN (0,1,2,3,4) THEN 1 ELSE 0 END) As working_cnt\n",
    "FROM Tasks"
   ]
  },
  {
   "cell_type": "markdown",
   "metadata": {},
   "source": [
    "**Solution-3:**"
   ]
  },
  {
   "cell_type": "markdown",
   "metadata": {},
   "source": [
    "``` sql\n",
    "# Write your MySQL query statement below\n",
    "\n",
    "SELECT SUM(WEEKDAY(submit_date)>=5) AS weekend_cnt,\n",
    "SUM(WEEKDAY(submit_date)<5) AS working_cnt\n",
    "FROM Tasks;"
   ]
  }
 ],
 "metadata": {
  "language_info": {
   "name": "python"
  }
 },
 "nbformat": 4,
 "nbformat_minor": 2
}
