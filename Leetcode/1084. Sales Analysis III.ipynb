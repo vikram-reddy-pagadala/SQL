{
 "cells": [
  {
   "cell_type": "markdown",
   "metadata": {},
   "source": [
    "# **1084. Sales Analysis III**\n",
    "``` console\n",
    "Table: Product\n",
    "\n",
    "+--------------+---------+\n",
    "| Column Name  | Type    |\n",
    "+--------------+---------+\n",
    "| product_id   | int     |\n",
    "| product_name | varchar |\n",
    "| unit_price   | int     |\n",
    "+--------------+---------+\n",
    "product_id is the primary key (column with unique values) of this table.\n",
    "Each row of this table indicates the name and the price of each product.\n",
    "Table: Sales\n",
    "\n",
    "+-------------+---------+\n",
    "| Column Name | Type    |\n",
    "+-------------+---------+\n",
    "| seller_id   | int     |\n",
    "| product_id  | int     |\n",
    "| buyer_id    | int     |\n",
    "| sale_date   | date    |\n",
    "| quantity    | int     |\n",
    "| price       | int     |\n",
    "+-------------+---------+\n",
    "This table can have duplicate rows.\n",
    "product_id is a foreign key (reference column) to the Product table.\n",
    "Each row of this table contains some information about one sale.\n",
    " \n",
    "\n",
    "Write a solution to report the products that were only sold in the first quarter of 2019. That is, between 2019-01-01 and 2019-03-31 inclusive.\n",
    "\n",
    "Return the result table in any order.\n",
    "\n",
    "The result format is in the following example.\n",
    "\n",
    " \n",
    "\n",
    "Example 1:\n",
    "\n",
    "Input: \n",
    "Product table:\n",
    "+------------+--------------+------------+\n",
    "| product_id | product_name | unit_price |\n",
    "+------------+--------------+------------+\n",
    "| 1          | S8           | 1000       |\n",
    "| 2          | G4           | 800        |\n",
    "| 3          | iPhone       | 1400       |\n",
    "+------------+--------------+------------+\n",
    "\n",
    "Sales table:\n",
    "+-----------+------------+----------+------------+----------+-------+\n",
    "| seller_id | product_id | buyer_id | sale_date  | quantity | price |\n",
    "+-----------+------------+----------+------------+----------+-------+\n",
    "| 1         | 1          | 1        | 2019-01-21 | 2        | 2000  |\n",
    "| 1         | 2          | 2        | 2019-02-17 | 1        | 800   |\n",
    "| 2         | 2          | 3        | 2019-06-02 | 1        | 800   |\n",
    "| 3         | 3          | 4        | 2019-05-13 | 2        | 2800  |\n",
    "+-----------+------------+----------+------------+----------+-------+\n",
    "\n",
    "Output: \n",
    "+-------------+--------------+\n",
    "| product_id  | product_name |\n",
    "+-------------+--------------+\n",
    "| 1           | S8           |\n",
    "+-------------+--------------+\n",
    "\n",
    "Explanation: \n",
    "The product with id 1 was only sold in the spring of 2019.\n",
    "The product with id 2 was sold in the spring of 2019 but was also sold after the spring of 2019.\n",
    "The product with id 3 was sold after spring 2019.\n",
    "We return only product 1 as it is the product that was only sold in the spring of 2019.\n",
    "```"
   ]
  },
  {
   "cell_type": "markdown",
   "metadata": {},
   "source": [
    "**Solutions:**"
   ]
  },
  {
   "cell_type": "code",
   "execution_count": null,
   "metadata": {
    "vscode": {
     "languageId": "sql"
    }
   },
   "outputs": [],
   "source": [
    "SELECT product_id, product_name\n",
    "FROM Product\n",
    "WHERE product_id NOT IN (SELECT product_id \n",
    "FROM Sales WHERE sale_date NOT BETWEEN '2019-01-01' AND '2019-03-31')\n",
    "AND product_id IN (SELECT product_id \n",
    "FROM Sales)"
   ]
  },
  {
   "cell_type": "code",
   "execution_count": null,
   "metadata": {
    "vscode": {
     "languageId": "sql"
    }
   },
   "outputs": [],
   "source": [
    "SELECT Product.product_id, Product.product_name FROM Product \n",
    "JOIN Sales \n",
    "ON Product.product_id = Sales.product_id \n",
    "GROUP BY Sales.product_id \n",
    "HAVING MIN(Sales.sale_date) >= \"2019-01-01\" AND MAX(Sales.sale_date) <= \"2019-03-31\";"
   ]
  }
 ],
 "metadata": {
  "language_info": {
   "name": "python"
  }
 },
 "nbformat": 4,
 "nbformat_minor": 2
}
