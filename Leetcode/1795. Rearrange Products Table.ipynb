{
 "cells": [
  {
   "cell_type": "markdown",
   "metadata": {},
   "source": [
    "# **1795. Rearrange Products Table**\n",
    "``` console\n",
    "Table: Products\n",
    "\n",
    "+-------------+---------+\n",
    "| Column Name | Type    |\n",
    "+-------------+---------+\n",
    "| product_id  | int     |\n",
    "| store1      | int     |\n",
    "| store2      | int     |\n",
    "| store3      | int     |\n",
    "+-------------+---------+\n",
    "\n",
    "product_id is the primary key (column with unique values) for this table.\n",
    "Each row in this table indicates the product's price in 3 different stores: store1, store2, and store3.\n",
    "If the product is not available in a store, the price will be null in that store's column.\n",
    " \n",
    "\n",
    "Write a solution to rearrange the Products table so that each row has (product_id, store, price). If a product is not available in a store, do not include a row with that product_id and store combination in the result table.\n",
    "\n",
    "Return the result table in any order.\n",
    "\n",
    "The result format is in the following example.\n",
    "\n",
    " \n",
    "\n",
    "Example 1:\n",
    "\n",
    "Input: \n",
    "Products table:\n",
    "+------------+--------+--------+--------+\n",
    "| product_id | store1 | store2 | store3 |\n",
    "+------------+--------+--------+--------+\n",
    "| 0          | 95     | 100    | 105    |\n",
    "| 1          | 70     | null   | 80     |\n",
    "+------------+--------+--------+--------+\n",
    "\n",
    "Output: \n",
    "+------------+--------+-------+\n",
    "| product_id | store  | price |\n",
    "+------------+--------+-------+\n",
    "| 0          | store1 | 95    |\n",
    "| 0          | store2 | 100   |\n",
    "| 0          | store3 | 105   |\n",
    "| 1          | store1 | 70    |\n",
    "| 1          | store3 | 80    |\n",
    "+------------+--------+-------+\n",
    "\n",
    "Explanation: \n",
    "\n",
    "Product 0 is available in all three stores with prices 95, 100, and 105 respectively.\n",
    "\n",
    "Product 1 is available in store1 with price 70 and store3 with price 80. The product is not available in store2.\n",
    "```"
   ]
  },
  {
   "cell_type": "markdown",
   "metadata": {},
   "source": [
    "**Solution-1:**"
   ]
  },
  {
   "cell_type": "markdown",
   "metadata": {},
   "source": [
    "``` sql\n",
    "\n",
    "SELECT * FROM(\n",
    "    SELECT product_id, 'store1' AS store, store1 AS price\n",
    "    FROM Products\n",
    "    UNION ALL\n",
    "    SELECT product_id, 'store2' AS store, store2 AS price\n",
    "    FROM Products\n",
    "    UNION ALL \n",
    "    SELECT product_id, 'store3' AS store, store3 AS price\n",
    "    FROM Products\n",
    ") a\n",
    "WHERE price IS NOT NULL"
   ]
  },
  {
   "cell_type": "markdown",
   "metadata": {},
   "source": []
  },
  {
   "cell_type": "markdown",
   "metadata": {},
   "source": [
    "**Solution**"
   ]
  },
  {
   "cell_type": "markdown",
   "metadata": {},
   "source": [
    "``` sql\n",
    "\n",
    "SELECT \n",
    "    product_id, \n",
    "    store, \n",
    "    price\n",
    "FROM \n",
    "    Products\n",
    "UNPIVOT (\n",
    "    price FOR store IN (store1 AS 'store1', store2 AS 'store2', store3 AS 'store3')\n",
    ") AS unpvt\n",
    "WHERE \n",
    "    price IS NOT NULL;\n"
   ]
  },
  {
   "cell_type": "markdown",
   "metadata": {},
   "source": []
  },
  {
   "cell_type": "markdown",
   "metadata": {},
   "source": []
  },
  {
   "cell_type": "markdown",
   "metadata": {},
   "source": [
    "**Solution-3:**"
   ]
  },
  {
   "cell_type": "markdown",
   "metadata": {},
   "source": [
    "``` sql\n",
    "--MS SQL SERVER\n",
    "SELECT \n",
    "    product_id, \n",
    "    store, \n",
    "    price\n",
    "FROM \n",
    "    Products\n",
    "CROSS APPLY (\n",
    "    VALUES \n",
    "        ('store1', store1),\n",
    "        ('store2', store2),\n",
    "        ('store3', store3)\n",
    ") AS StorePrices(store, price)\n",
    "WHERE \n",
    "    price IS NOT NULL;\n"
   ]
  },
  {
   "cell_type": "markdown",
   "metadata": {},
   "source": []
  },
  {
   "cell_type": "markdown",
   "metadata": {},
   "source": []
  },
  {
   "cell_type": "markdown",
   "metadata": {},
   "source": [
    "``` sql\n",
    "\n",
    "select product_id,'store1' as store, store1 as price from products where store1 is not null\n",
    "union all\n",
    "select product_id,'store2' as store, store2 as price from products where store2 is not null\n",
    "union all\n",
    "select product_id,'store3' as store, store3 as price from products where store3 is not null"
   ]
  }
 ],
 "metadata": {
  "language_info": {
   "name": "python"
  }
 },
 "nbformat": 4,
 "nbformat_minor": 2
}
