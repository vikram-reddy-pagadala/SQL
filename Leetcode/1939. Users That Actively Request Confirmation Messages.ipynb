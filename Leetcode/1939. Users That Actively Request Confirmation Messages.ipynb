{
 "cells": [
  {
   "cell_type": "markdown",
   "metadata": {},
   "source": [
    "# **1939. Users That Actively Request Confirmation Messages**\n",
    "\n",
    "**Table: Signups**\n",
    "``` console\n",
    "+----------------+----------+\n",
    "| Column Name    | Type     |\n",
    "+----------------+----------+\n",
    "| user_id        | int      |\n",
    "| time_stamp     | datetime |\n",
    "+----------------+----------+\n",
    "```\n",
    "user_id is the column with unique values for this table.\n",
    "Each row contains information about the signup time for the user with ID user_id.\n",
    "\n",
    "**Table: Confirmations**\n",
    "``` console\n",
    "+----------------+----------+\n",
    "| Column Name    | Type     |\n",
    "+----------------+----------+\n",
    "| user_id        | int      |\n",
    "| time_stamp     | datetime |\n",
    "| action         | ENUM     |\n",
    "+----------------+----------+\n",
    "```\n",
    "(user_id, time_stamp) is the primary key (combination of columns with unique values) for this table.\n",
    "user_id is a foreign key (reference column) to the Signups table.\n",
    "action is an ENUM (category) of the type ('confirmed', 'timeout')\n",
    "Each row of this table indicates that the user with ID user_id requested a confirmation message at time_stamp and that confirmation message was either confirmed ('confirmed') or expired without confirming ('timeout').\n",
    " \n",
    "\n",
    "Write a solution to find the IDs of the users that requested a confirmation message twice within a 24-hour window. Two messages exactly 24 hours apart are considered to be within the window. The action does not affect the answer, only the request time.\n",
    "\n",
    "Return the result table in any order.\n",
    "\n",
    "The result format is in the following example.\n",
    "\n",
    " \n",
    "\n",
    "**Example 1:**\n",
    "\n",
    "**Input:**\n",
    "**Signups table:**\n",
    "``` console\n",
    "+---------+---------------------+\n",
    "| user_id | time_stamp          |\n",
    "+---------+---------------------+\n",
    "| 3       | 2020-03-21 10:16:13 |\n",
    "| 7       | 2020-01-04 13:57:59 |\n",
    "| 2       | 2020-07-29 23:09:44 |\n",
    "| 6       | 2020-12-09 10:39:37 |\n",
    "+---------+---------------------+\n",
    "```\n",
    "**Confirmations table:**\n",
    "``` console\n",
    "+---------+---------------------+-----------+\n",
    "| user_id | time_stamp          | action    |\n",
    "+---------+---------------------+-----------+\n",
    "| 3       | 2021-01-06 03:30:46 | timeout   |\n",
    "| 3       | 2021-01-06 03:37:45 | timeout   |\n",
    "| 7       | 2021-06-12 11:57:29 | confirmed |\n",
    "| 7       | 2021-06-13 11:57:30 | confirmed |\n",
    "| 2       | 2021-01-22 00:00:00 | confirmed |\n",
    "| 2       | 2021-01-23 00:00:00 | timeout   |\n",
    "| 6       | 2021-10-23 14:14:14 | confirmed |\n",
    "| 6       | 2021-10-24 14:14:13 | timeout   |\n",
    "+---------+---------------------+-----------+\n",
    "```\n",
    "**Output:**\n",
    "``` console\n",
    "+---------+\n",
    "| user_id |\n",
    "+---------+\n",
    "| 2       |\n",
    "| 3       |\n",
    "| 6       |\n",
    "+---------+\n",
    "```\n",
    "**Explanation:**\n",
    "\n",
    "User 2 requested two messages within exactly 24 hours of each other, so we include them.\n",
    "\n",
    "User 3 requested two messages within 6 minutes and 59 seconds of each other, so we include them.\n",
    "\n",
    "User 6 requested two messages within 23 hours, 59 minutes, and 59 seconds of each other, so we include them.\n",
    "\n",
    "User 7 requested two messages within 24 hours and 1 second of each other, so we exclude them from the answer.\n"
   ]
  },
  {
   "cell_type": "markdown",
   "metadata": {},
   "source": [
    "**Solution-1:**"
   ]
  },
  {
   "cell_type": "markdown",
   "metadata": {},
   "source": [
    "``` sql\n",
    "SELECT DISTINCT user_id FROM\n",
    "(SELECT a.user_id,TIMESTAMPDIFF(SECOND, b.time_stamp, a.time_stamp) as diff\n",
    "FROM Confirmations a\n",
    "JOIN Confirmations b\n",
    "ON a.user_id = b.user_id and a.time_stamp > b.time_stamp)a\n",
    "WHERE diff <= 86400"
   ]
  },
  {
   "cell_type": "markdown",
   "metadata": {},
   "source": []
  },
  {
   "cell_type": "markdown",
   "metadata": {},
   "source": [
    "**Solution-2:**"
   ]
  },
  {
   "cell_type": "markdown",
   "metadata": {},
   "source": [
    "``` sql\n",
    "select\n",
    "distinct c.user_id\n",
    "from confirmations c\n",
    "join confirmations d\n",
    "on c.user_id=d.user_id and c.time_stamp>d.time_stamp and \n",
    "timestampdiff(second, d.time_stamp,c.time_stamp)<=86400"
   ]
  },
  {
   "cell_type": "markdown",
   "metadata": {},
   "source": []
  },
  {
   "cell_type": "markdown",
   "metadata": {},
   "source": [
    "**Solution-3:**"
   ]
  },
  {
   "cell_type": "markdown",
   "metadata": {},
   "source": [
    "``` sql\n",
    "WITH CTE AS \n",
    "(\n",
    "SELECT \n",
    "USER_ID,\n",
    "TIME_STAMP - LAG(TIME_STAMP) OVER(PARTITION BY USER_ID ORDER BY TIME_STAMP) AS DIFF\n",
    "FROM CONFIRMATIONS                  \n",
    ")\n",
    "\n",
    "SELECT DISTINCT USER_ID\n",
    "FROM CTE\n",
    "WHERE DIFF <= 1000000"
   ]
  },
  {
   "cell_type": "markdown",
   "metadata": {},
   "source": []
  },
  {
   "cell_type": "markdown",
   "metadata": {},
   "source": [
    "**Solution-4:**"
   ]
  },
  {
   "cell_type": "markdown",
   "metadata": {},
   "source": [
    "``` sql\n",
    "SELECT DISTINCT USER_ID\n",
    "FROM \n",
    "(SELECT C.USER_ID, \n",
    "TIMESTAMPDIFF(SECOND, LAG(C.TIME_STAMP) OVER(PARTITION BY USER_ID ORDER BY TIME_STAMP ASC),C.TIME_STAMP) AS DIFFERENCE\n",
    "FROM CONFIRMATIONS AS C) AS A\n",
    "WHERE A.DIFFERENCE <= 86400"
   ]
  }
 ],
 "metadata": {
  "language_info": {
   "name": "python"
  }
 },
 "nbformat": 4,
 "nbformat_minor": 2
}
