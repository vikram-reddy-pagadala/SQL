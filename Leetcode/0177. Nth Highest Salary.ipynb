{
 "cells": [
  {
   "cell_type": "markdown",
   "metadata": {},
   "source": [
    "# **177. Nth Highest Salary**\n",
    "\n",
    "**Table: Employee**\n",
    "``` console\n",
    "+-------------+------+\n",
    "| Column Name | Type |\n",
    "+-------------+------+\n",
    "| id          | int  |\n",
    "| salary      | int  |\n",
    "+-------------+------+\n",
    "```\n",
    "id is the primary key (column with unique values) for this table.\n",
    "Each row of this table contains information about the salary of an employee.\n",
    " \n",
    "\n",
    "Write a solution to find the nth highest salary from the Employee table. If there is no nth highest salary, return null.\n",
    "\n",
    "The result format is in the following example.\n",
    "\n",
    "\n",
    "**Example 1:**\n",
    "\n",
    "**Input:** \n",
    "**Employee table:**\n",
    "``` console\n",
    "+----+--------+\n",
    "| id | salary |\n",
    "+----+--------+\n",
    "| 1  | 100    |\n",
    "| 2  | 200    |\n",
    "| 3  | 300    |\n",
    "+----+--------+\n",
    "```\n",
    "n = 2\n",
    "**Output:** \n",
    "``` console\n",
    "+------------------------+\n",
    "| getNthHighestSalary(2) |\n",
    "+------------------------+\n",
    "| 200                    |\n",
    "+------------------------+\n",
    "```\n",
    "**Example 2:**\n",
    "\n",
    "**Input:** \n",
    "**Employee table:**\n",
    "``` console\n",
    "+----+--------+\n",
    "| id | salary |\n",
    "+----+--------+\n",
    "| 1  | 100    |\n",
    "+----+--------+\n",
    "```\n",
    "n = 2\n",
    "**Output:** \n",
    "``` console\n",
    "+------------------------+\n",
    "| getNthHighestSalary(2) |\n",
    "+------------------------+\n",
    "| null                   |\n",
    "+------------------------+\n",
    "```"
   ]
  },
  {
   "cell_type": "markdown",
   "metadata": {},
   "source": [
    "**Solutions:**"
   ]
  },
  {
   "cell_type": "code",
   "execution_count": null,
   "metadata": {
    "vscode": {
     "languageId": "sql"
    }
   },
   "outputs": [],
   "source": [
    "CREATE FUNCTION getNthHighestSalary(N INT) RETURNS INT\n",
    "BEGIN\n",
    "  RETURN (\n",
    "     # Write your MySQL query statement below.\n",
    "SELECT MAX(a.salary )\n",
    "FROM(SELECT salary , DENSE_RANK() OVER(ORDER BY salary  DESC) as rnk\n",
    "        FROM Employee ) a\n",
    "WHERE a.rnk = N\n",
    "  );\n",
    "END"
   ]
  },
  {
   "cell_type": "code",
   "execution_count": null,
   "metadata": {
    "vscode": {
     "languageId": "sql"
    }
   },
   "outputs": [],
   "source": [
    "CREATE FUNCTION getNthHighestSalary(N INT) RETURNS INT\n",
    "BEGIN\n",
    "SET N = N-1;\n",
    "  RETURN (\n",
    "      SELECT DISTINCT(salary) FROM Employee ORDER BY salary DESC\n",
    "      LIMIT 1 OFFSET N\n",
    "      \n",
    "  );\n",
    "END"
   ]
  }
 ],
 "metadata": {
  "language_info": {
   "name": "python"
  }
 },
 "nbformat": 4,
 "nbformat_minor": 2
}
