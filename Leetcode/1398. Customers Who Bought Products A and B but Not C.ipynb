{
 "cells": [
  {
   "cell_type": "markdown",
   "metadata": {},
   "source": [
    "# **1398. Customers Who Bought Products A and B but Not C**\n",
    "``` console\n",
    "Table: Customers\n",
    "\n",
    "+---------------------+---------+\n",
    "| Column Name         | Type    |\n",
    "+---------------------+---------+\n",
    "| customer_id         | int     |\n",
    "| customer_name       | varchar |\n",
    "+---------------------+---------+\n",
    "customer_id is the column with unique values for this table.\n",
    "customer_name is the name of the customer.\n",
    " \n",
    "\n",
    "Table: Orders\n",
    "\n",
    "+---------------+---------+\n",
    "| Column Name   | Type    |\n",
    "+---------------+---------+\n",
    "| order_id      | int     |\n",
    "| customer_id   | int     |\n",
    "| product_name  | varchar |\n",
    "+---------------+---------+\n",
    "order_id is the column with unique values for this table.\n",
    "customer_id is the id of the customer who bought the product \"product_name\".\n",
    " \n",
    "\n",
    "Write a solution to report the customer_id and customer_name of customers who bought products \"A\", \"B\" but did not buy the product \"C\" since we want to recommend them to purchase this product.\n",
    "\n",
    "Return the result table ordered by customer_id.\n",
    "\n",
    "The result format is in the following example.\n",
    "\n",
    " \n",
    "\n",
    "Example 1:\n",
    "\n",
    "Input: \n",
    "Customers table:\n",
    "+-------------+---------------+\n",
    "| customer_id | customer_name |\n",
    "+-------------+---------------+\n",
    "| 1           | Daniel        |\n",
    "| 2           | Diana         |\n",
    "| 3           | Elizabeth     |\n",
    "| 4           | Jhon          |\n",
    "+-------------+---------------+\n",
    "\n",
    "Orders table:\n",
    "+------------+--------------+---------------+\n",
    "| order_id   | customer_id  | product_name  |\n",
    "+------------+--------------+---------------+\n",
    "| 10         |     1        |     A         |\n",
    "| 20         |     1        |     B         |\n",
    "| 30         |     1        |     D         |\n",
    "| 40         |     1        |     C         |\n",
    "| 50         |     2        |     A         |\n",
    "| 60         |     3        |     A         |\n",
    "| 70         |     3        |     B         |\n",
    "| 80         |     3        |     D         |\n",
    "| 90         |     4        |     C         |\n",
    "+------------+--------------+---------------+\n",
    "\n",
    "Output: \n",
    "+-------------+---------------+\n",
    "| customer_id | customer_name |\n",
    "+-------------+---------------+\n",
    "| 3           | Elizabeth     |\n",
    "+-------------+---------------+\n",
    "\n",
    "Explanation: Only the customer_id with id 3 bought the product A and B but not the product C.\n",
    "```"
   ]
  },
  {
   "cell_type": "markdown",
   "metadata": {},
   "source": [
    "**Solution-1:**"
   ]
  },
  {
   "cell_type": "markdown",
   "metadata": {},
   "source": [
    "``` sql\n",
    "SELECT * FROM Customers\n",
    "WHERE customer_id IN(\n",
    "    SELECT o1.customer_id \n",
    "    FROM Orders o1 \n",
    "    INNER JOIN Orders o2 \n",
    "    ON o1.customer_id = o2.customer_id AND o1.product_name = 'A' AND o2.product_name = 'B'\n",
    "    WHERE o1.customer_id NOT IN (SELECT customer_id FROM Orders WHERE product_name = 'C')"
   ]
  },
  {
   "cell_type": "markdown",
   "metadata": {},
   "source": []
  },
  {
   "cell_type": "markdown",
   "metadata": {},
   "source": [
    "**Solution-2:**"
   ]
  },
  {
   "cell_type": "markdown",
   "metadata": {},
   "source": [
    "``` sql\n",
    "select distinct customer_id, customer_name\n",
    "from Customers\n",
    "where customer_id in\n",
    "(\n",
    "    select customer_id\n",
    "    from Orders\n",
    "    where product_name='A'\n",
    ") and customer_id in\n",
    "(\n",
    "    select customer_id\n",
    "    from Orders\n",
    "    where product_name='B'\n",
    ") and customer_id not in\n",
    "(\n",
    "    select customer_id\n",
    "    from Orders\n",
    "    where product_name='C'\n",
    ") "
   ]
  },
  {
   "cell_type": "markdown",
   "metadata": {},
   "source": []
  },
  {
   "cell_type": "markdown",
   "metadata": {},
   "source": [
    "**Solution-3:**"
   ]
  },
  {
   "cell_type": "markdown",
   "metadata": {},
   "source": [
    "``` sql\n",
    "select a.customer_id, a.customer_name\n",
    "from customers a , orders b\n",
    "where a.customer_id  = b.customer_id\n",
    "group by a.customer_id\n",
    "having sum(b.product_name=\"A\") >0 and sum(b.product_name=\"B\") > 0 and sum(b.product_name=\"C\")=0"
   ]
  }
 ],
 "metadata": {
  "language_info": {
   "name": "python"
  }
 },
 "nbformat": 4,
 "nbformat_minor": 2
}
