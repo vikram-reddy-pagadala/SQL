{
 "cells": [
  {
   "cell_type": "markdown",
   "metadata": {},
   "source": [
    "# **619. Biggest Single Number**\n",
    "``` console\n",
    "Table: MyNumbers\n",
    "\n",
    "+-------------+------+\n",
    "| Column Name | Type |\n",
    "+-------------+------+\n",
    "| num         | int  |\n",
    "+-------------+------+\n",
    "\n",
    "This table may contain duplicates (In other words, there is no primary key for this table in SQL).\n",
    "Each row of this table contains an integer.\n",
    " \n",
    "\n",
    "A single number is a number that appeared only once in the MyNumbers table.\n",
    "\n",
    "Find the largest single number. If there is no single number, report null.\n",
    "\n",
    "The result format is in the following example.\n",
    "\n",
    " \n",
    "\n",
    "Example 1:\n",
    "\n",
    "Input: \n",
    "MyNumbers table:\n",
    "+-----+\n",
    "| num |\n",
    "+-----+\n",
    "| 8   |\n",
    "| 8   |\n",
    "| 3   |\n",
    "| 3   |\n",
    "| 1   |\n",
    "| 4   |\n",
    "| 5   |\n",
    "| 6   |\n",
    "+-----+\n",
    "\n",
    "Output: \n",
    "+-----+\n",
    "| num |\n",
    "+-----+\n",
    "| 6   |\n",
    "+-----+\n",
    "\n",
    "Explanation: \n",
    "\n",
    "The single numbers are 1, 4, 5, and 6.\n",
    "\n",
    "Since 6 is the largest single number, we return it.\n",
    "\n",
    "Example 2:\n",
    "\n",
    "Input: \n",
    "MyNumbers table:\n",
    "+-----+\n",
    "| num |\n",
    "+-----+\n",
    "| 8   |\n",
    "| 8   |\n",
    "| 7   |\n",
    "| 7   |\n",
    "| 3   |\n",
    "| 3   |\n",
    "| 3   |\n",
    "+-----+\n",
    "\n",
    "Output: \n",
    "+------+\n",
    "| num  |\n",
    "+------+\n",
    "| null |\n",
    "+------+\n",
    "\n",
    "Explanation: There are no single numbers in the input table so we return null.\n",
    "\n",
    "```"
   ]
  },
  {
   "cell_type": "markdown",
   "metadata": {},
   "source": [
    "**Solution-1:**"
   ]
  },
  {
   "cell_type": "markdown",
   "metadata": {},
   "source": [
    "``` sql\n",
    "SELECT MAX(num) AS num\n",
    "FROM\n",
    "(SELECT num as num\n",
    "FROM MyNumbers\n",
    "GROUP BY num\n",
    "HAVING COUNT(num) = 1)a"
   ]
  },
  {
   "cell_type": "markdown",
   "metadata": {},
   "source": [
    "**Solution-2:**"
   ]
  },
  {
   "cell_type": "markdown",
   "metadata": {},
   "source": [
    "``` sql\n",
    "SELECT MAX(num) AS num  \n",
    "FROM MyNumbers \n",
    "WHERE num IN (SELECT num FROM MyNumbers GROUP BY num HAVING COUNT(*) = 1);"
   ]
  },
  {
   "cell_type": "markdown",
   "metadata": {},
   "source": []
  }
 ],
 "metadata": {
  "language_info": {
   "name": "python"
  }
 },
 "nbformat": 4,
 "nbformat_minor": 2
}
