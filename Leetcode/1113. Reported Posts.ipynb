{
 "cells": [
  {
   "cell_type": "markdown",
   "metadata": {},
   "source": [
    "# **1113. Reported Posts**\n",
    "\n",
    "**Table: Actions**\n",
    "``` console\n",
    "+---------------+---------+\n",
    "| Column Name   | Type    |\n",
    "+---------------+---------+\n",
    "| user_id       | int     |\n",
    "| post_id       | int     |\n",
    "| action_date   | date    | \n",
    "| action        | enum    |\n",
    "| extra         | varchar |\n",
    "+---------------+---------+\n",
    "```\n",
    "This table may have duplicate rows.\n",
    "The action column is an ENUM (category) type of ('view', 'like', 'reaction', 'comment', 'report', 'share').\n",
    "The extra column has optional information about the action, such as a reason for the report or a type of reaction.\n",
    "extra is never NULL.\n",
    " \n",
    "\n",
    "Write a solution to report the number of posts reported yesterday for each report reason. Assume today is 2019-07-05.\n",
    "\n",
    "Return the result table in any order.\n",
    "\n",
    "The result format is in the following example.\n",
    "\n",
    "**Example 1:**\n",
    "\n",
    "**Input:**\n",
    "**Actions table:**\n",
    "``` console\n",
    "+---------+---------+-------------+--------+--------+\n",
    "| user_id | post_id | action_date | action | extra  |\n",
    "+---------+---------+-------------+--------+--------+\n",
    "| 1       | 1       | 2019-07-01  | view   | null   |\n",
    "| 1       | 1       | 2019-07-01  | like   | null   |\n",
    "| 1       | 1       | 2019-07-01  | share  | null   |\n",
    "| 2       | 4       | 2019-07-04  | view   | null   |\n",
    "| 2       | 4       | 2019-07-04  | report | spam   |\n",
    "| 3       | 4       | 2019-07-04  | view   | null   |\n",
    "| 3       | 4       | 2019-07-04  | report | spam   |\n",
    "| 4       | 3       | 2019-07-02  | view   | null   |\n",
    "| 4       | 3       | 2019-07-02  | report | spam   |\n",
    "| 5       | 2       | 2019-07-04  | view   | null   |\n",
    "| 5       | 2       | 2019-07-04  | report | racism |\n",
    "| 5       | 5       | 2019-07-04  | view   | null   |\n",
    "| 5       | 5       | 2019-07-04  | report | racism |\n",
    "+---------+---------+-------------+--------+--------+\n",
    "```\n",
    "**Output:** \n",
    "``` console\n",
    "+---------------+--------------+\n",
    "| report_reason | report_count |\n",
    "+---------------+--------------+\n",
    "| spam          | 1            |\n",
    "| racism        | 2            |\n",
    "+---------------+--------------+\n",
    "```\n",
    "\n",
    "**Explanation:** Note that we only care about report reasons with non-zero number of reports."
   ]
  },
  {
   "cell_type": "markdown",
   "metadata": {},
   "source": [
    "**Solution 1:**"
   ]
  },
  {
   "cell_type": "code",
   "execution_count": null,
   "metadata": {
    "vscode": {
     "languageId": "sql"
    }
   },
   "outputs": [],
   "source": [
    "SELECT extra AS report_reason, COUNT(DISTINCT post_id) AS report_count \n",
    "FROM Actions\n",
    "WHERE action = 'report' AND action_date = '2019-07-04' and extra is not null\n",
    "GROUP BY extra"
   ]
  }
 ],
 "metadata": {
  "language_info": {
   "name": "python"
  }
 },
 "nbformat": 4,
 "nbformat_minor": 2
}
