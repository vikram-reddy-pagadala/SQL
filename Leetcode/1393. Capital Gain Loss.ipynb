{
 "cells": [
  {
   "cell_type": "markdown",
   "metadata": {},
   "source": [
    "# **1393. Capital Gain/Loss**\n",
    "``` console\n",
    "Table: Stocks\n",
    "\n",
    "+---------------+---------+\n",
    "| Column Name   | Type    |\n",
    "+---------------+---------+\n",
    "| stock_name    | varchar |\n",
    "| operation     | enum    |\n",
    "| operation_day | int     |\n",
    "| price         | int     |\n",
    "+---------------+---------+\n",
    "\n",
    "(stock_name, operation_day) is the primary key (combination of columns with unique values) for this table.\n",
    "The operation column is an ENUM (category) of type ('Sell', 'Buy')\n",
    "Each row of this table indicates that the stock which has stock_name had an operation on the day operation_day with the price.\n",
    "It is guaranteed that each 'Sell' operation for a stock has a corresponding 'Buy' operation in a previous day. It is also guaranteed that each 'Buy' operation for a stock has a corresponding 'Sell' operation in an upcoming day.\n",
    " \n",
    "\n",
    "Write a solution to report the Capital gain/loss for each stock.\n",
    "\n",
    "The Capital gain/loss of a stock is the total gain or loss after buying and selling the stock one or many times.\n",
    "\n",
    "Return the result table in any order.\n",
    "\n",
    "The result format is in the following example.\n",
    "\n",
    " \n",
    "\n",
    "Example 1:\n",
    "\n",
    "Input: \n",
    "Stocks table:\n",
    "+---------------+-----------+---------------+--------+\n",
    "| stock_name    | operation | operation_day | price  |\n",
    "+---------------+-----------+---------------+--------+\n",
    "| Leetcode      | Buy       | 1             | 1000   |\n",
    "| Corona Masks  | Buy       | 2             | 10     |\n",
    "| Leetcode      | Sell      | 5             | 9000   |\n",
    "| Handbags      | Buy       | 17            | 30000  |\n",
    "| Corona Masks  | Sell      | 3             | 1010   |\n",
    "| Corona Masks  | Buy       | 4             | 1000   |\n",
    "| Corona Masks  | Sell      | 5             | 500    |\n",
    "| Corona Masks  | Buy       | 6             | 1000   |\n",
    "| Handbags      | Sell      | 29            | 7000   |\n",
    "| Corona Masks  | Sell      | 10            | 10000  |\n",
    "+---------------+-----------+---------------+--------+\n",
    "\n",
    "Output: \n",
    "+---------------+-------------------+\n",
    "| stock_name    | capital_gain_loss |\n",
    "+---------------+-------------------+\n",
    "| Corona Masks  | 9500              |\n",
    "| Leetcode      | 8000              |\n",
    "| Handbags      | -23000            |\n",
    "+---------------+-------------------+\n",
    "\n",
    "Explanation: \n",
    "\n",
    "Leetcode stock was bought at day 1 for 1000$ and was sold at day 5 for 9000$. Capital gain = 9000 - 1000 = 8000$.\n",
    "\n",
    "Handbags stock was bought at day 17 for 30000$ and was sold at day 29 for 7000$. Capital loss = 7000 - 30000 = -23000$.\n",
    "\n",
    "Corona Masks stock was bought at day 1 for 10$ and was sold at day 3 for 1010$. It was bought again at day 4 for 1000$ and was sold at day 5 for 500$. At last, it was bought at day 6 for 1000$ and was sold at day 10 for 10000$. \n",
    "\n",
    "Capital gain/loss is the sum of capital gains/losses for each ('Buy' --> 'Sell') operation = (1010 - 10) + (500 - 1000) + (10000 - 1000) = 1000 - 500 + 9000 = 9500$.\n",
    "\n",
    "```"
   ]
  },
  {
   "cell_type": "markdown",
   "metadata": {},
   "source": [
    "**Solution-1:**"
   ]
  },
  {
   "cell_type": "markdown",
   "metadata": {},
   "source": [
    "``` sql\n",
    "SELECT stock_name,\n",
    "SUM(CASE WHEN operation = 'Buy' THEN -price ELSE price END) as capital_gain_loss\n",
    "FROM Stocks\n",
    "GROUP BY stock_name"
   ]
  }
 ],
 "metadata": {
  "language_info": {
   "name": "python"
  }
 },
 "nbformat": 4,
 "nbformat_minor": 2
}
