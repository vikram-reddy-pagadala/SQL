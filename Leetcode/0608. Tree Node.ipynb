{
 "cells": [
  {
   "cell_type": "markdown",
   "metadata": {},
   "source": [
    "# **608. Tree Node**\n",
    "``` console\n",
    "Table: Tree\n",
    "\n",
    "+-------------+------+\n",
    "| Column Name | Type |\n",
    "+-------------+------+\n",
    "| id          | int  |\n",
    "| p_id        | int  |\n",
    "+-------------+------+\n",
    "id is the column with unique values for this table.\n",
    "Each row of this table contains information about the id of a node and the id of its parent node in a tree.\n",
    "The given structure is always a valid tree.\n",
    " \n",
    "\n",
    "Each node in the tree can be one of three types:\n",
    "\n",
    "\"Leaf\": if the node is a leaf node.\n",
    "\"Root\": if the node is the root of the tree.\n",
    "\"Inner\": If the node is neither a leaf node nor a root node.\n",
    "Write a solution to report the type of each node in the tree.\n",
    "\n",
    "Return the result table in any order.\n",
    "\n",
    "The result format is in the following example.\n",
    "\n",
    " \n",
    "\n",
    "Example 1:\n",
    "\n",
    "\n",
    "Input: \n",
    "Tree table:\n",
    "+----+------+\n",
    "| id | p_id |\n",
    "+----+------+\n",
    "| 1  | null |\n",
    "| 2  | 1    |\n",
    "| 3  | 1    |\n",
    "| 4  | 2    |\n",
    "| 5  | 2    |\n",
    "+----+------+\n",
    "\n",
    "Output: \n",
    "+----+-------+\n",
    "| id | type  |\n",
    "+----+-------+\n",
    "| 1  | Root  |\n",
    "| 2  | Inner |\n",
    "| 3  | Leaf  |\n",
    "| 4  | Leaf  |\n",
    "| 5  | Leaf  |\n",
    "+----+-------+\n",
    "\n",
    "Explanation: \n",
    "Node 1 is the root node because its parent node is null and it has child nodes 2 and 3.\n",
    "Node 2 is an inner node because it has parent node 1 and child node 4 and 5.\n",
    "Nodes 3, 4, and 5 are leaf nodes because they have parent nodes and they do not have child nodes.\n",
    "Example 2:\n",
    "\n",
    "\n",
    "Input: \n",
    "Tree table:\n",
    "+----+------+\n",
    "| id | p_id |\n",
    "+----+------+\n",
    "| 1  | null |\n",
    "+----+------+\n",
    "\n",
    "Output: \n",
    "+----+-------+\n",
    "| id | type  |\n",
    "+----+-------+\n",
    "| 1  | Root  |\n",
    "+----+-------+\n",
    "\n",
    "Explanation: If there is only one node on the tree, you only need to output its root attributes.\n",
    "```"
   ]
  },
  {
   "cell_type": "markdown",
   "metadata": {},
   "source": [
    "**Solutions:**"
   ]
  },
  {
   "cell_type": "code",
   "execution_count": null,
   "metadata": {
    "vscode": {
     "languageId": "sql"
    }
   },
   "outputs": [],
   "source": [
    "SELECT id, \n",
    "CASE WHEN p_id is null THEN 'Root'\n",
    "     WHEN id IN (select (p_id) FROM Tree) THEN 'Inner'\n",
    "     ELSE 'Leaf' END AS type\n",
    "FROM Tree"
   ]
  }
 ],
 "metadata": {
  "language_info": {
   "name": "python"
  }
 },
 "nbformat": 4,
 "nbformat_minor": 2
}
