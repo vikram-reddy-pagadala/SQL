{
 "cells": [
  {
   "cell_type": "markdown",
   "metadata": {},
   "source": [
    "# **2669. Count Artist Occurrences On Spotify Ranking List**\n",
    "\n",
    "**Table: Spotify**\n",
    "``` console\n",
    "+-------------+---------+ \n",
    "| Column Name | Type    | \n",
    "+-------------+---------+ \n",
    "| id          | int     | \n",
    "| track_name  | varchar |\n",
    "| artist      | varchar |\n",
    "+-------------+---------+\n",
    "```\n",
    "id is the primary key (column with unique values) for this table.\n",
    "\n",
    "Each row contains an id, track_name, and artist.\n",
    "\n",
    "Write a solution to find how many times each artist appeared on the Spotify ranking list.\n",
    "\n",
    "Return the result table having the artist's name along with the corresponding number of occurrences ordered by occurrence count in descending order. If the occurrences are equal, then it’s ordered by the artist’s name in ascending order.\n",
    "\n",
    "The result format is in the following example​​​​​.\n",
    "\n",
    " \n",
    "\n",
    "**Example 1:**\n",
    "\n",
    "**Input:**\n",
    "**Spotify table:**\n",
    "``` console \n",
    "+---------+--------------------+------------+ \n",
    "| id      | track_name         | artist     |  \n",
    "+---------+--------------------+------------+\n",
    "| 303651  | Heart Won't Forget | Sia        |\n",
    "| 1046089 | Shape of you       | Ed Sheeran |\n",
    "| 33445   | I'm the one        | DJ Khalid  |\n",
    "| 811266  | Young Dumb & Broke | DJ Khalid  | \n",
    "| 505727  | Happier            | Ed Sheeran |\n",
    "+---------+--------------------+------------+ \n",
    "```\n",
    "**Output:**\n",
    "``` console\n",
    "+------------+-------------+\n",
    "| artist     | occurrences | \n",
    "+------------+-------------+\n",
    "| DJ Khalid  | 2           |\n",
    "| Ed Sheeran | 2           |\n",
    "| Sia        | 1           | \n",
    "+------------+-------------+ \n",
    "```\n",
    "**Explanation:**\n",
    "\n",
    "The count of occurrences is listed in descending order under the column name \"occurrences\". If the number of occurrences is the same, the artist's names are sorted in ascending order."
   ]
  },
  {
   "cell_type": "markdown",
   "metadata": {},
   "source": [
    "**Solution-1:**"
   ]
  },
  {
   "cell_type": "markdown",
   "metadata": {},
   "source": [
    "``` sql\n",
    "# Write your MySQL query statement below\n",
    "\n",
    "SELECT artist, COUNT(*) AS occurrences\n",
    "FROM Spotify\n",
    "GROUP BY artist\n",
    "ORDER BY occurrences DESC, artist ASC"
   ]
  }
 ],
 "metadata": {
  "language_info": {
   "name": "python"
  }
 },
 "nbformat": 4,
 "nbformat_minor": 2
}
