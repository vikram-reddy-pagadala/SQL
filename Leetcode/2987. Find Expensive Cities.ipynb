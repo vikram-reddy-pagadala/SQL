{
 "cells": [
  {
   "cell_type": "markdown",
   "metadata": {},
   "source": [
    "# **2987. Find Expensive Cities**\n",
    "\n",
    "**Table: Listings**\n",
    "``` console\n",
    "+-------------+---------+\n",
    "| Column Name | Type    |\n",
    "+-------------+---------+\n",
    "| listing_id  | int     |\n",
    "| city        | varchar |\n",
    "| price       | int     |\n",
    "+-------------+---------+\n",
    "``` \n",
    "listing_id is column of unique values for this table.\n",
    "\n",
    "This table contains listing_id, city, and price.\n",
    "\n",
    "Write a solution to find cities where the average home prices exceed the national average home price.\n",
    "\n",
    "Return the result table sorted by city in ascending order.\n",
    "\n",
    "The result format is in the following example.\n",
    "\n",
    " \n",
    "\n",
    "Example 1:\n",
    "\n",
    "**Input:** \n",
    "**Listings table:**\n",
    "``` console\n",
    "+------------+--------------+---------+\n",
    "| listing_id | city         | price   | \n",
    "+------------+--------------+---------+\n",
    "| 113        | LosAngeles   | 7560386 | \n",
    "| 136        | SanFrancisco | 2380268 |     \n",
    "| 92         | Chicago      | 9833209 | \n",
    "| 60         | Chicago      | 5147582 | \n",
    "| 8          | Chicago      | 5274441 |  \n",
    "| 79         | SanFrancisco | 8372065 | \n",
    "| 37         | Chicago      | 7939595 | \n",
    "| 53         | LosAngeles   | 4965123 | \n",
    "| 178        | SanFrancisco | 999207  | \n",
    "| 51         | NewYork      | 5951718 | \n",
    "| 121        | NewYork      | 2893760 | \n",
    "+------------+--------------+---------+\n",
    "```\n",
    "**Output**\n",
    "``` console\n",
    "+------------+\n",
    "| city       | \n",
    "+------------+\n",
    "| Chicago    | \n",
    "| LosAngeles |  \n",
    "+------------+\n",
    "```\n",
    "**Explanation**\n",
    "\n",
    "The national average home price is $6,122,059.45. Among the cities listed:\n",
    "- Chicago has an average price of $7,048,706.75\n",
    "- Los Angeles has an average price of $6,277,754.5\n",
    "- San Francisco has an average price of $3,900,513.33\n",
    "- New York has an average price of $4,422,739\n",
    "Only Chicago and Los Angeles have average home prices exceeding the national average. Therefore, these two cities are included in the output table. The output table is sorted in ascending order based on the city names."
   ]
  },
  {
   "cell_type": "markdown",
   "metadata": {},
   "source": [
    "**Solution-1:**"
   ]
  },
  {
   "cell_type": "markdown",
   "metadata": {},
   "source": [
    "``` sql\n",
    "# Write your MySQL query statement below\n",
    "\n",
    "SELECT city\n",
    "FROM Listings\n",
    "GROUP BY city\n",
    "HAVING AVG(price) > (SELECT AVG(price) FROM Listings)\n",
    "ORDER BY city ASC"
   ]
  }
 ],
 "metadata": {
  "language_info": {
   "name": "python"
  }
 },
 "nbformat": 4,
 "nbformat_minor": 2
}
