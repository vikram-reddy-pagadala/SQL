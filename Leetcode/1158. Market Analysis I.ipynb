{
 "cells": [
  {
   "cell_type": "markdown",
   "metadata": {},
   "source": [
    "# **1158. Market Analysis I**\n",
    "``` console\n",
    "Table: Users\n",
    "\n",
    "+----------------+---------+\n",
    "| Column Name    | Type    |\n",
    "+----------------+---------+\n",
    "| user_id        | int     |\n",
    "| join_date      | date    |\n",
    "| favorite_brand | varchar |\n",
    "+----------------+---------+\n",
    "user_id is the primary key (column with unique values) of this table.\n",
    "This table has the info of the users of an online shopping website where users can sell and buy items.\n",
    " \n",
    "\n",
    "Table: Orders\n",
    "\n",
    "+---------------+---------+\n",
    "| Column Name   | Type    |\n",
    "+---------------+---------+\n",
    "| order_id      | int     |\n",
    "| order_date    | date    |\n",
    "| item_id       | int     |\n",
    "| buyer_id      | int     |\n",
    "| seller_id     | int     |\n",
    "+---------------+---------+\n",
    "order_id is the primary key (column with unique values) of this table.\n",
    "item_id is a foreign key (reference column) to the Items table.\n",
    "buyer_id and seller_id are foreign keys to the Users table.\n",
    " \n",
    "\n",
    "Table: Items\n",
    "\n",
    "+---------------+---------+\n",
    "| Column Name   | Type    |\n",
    "+---------------+---------+\n",
    "| item_id       | int     |\n",
    "| item_brand    | varchar |\n",
    "+---------------+---------+\n",
    "item_id is the primary key (column with unique values) of this table.\n",
    " \n",
    "\n",
    "Write a solution to find for each user, the join date and the number of orders they made as a buyer in 2019.\n",
    "\n",
    "Return the result table in any order.\n",
    "\n",
    "The result format is in the following example.\n",
    "\n",
    " \n",
    "\n",
    "Example 1:\n",
    "\n",
    "Input: \n",
    "Users table:\n",
    "+---------+------------+----------------+\n",
    "| user_id | join_date  | favorite_brand |\n",
    "+---------+------------+----------------+\n",
    "| 1       | 2018-01-01 | Lenovo         |\n",
    "| 2       | 2018-02-09 | Samsung        |\n",
    "| 3       | 2018-01-19 | LG             |\n",
    "| 4       | 2018-05-21 | HP             |\n",
    "+---------+------------+----------------+\n",
    "\n",
    "Orders table:\n",
    "+----------+------------+---------+----------+-----------+\n",
    "| order_id | order_date | item_id | buyer_id | seller_id |\n",
    "+----------+------------+---------+----------+-----------+\n",
    "| 1        | 2019-08-01 | 4       | 1        | 2         |\n",
    "| 2        | 2018-08-02 | 2       | 1        | 3         |\n",
    "| 3        | 2019-08-03 | 3       | 2        | 3         |\n",
    "| 4        | 2018-08-04 | 1       | 4        | 2         |\n",
    "| 5        | 2018-08-04 | 1       | 3        | 4         |\n",
    "| 6        | 2019-08-05 | 2       | 2        | 4         |\n",
    "+----------+------------+---------+----------+-----------+\n",
    "\n",
    "Items table:\n",
    "+---------+------------+\n",
    "| item_id | item_brand |\n",
    "+---------+------------+\n",
    "| 1       | Samsung    |\n",
    "| 2       | Lenovo     |\n",
    "| 3       | LG         |\n",
    "| 4       | HP         |\n",
    "+---------+------------+\n",
    "\n",
    "Output: \n",
    "+-----------+------------+----------------+\n",
    "| buyer_id  | join_date  | orders_in_2019 |\n",
    "+-----------+------------+----------------+\n",
    "| 1         | 2018-01-01 | 1              |\n",
    "| 2         | 2018-02-09 | 2              |\n",
    "| 3         | 2018-01-19 | 0              |\n",
    "| 4         | 2018-05-21 | 0              |\n",
    "+-----------+------------+----------------+\n",
    "\n",
    "```"
   ]
  },
  {
   "cell_type": "markdown",
   "metadata": {},
   "source": [
    "**Solutions:**"
   ]
  },
  {
   "cell_type": "code",
   "execution_count": null,
   "metadata": {
    "vscode": {
     "languageId": "sql"
    }
   },
   "outputs": [],
   "source": [
    "SELECT user_id as buyer_id, join_date, COUNT(buyer_id) AS orders_in_2019\n",
    "FROM Users\n",
    "LEFT JOIN Orders\n",
    "ON user_id = buyer_id and year(order_date) = 2019\n",
    "GROUP BY user_id"
   ]
  },
  {
   "cell_type": "code",
   "execution_count": null,
   "metadata": {
    "vscode": {
     "languageId": "sql"
    }
   },
   "outputs": [],
   "source": [
    "SELECT user_id as buyer_id, MAX(join_date) as join_date,\n",
    "COUNT(CASE WHEN o.order_date BETWEEN '2019-01-01' AND '2019-12-31' THEN 1 ELSE NULL END) AS orders_in_2019 \n",
    "FROM Users u \n",
    "LEFT JOIN Orders o \n",
    "ON u.user_id = o.buyer_id\n",
    "GROUP BY user_id"
   ]
  },
  {
   "cell_type": "code",
   "execution_count": null,
   "metadata": {
    "vscode": {
     "languageId": "sql"
    }
   },
   "outputs": [],
   "source": [
    "SELECT user_id as buyer_id, MAX(join_date) as join_date,\n",
    "SUM(CASE WHEN o.order_date BETWEEN '2019-01-01' AND '2019-12-31' THEN 1 ELSE 0 END) AS orders_in_2019 \n",
    "FROM Users u \n",
    "LEFT JOIN Orders o \n",
    "ON u.user_id = o.buyer_id\n",
    "GROUP BY user_id"
   ]
  }
 ],
 "metadata": {
  "language_info": {
   "name": "python"
  }
 },
 "nbformat": 4,
 "nbformat_minor": 2
}
