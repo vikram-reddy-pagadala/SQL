{
 "cells": [
  {
   "cell_type": "markdown",
   "metadata": {},
   "source": [
    "# **1821. Find Customers With Positive Revenue this Year**\n",
    "``` console\n",
    "Table: Customers\n",
    "\n",
    "+--------------+------+\n",
    "| Column Name  | Type |\n",
    "+--------------+------+\n",
    "| customer_id  | int  |\n",
    "| year         | int  |\n",
    "| revenue      | int  |\n",
    "+--------------+------+\n",
    "(customer_id, year) is the primary key (combination of columns with unique values) for this table.\n",
    "This table contains the customer ID and the revenue of customers in different years.\n",
    "Note that this revenue can be negative.\n",
    " \n",
    "\n",
    "Write a solution to report the customers with postive revenue in the year 2021.\n",
    "\n",
    "Return the result table in any order.\n",
    "\n",
    "The result format is in the following example.\n",
    "\n",
    " \n",
    "\n",
    "Example 1:\n",
    "\n",
    "Input: \n",
    "Customers table:\n",
    "+-------------+------+---------+\n",
    "| customer_id | year | revenue |\n",
    "+-------------+------+---------+\n",
    "| 1           | 2018 | 50      |\n",
    "| 1           | 2021 | 30      |\n",
    "| 1           | 2020 | 70      |\n",
    "| 2           | 2021 | -50     |\n",
    "| 3           | 2018 | 10      |\n",
    "| 3           | 2016 | 50      |\n",
    "| 4           | 2021 | 20      |\n",
    "+-------------+------+---------+\n",
    "\n",
    "Output: \n",
    "+-------------+\n",
    "| customer_id |\n",
    "+-------------+\n",
    "| 1           |\n",
    "| 4           |\n",
    "+-------------+\n",
    "\n",
    "Explanation: \n",
    "Customer 1 has revenue equal to 30 in the year 2021.\n",
    "Customer 2 has revenue equal to -50 in the year 2021.\n",
    "Customer 3 has no revenue in the year 2021.\n",
    "Customer 4 has revenue equal to 20 in the year 2021.\n",
    "Thus only customers 1 and 4 have positive revenue in the year 2021.\n",
    "```"
   ]
  },
  {
   "cell_type": "markdown",
   "metadata": {},
   "source": [
    "**Solution-1:**"
   ]
  },
  {
   "cell_type": "markdown",
   "metadata": {},
   "source": [
    "``` sql\n",
    "SELECT customer_id\n",
    "FROM Customers\n",
    "WHERE revenue >0  AND year = 2021"
   ]
  }
 ],
 "metadata": {
  "language_info": {
   "name": "python"
  }
 },
 "nbformat": 4,
 "nbformat_minor": 2
}
