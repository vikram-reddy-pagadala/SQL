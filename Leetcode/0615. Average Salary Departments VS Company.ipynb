{
 "cells": [
  {
   "cell_type": "markdown",
   "metadata": {},
   "source": [
    "# **615. Average Salary: Departments VS Company**\n",
    "``` console\n",
    "Table: Salary\n",
    "\n",
    "+-------------+------+\n",
    "| Column Name | Type |\n",
    "+-------------+------+\n",
    "| id          | int  |\n",
    "| employee_id | int  |\n",
    "| amount      | int  |\n",
    "| pay_date    | date |\n",
    "+-------------+------+\n",
    "In SQL, id is the primary key column for this table.\n",
    "Each row of this table indicates the salary of an employee in one month.\n",
    "employee_id is a foreign key (reference column) from the Employee table.\n",
    " \n",
    "\n",
    "Table: Employee\n",
    "\n",
    "+---------------+------+\n",
    "| Column Name   | Type |\n",
    "+---------------+------+\n",
    "| employee_id   | int  |\n",
    "| department_id | int  |\n",
    "+---------------+------+\n",
    "In SQL, employee_id is the primary key column for this table.\n",
    "Each row of this table indicates the department of an employee.\n",
    " \n",
    "\n",
    "Find the comparison result (higher/lower/same) of the average salary of employees in a department to the company's average salary.\n",
    "\n",
    "Return the result table in any order.\n",
    "\n",
    "The result format is in the following example.\n",
    "\n",
    " \n",
    "\n",
    "Example 1:\n",
    "\n",
    "Input: \n",
    "Salary table:\n",
    "+----+-------------+--------+------------+\n",
    "| id | employee_id | amount | pay_date   |\n",
    "+----+-------------+--------+------------+\n",
    "| 1  | 1           | 9000   | 2017/03/31 |\n",
    "| 2  | 2           | 6000   | 2017/03/31 |\n",
    "| 3  | 3           | 10000  | 2017/03/31 |\n",
    "| 4  | 1           | 7000   | 2017/02/28 |\n",
    "| 5  | 2           | 6000   | 2017/02/28 |\n",
    "| 6  | 3           | 8000   | 2017/02/28 |\n",
    "+----+-------------+--------+------------+\n",
    "\n",
    "Employee table:\n",
    "+-------------+---------------+\n",
    "| employee_id | department_id |\n",
    "+-------------+---------------+\n",
    "| 1           | 1             |\n",
    "| 2           | 2             |\n",
    "| 3           | 2             |\n",
    "+-------------+---------------+\n",
    "\n",
    "Output: \n",
    "+-----------+---------------+------------+\n",
    "| pay_month | department_id | comparison |\n",
    "+-----------+---------------+------------+\n",
    "| 2017-02   | 1             | same       |\n",
    "| 2017-03   | 1             | higher     |\n",
    "| 2017-02   | 2             | same       |\n",
    "| 2017-03   | 2             | lower      |\n",
    "+-----------+---------------+------------+\n",
    "\n",
    "Explanation: \n",
    "In March, the company's average salary is (9000+6000+10000)/3 = 8333.33...\n",
    "The average salary for department '1' is 9000, which is the salary of employee_id '1' since there is only one employee in this department. So the comparison result is 'higher' since 9000 > 8333.33 obviously.\n",
    "The average salary of department '2' is (6000 + 10000)/2 = 8000, which is the average of employee_id '2' and '3'. So the comparison result is 'lower' since 8000 < 8333.33.\n",
    "```"
   ]
  },
  {
   "cell_type": "markdown",
   "metadata": {},
   "source": [
    "**Solution-1:**"
   ]
  },
  {
   "cell_type": "markdown",
   "metadata": {},
   "source": [
    "``` sql\n",
    "SELECT DISTINCT pay_month, department_id,\n",
    "CASE \n",
    "WHEN AVG(amount) OVER(PARTITION BY pay_month, department_id) > AVG(amount) OVER(PARTITION BY pay_month) THEN 'higher'\n",
    "WHEN AVG(amount) OVER(PARTITION BY pay_month, department_id) = AVG(amount) OVER(PARTITION BY pay_month) THEN 'same'\n",
    "WHEN AVG(amount) OVER(PARTITION BY pay_month, department_id) < AVG(amount) OVER(PARTITION BY pay_month) THEN 'lower'\n",
    "END AS comparison\n",
    "FROM\n",
    "(SELECT s.amount, \n",
    "CONCAT(SUBSTRING(s.pay_date,1,4), '-', SUBSTRING(s.pay_date,6,2)) AS pay_month, \n",
    "e.department_id\n",
    "FROM Salary s\n",
    "JOIN Employee e\n",
    "ON s.employee_id = e.employee_id) a"
   ]
  },
  {
   "cell_type": "markdown",
   "metadata": {},
   "source": []
  },
  {
   "cell_type": "markdown",
   "metadata": {},
   "source": [
    "**Solution-2:**"
   ]
  },
  {
   "cell_type": "markdown",
   "metadata": {},
   "source": [
    "``` sql\n",
    "/* Write your T-SQL query statement below */\n",
    "\n",
    "SELECT DISTINCT pay_month, department_id, \n",
    "(\n",
    "    CASE\n",
    "    WHEN avg_dept_sal > avg_company_sal THEN \"higher\"\n",
    "    WHEN avg_dept_sal < avg_company_sal THEN \"lower\"\n",
    "    WHEN avg_dept_sal = avg_company_sal THEN \"same\"\n",
    "    END\n",
    ") as comparison\n",
    "FROM \n",
    "(\n",
    "    SELECT s.employee_id, amount, pay_Date, department_id, LEFT(s.pay_date, 7) as pay_month,\n",
    "     AVG(s.amount) OVER(PARTITION BY s.pay_date) as avg_company_sal,\n",
    "     AVG(s.amount) OVER(PARTITION BY s.pay_Date, e.department_id) as avg_dept_sal\n",
    "    FROM Salary s\n",
    "    JOIN Employee e ON s.employee_id = e.employee_id\n",
    ") as tmp;"
   ]
  },
  {
   "cell_type": "markdown",
   "metadata": {},
   "source": []
  },
  {
   "cell_type": "markdown",
   "metadata": {},
   "source": [
    "**Solution-3:**"
   ]
  },
  {
   "cell_type": "markdown",
   "metadata": {},
   "source": [
    "``` sql\n",
    "-- Write your PostgreSQL query statement below\n",
    "SELECT DISTINCT\n",
    "TO_CHAR(date_trunc('month', pay_date), 'YYYY-MM') AS pay_month,\n",
    "department_id,\n",
    "CASE \n",
    "WHEN AVG(amount) OVER (PARTITION BY department_id, date_trunc('month', pay_date)) < AVG(amount) OVER (PARTITION BY date_trunc('month', pay_date)) THEN 'lower' \n",
    "WHEN AVG(amount) OVER (PARTITION BY department_id, date_trunc('month', pay_date)) > AVG(amount) OVER (PARTITION BY date_trunc('month', pay_date)) THEN 'higher'\n",
    "ELSE 'same' END AS comparison\n",
    "FROM salary s\n",
    "JOIN employee e\n",
    "ON s.employee_id = e.employee_id"
   ]
  }
 ],
 "metadata": {
  "language_info": {
   "name": "python"
  }
 },
 "nbformat": 4,
 "nbformat_minor": 2
}
