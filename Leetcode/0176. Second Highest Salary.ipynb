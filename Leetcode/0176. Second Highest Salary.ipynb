{
 "cells": [
  {
   "cell_type": "markdown",
   "metadata": {},
   "source": [
    "# **176. Second Highest Salary**\n",
    "\n",
    "**Table: Employee**\n",
    "``` console\n",
    "+-------------+------+\n",
    "| Column Name | Type |\n",
    "+-------------+------+\n",
    "| id          | int  |\n",
    "| salary      | int  |\n",
    "+-------------+------+\n",
    "```\n",
    "id is the primary key (column with unique values) for this table.\n",
    "Each row of this table contains information about the salary of an employee.\n",
    " \n",
    "\n",
    "Write a solution to find the second highest distinct salary from the Employee table. If there is no second highest salary, return null (return None in Pandas).\n",
    "\n",
    "The result format is in the following example.\n",
    "\n",
    "**Example 1:**\n",
    "\n",
    "**Input:**\n",
    "**Employee table:**\n",
    "``` console\n",
    "+----+--------+\n",
    "| id | salary |\n",
    "+----+--------+\n",
    "| 1  | 100    |\n",
    "| 2  | 200    |\n",
    "| 3  | 300    |\n",
    "+----+--------+\n",
    "```\n",
    "**Output:**\n",
    "``` console \n",
    "+---------------------+\n",
    "| SecondHighestSalary |\n",
    "+---------------------+\n",
    "| 200                 |\n",
    "+---------------------+\n",
    "```\n",
    "**Example 2:**\n",
    "\n",
    "**Input:** \n",
    "**Employee table:**\n",
    "``` console\n",
    "+----+--------+\n",
    "| id | salary |\n",
    "+----+--------+\n",
    "| 1  | 100    |\n",
    "+----+--------+\n",
    "```\n",
    "**Output:** \n",
    "``` console\n",
    "+---------------------+\n",
    "| SecondHighestSalary |\n",
    "+---------------------+\n",
    "| null                |\n",
    "+---------------------+\n",
    "```"
   ]
  },
  {
   "cell_type": "markdown",
   "metadata": {},
   "source": [
    "**Solution 1:**"
   ]
  },
  {
   "cell_type": "code",
   "execution_count": null,
   "metadata": {
    "vscode": {
     "languageId": "sql"
    }
   },
   "outputs": [],
   "source": [
    "SELECT MAX(salary) AS SecondHighestSalary \n",
    "FROM Employee\n",
    "WHERE salary < (SELECT MAX(salary) FROM Employee)"
   ]
  },
  {
   "cell_type": "markdown",
   "metadata": {},
   "source": [
    "**Solution 2**"
   ]
  },
  {
   "cell_type": "code",
   "execution_count": null,
   "metadata": {
    "vscode": {
     "languageId": "sql"
    }
   },
   "outputs": [],
   "source": [
    "select coalesce(\n",
    "    (select distinct salary from employee\n",
    "        order by salary desc limit 1, 1), null) as SecondHighestSalary;"
   ]
  },
  {
   "cell_type": "markdown",
   "metadata": {},
   "source": [
    "**Solution 3**"
   ]
  },
  {
   "cell_type": "code",
   "execution_count": null,
   "metadata": {
    "vscode": {
     "languageId": "sql"
    }
   },
   "outputs": [],
   "source": [
    "SELECT\n",
    "    IFNULL(\n",
    "      (SELECT DISTINCT Salary\n",
    "       FROM Employee\n",
    "       ORDER BY Salary DESC\n",
    "        LIMIT 1 OFFSET 1),\n",
    "    NULL) AS SecondHighestSalary"
   ]
  }
 ],
 "metadata": {
  "language_info": {
   "name": "python"
  }
 },
 "nbformat": 4,
 "nbformat_minor": 2
}
