{
 "cells": [
  {
   "cell_type": "markdown",
   "metadata": {},
   "source": [
    "# **3358. Books with NULL Ratings**\n",
    "\n",
    "**Table: books**\n",
    "``` console\n",
    "+----------------+---------+\n",
    "| Column Name    | Type    |\n",
    "+----------------+---------+\n",
    "| book_id        | int     |\n",
    "| title          | varchar |\n",
    "| author         | varchar |\n",
    "| published_year | int     |\n",
    "| rating         | decimal |\n",
    "+----------------+---------+\n",
    "```\n",
    "book_id is the unique key for this table.\n",
    "\n",
    "Each row of this table contains information about a book including its unique ID, title, author, publication year, and rating.\n",
    "\n",
    "rating can be NULL, indicating that the book hasn't been rated yet.\n",
    "\n",
    "Write a solution to find all books that have not been rated yet (i.e., have a NULL rating).\n",
    "\n",
    "Return the result table ordered by book_id in ascending order.\n",
    "\n",
    "The result format is in the following example.\n",
    "\n",
    " \n",
    "\n",
    "**Example:**\n",
    "\n",
    "**Input:**\n",
    "\n",
    "**books table:**\n",
    "``` console\n",
    "+---------+------------------------+------------------+----------------+--------+\n",
    "| book_id | title                  | author           | published_year | rating |\n",
    "+---------+------------------------+------------------+----------------+--------+\n",
    "| 1       | The Great Gatsby       | F. Scott         | 1925           | 4.5    |\n",
    "| 2       | To Kill a Mockingbird  | Harper Lee       | 1960           | NULL   |\n",
    "| 3       | Pride and Prejudice    | Jane Austen      | 1813           | 4.8    |\n",
    "| 4       | The Catcher in the Rye | J.D. Salinger    | 1951           | NULL   |\n",
    "| 5       | Animal Farm            | George Orwell    | 1945           | 4.2    |\n",
    "| 6       | Lord of the Flies      | William Golding  | 1954           | NULL   |\n",
    "+---------+------------------------+------------------+----------------+--------+\n",
    "```\n",
    "**Output:**\n",
    "``` console\n",
    "+---------+------------------------+------------------+----------------+\n",
    "| book_id | title                  | author           | published_year |\n",
    "+---------+------------------------+------------------+----------------+\n",
    "| 2       | To Kill a Mockingbird  | Harper Lee       | 1960           |\n",
    "| 4       | The Catcher in the Rye | J.D. Salinger    | 1951           |\n",
    "| 6       | Lord of the Flies      | William Golding  | 1954           |\n",
    "+---------+------------------------+------------------+----------------+\n",
    "```\n",
    "**Explanation:**\n",
    "\n",
    "The books with book_id 2, 4, and 6 have NULL ratings.\n",
    "\n",
    "These books are included in the result table.\n",
    "\n",
    "The other books (book_id 1, 3, and 5) have ratings and are not included.\n",
    "\n",
    "The result is ordered by book_id in ascending order"
   ]
  },
  {
   "cell_type": "markdown",
   "metadata": {},
   "source": [
    "**Solution-1:**"
   ]
  },
  {
   "cell_type": "markdown",
   "metadata": {},
   "source": [
    "``` sql\n",
    "# Write your MySQL query statement below\n",
    "\n",
    "SELECT book_id, title, author, published_year\n",
    "FROM books\n",
    "WHERE rating IS NULL\n",
    "ORDER BY book_id ASC"
   ]
  }
 ],
 "metadata": {
  "language_info": {
   "name": "python"
  }
 },
 "nbformat": 4,
 "nbformat_minor": 2
}
