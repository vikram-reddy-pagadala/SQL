{
 "cells": [
  {
   "cell_type": "markdown",
   "metadata": {},
   "source": [
    "# **1132. Reported Posts II**\n",
    "``` console\n",
    "Table: Actions\n",
    "\n",
    "+---------------+---------+\n",
    "| Column Name   | Type    |\n",
    "+---------------+---------+\n",
    "| user_id       | int     |\n",
    "| post_id       | int     |\n",
    "| action_date   | date    | \n",
    "| action        | enum    |\n",
    "| extra         | varchar |\n",
    "+---------------+---------+\n",
    "This table may have duplicate rows.\n",
    "The action column is an ENUM (category) type of ('view', 'like', 'reaction', 'comment', 'report', 'share').\n",
    "The extra column has optional information about the action, such as a reason for the report or a type of reaction.\n",
    " \n",
    "\n",
    "Table: Removals\n",
    "\n",
    "+---------------+---------+\n",
    "| Column Name   | Type    |\n",
    "+---------------+---------+\n",
    "| post_id       | int     |\n",
    "| remove_date   | date    | \n",
    "+---------------+---------+\n",
    "post_id is the primary key (column with unique values) of this table.\n",
    "Each row in this table indicates that some post was removed due to being reported or as a result of an admin review.\n",
    " \n",
    "\n",
    "Write a solution to find the average daily percentage of posts that got removed after being reported as spam, rounded to 2 decimal places.\n",
    "\n",
    "The result format is in the following example.\n",
    "\n",
    " \n",
    "\n",
    "Example 1:\n",
    "\n",
    "Input: \n",
    "Actions table:\n",
    "+---------+---------+-------------+--------+--------+\n",
    "| user_id | post_id | action_date | action | extra  |\n",
    "+---------+---------+-------------+--------+--------+\n",
    "| 1       | 1       | 2019-07-01  | view   | null   |\n",
    "| 1       | 1       | 2019-07-01  | like   | null   |\n",
    "| 1       | 1       | 2019-07-01  | share  | null   |\n",
    "| 2       | 2       | 2019-07-04  | view   | null   |\n",
    "| 2       | 2       | 2019-07-04  | report | spam   |\n",
    "| 3       | 4       | 2019-07-04  | view   | null   |\n",
    "| 3       | 4       | 2019-07-04  | report | spam   |\n",
    "| 4       | 3       | 2019-07-02  | view   | null   |\n",
    "| 4       | 3       | 2019-07-02  | report | spam   |\n",
    "| 5       | 2       | 2019-07-03  | view   | null   |\n",
    "| 5       | 2       | 2019-07-03  | report | racism |\n",
    "| 5       | 5       | 2019-07-03  | view   | null   |\n",
    "| 5       | 5       | 2019-07-03  | report | racism |\n",
    "+---------+---------+-------------+--------+--------+\n",
    "\n",
    "Removals table:\n",
    "+---------+-------------+\n",
    "| post_id | remove_date |\n",
    "+---------+-------------+\n",
    "| 2       | 2019-07-20  |\n",
    "| 3       | 2019-07-18  |\n",
    "+---------+-------------+\n",
    "\n",
    "Output: \n",
    "+-----------------------+\n",
    "| average_daily_percent |\n",
    "+-----------------------+\n",
    "| 75.00                 |\n",
    "+-----------------------+\n",
    "\n",
    "Explanation: \n",
    "The percentage for 2019-07-04 is 50% because only one post of two spam reported posts were removed.\n",
    "The percentage for 2019-07-02 is 100% because one post was reported as spam and it was removed.\n",
    "The other days had no spam reports so the average is (50 + 100) / 2 = 75%\n",
    "Note that the output is only one number and that we do not care about the remove dates.\n",
    "```"
   ]
  },
  {
   "cell_type": "markdown",
   "metadata": {},
   "source": [
    "**Solution-1:**"
   ]
  },
  {
   "cell_type": "markdown",
   "metadata": {},
   "source": [
    "``` sql\n",
    "SELECT ROUND(AVG(percentage),2) AS average_daily_percent \n",
    "FROM\n",
    "(SELECT a.action_date, (COUNT(DISTINCT r.post_id) * 100 / COUNT(DISTINCT a.post_id)) as Percentage\n",
    "FROM Actions a\n",
    "LEFT JOIN Removals r\n",
    "ON a.post_id = r.post_id\n",
    "WHERE extra = 'spam'\n",
    "GROUP BY a.action_date)a"
   ]
  },
  {
   "cell_type": "markdown",
   "metadata": {},
   "source": []
  },
  {
   "cell_type": "markdown",
   "metadata": {},
   "source": [
    "**Solution-2:**"
   ]
  },
  {
   "cell_type": "markdown",
   "metadata": {},
   "source": [
    "``` sql\n",
    "SELECT ROUND(SUM(daily_avg)/COUNT(date)*100,2) AS average_daily_percent \n",
    "FROM\n",
    "(SELECT \n",
    "    t.action_date AS date,\n",
    "    (COUNT(DISTINCT CASE WHEN remove_date IS NOT NULL THEN post_id ELSE NULL END)/COUNT(DISTINCT post_id)) as daily_avg\n",
    "FROM\n",
    "(SELECT a.post_id, a.action_date, r.remove_date\n",
    "FROM Actions a \n",
    "LEFT JOIN Removals r\n",
    "ON a.post_id = r.post_id\n",
    "WHERE a.extra='spam') t\n",
    "GROUP BY t.action_date) t2;"
   ]
  }
 ],
 "metadata": {
  "language_info": {
   "name": "python"
  }
 },
 "nbformat": 4,
 "nbformat_minor": 2
}
