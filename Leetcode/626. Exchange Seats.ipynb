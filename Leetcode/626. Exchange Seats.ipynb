{
 "cells": [
  {
   "cell_type": "markdown",
   "metadata": {},
   "source": [
    "# **626. Exchange Seats**\n",
    "``` console\n",
    "Table: Seat\n",
    "+-------------+---------+\n",
    "| Column Name | Type    |\n",
    "+-------------+---------+\n",
    "| id          | int     |\n",
    "| student     | varchar |\n",
    "+-------------+---------+\n",
    "\n",
    "id is the primary key (unique value) column for this table.\n",
    "Each row of this table indicates the name and the ID of a student.\n",
    "The ID sequence always starts from 1 and increments continuously.\n",
    " \n",
    "\n",
    "Write a solution to swap the seat id of every two consecutive students. If the number of students is odd, the id of the last student is not swapped.\n",
    "\n",
    "Return the result table ordered by id in ascending order.\n",
    "\n",
    "The result format is in the following example.\n",
    "\n",
    " \n",
    "\n",
    "Example 1:\n",
    "\n",
    "Input: \n",
    "Seat table:\n",
    "+----+---------+\n",
    "| id | student |\n",
    "+----+---------+\n",
    "| 1  | Abbot   |\n",
    "| 2  | Doris   |\n",
    "| 3  | Emerson |\n",
    "| 4  | Green   |\n",
    "| 5  | Jeames  |\n",
    "+----+---------+\n",
    "\n",
    "Output: \n",
    "+----+---------+\n",
    "| id | student |\n",
    "+----+---------+\n",
    "| 1  | Doris   |\n",
    "| 2  | Abbot   |\n",
    "| 3  | Green   |\n",
    "| 4  | Emerson |\n",
    "| 5  | Jeames  |\n",
    "+----+---------+\n",
    "\n",
    "Explanation: \n",
    "Note that if the number of students is odd, there is no need to change the last one's seat.\n",
    "```"
   ]
  },
  {
   "cell_type": "markdown",
   "metadata": {},
   "source": [
    "**Solutions:**"
   ]
  },
  {
   "cell_type": "code",
   "execution_count": null,
   "metadata": {
    "vscode": {
     "languageId": "sql"
    }
   },
   "outputs": [],
   "source": [
    "SELECT\n",
    "CASE WHEN id = (SELECT MAX(id) FROM Seat) AND id%2 != 0 THEN id\n",
    "     WHEN id % 2 = 0 THEN id -1\n",
    "     ELSE id + 1\n",
    "     END AS id,\n",
    "student\n",
    "FROM seat\n",
    "ORDER BY id "
   ]
  },
  {
   "cell_type": "code",
   "execution_count": null,
   "metadata": {
    "vscode": {
     "languageId": "sql"
    }
   },
   "outputs": [],
   "source": [
    "SELECT \n",
    "    id,\n",
    "    CASE\n",
    "        WHEN id % 2 = 0 THEN LAG(student) OVER(ORDER BY id)\n",
    "        ELSE COALESCE(LEAD(student) OVER(ORDER BY id), student)\n",
    "    END AS student\n",
    "FROM Seat"
   ]
  },
  {
   "cell_type": "code",
   "execution_count": null,
   "metadata": {
    "vscode": {
     "languageId": "sql"
    }
   },
   "outputs": [],
   "source": [
    "-- Write your PostgreSQL query statement below\n",
    "with lagLead as (\n",
    "   select\n",
    "       id as preid,\n",
    "       student,\n",
    "       lag(id) over(order by id) as lag,\n",
    "       lead(id) over(order by id) as lead\n",
    "   from Seat\n",
    ")\n",
    "\n",
    "select\n",
    "   case\n",
    "       when mod(preid, 2) <> 0 then coalesce(lead, preid)\n",
    "       else lag\n",
    "   end as id,\n",
    "   student\n",
    "from\n",
    "   lagLead\n",
    "order by\n",
    "   id"
   ]
  }
 ],
 "metadata": {
  "language_info": {
   "name": "python"
  }
 },
 "nbformat": 4,
 "nbformat_minor": 2
}
