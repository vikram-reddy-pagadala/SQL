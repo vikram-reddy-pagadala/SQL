{
 "cells": [
  {
   "cell_type": "markdown",
   "metadata": {},
   "source": [
    "# **2308. Arrange Table by Gender**\n",
    "\n",
    "**Table: Genders**\n",
    "``` console\n",
    "+-------------+---------+\n",
    "| Column Name | Type    |\n",
    "+-------------+---------+\n",
    "| user_id     | int     |\n",
    "| gender      | varchar |\n",
    "+-------------+---------+\n",
    "```\n",
    "user_id is the primary key (column with unique values) for this table.\n",
    "\n",
    "gender is ENUM (category) of type 'female', 'male', or 'other'.\n",
    "\n",
    "Each row in this table contains the ID of a user and their gender.\n",
    "\n",
    "The table has an equal number of 'female', 'male', and 'other'.\n",
    " \n",
    "\n",
    "Write a solution to rearrange the Genders table such that the rows alternate between 'female', 'other', and 'male' in order. The table should be rearranged such that the IDs of each gender are sorted in ascending order.\n",
    "\n",
    "Return the result table in the mentioned order.\n",
    "\n",
    "The result format is shown in the following example.\n",
    "\n",
    " \n",
    "\n",
    "**Example 1:**\n",
    "\n",
    "**Input:** \n",
    "**Genders table:**\n",
    "``` console\n",
    "+---------+--------+\n",
    "| user_id | gender |\n",
    "+---------+--------+\n",
    "| 4       | male   |\n",
    "| 7       | female |\n",
    "| 2       | other  |\n",
    "| 5       | male   |\n",
    "| 3       | female |\n",
    "| 8       | male   |\n",
    "| 6       | other  |\n",
    "| 1       | other  |\n",
    "| 9       | female |\n",
    "+---------+--------+\n",
    "```\n",
    "**Output:** \n",
    "``` console\n",
    "+---------+--------+\n",
    "| user_id | gender |\n",
    "+---------+--------+\n",
    "| 3       | female |\n",
    "| 1       | other  |\n",
    "| 4       | male   |\n",
    "| 7       | female |\n",
    "| 2       | other  |\n",
    "| 5       | male   |\n",
    "| 9       | female |\n",
    "| 6       | other  |\n",
    "| 8       | male   |\n",
    "+---------+--------+\n",
    "```\n",
    "**Explanation:**\n",
    "\n",
    "Female gender: IDs 3, 7, and 9.\n",
    "\n",
    "Other gender: IDs 1, 2, and 6.\n",
    "\n",
    "Male gender: IDs 4, 5, and 8.\n",
    "\n",
    "We arrange the table alternating between 'female', 'other', and 'male'.\n",
    "\n",
    "Note that the IDs of each gender are sorted in ascending order."
   ]
  },
  {
   "cell_type": "markdown",
   "metadata": {},
   "source": [
    "**Solution-1:**"
   ]
  },
  {
   "cell_type": "markdown",
   "metadata": {},
   "source": [
    "``` sql\n",
    "SELECT user_id, gender\n",
    "FROM\n",
    "(SELECT user_id, gender, ROW_NUMBER() OVER(PARTITION BY gender ORDER BY user_id ASC) As rn\n",
    "FROM Genders)a\n",
    "ORDER BY rn ASC, gender"
   ]
  },
  {
   "cell_type": "markdown",
   "metadata": {},
   "source": [
    "**Solution-2:**"
   ]
  },
  {
   "cell_type": "markdown",
   "metadata": {},
   "source": [
    "``` sql\n",
    "SELECT user_id, gender \n",
    "FROM Genders\n",
    "ORDER BY ROW_NUMBER() OVER(PARTITION BY gender ORDER BY user_id ASC)ASC, gender"
   ]
  },
  {
   "cell_type": "markdown",
   "metadata": {},
   "source": [
    "**Solution-3:**"
   ]
  },
  {
   "cell_type": "markdown",
   "metadata": {},
   "source": [
    "``` sql\n",
    "select user_id, gender\n",
    "from genders\n",
    "order by dense_rank() over (partition by gender order by user_id asc), length(gender) desc"
   ]
  },
  {
   "cell_type": "markdown",
   "metadata": {},
   "source": [
    "**Solution-4:**"
   ]
  },
  {
   "cell_type": "markdown",
   "metadata": {},
   "source": [
    "``` sql\n",
    "WITH A AS(\n",
    "    SELECT *, RANK() OVER(PARTITION BY gender ORDER BY user_id) AS rnk, IF(gender='female', 0, IF(gender='other', 1,  2)) AS rnk2 FROM Genders\n",
    ")\n",
    "SELECT user_id, gender FROM A ORDER BY rnk, rnk2;"
   ]
  }
 ],
 "metadata": {
  "language_info": {
   "name": "python"
  }
 },
 "nbformat": 4,
 "nbformat_minor": 2
}
