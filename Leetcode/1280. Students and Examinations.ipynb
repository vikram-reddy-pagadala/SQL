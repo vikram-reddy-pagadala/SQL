{
 "cells": [
  {
   "cell_type": "markdown",
   "metadata": {},
   "source": [
    "# **1280. Students and Examinations**\n",
    "``` console\n",
    "Table: Students\n",
    "+---------------+---------+\n",
    "| Column Name   | Type    |\n",
    "+---------------+---------+\n",
    "| student_id    | int     |\n",
    "| student_name  | varchar |\n",
    "+---------------+---------+\n",
    "\n",
    "student_id is the primary key (column with unique values) for this table.\n",
    "Each row of this table contains the ID and the name of one student in the school.\n",
    " \n",
    "\n",
    "Table: Subjects\n",
    "+--------------+---------+\n",
    "| Column Name  | Type    |\n",
    "+--------------+---------+\n",
    "| subject_name | varchar |\n",
    "+--------------+---------+\n",
    "\n",
    "subject_name is the primary key (column with unique values) for this table.\n",
    "Each row of this table contains the name of one subject in the school.\n",
    " \n",
    "\n",
    "Table: Examinations\n",
    "+--------------+---------+\n",
    "| Column Name  | Type    |\n",
    "+--------------+---------+\n",
    "| student_id   | int     |\n",
    "| subject_name | varchar |\n",
    "+--------------+---------+\n",
    "\n",
    "There is no primary key (column with unique values) for this table. It may contain duplicates.\n",
    "Each student from the Students table takes every course from the Subjects table.\n",
    "Each row of this table indicates that a student with ID student_id attended the exam of subject_name.\n",
    " \n",
    "\n",
    "Write a solution to find the number of times each student attended each exam.\n",
    "\n",
    "Return the result table ordered by student_id and subject_name.\n",
    "\n",
    "The result format is in the following example.\n",
    "\n",
    " \n",
    "\n",
    "Example 1:\n",
    "\n",
    "Input: \n",
    "Students table:\n",
    "+------------+--------------+\n",
    "| student_id | student_name |\n",
    "+------------+--------------+\n",
    "| 1          | Alice        |\n",
    "| 2          | Bob          |\n",
    "| 13         | John         |\n",
    "| 6          | Alex         |\n",
    "+------------+--------------+\n",
    "\n",
    "Subjects table:\n",
    "+--------------+\n",
    "| subject_name |\n",
    "+--------------+\n",
    "| Math         |\n",
    "| Physics      |\n",
    "| Programming  |\n",
    "+--------------+\n",
    "\n",
    "Examinations table:\n",
    "+------------+--------------+\n",
    "| student_id | subject_name |\n",
    "+------------+--------------+\n",
    "| 1          | Math         |\n",
    "| 1          | Physics      |\n",
    "| 1          | Programming  |\n",
    "| 2          | Programming  |\n",
    "| 1          | Physics      |\n",
    "| 1          | Math         |\n",
    "| 13         | Math         |\n",
    "| 13         | Programming  |\n",
    "| 13         | Physics      |\n",
    "| 2          | Math         |\n",
    "| 1          | Math         |\n",
    "+------------+--------------+\n",
    "\n",
    "Output: \n",
    "+------------+--------------+--------------+----------------+\n",
    "| student_id | student_name | subject_name | attended_exams |\n",
    "+------------+--------------+--------------+----------------+\n",
    "| 1          | Alice        | Math         | 3              |\n",
    "| 1          | Alice        | Physics      | 2              |\n",
    "| 1          | Alice        | Programming  | 1              |\n",
    "| 2          | Bob          | Math         | 1              |\n",
    "| 2          | Bob          | Physics      | 0              |\n",
    "| 2          | Bob          | Programming  | 1              |\n",
    "| 6          | Alex         | Math         | 0              |\n",
    "| 6          | Alex         | Physics      | 0              |\n",
    "| 6          | Alex         | Programming  | 0              |\n",
    "| 13         | John         | Math         | 1              |\n",
    "| 13         | John         | Physics      | 1              |\n",
    "| 13         | John         | Programming  | 1              |\n",
    "+------------+--------------+--------------+----------------+\n",
    "\n",
    "Explanation: \n",
    "\n",
    "The result table should contain all students and all subjects.\n",
    "Alice attended the Math exam 3 times, the Physics exam 2 times, and the Programming exam 1 time.\n",
    "Bob attended the Math exam 1 time, the Programming exam 1 time, and did not attend the Physics exam.\n",
    "Alex did not attend any exams.\n",
    "John attended the Math exam 1 time, the Physics exam 1 time, and the Programming exam 1 time.\n",
    "```"
   ]
  },
  {
   "cell_type": "markdown",
   "metadata": {},
   "source": [
    "**Solutions:**"
   ]
  },
  {
   "cell_type": "markdown",
   "metadata": {
    "vscode": {
     "languageId": "sql"
    }
   },
   "source": [
    "``` sql\n",
    "SELECT \n",
    "    s3.student_id,\n",
    "    s3.student_name,\n",
    "    s3.subject_name,\n",
    "    COALESCE(COUNT(e.subject_name), 0) AS attended_exams\n",
    "FROM\n",
    "    (SELECT \n",
    "        s1.*,\n",
    "        s2.*\n",
    "     FROM \n",
    "        Students s1, \n",
    "        Subjects s2\n",
    "    ) AS s3\n",
    "LEFT JOIN \n",
    "    Examinations e\n",
    "ON \n",
    "    s3.student_id = e.student_id \n",
    "    AND s3.subject_name = e.subject_name\n",
    "GROUP BY \n",
    "    s3.student_id, \n",
    "    s3.student_name, \n",
    "    s3.subject_name\n",
    "ORDER BY \n",
    "    s3.student_id, \n",
    "    s3.subject_name;\n"
   ]
  },
  {
   "cell_type": "markdown",
   "metadata": {},
   "source": []
  },
  {
   "cell_type": "markdown",
   "metadata": {},
   "source": []
  },
  {
   "cell_type": "markdown",
   "metadata": {},
   "source": []
  },
  {
   "cell_type": "markdown",
   "metadata": {
    "vscode": {
     "languageId": "sql"
    }
   },
   "source": [
    "``` sql\n",
    "SELECT s.student_id, s.student_name, sub.subject_name, COALESCE(e.attended_exams, 0) AS attended_exams\n",
    "FROM Students s\n",
    "CROSS JOIN Subjects sub\n",
    "LEFT JOIN (\n",
    "    SELECT student_id, subject_name, COUNT(*) AS attended_exams\n",
    "    FROM Examinations\n",
    "    GROUP BY student_id, subject_name\n",
    ") e ON s.student_id = e.student_id AND sub.subject_name = e.subject_name\n",
    "ORDER BY s.student_id, sub.subject_name;"
   ]
  },
  {
   "cell_type": "markdown",
   "metadata": {},
   "source": []
  },
  {
   "cell_type": "markdown",
   "metadata": {},
   "source": []
  },
  {
   "cell_type": "markdown",
   "metadata": {},
   "source": []
  },
  {
   "cell_type": "markdown",
   "metadata": {
    "vscode": {
     "languageId": "sql"
    }
   },
   "source": [
    "``` sql\n",
    "SELECT s.student_id, s.student_name, sub.subject_name, COUNT(e.student_id) AS attended_exams\n",
    "FROM Students s\n",
    "CROSS JOIN Subjects sub\n",
    "LEFT JOIN Examinations e ON s.student_id = e.student_id AND sub.subject_name = e.subject_name\n",
    "GROUP BY s.student_id, s.student_name, sub.subject_name\n",
    "ORDER BY s.student_id, sub.subject_name;"
   ]
  },
  {
   "cell_type": "markdown",
   "metadata": {},
   "source": []
  },
  {
   "cell_type": "markdown",
   "metadata": {},
   "source": []
  },
  {
   "cell_type": "markdown",
   "metadata": {},
   "source": []
  },
  {
   "cell_type": "markdown",
   "metadata": {},
   "source": [
    "#### Solution:\n",
    "\n",
    "``` sql\n",
    "\n",
    "SELECT \n",
    "    *,\n",
    "    (SELECT \n",
    "         COUNT(*)\n",
    "     FROM \n",
    "         Examinations e\n",
    "     WHERE \n",
    "         e.student_id = s.student_id \n",
    "         AND e.subject_name = s.subject_name) AS attended_exams\n",
    "FROM \n",
    "    (SELECT * \n",
    "     FROM Students \n",
    "     CROSS JOIN Subjects) AS s\n",
    "ORDER BY \n",
    "    s.student_id, \n",
    "    s.subject_name;\n"
   ]
  }
 ],
 "metadata": {
  "language_info": {
   "name": "python"
  }
 },
 "nbformat": 4,
 "nbformat_minor": 2
}
