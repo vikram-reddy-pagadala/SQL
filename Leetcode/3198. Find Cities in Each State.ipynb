{
 "cells": [
  {
   "cell_type": "markdown",
   "metadata": {},
   "source": [
    "# **3198. Find Cities in Each State**\n",
    "\n",
    "**Table: cities**\n",
    "``` console\n",
    "+-------------+---------+\n",
    "| Column Name | Type    | \n",
    "+-------------+---------+\n",
    "| state       | varchar |\n",
    "| city        | varchar |\n",
    "+-------------+---------+\n",
    "```\n",
    "(state, city) is the primary key (combination of columns with unique values) for this table.\n",
    "\n",
    "Each row of this table contains the state name and the city name within that state.\n",
    "\n",
    "Write a solution to find all the cities in each state and combine them into a single comma-separated string.\n",
    "\n",
    "Return the result table ordered by state and city in ascending order.\n",
    "\n",
    "The result format is in the following example.\n",
    "\n",
    " \n",
    "\n",
    "**Example:**\n",
    "\n",
    "**Input:**\n",
    "\n",
    "**cities table:**\n",
    "``` console\n",
    "+-------------+---------------+\n",
    "| state       | city          |\n",
    "+-------------+---------------+\n",
    "| California  | Los Angeles   |\n",
    "| California  | San Francisco |\n",
    "| California  | San Diego     |\n",
    "| Texas       | Houston       |\n",
    "| Texas       | Austin        |\n",
    "| Texas       | Dallas        |\n",
    "| New York    | New York City |\n",
    "| New York    | Buffalo       |\n",
    "| New York    | Rochester     |\n",
    "+-------------+---------------+\n",
    "```\n",
    "**Output:**\n",
    "``` console\n",
    "+-------------+---------------------------------------+\n",
    "| state       | cities                                |\n",
    "+-------------+---------------------------------------+\n",
    "| California  | Los Angeles, San Diego, San Francisco |\n",
    "| New York    | Buffalo, New York City, Rochester     |\n",
    "| Texas       | Austin, Dallas, Houston               |\n",
    "+-------------+---------------------------------------+\n",
    "```\n",
    "**Explanation:**\n",
    "\n",
    "California: All cities (\"Los Angeles\", \"San Diego\", \"San Francisco\") are listed in a comma-separated string.\n",
    "\n",
    "New York: All cities (\"Buffalo\", \"New York City\", \"Rochester\") are listed in a comma-separated string.\n",
    "\n",
    "Texas: All cities (\"Austin\", \"Dallas\", \"Houston\") are listed in a comma-separated string.\n",
    "\n",
    "Note: The output table is ordered by the state name in ascending order."
   ]
  },
  {
   "cell_type": "markdown",
   "metadata": {},
   "source": [
    "**Solution-1:**"
   ]
  },
  {
   "cell_type": "markdown",
   "metadata": {},
   "source": [
    "``` sql\n",
    "# Write your MySQL query statement below\n",
    "\n",
    "SELECT state, GROUP_CONCAT(city ORDER BY city ASC SEPARATOR ', ') AS cities\n",
    "FROM cities\n",
    "GROUP BY state\n",
    "ORDER BY state ASC, cities ASC"
   ]
  },
  {
   "cell_type": "markdown",
   "metadata": {},
   "source": [
    "**Solution-2:**"
   ]
  },
  {
   "cell_type": "markdown",
   "metadata": {},
   "source": [
    "``` sql\n",
    "-- Write your PostgreSQL query statement below\n",
    "\n",
    "SELECT state, STRING_AGG(city,', ' ORDER BY city ASC) AS cities\n",
    "FROM cities\n",
    "GROUP BY state\n",
    "ORDER BY state ASC, cities ASC"
   ]
  }
 ],
 "metadata": {
  "language_info": {
   "name": "python"
  }
 },
 "nbformat": 4,
 "nbformat_minor": 2
}
