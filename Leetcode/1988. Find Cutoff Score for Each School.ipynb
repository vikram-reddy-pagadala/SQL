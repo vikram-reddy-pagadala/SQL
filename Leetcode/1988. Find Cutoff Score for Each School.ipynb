{
 "cells": [
  {
   "cell_type": "markdown",
   "metadata": {},
   "source": [
    "# **1988. Find Cutoff Score for Each School**\n",
    "\n",
    "**Table: Schools**\n",
    "``` console\n",
    "+-------------+------+\n",
    "| Column Name | Type |\n",
    "+-------------+------+\n",
    "| school_id   | int  |\n",
    "| capacity    | int  |\n",
    "+-------------+------+\n",
    "```\n",
    "school_id is the column with unique values for this table.\n",
    "This table contains information about the capacity of some schools. The capacity is the maximum number of students the school can accept.\n",
    " \n",
    "\n",
    "**Table: Exam**\n",
    "``` console\n",
    "+---------------+------+\n",
    "| Column Name   | Type |\n",
    "+---------------+------+\n",
    "| score         | int  |\n",
    "| student_count | int  |\n",
    "+---------------+------+\n",
    "```\n",
    "score is the column with unique values for this table.\n",
    "Each row in this table indicates that there are student_count students that got at least score points in the exam.\n",
    "The data in this table will be logically correct, meaning a row recording a higher score will have the same or smaller student_count compared to a row recording a lower score. More formally, for every two rows i and j in the table, if scorei > scorej then student_counti <= student_countj.\n",
    " \n",
    "\n",
    "Every year, each school announces a minimum score requirement that a student needs to apply to it. The school chooses the minimum score requirement based on the exam results of all the students:\n",
    "\n",
    "They want to ensure that even if every student meeting the requirement applies, the school can accept everyone.\n",
    "They also want to maximize the possible number of students that can apply.\n",
    "They must use a score that is in the Exam table.\n",
    "Write a solution to report the minimum score requirement for each school. If there are multiple score values satisfying the above conditions, choose the smallest one. If the input data is not enough to determine the score, report -1.\n",
    "\n",
    "Return the result table in any order.\n",
    "\n",
    "The result format is in the following example.\n",
    "\n",
    " \n",
    "\n",
    "**Example 1:**\n",
    "\n",
    "**Input:**\n",
    "**Schools table:**\n",
    "``` console\n",
    "+-----------+----------+\n",
    "| school_id | capacity |\n",
    "+-----------+----------+\n",
    "| 11        | 151      |\n",
    "| 5         | 48       |\n",
    "| 9         | 9        |\n",
    "| 10        | 99       |\n",
    "+-----------+----------+\n",
    "```\n",
    "**Exam table:**\n",
    "``` console\n",
    "+-------+---------------+\n",
    "| score | student_count |\n",
    "+-------+---------------+\n",
    "| 975   | 10            |\n",
    "| 966   | 60            |\n",
    "| 844   | 76            |\n",
    "| 749   | 76            |\n",
    "| 744   | 100           |\n",
    "+-------+---------------+\n",
    "```\n",
    "**Output:**\n",
    "```console\n",
    "+-----------+-------+\n",
    "| school_id | score |\n",
    "+-----------+-------+\n",
    "| 5         | 975   |\n",
    "| 9         | -1    |\n",
    "| 10        | 749   |\n",
    "| 11        | 744   |\n",
    "+-----------+-------+\n",
    "```\n",
    "**Explanation:**\n",
    "\n",
    "- School 5: The school's capacity is 48. Choosing 975 as the min score requirement, the school will get at most 10 applications, which is within capacity.\n",
    "\n",
    "- School 10: The school's capacity is 99. Choosing 844 or 749 as the min score requirement, the school will get at most 76 applications, which is within capacity. We choose the smallest of them, which is 749.\n",
    "\n",
    "- School 11: The school's capacity is 151. Choosing 744 as the min score requirement, the school will get at most 100 applications, which is within capacity.\n",
    "\n",
    "- School 9: The data given is not enough to determine the min score requirement. Choosing 975 as the min score, the school may get 10 requests while its capacity is 9. We do not have information about higher scores, hence we report -1."
   ]
  },
  {
   "cell_type": "markdown",
   "metadata": {},
   "source": [
    "**Solution-1:**"
   ]
  },
  {
   "cell_type": "markdown",
   "metadata": {},
   "source": [
    "``` sql\n",
    "SELECT DISTINCT school_id,\n",
    "MIN(COALESCE(score,-1))OVER(PARTITION BY school_id ORDER BY student_count desc,score asc ) as score\n",
    "FROM Schools\n",
    "LEFT JOIN Exam\n",
    "ON student_count <= capacity"
   ]
  },
  {
   "cell_type": "markdown",
   "metadata": {},
   "source": []
  },
  {
   "cell_type": "markdown",
   "metadata": {},
   "source": [
    "**Solution-2:**"
   ]
  },
  {
   "cell_type": "markdown",
   "metadata": {},
   "source": [
    "``` sql\n",
    "SELECT school_id, COALESCE(MIN(score),-1) as score\n",
    "FROM Schools\n",
    "LEFT JOIN Exam\n",
    "ON student_count <= capacity\n",
    "GROUP BY school_id"
   ]
  }
 ],
 "metadata": {
  "language_info": {
   "name": "python"
  }
 },
 "nbformat": 4,
 "nbformat_minor": 2
}
