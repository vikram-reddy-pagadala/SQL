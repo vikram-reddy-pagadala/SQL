{
 "cells": [
  {
   "cell_type": "markdown",
   "metadata": {},
   "source": [
    "# **579. Find Cumulative Salary of an Employee**\n",
    "``` console\n",
    "Table: Employee\n",
    "\n",
    "+-------------+------+\n",
    "| Column Name | Type |\n",
    "+-------------+------+\n",
    "| id          | int  |\n",
    "| month       | int  |\n",
    "| salary      | int  |\n",
    "+-------------+------+\n",
    "(id, month) is the primary key (combination of columns with unique values) for this table.\n",
    "Each row in the table indicates the salary of an employee in one month during the year 2020.\n",
    " \n",
    "\n",
    "Write a solution to calculate the cumulative salary summary for every employee in a single unified table.\n",
    "\n",
    "The cumulative salary summary for an employee can be calculated as follows:\n",
    "\n",
    "For each month that the employee worked, sum up the salaries in that month and the previous two months. This is their 3-month sum for that month. If an employee did not work for the company in previous months, their effective salary for those months is 0.\n",
    "Do not include the 3-month sum for the most recent month that the employee worked for in the summary.\n",
    "Do not include the 3-month sum for any month the employee did not work.\n",
    "Return the result table ordered by id in ascending order. In case of a tie, order it by month in descending order.\n",
    "\n",
    "The result format is in the following example.\n",
    "\n",
    " \n",
    "\n",
    "Example 1:\n",
    "\n",
    "Input: \n",
    "Employee table:\n",
    "+----+-------+--------+\n",
    "| id | month | salary |\n",
    "+----+-------+--------+\n",
    "| 1  | 1     | 20     |\n",
    "| 2  | 1     | 20     |\n",
    "| 1  | 2     | 30     |\n",
    "| 2  | 2     | 30     |\n",
    "| 3  | 2     | 40     |\n",
    "| 1  | 3     | 40     |\n",
    "| 3  | 3     | 60     |\n",
    "| 1  | 4     | 60     |\n",
    "| 3  | 4     | 70     |\n",
    "| 1  | 7     | 90     |\n",
    "| 1  | 8     | 90     |\n",
    "+----+-------+--------+\n",
    "\n",
    "Output: \n",
    "+----+-------+--------+\n",
    "| id | month | Salary |\n",
    "+----+-------+--------+\n",
    "| 1  | 7     | 90     |\n",
    "| 1  | 4     | 130    |\n",
    "| 1  | 3     | 90     |\n",
    "| 1  | 2     | 50     |\n",
    "| 1  | 1     | 20     |\n",
    "| 2  | 1     | 20     |\n",
    "| 3  | 3     | 100    |\n",
    "| 3  | 2     | 40     |\n",
    "+----+-------+--------+\n",
    "Explanation: \n",
    "Employee '1' has five salary records excluding their most recent month '8':\n",
    "- 90 for month '7'.\n",
    "- 60 for month '4'.\n",
    "- 40 for month '3'.\n",
    "- 30 for month '2'.\n",
    "- 20 for month '1'.\n",
    "So the cumulative salary summary for this employee is:\n",
    "+----+-------+--------+\n",
    "| id | month | salary |\n",
    "+----+-------+--------+\n",
    "| 1  | 7     | 90     |  (90 + 0 + 0)\n",
    "| 1  | 4     | 130    |  (60 + 40 + 30)\n",
    "| 1  | 3     | 90     |  (40 + 30 + 20)\n",
    "| 1  | 2     | 50     |  (30 + 20 + 0)\n",
    "| 1  | 1     | 20     |  (20 + 0 + 0)\n",
    "+----+-------+--------+\n",
    "Note that the 3-month sum for month '7' is 90 because they did not work during month '6' or month '5'.\n",
    "\n",
    "Employee '2' only has one salary record (month '1') excluding their most recent month '2'.\n",
    "+----+-------+--------+\n",
    "| id | month | salary |\n",
    "+----+-------+--------+\n",
    "| 2  | 1     | 20     |  (20 + 0 + 0)\n",
    "+----+-------+--------+\n",
    "\n",
    "Employee '3' has two salary records excluding their most recent month '4':\n",
    "- 60 for month '3'.\n",
    "- 40 for month '2'.\n",
    "So the cumulative salary summary for this employee is:\n",
    "+----+-------+--------+\n",
    "| id | month | salary |\n",
    "+----+-------+--------+\n",
    "| 3  | 3     | 100    |  (60 + 40 + 0)\n",
    "| 3  | 2     | 40     |  (40 + 0 + 0)\n",
    "+----+-------+--------+\n",
    "\n",
    "```"
   ]
  },
  {
   "cell_type": "markdown",
   "metadata": {},
   "source": [
    "**Solutions:**"
   ]
  },
  {
   "cell_type": "code",
   "execution_count": null,
   "metadata": {
    "vscode": {
     "languageId": "sql"
    }
   },
   "outputs": [],
   "source": [
    "WITH RECURSIVE recursive_month AS (\n",
    "    SELECT 1 AS month\n",
    "    UNION ALL\n",
    "    SELECT \n",
    "        month + 1 AS month\n",
    "    FROM \n",
    "        recursive_month\n",
    "    WHERE \n",
    "        month < 12\n",
    "),\n",
    "excluding_last_month_data as (\n",
    "    SELECT *, RANK() OVER(PARTITION BY id ORDER BY MONTH DESC) as rn\n",
    "    FROM Employee\n",
    "    ORDER BY id, month\n",
    "),\n",
    "joined_month_id_table as(\n",
    "SELECT a.id, month\n",
    "FROM recursive_month\n",
    "CROSS JOIN\n",
    "(SELECT DISTINCT id\n",
    "FROM excluding_last_month_data\n",
    "WHERE rn > 1) a)\n",
    ", final as(\n",
    "SELECT \n",
    "    b.id, \n",
    "    b.month,\n",
    "    SUM(a.salary) OVER (PARTITION BY b.id ORDER BY b.month ROWS BETWEEN 2 PRECEDING AND CURRENT ROW) AS salary\n",
    "FROM joined_month_id_table b\n",
    "LEFT JOIN (\n",
    "    SELECT id, month, salary\n",
    "    FROM excluding_last_month_data\n",
    "    WHERE rn > 1\n",
    ") a ON b.id = a.id AND b.month = a.month)\n",
    "\n",
    "select * from final \n",
    "where (id, month) in (SELECT id, month\n",
    "    FROM excluding_last_month_data\n",
    "    WHERE rn > 1) and salary is not null\n",
    "    ORDER BY id, month DESC"
   ]
  },
  {
   "cell_type": "code",
   "execution_count": null,
   "metadata": {
    "vscode": {
     "languageId": "sql"
    }
   },
   "outputs": [],
   "source": [
    "SELECT A.Id, MAX(B.Month) as Month, SUM(B.Salary) as Salary\n",
    "FROM Employee A \n",
    "INNER JOIN Employee B\n",
    "ON A.Id = B.Id AND B.Month BETWEEN (A.Month-2) AND (A.Month)\n",
    "WHERE A.month != (select max(month) from employee where id = a.id)\n",
    "GROUP BY A.Id, A.Month\n",
    "ORDER BY Id, Month DESC"
   ]
  },
  {
   "cell_type": "code",
   "execution_count": null,
   "metadata": {
    "vscode": {
     "languageId": "sql"
    }
   },
   "outputs": [],
   "source": [
    "# Write your MySQL query statement below\n",
    "\n",
    "select id, month,\n",
    "       sum(salary) over(partition by id order by month desc range between current row and 2 following) Salary\n",
    "from (\n",
    "    select id, month, salary, \n",
    "        row_number() over(partition by id order by month desc) as rn\n",
    "    from employee\n",
    ") dt\n",
    "where rn != 1\n",
    "order by id, month desc\n",
    "# order by id, month desc"
   ]
  },
  {
   "cell_type": "code",
   "execution_count": null,
   "metadata": {
    "vscode": {
     "languageId": "sql"
    }
   },
   "outputs": [],
   "source": [
    "select id, month, salary\n",
    "from (\n",
    "        select id, month, \n",
    "            sum(salary) over(partition by id order by month range between 2 PRECEDING and current row) salary,\n",
    "            row_number() over(partition by id order by month desc) month_order\n",
    "        from Employee \n",
    "    ) t\n",
    "    where month_order > 1"
   ]
  }
 ],
 "metadata": {
  "language_info": {
   "name": "python"
  }
 },
 "nbformat": 4,
 "nbformat_minor": 2
}
