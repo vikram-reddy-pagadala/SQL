{
 "cells": [
  {
   "cell_type": "markdown",
   "metadata": {},
   "source": [
    "# **1831. Maximum Transaction Each Day**\n",
    "``` console\n",
    "Table: Transactions\n",
    "\n",
    "+----------------+----------+\n",
    "| Column Name    | Type     |\n",
    "+----------------+----------+\n",
    "| transaction_id | int      |\n",
    "| day            | datetime |\n",
    "| amount         | int      |\n",
    "+----------------+----------+\n",
    "transaction_id is the column with unique values for this table.\n",
    "Each row contains information about one transaction.\n",
    " \n",
    "\n",
    "Write a solution to report the IDs of the transactions with the maximum amount on their respective day. If in one day there are multiple such transactions, return all of them.\n",
    "\n",
    "Return the result table ordered by transaction_id in ascending order.\n",
    "\n",
    "The result format is in the following example.\n",
    "\n",
    " \n",
    "\n",
    "Example 1:\n",
    "\n",
    "Input: \n",
    "Transactions table:\n",
    "+----------------+--------------------+--------+\n",
    "| transaction_id | day                | amount |\n",
    "+----------------+--------------------+--------+\n",
    "| 8              | 2021-4-3 15:57:28  | 57     |\n",
    "| 9              | 2021-4-28 08:47:25 | 21     |\n",
    "| 1              | 2021-4-29 13:28:30 | 58     |\n",
    "| 5              | 2021-4-28 16:39:59 | 40     |\n",
    "| 6              | 2021-4-29 23:39:28 | 58     |\n",
    "+----------------+--------------------+--------+\n",
    "\n",
    "Output: \n",
    "+----------------+\n",
    "| transaction_id |\n",
    "+----------------+\n",
    "| 1              |\n",
    "| 5              |\n",
    "| 6              |\n",
    "| 8              |\n",
    "+----------------+\n",
    "\n",
    "Explanation: \n",
    "\"2021-4-3\"  --> We have one transaction with ID 8, so we add 8 to the result table.\n",
    "\"2021-4-28\" --> We have two transactions with IDs 5 and 9. The transaction with ID 5 has an amount of 40, while the transaction with ID 9 has an amount of 21. We only include the transaction with ID 5 as it has the maximum amount this day.\n",
    "\"2021-4-29\" --> We have two transactions with IDs 1 and 6. Both transactions have the same amount of 58, so we include both in the result table.\n",
    "We order the result table by transaction_id after collecting these IDs.\n",
    " \n",
    "\n",
    "Follow up: Could you solve it without using the MAX() function?\n",
    "```"
   ]
  },
  {
   "cell_type": "markdown",
   "metadata": {},
   "source": [
    "**Solution-1:**"
   ]
  },
  {
   "cell_type": "markdown",
   "metadata": {},
   "source": [
    "``` sql\n",
    "SELECT transaction_id\n",
    "FROM\n",
    "(SELECT transaction_id, \n",
    "RANK() OVER(PARTITION BY DATE(day) ORDER BY amount DESC) AS rnk\n",
    "FROM Transactions) a\n",
    "WHERE rnk = 1\n",
    "ORDER BY transaction_id"
   ]
  },
  {
   "cell_type": "markdown",
   "metadata": {},
   "source": []
  },
  {
   "cell_type": "markdown",
   "metadata": {},
   "source": [
    "**Solution-2:**"
   ]
  },
  {
   "cell_type": "markdown",
   "metadata": {},
   "source": [
    "``` sql\n",
    "select\n",
    "    transaction_id\n",
    "from Transactions t\n",
    "where (date(day), amount) in (select date(day), max(amount) from Transactions group by date(day))\n",
    "order by transaction_id"
   ]
  }
 ],
 "metadata": {
  "language_info": {
   "name": "python"
  }
 },
 "nbformat": 4,
 "nbformat_minor": 2
}
