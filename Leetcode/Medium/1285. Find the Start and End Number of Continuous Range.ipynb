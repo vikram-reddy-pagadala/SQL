{
 "cells": [
  {
   "cell_type": "markdown",
   "metadata": {},
   "source": [
    "# **1285. Find the Start and End Number of Continuous Range**\n",
    "\n",
    "``` console\n",
    "\n",
    "Table: Logs\n",
    "\n",
    "+---------------+---------+\n",
    "| Column Name   | Type    |\n",
    "+---------------+---------+\n",
    "| log_id        | int     |\n",
    "+---------------+---------+\n",
    "log_id is the column of unique values for this table.\n",
    "Each row of this table contains the ID in a log Table.\n",
    " \n",
    "\n",
    "Write a solution to find the start and end number of continuous ranges in the table Logs.\n",
    "\n",
    "Return the result table ordered by start_id.\n",
    "\n",
    "The result format is in the following example.\n",
    "\n",
    " \n",
    "\n",
    "Example 1:\n",
    "\n",
    "Input: \n",
    "Logs table:\n",
    "+------------+\n",
    "| log_id     |\n",
    "+------------+\n",
    "| 1          |\n",
    "| 2          |\n",
    "| 3          |\n",
    "| 7          |\n",
    "| 8          |\n",
    "| 10         |\n",
    "+------------+\n",
    "\n",
    "Output: \n",
    "+------------+--------------+\n",
    "| start_id   | end_id       |\n",
    "+------------+--------------+\n",
    "| 1          | 3            |\n",
    "| 7          | 8            |\n",
    "| 10         | 10           |\n",
    "+------------+--------------+\n",
    "\n",
    "Explanation: \n",
    "The result table should contain all ranges in table Logs.\n",
    "From 1 to 3 is contained in the table.\n",
    "From 4 to 6 is missing in the table\n",
    "From 7 to 8 is contained in the table.\n",
    "Number 9 is missing from the table.\n",
    "Number 10 is contained in the table.\n",
    "\n",
    "```"
   ]
  },
  {
   "cell_type": "markdown",
   "metadata": {},
   "source": [
    "**Solution-1:**"
   ]
  },
  {
   "cell_type": "markdown",
   "metadata": {},
   "source": [
    "``` sql\n",
    "\n",
    "SELECT \n",
    "    MIN(log_id) AS start_id, \n",
    "    MAX(log_id) AS end_id\n",
    "FROM \n",
    "    (SELECT \n",
    "        log_id, \n",
    "        ROW_NUMBER() OVER(ORDER BY log_id ASC) AS row_num\n",
    "     FROM \n",
    "        Logs\n",
    "    ) AS a\n",
    "GROUP BY \n",
    "    (log_id - row_num)\n",
    "ORDER BY \n",
    "    start_id;\n"
   ]
  },
  {
   "cell_type": "markdown",
   "metadata": {},
   "source": []
  },
  {
   "cell_type": "markdown",
   "metadata": {},
   "source": []
  },
  {
   "cell_type": "markdown",
   "metadata": {},
   "source": []
  }
 ],
 "metadata": {
  "language_info": {
   "name": "python"
  }
 },
 "nbformat": 4,
 "nbformat_minor": 2
}
