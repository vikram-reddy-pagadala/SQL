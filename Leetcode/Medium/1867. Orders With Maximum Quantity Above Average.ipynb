{
 "cells": [
  {
   "cell_type": "markdown",
   "metadata": {},
   "source": [
    "# **1867. Orders With Maximum Quantity Above Average**\n",
    "``` console\n",
    "Table: OrdersDetails\n",
    "\n",
    "+-------------+------+\n",
    "| Column Name | Type |\n",
    "+-------------+------+\n",
    "| order_id    | int  |\n",
    "| product_id  | int  |\n",
    "| quantity    | int  |\n",
    "+-------------+------+\n",
    "(order_id, product_id) is the primary key (combination of columns with unique values) for this table.\n",
    "A single order is represented as multiple rows, one row for each product in the order.\n",
    "Each row of this table contains the quantity ordered of the product product_id in the order order_id.\n",
    " \n",
    "\n",
    "You are running an e-commerce site that is looking for imbalanced orders. An imbalanced order is one whose maximum quantity is strictly greater than the average quantity of every order (including itself).\n",
    "\n",
    "The average quantity of an order is calculated as (total quantity of all products in the order) / (number of different products in the order). The maximum quantity of an order is the highest quantity of any single product in the order.\n",
    "\n",
    "Write a solution to find the order_id of all imbalanced orders.\n",
    "\n",
    "Return the result table in any order.\n",
    "\n",
    "The result format is in the following example.\n",
    "\n",
    " \n",
    "\n",
    "Example 1:\n",
    "\n",
    "Input: \n",
    "OrdersDetails table:\n",
    "+----------+------------+----------+\n",
    "| order_id | product_id | quantity |\n",
    "+----------+------------+----------+\n",
    "| 1        | 1          | 12       |\n",
    "| 1        | 2          | 10       |\n",
    "| 1        | 3          | 15       |\n",
    "| 2        | 1          | 8        |\n",
    "| 2        | 4          | 4        |\n",
    "| 2        | 5          | 6        |\n",
    "| 3        | 3          | 5        |\n",
    "| 3        | 4          | 18       |\n",
    "| 4        | 5          | 2        |\n",
    "| 4        | 6          | 8        |\n",
    "| 5        | 7          | 9        |\n",
    "| 5        | 8          | 9        |\n",
    "| 3        | 9          | 20       |\n",
    "| 2        | 9          | 4        |\n",
    "+----------+------------+----------+\n",
    "\n",
    "Output: \n",
    "+----------+\n",
    "| order_id |\n",
    "+----------+\n",
    "| 1        |\n",
    "| 3        |\n",
    "+----------+\n",
    "\n",
    "Explanation: \n",
    "The average quantity of each order is:\n",
    "- order_id=1: (12+10+15)/3 = 12.3333333\n",
    "- order_id=2: (8+4+6+4)/4 = 5.5\n",
    "- order_id=3: (5+18+20)/3 = 14.333333\n",
    "- order_id=4: (2+8)/2 = 5\n",
    "- order_id=5: (9+9)/2 = 9\n",
    "\n",
    "The maximum quantity of each order is:\n",
    "- order_id=1: max(12, 10, 15) = 15\n",
    "- order_id=2: max(8, 4, 6, 4) = 8\n",
    "- order_id=3: max(5, 18, 20) = 20\n",
    "- order_id=4: max(2, 8) = 8\n",
    "- order_id=5: max(9, 9) = 9\n",
    "\n",
    "Orders 1 and 3 are imbalanced because they have a maximum quantity that exceeds the average quantity of every order.\n",
    "```"
   ]
  },
  {
   "cell_type": "markdown",
   "metadata": {},
   "source": [
    "**Solution-1:**"
   ]
  },
  {
   "cell_type": "markdown",
   "metadata": {},
   "source": [
    "``` sql\n",
    "with cte as(\n",
    "SELECT order_id, ROUND(AVG(quantity),2) as average_quantity,\n",
    "MAX(quantity) as maximum_quantity\n",
    "FROM OrdersDetails\n",
    "GROUP BY order_id)\n",
    "\n",
    "SELECT order_id\n",
    "FROM CTE \n",
    "WHERE maximum_quantity > (SELECT MAX(average_quantity) FROM CTE) "
   ]
  },
  {
   "cell_type": "markdown",
   "metadata": {},
   "source": [
    "**Solution-2:**"
   ]
  },
  {
   "cell_type": "markdown",
   "metadata": {},
   "source": [
    "``` sql\n",
    "SELECT order_id\n",
    "FROM OrdersDetails\n",
    "GROUP BY order_id\n",
    "HAVING MAX(quantity) > ALL (\n",
    "    SELECT (SUM(quantity) /\n",
    "            COUNT(DISTINCT product_id)) AS avg_quant_order\n",
    "    FROM OrdersDetails\n",
    "    GROUP BY order_id\n",
    ")\n",
    "ORDER BY order_id ASC;"
   ]
  }
 ],
 "metadata": {
  "language_info": {
   "name": "python"
  }
 },
 "nbformat": 4,
 "nbformat_minor": 2
}
