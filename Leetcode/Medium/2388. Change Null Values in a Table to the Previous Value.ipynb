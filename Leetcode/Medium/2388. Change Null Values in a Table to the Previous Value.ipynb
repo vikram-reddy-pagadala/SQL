{
 "cells": [
  {
   "cell_type": "markdown",
   "metadata": {},
   "source": [
    "# **2388. Change Null Values in a Table to the Previous Value**\n",
    "\n",
    "**Table: CoffeeShop**\n",
    "``` console\n",
    "+-------------+---------+\n",
    "| Column Name | Type    |\n",
    "+-------------+---------+\n",
    "| id          | int     |\n",
    "| drink       | varchar |\n",
    "+-------------+---------+\n",
    "``` \n",
    "id is the primary key (column with unique values) for this table.\n",
    "\n",
    "Each row in this table shows the order id and the name of the drink ordered. Some drink rows are nulls.\n",
    " \n",
    "\n",
    "Write a solution to replace the null values of the drink with the name of the drink of the previous row that is not null. It is guaranteed that the drink on the first row of the table is not null.\n",
    "\n",
    "Return the result table in the same order as the input.\n",
    "\n",
    "The result format is shown in the following example.\n",
    "\n",
    " \n",
    "\n",
    "**Example 1:**\n",
    "\n",
    "**Input:** \n",
    "**CoffeeShop table:**\n",
    "``` console\n",
    "+----+-------------------+\n",
    "| id | drink             |\n",
    "+----+-------------------+\n",
    "| 9  | Rum and Coke      |\n",
    "| 6  | null              |\n",
    "| 7  | null              |\n",
    "| 3  | St Germain Spritz |\n",
    "| 1  | Orange Margarita  |\n",
    "| 2  | null              |\n",
    "+----+-------------------+\n",
    "```\n",
    "**Output:** \n",
    "``` console\n",
    "+----+-------------------+\n",
    "| id | drink             |\n",
    "+----+-------------------+\n",
    "| 9  | Rum and Coke      |\n",
    "| 6  | Rum and Coke      |\n",
    "| 7  | Rum and Coke      |\n",
    "| 3  | St Germain Spritz |\n",
    "| 1  | Orange Margarita  |\n",
    "| 2  | Orange Margarita  |\n",
    "+----+-------------------+\n",
    "```\n",
    "**Explanation:** \n",
    "- For ID 6, the previous value that is not null is from ID 9. We replace the null with \"Rum and Coke\".\n",
    "- For ID 7, the previous value that is not null is from ID 9. We replace the null with \"Rum and Coke;.\n",
    "- For ID 2, the previous value that is not null is from ID 1. We replace the null with \"Orange Margarita\".\n",
    "- Note that the rows in the output are the same as in the input."
   ]
  },
  {
   "cell_type": "markdown",
   "metadata": {},
   "source": [
    "**Solution-1:**"
   ]
  },
  {
   "cell_type": "markdown",
   "metadata": {},
   "source": [
    "``` sql\n",
    "with cte as(\n",
    "select row_number() over() as rn,\n",
    "id, drink\n",
    "from coffeeshop\n",
    ")\n",
    "select a.id, coalesce(a.drink, b.drink) as drink\n",
    "from cte a\n",
    "LEFT JOIN cte b\n",
    "on a.rn > b.rn and b.drink is not null \n",
    "group by a.id\n",
    "order by a.rn, a.id"
   ]
  },
  {
   "cell_type": "markdown",
   "metadata": {},
   "source": [
    "**Solution-2:**"
   ]
  },
  {
   "cell_type": "markdown",
   "metadata": {},
   "source": [
    "``` sql\n",
    "WITH cte AS (SELECT id, drink, ROW_NUMBER() OVER () AS nb FROM CoffeeShop), -- nb = initial row order\n",
    "     cte2 AS (SELECT id, drink, nb, SUM(1-ISNULL(drink)) OVER (ORDER BY nb) AS group_id FROM cte) -- same group_id -> same drink\n",
    "SELECT id, FIRST_VALUE(drink) OVER (PARTITION BY group_id) AS drink\n",
    "FROM cte2\n",
    "ORDER BY nb;"
   ]
  },
  {
   "cell_type": "markdown",
   "metadata": {},
   "source": [
    "**Solution-3:**"
   ]
  },
  {
   "cell_type": "markdown",
   "metadata": {},
   "source": [
    "``` sql\n",
    "with cte as (\n",
    "    select id, drink, row_number() over() as rn\n",
    "    from CoffeeShop\n",
    "),\n",
    "\n",
    "cte2 as (\n",
    "    select id, drink, rn, sum(if(drink is NULL, 0, 1)) over (order by rn) as group_id\n",
    "    from cte\n",
    ")\n",
    "\n",
    "select id, first_value(drink) over (partition by group_id order by rn) as drink\n",
    "from cte2"
   ]
  },
  {
   "cell_type": "markdown",
   "metadata": {},
   "source": [
    "**Solution-4:**"
   ]
  },
  {
   "cell_type": "markdown",
   "metadata": {},
   "source": [
    "``` sql\n",
    "WITH cte AS (\n",
    "    SELECT\n",
    "        *,\n",
    "        SUM(IF(drink IS NULL, 0,1 )) over (ROWS BETWEEN UNBOUNDED preceding AND CURRENT ROW) AS grp\n",
    "    ,ROW_NUMBER() OVER(ROWS BETWEEN UNBOUNDED PRECEDING AND CURRENT ROW) as rn\n",
    "    FROM\n",
    "        CoffeeShop \n",
    ")\n",
    "\n",
    "SELECT\n",
    "    id,\n",
    "    first_value(drink) over(PARTITION by grp order by rn) AS drink\n",
    "FROM\n",
    "    cte;"
   ]
  },
  {
   "cell_type": "markdown",
   "metadata": {},
   "source": [
    "**Solution-5:**"
   ]
  },
  {
   "cell_type": "markdown",
   "metadata": {},
   "source": [
    "``` sql\n",
    "WITH cte AS (\n",
    "    SELECT\n",
    "        *,\n",
    "        SUM(IF(drink IS not NULL, 1,0 )) over (ROWS BETWEEN UNBOUNDED preceding AND CURRENT ROW) AS grp\n",
    "    ,ROW_NUMBER() OVER(ROWS BETWEEN UNBOUNDED PRECEDING AND CURRENT ROW) as rn\n",
    "    FROM\n",
    "        CoffeeShop \n",
    ")\n",
    "\n",
    "SELECT\n",
    "    id,\n",
    "    first_value(drink) over(PARTITION by grp order by rn) AS drink\n",
    "FROM\n",
    "    cte;"
   ]
  },
  {
   "cell_type": "markdown",
   "metadata": {},
   "source": [
    "**Solution-6:**"
   ]
  },
  {
   "cell_type": "markdown",
   "metadata": {},
   "source": [
    "``` sql\n",
    "WITH cte AS \n",
    "(SELECT *, SUM(IF(drink IS NOT NULL,1,0)) OVER(rows between unbounded preceding and current row) AS grp --#Refer Note 1\n",
    " FROM coffeeshop)\n",
    " \n",
    " SELECT id, MAX(drink) OVER(PARTITION BY grp) AS drink\n",
    " FROM cte;\n",
    " \n",
    " -- Note1: When using windows function without order by clause , the range of rows has to be mentioned to find cumulative sum. By default, it calculates total sum for rows in RANGE BETWEEN UNBOUNDED PRECEDING AND UNBOUNDED FOLLOWING"
   ]
  }
 ],
 "metadata": {
  "language_info": {
   "name": "python"
  }
 },
 "nbformat": 4,
 "nbformat_minor": 2
}
