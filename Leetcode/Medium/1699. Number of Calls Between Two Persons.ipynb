{
 "cells": [
  {
   "cell_type": "markdown",
   "metadata": {},
   "source": [
    "# **1699. Number of Calls Between Two Persons**\n",
    "``` console\n",
    "Table: Calls\n",
    "\n",
    "+-------------+---------+\n",
    "| Column Name | Type    |\n",
    "+-------------+---------+\n",
    "| from_id     | int     |\n",
    "| to_id       | int     |\n",
    "| duration    | int     |\n",
    "+-------------+---------+\n",
    "This table does not have a primary key (column with unique values), it may contain duplicates.\n",
    "This table contains the duration of a phone call between from_id and to_id.\n",
    "from_id != to_id\n",
    " \n",
    "\n",
    "Write a solution to report the number of calls and the total call duration between each pair of distinct persons (person1, person2) where person1 < person2.\n",
    "\n",
    "Return the result table in any order.\n",
    "\n",
    "The result format is in the following example.\n",
    "\n",
    " \n",
    "\n",
    "Example 1:\n",
    "\n",
    "Input: \n",
    "Calls table:\n",
    "+---------+-------+----------+\n",
    "| from_id | to_id | duration |\n",
    "+---------+-------+----------+\n",
    "| 1       | 2     | 59       |\n",
    "| 2       | 1     | 11       |\n",
    "| 1       | 3     | 20       |\n",
    "| 3       | 4     | 100      |\n",
    "| 3       | 4     | 200      |\n",
    "| 3       | 4     | 200      |\n",
    "| 4       | 3     | 499      |\n",
    "+---------+-------+----------+\n",
    "\n",
    "Output: \n",
    "+---------+---------+------------+----------------+\n",
    "| person1 | person2 | call_count | total_duration |\n",
    "+---------+---------+------------+----------------+\n",
    "| 1       | 2       | 2          | 70             |\n",
    "| 1       | 3       | 1          | 20             |\n",
    "| 3       | 4       | 4          | 999            |\n",
    "+---------+---------+------------+----------------+\n",
    "\n",
    "Explanation: \n",
    "Users 1 and 2 had 2 calls and the total duration is 70 (59 + 11).\n",
    "Users 1 and 3 had 1 call and the total duration is 20.\n",
    "Users 3 and 4 had 4 calls and the total duration is 999 (100 + 200 + 200 + 499).\n",
    "```"
   ]
  },
  {
   "cell_type": "markdown",
   "metadata": {},
   "source": [
    "**Solution-1:**"
   ]
  },
  {
   "cell_type": "markdown",
   "metadata": {},
   "source": [
    "``` sql\n",
    "SELECT from_id as person1, to_id AS person2, COUNT(*) AS call_count, SUM(duration) AS total_duration\n",
    "FROM\n",
    "(SELECT from_id, to_id, duration\n",
    "FROM Calls\n",
    "WHERE from_id < to_id\n",
    "UNION ALL\n",
    "SELECT to_id as from_id, from_id as to_id, duration\n",
    "FROM Calls\n",
    "WHERE from_id > to_id) a\n",
    "GROUP BY 1,2"
   ]
  },
  {
   "cell_type": "markdown",
   "metadata": {},
   "source": []
  },
  {
   "cell_type": "markdown",
   "metadata": {},
   "source": [
    "**SOlution-2:**"
   ]
  },
  {
   "cell_type": "markdown",
   "metadata": {},
   "source": [
    "``` sql\n",
    "SELECT LEAST(from_id,to_id) as person1,\n",
    "GREATEST(from_id,to_id) as person2,\n",
    "COUNT(*) as call_count,\n",
    "SUM(duration) as total_duration\n",
    "FROM Calls\n",
    "GROUP BY person1,person2;"
   ]
  },
  {
   "cell_type": "markdown",
   "metadata": {},
   "source": []
  },
  {
   "cell_type": "markdown",
   "metadata": {},
   "source": [
    "**Solution-3:**"
   ]
  },
  {
   "cell_type": "markdown",
   "metadata": {},
   "source": [
    "``` sql\n",
    "SELECT \n",
    "    CASE\n",
    "        WHEN from_id > to_id THEN to_id\n",
    "        ELSE from_id\n",
    "    END AS person1,\n",
    "    CASE\n",
    "        WHEN from_id > to_id THEN from_id\n",
    "        ELSE to_id\n",
    "    END AS person2,\n",
    "    COUNT(duration) AS call_count,\n",
    "    SUM(duration) AS total_duration       \n",
    "FROM Calls\n",
    "GROUP BY person2,person1"
   ]
  }
 ],
 "metadata": {
  "language_info": {
   "name": "python"
  }
 },
 "nbformat": 4,
 "nbformat_minor": 2
}
