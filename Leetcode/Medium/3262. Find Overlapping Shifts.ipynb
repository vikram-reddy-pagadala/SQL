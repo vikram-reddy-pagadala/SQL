{
 "cells": [
  {
   "cell_type": "markdown",
   "metadata": {},
   "source": [
    "# **3262. Find Overlapping Shifts**\n",
    "\n",
    "**Table: EmployeeShifts**\n",
    "``` sql\n",
    "+------------------+---------+\n",
    "| Column Name      | Type    |\n",
    "+------------------+---------+\n",
    "| employee_id      | int     |\n",
    "| start_time       | time    |\n",
    "| end_time         | time    |\n",
    "+------------------+---------+\n",
    "```\n",
    "(employee_id, start_time) is the unique key for this table.\n",
    "\n",
    "This table contains information about the shifts worked by employees, including the start and end times on a specific date.\n",
    "\n",
    "Write a solution to count the number of overlapping shifts for each employee. Two shifts are considered overlapping if one shift’s end_time is later than another shift’s start_time.\n",
    "\n",
    "Return the result table ordered by employee_id in ascending order.\n",
    "\n",
    "The query result format is in the following example.\n",
    "\n",
    " \n",
    "\n",
    "**Example:**\n",
    "\n",
    "**Input:**\n",
    "\n",
    "**EmployeeShifts table:**\n",
    "``` sql\n",
    "+-------------+------------+----------+\n",
    "| employee_id | start_time | end_time |\n",
    "+-------------+------------+----------+\n",
    "| 1           | 08:00:00   | 12:00:00 |\n",
    "| 1           | 11:00:00   | 15:00:00 |\n",
    "| 1           | 14:00:00   | 18:00:00 |\n",
    "| 2           | 09:00:00   | 17:00:00 |\n",
    "| 2           | 16:00:00   | 20:00:00 |\n",
    "| 3           | 10:00:00   | 12:00:00 |\n",
    "| 3           | 13:00:00   | 15:00:00 |\n",
    "| 3           | 16:00:00   | 18:00:00 |\n",
    "| 4           | 08:00:00   | 10:00:00 |\n",
    "| 4           | 09:00:00   | 11:00:00 |\n",
    "+-------------+------------+----------+\n",
    "```\n",
    "**Output:**\n",
    "``` sql\n",
    "+-------------+--------------------+\n",
    "| employee_id | overlapping_shifts |\n",
    "+-------------+--------------------+\n",
    "| 1           | 2                  |\n",
    "| 2           | 1                  |\n",
    "| 4           | 1                  |\n",
    "+-------------+--------------------+\n",
    "```\n",
    "**Explanation:**\n",
    "\n",
    "**Employee 1 has 3 shifts:**\n",
    "- 08:00:00 to 12:00:00\n",
    "- 11:00:00 to 15:00:00\n",
    "- 14:00:00 to 18:00:00\n",
    "- The first shift overlaps with the second, and the second overlaps with the third, resulting in 2 overlapping shifts.\n",
    "\n",
    "**Employee 2 has 2 shifts:**\n",
    "- 09:00:00 to 17:00:00\n",
    "- 16:00:00 to 20:00:00\n",
    "- These shifts overlap with each other, resulting in 1 overlapping shift.\n",
    "\n",
    "**Employee 3 has 3 shifts:**\n",
    "- 10:00:00 to 12:00:00\n",
    "- 13:00:00 to 15:00:00\n",
    "- 16:00:00 to 18:00:00\n",
    "- None of these shifts overlap, so Employee 3 is not included in the output.\n",
    "\n",
    "**Employee 4 has 2 shifts:**\n",
    "- 08:00:00 to 10:00:00\n",
    "- 09:00:00 to 11:00:00\n",
    "- These shifts overlap with each other, resulting in 1 overlapping shift.\n",
    "- The output shows the employee_id and the count of overlapping shifts for each employee who has at least one overlapping shift, ordered by employee_id in ascending order."
   ]
  },
  {
   "cell_type": "markdown",
   "metadata": {},
   "source": [
    "**Solution-1:**"
   ]
  },
  {
   "cell_type": "markdown",
   "metadata": {},
   "source": [
    "``` sql\n",
    "SELECT a.employee_id, count(b.start_time) as overlapping_shifts \n",
    "FROM EmployeeShifts a\n",
    "JOIN EmployeeShifts b\n",
    "ON a.employee_id = b.employee_id and b.start_time > a.start_time and b.start_time < a.end_time\n",
    "GROUP BY a.employee_id\n",
    "ORDER BY a.employee_id\n"
   ]
  },
  {
   "cell_type": "markdown",
   "metadata": {},
   "source": [
    "**Solution-2:**"
   ]
  },
  {
   "cell_type": "markdown",
   "metadata": {},
   "source": [
    "``` sql\n",
    "SELECT e1.employee_id, COUNT(*) AS overlapping_shifts\n",
    "FROM EmployeeShifts e1 JOIN EmployeeShifts e2\n",
    "ON e1.employee_id=e2.employee_id\n",
    "WHERE e1.start_time < e2.start_time AND e1.end_time > e2.start_time\n",
    "GROUP BY e1.employee_id\n",
    "ORDER BY employee_id"
   ]
  }
 ],
 "metadata": {
  "language_info": {
   "name": "python"
  }
 },
 "nbformat": 4,
 "nbformat_minor": 2
}
