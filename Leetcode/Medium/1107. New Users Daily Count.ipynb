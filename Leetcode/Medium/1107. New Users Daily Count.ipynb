{
 "cells": [
  {
   "cell_type": "markdown",
   "metadata": {},
   "source": [
    "# **1107. New Users Daily Count**\n",
    "``` console\n",
    "Table: Traffic\n",
    "\n",
    "+---------------+---------+\n",
    "| Column Name   | Type    |\n",
    "+---------------+---------+\n",
    "| user_id       | int     |\n",
    "| activity      | enum    |\n",
    "| activity_date | date    |\n",
    "+---------------+---------+\n",
    "This table may have duplicate rows.\n",
    "The activity column is an ENUM (category) type of ('login', 'logout', 'jobs', 'groups', 'homepage').\n",
    " \n",
    "\n",
    "Write a solution to reports for every date within at most 90 days from today, the number of users that logged in for the first time on that date. Assume today is 2019-06-30.\n",
    "\n",
    "Return the result table in any order.\n",
    "\n",
    "The result format is in the following example.\n",
    "\n",
    " \n",
    "\n",
    "Example 1:\n",
    "\n",
    "Input: \n",
    "Traffic table:\n",
    "+---------+----------+---------------+\n",
    "| user_id | activity | activity_date |\n",
    "+---------+----------+---------------+\n",
    "| 1       | login    | 2019-05-01    |\n",
    "| 1       | homepage | 2019-05-01    |\n",
    "| 1       | logout   | 2019-05-01    |\n",
    "| 2       | login    | 2019-06-21    |\n",
    "| 2       | logout   | 2019-06-21    |\n",
    "| 3       | login    | 2019-01-01    |\n",
    "| 3       | jobs     | 2019-01-01    |\n",
    "| 3       | logout   | 2019-01-01    |\n",
    "| 4       | login    | 2019-06-21    |\n",
    "| 4       | groups   | 2019-06-21    |\n",
    "| 4       | logout   | 2019-06-21    |\n",
    "| 5       | login    | 2019-03-01    |\n",
    "| 5       | logout   | 2019-03-01    |\n",
    "| 5       | login    | 2019-06-21    |\n",
    "| 5       | logout   | 2019-06-21    |\n",
    "+---------+----------+---------------+\n",
    "\n",
    "Output: \n",
    "+------------+-------------+\n",
    "| login_date | user_count  |\n",
    "+------------+-------------+\n",
    "| 2019-05-01 | 1           |\n",
    "| 2019-06-21 | 2           |\n",
    "+------------+-------------+\n",
    "\n",
    "Explanation: \n",
    "Note that we only care about dates with non zero user count.\n",
    "The user with id 5 first logged in on 2019-03-01 so he's not counted on 2019-06-21\n",
    "```"
   ]
  },
  {
   "cell_type": "markdown",
   "metadata": {},
   "source": [
    "**Solutions:**"
   ]
  },
  {
   "cell_type": "code",
   "execution_count": null,
   "metadata": {
    "vscode": {
     "languageId": "sql"
    }
   },
   "outputs": [],
   "source": [
    "select login_date, count(1) user_count\n",
    "from\n",
    "(select user_id, min(activity_date) login_date\n",
    "from traffic\n",
    "where activity = 'login'\n",
    "group by user_id) a\n",
    "where login_date between date_add('2019-06-30', interval -90 day) and '2019-06-30'\n",
    "group by login_date"
   ]
  }
 ],
 "metadata": {
  "language_info": {
   "name": "python"
  }
 },
 "nbformat": 4,
 "nbformat_minor": 2
}
