{
 "cells": [
  {
   "cell_type": "markdown",
   "metadata": {},
   "source": [
    "# **1555. Bank Account Summary**\n",
    "``` console\n",
    "Table: Users\n",
    "\n",
    "+--------------+---------+\n",
    "| Column Name  | Type    |\n",
    "+--------------+---------+\n",
    "| user_id      | int     |\n",
    "| user_name    | varchar |\n",
    "| credit       | int     |\n",
    "+--------------+---------+\n",
    "user_id is the primary key (column with unique values) for this table.\n",
    "Each row of this table contains the current credit information for each user.\n",
    " \n",
    "\n",
    "Table: Transactions\n",
    "\n",
    "+---------------+---------+\n",
    "| Column Name   | Type    |\n",
    "+---------------+---------+\n",
    "| trans_id      | int     |\n",
    "| paid_by       | int     |\n",
    "| paid_to       | int     |\n",
    "| amount        | int     |\n",
    "| transacted_on | date    |\n",
    "+---------------+---------+\n",
    "trans_id is the primary key (column with unique values) for this table.\n",
    "Each row of this table contains information about the transaction in the bank.\n",
    "User with id (paid_by) transfer money to user with id (paid_to).\n",
    " \n",
    "\n",
    "Leetcode Bank (LCB) helps its coders in making virtual payments. Our bank records all transactions in the table Transaction, we want to find out the current balance of all users and check whether they have breached their credit limit (If their current credit is less than 0).\n",
    "\n",
    "Write a solution to report.\n",
    "\n",
    "user_id,\n",
    "user_name,\n",
    "credit, current balance after performing transactions, and\n",
    "credit_limit_breached, check credit_limit (\"Yes\" or \"No\")\n",
    "Return the result table in any order.\n",
    "\n",
    "The result format is in the following example.\n",
    "\n",
    " \n",
    "\n",
    "Example 1:\n",
    "\n",
    "Input: \n",
    "Users table:\n",
    "+------------+--------------+-------------+\n",
    "| user_id    | user_name    | credit      |\n",
    "+------------+--------------+-------------+\n",
    "| 1          | Moustafa     | 100         |\n",
    "| 2          | Jonathan     | 200         |\n",
    "| 3          | Winston      | 10000       |\n",
    "| 4          | Luis         | 800         | \n",
    "+------------+--------------+-------------+\n",
    "\n",
    "Transactions table:\n",
    "+------------+------------+------------+----------+---------------+\n",
    "| trans_id   | paid_by    | paid_to    | amount   | transacted_on |\n",
    "+------------+------------+------------+----------+---------------+\n",
    "| 1          | 1          | 3          | 400      | 2020-08-01    |\n",
    "| 2          | 3          | 2          | 500      | 2020-08-02    |\n",
    "| 3          | 2          | 1          | 200      | 2020-08-03    |\n",
    "+------------+------------+------------+----------+---------------+\n",
    "\n",
    "Output: \n",
    "+------------+------------+------------+-----------------------+\n",
    "| user_id    | user_name  | credit     | credit_limit_breached |\n",
    "+------------+------------+------------+-----------------------+\n",
    "| 1          | Moustafa   | -100       | Yes                   | \n",
    "| 2          | Jonathan   | 500        | No                    |\n",
    "| 3          | Winston    | 9900       | No                    |\n",
    "| 4          | Luis       | 800        | No                    |\n",
    "+------------+------------+------------+-----------------------+\n",
    "\n",
    "Explanation: \n",
    "Moustafa paid $400 on \"2020-08-01\" and received $200 on \"2020-08-03\", credit (100 -400 +200) = -$100\n",
    "Jonathan received $500 on \"2020-08-02\" and paid $200 on \"2020-08-08\", credit (200 +500 -200) = $500\n",
    "Winston received $400 on \"2020-08-01\" and paid $500 on \"2020-08-03\", credit (10000 +400 -500) = $9990\n",
    "Luis did not received any transfer, credit = $800\n",
    "```"
   ]
  },
  {
   "cell_type": "markdown",
   "metadata": {},
   "source": [
    "**Solution-1:**"
   ]
  },
  {
   "cell_type": "markdown",
   "metadata": {},
   "source": [
    "``` sql\n",
    "# Write your MySQL query statement below\n",
    "\n",
    "SELECT u.user_id, user_name,\n",
    "(credit + COALESCE(t1.amount,0)) as credit,\n",
    "CASE WHEN (credit + COALESCE(t1.amount,0)) > 0 THEN 'No'\n",
    "ELSE 'Yes' END AS credit_limit_breached\n",
    "FROM Users u\n",
    "LEFT JOIN (\n",
    "SELECT user_id, SUM(amount) AS amount\n",
    "FROM\n",
    "(SELECT paid_by as user_id, (-amount) as amount FROM Transactions\n",
    "UNION ALL\n",
    "SELECT paid_to as user_id, (amount) as amount FROM Transactions)a\n",
    "GROUP BY 1) t1\n",
    "ON u.user_id = t1.user_id"
   ]
  },
  {
   "cell_type": "markdown",
   "metadata": {},
   "source": []
  },
  {
   "cell_type": "markdown",
   "metadata": {},
   "source": [
    "**Solution-2:**"
   ]
  },
  {
   "cell_type": "markdown",
   "metadata": {},
   "source": [
    "``` sql\n",
    "SELECT\n",
    "    user_id,\n",
    "    user_name,\n",
    "    SUM(change_in_bal) + credit AS credit,\n",
    "    IF(SUM(change_in_bal) + credit < 0, \"Yes\", \"No\") AS credit_limit_breached\n",
    "FROM (\n",
    "SELECT\n",
    "    U.user_id,\n",
    "    U.user_name,\n",
    "    U.credit,\n",
    "    CASE WHEN U.user_id = T.paid_by THEN -T.amount\n",
    "         WHEN U.user_id = T.paid_to THEN +T.amount\n",
    "         ELSE 0\n",
    "         END\n",
    "    AS change_in_bal\n",
    "FROM Users U\n",
    "LEFT JOIN Transactions T\n",
    "ON (U.user_id = T.paid_by OR U.user_id = T.paid_to)\n",
    "      ) T\n",
    "GROUP BY user_id;"
   ]
  },
  {
   "cell_type": "markdown",
   "metadata": {},
   "source": []
  },
  {
   "cell_type": "markdown",
   "metadata": {},
   "source": [
    "**Solution-3:**"
   ]
  },
  {
   "cell_type": "markdown",
   "metadata": {},
   "source": [
    "``` sql\n",
    "# Write your MySQL query statement below\n",
    "SELECT user_id,user_name,\n",
    "IFNULL(SUM(CASE WHEN a.user_id=b.paid_by THEN -amount ELSE amount END),0)+a.credit as credit,\n",
    "CASE WHEN IFNULL(SUM(CASE WHEN a.user_id=b.paid_by THEN -amount ELSE amount END),0)>=-a.credit THEN \"No\" ELSE \"Yes\" END as credit_limit_breached\n",
    "FROM Users as a\n",
    "LEFT JOIN Transactions as b\n",
    "ON a.user_id=b.paid_by OR a.user_id=b.paid_to\n",
    "GROUP BY a.user_id;"
   ]
  },
  {
   "cell_type": "markdown",
   "metadata": {},
   "source": []
  },
  {
   "cell_type": "markdown",
   "metadata": {},
   "source": [
    "**Solution-4:**"
   ]
  },
  {
   "cell_type": "markdown",
   "metadata": {},
   "source": [
    "``` sql\n",
    "select user_id, user_name, \n",
    "sum(ifnull(t2.amount,0))-sum(ifnull(t1.amount,0))+credit as credit,\n",
    "case when sum(ifnull(t2.amount,0))-sum(ifnull(t1.amount,0))+credit < 0 then \"Yes\" else \"No\" end as credit_limit_breached\n",
    "from users u \n",
    "left join transactions t1 on u.user_id = t1.paid_by\n",
    "left join transactions t2 on u.user_id = t2.paid_to\n",
    "group by user_id"
   ]
  }
 ],
 "metadata": {
  "language_info": {
   "name": "python"
  }
 },
 "nbformat": 4,
 "nbformat_minor": 2
}
