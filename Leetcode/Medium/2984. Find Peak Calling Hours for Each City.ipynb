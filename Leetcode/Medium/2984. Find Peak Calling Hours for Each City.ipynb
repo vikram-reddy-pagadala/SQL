{
 "cells": [
  {
   "cell_type": "markdown",
   "metadata": {},
   "source": [
    "# **2984. Find Peak Calling Hours for Each City**\n",
    "\n",
    "**Table: Calls**\n",
    "``` console\n",
    "+--------------+----------+\n",
    "| Column Name  | Type     |\n",
    "+--------------+----------+\n",
    "| caller_id    | int      |\n",
    "| recipient_id | int      |\n",
    "| call_time    | datetime |\n",
    "| city         | varchar  |\n",
    "+--------------+----------+\n",
    "```\n",
    "(caller_id, recipient_id, call_time) is the primary key (combination of columns with unique values) for this table.\n",
    "\n",
    "Each row contains caller id, recipient id, call time, and city.\n",
    "\n",
    "Write a solution to find the peak calling hour for each city. If multiple hours have the same number of calls, all of those hours will be recognized as peak hours for that specific city.\n",
    "\n",
    "Return the result table ordered by peak calling hour and city in descending order.\n",
    "\n",
    "The result format is in the following example.\n",
    "\n",
    " \n",
    "\n",
    "**Example 1:**\n",
    "\n",
    "**Input:** \n",
    "**Calls table:**\n",
    "``` console\n",
    "+-----------+--------------+---------------------+----------+\n",
    "| caller_id | recipient_id | call_time           | city     |\n",
    "+-----------+--------------+---------------------+----------+\n",
    "| 8         | 4            | 2021-08-24 22:46:07 | Houston  |\n",
    "| 4         | 8            | 2021-08-24 22:57:13 | Houston  |  \n",
    "| 5         | 1            | 2021-08-11 21:28:44 | Houston  |  \n",
    "| 8         | 3            | 2021-08-17 22:04:15 | Houston  |\n",
    "| 11        | 3            | 2021-08-17 13:07:00 | New York |\n",
    "| 8         | 11           | 2021-08-17 14:22:22 | New York |\n",
    "+-----------+--------------+---------------------+----------+\n",
    "```\n",
    "**Output:** \n",
    "``` console\n",
    "+----------+-------------------+-----------------+\n",
    "| city     | peak_calling_hour | number_of_calls |\n",
    "+----------+-------------------+-----------------+\n",
    "| Houston  | 22                | 3               |\n",
    "| New York | 14                | 1               |\n",
    "| New York | 13                | 1               |\n",
    "+----------+-------------------+-----------------+\n",
    "```\n",
    "**Explanation:** \n",
    "For Houston:\n",
    "  - The peak time is 22:00, with a total of 3 calls recorded. \n",
    "For New York:\n",
    "  - Both 13:00 and 14:00 hours have equal call counts of 1, so both times are considered peak hours.\n",
    "Output table is ordered by peak_calling_hour and city in descending order."
   ]
  },
  {
   "cell_type": "markdown",
   "metadata": {},
   "source": [
    "**Solution-1:**"
   ]
  },
  {
   "cell_type": "markdown",
   "metadata": {},
   "source": [
    "``` sql\n",
    "# Write your MySQL query statement below\n",
    "\n",
    "select city, peak_calling_hour, number_of_calls\n",
    "FROM\n",
    "(select city, hour(call_time) as peak_calling_hour,\n",
    "count(*) as number_of_calls,\n",
    "RANK()OVER(partition by city order by count(*) desc) as rn\n",
    "from Calls\n",
    "GROUP BY city, hour(call_time))a\n",
    "where rn = 1\n",
    "order by peak_calling_hour DESC, city DESC"
   ]
  }
 ],
 "metadata": {
  "language_info": {
   "name": "python"
  }
 },
 "nbformat": 4,
 "nbformat_minor": 2
}
