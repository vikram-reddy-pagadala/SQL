{
 "cells": [
  {
   "cell_type": "markdown",
   "metadata": {},
   "source": [
    "# **2993. Friday Purchases I**\n",
    "\n",
    "**Table: Purchases**\n",
    "``` console\n",
    "+---------------+------+\n",
    "| Column Name   | Type |\n",
    "+---------------+------+\n",
    "| user_id       | int  |\n",
    "| purchase_date | date |\n",
    "| amount_spend  | int  |\n",
    "+---------------+------+\n",
    "```\n",
    "(user_id, purchase_date, amount_spend) is the primary key (combination of columns with unique values) for this table.\n",
    "\n",
    "purchase_date will range from November 1, 2023, to November 30, 2023, inclusive of both dates.\n",
    "\n",
    "Each row contains user id, purchase date, and amount spend.\n",
    "\n",
    "Write a solution to calculate the total spending by users on each Friday of every week in November 2023. \n",
    "\n",
    "Output only weeks that include at least one purchase on a Friday.\n",
    "\n",
    "Return the result table ordered by week of month in ascending order.\n",
    "\n",
    "The result format is in the following example.\n",
    "\n",
    " \n",
    "\n",
    "**Example 1:**\n",
    "\n",
    "**Input:** \n",
    "**Purchases table:**\n",
    "``` console\n",
    "+---------+---------------+--------------+\n",
    "| user_id | purchase_date | amount_spend |\n",
    "+---------+---------------+--------------+\n",
    "| 11      | 2023-11-07    | 1126         |\n",
    "| 15      | 2023-11-30    | 7473         |\n",
    "| 17      | 2023-11-14    | 2414         |\n",
    "| 12      | 2023-11-24    | 9692         |\n",
    "| 8       | 2023-11-03    | 5117         |\n",
    "| 1       | 2023-11-16    | 5241         |\n",
    "| 10      | 2023-11-12    | 8266         |\n",
    "| 13      | 2023-11-24    | 12000        |\n",
    "+---------+---------------+--------------+\n",
    "```\n",
    "**Output:** \n",
    "``` console\n",
    "+---------------+---------------+--------------+\n",
    "| week_of_month | purchase_date | total_amount |\n",
    "+---------------+---------------+--------------+\n",
    "| 1             | 2023-11-03    | 5117         |\n",
    "| 4             | 2023-11-24    | 21692        |\n",
    "+---------------+---------------+--------------+ \n",
    "```\n",
    "**Explanation:** \n",
    "- During the first week of November 2023, transactions amounting to $5,117 occurred on Friday, 2023-11-03.\n",
    "- For the second week of November 2023, there were no transactions on Friday, 2023-11-10.\n",
    "- Similarly, during the third week of November 2023, there were no transactions on Friday, 2023-11-17.\n",
    "- In the fourth week of November 2023, two transactions took place on Friday, 2023-11-24, amounting to $12,000 and $9,692 respectively, summing up to a total of $21,692.\n",
    "Output table is ordered by week_of_month in ascending order."
   ]
  },
  {
   "cell_type": "markdown",
   "metadata": {},
   "source": [
    "**Solution-1:**"
   ]
  },
  {
   "cell_type": "markdown",
   "metadata": {},
   "source": [
    "``` sql\n",
    "# Write your MySQL query statement below\n",
    "\n",
    "select CEIL(DAY(purchase_date)/7) AS week_of_month,\n",
    "purchase_date, SUM(amount_spend) AS total_amount\n",
    "FROM Purchases\n",
    "WHERE DAYNAME(purchase_date) = 'FriDay' and DATE_FORMAT(purchase_date, '%Y-%m')='2023-11'\n",
    "GROUP BY purchase_date \n",
    "order by week_of_month ASC "
   ]
  },
  {
   "cell_type": "markdown",
   "metadata": {},
   "source": [
    "**Solution-2:**"
   ]
  },
  {
   "cell_type": "markdown",
   "metadata": {},
   "source": [
    "``` sql\n",
    "SELECT\n",
    "\t(WEEK(purchase_date) - WEEK('2023-11-01') + 1) AS 'week_of_month',\n",
    "\tpurchase_date,\n",
    "\tSUM(amount_spend) AS 'total_amount'\n",
    "FROM\n",
    "\tPurchases\n",
    "WHERE\n",
    "\tDAYOFWEEK(purchase_date) = 6 # Friday\n",
    "GROUP BY\n",
    "\tpurchase_date\n",
    "ORDER BY\n",
    "\tweek_of_month"
   ]
  }
 ],
 "metadata": {
  "language_info": {
   "name": "python"
  }
 },
 "nbformat": 4,
 "nbformat_minor": 2
}
