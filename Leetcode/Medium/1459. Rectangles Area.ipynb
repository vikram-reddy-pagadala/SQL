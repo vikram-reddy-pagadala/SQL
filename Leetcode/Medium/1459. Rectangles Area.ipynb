{
 "cells": [
  {
   "cell_type": "markdown",
   "metadata": {},
   "source": [
    "# **1459. Rectangles Area**\n",
    "``` console\n",
    "Table: Points\n",
    "\n",
    "+---------------+---------+\n",
    "| Column Name   | Type    |\n",
    "+---------------+---------+\n",
    "| id            | int     |\n",
    "| x_value       | int     |\n",
    "| y_value       | int     |\n",
    "+---------------+---------+\n",
    "id is the column with unique values for this table.\n",
    "Each point is represented as a 2D coordinate (x_value, y_value).\n",
    " \n",
    "\n",
    "Write a solution to report all possible axis-aligned rectangles with a non-zero area that can be formed by any two points from the Points table.\n",
    "\n",
    "Each row in the result should contain three columns (p1, p2, area) where:\n",
    "\n",
    "p1 and p2 are the id's of the two points that determine the opposite corners of a rectangle.\n",
    "area is the area of the rectangle and must be non-zero.\n",
    "Return the result table ordered by area in descending order. If there is a tie, order them by p1 in ascending order. If there is still a tie, order them by p2 in ascending order.\n",
    "\n",
    "The result format is in the following table.\n",
    "\n",
    " \n",
    "\n",
    "Example 1:\n",
    "\n",
    "\n",
    "Input: \n",
    "Points table:\n",
    "+----------+-------------+-------------+\n",
    "| id       | x_value     | y_value     |\n",
    "+----------+-------------+-------------+\n",
    "| 1        | 2           | 7           |\n",
    "| 2        | 4           | 8           |\n",
    "| 3        | 2           | 10          |\n",
    "+----------+-------------+-------------+\n",
    "\n",
    "Output: \n",
    "+----------+-------------+-------------+\n",
    "| p1       | p2          | area        |\n",
    "+----------+-------------+-------------+\n",
    "| 2        | 3           | 4           |\n",
    "| 1        | 2           | 2           |\n",
    "+----------+-------------+-------------+\n",
    "\n",
    "Explanation: \n",
    "The rectangle formed by p1 = 2 and p2 = 3 has an area equal to |4-2| * |8-10| = 4.\n",
    "The rectangle formed by p1 = 1 and p2 = 2 has an area equal to |2-4| * |7-8| = 2.\n",
    "Note that the rectangle formed by p1 = 1 and p2 = 3 is invalid because the area is 0.\n",
    "```"
   ]
  },
  {
   "cell_type": "markdown",
   "metadata": {},
   "source": [
    "**Solution-1:**"
   ]
  },
  {
   "cell_type": "markdown",
   "metadata": {},
   "source": [
    "``` sql\n",
    "SELECT p1.id as p1, p2.id as p2, \n",
    "(abs(p1.x_value - p2.x_value) * abs(p1.y_value - p2.y_value)) as area\n",
    "FROM Points p1\n",
    "JOIN points p2\n",
    "ON p1.id < p2.id and \n",
    "(abs(p1.x_value - p2.x_value) * abs(p1.y_value - p2.y_value)) <> 0\n",
    "ORDER by area DESC, p1.id, p2.id"
   ]
  },
  {
   "cell_type": "markdown",
   "metadata": {},
   "source": []
  },
  {
   "cell_type": "markdown",
   "metadata": {},
   "source": [
    "**Solution-2:**"
   ]
  },
  {
   "cell_type": "markdown",
   "metadata": {},
   "source": [
    "``` sql\n",
    "SELECT p1.id as p1, p2.id as p2, \n",
    "(abs(p1.x_value - p2.x_value) * abs(p1.y_value - p2.y_value)) as area\n",
    "FROM Points p1\n",
    "JOIN points p2\n",
    "ON p1.id < p2.id \n",
    "HAVING area <> 0\n",
    "ORDER by area DESC, p1.id, p2.id"
   ]
  }
 ],
 "metadata": {
  "language_info": {
   "name": "python"
  }
 },
 "nbformat": 4,
 "nbformat_minor": 2
}
