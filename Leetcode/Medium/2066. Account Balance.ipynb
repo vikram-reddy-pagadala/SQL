{
 "cells": [
  {
   "cell_type": "markdown",
   "metadata": {},
   "source": [
    "# **2066. Account Balance**\n",
    "\n",
    "**Table: Transactions**\n",
    "``` console\n",
    "+-------------+------+\n",
    "| Column Name | Type |\n",
    "+-------------+------+\n",
    "| account_id  | int  |\n",
    "| day         | date |\n",
    "| type        | ENUM |\n",
    "| amount      | int  |\n",
    "+-------------+------+\n",
    "```\n",
    "(account_id, day) is the primary key (combination of columns with unique values) for this table.\n",
    "Each row contains information about one transaction, including the transaction type, the day it occurred on, and the amount.\n",
    "type is an ENUM (category) of the type ('Deposit','Withdraw') \n",
    " \n",
    "\n",
    "Write a solution to report the balance of each user after each transaction. You may assume that the balance of each account before any transaction is 0 and that the balance will never be below 0 at any moment.\n",
    "\n",
    "Return the result table in ascending order by account_id, then by day in case of a tie.\n",
    "\n",
    "The result format is in the following example.\n",
    "\n",
    " \n",
    "\n",
    "**Example 1:**\n",
    "\n",
    "**Input:** \n",
    "**Transactions table:**\n",
    "``` console\n",
    "+------------+------------+----------+--------+\n",
    "| account_id | day        | type     | amount |\n",
    "+------------+------------+----------+--------+\n",
    "| 1          | 2021-11-07 | Deposit  | 2000   |\n",
    "| 1          | 2021-11-09 | Withdraw | 1000   |\n",
    "| 1          | 2021-11-11 | Deposit  | 3000   |\n",
    "| 2          | 2021-12-07 | Deposit  | 7000   |\n",
    "| 2          | 2021-12-12 | Withdraw | 7000   |\n",
    "+------------+------------+----------+--------+\n",
    "```\n",
    "**Output:**\n",
    "``` console\n",
    "+------------+------------+---------+\n",
    "| account_id | day        | balance |\n",
    "+------------+------------+---------+\n",
    "| 1          | 2021-11-07 | 2000    |\n",
    "| 1          | 2021-11-09 | 1000    |\n",
    "| 1          | 2021-11-11 | 4000    |\n",
    "| 2          | 2021-12-07 | 7000    |\n",
    "| 2          | 2021-12-12 | 0       |\n",
    "+------------+------------+---------+\n",
    "```\n",
    "**Explanation:** \n",
    "Account 1:\n",
    "- Initial balance is 0.\n",
    "- 2021-11-07 --> deposit 2000. Balance is 0 + 2000 = 2000.\n",
    "- 2021-11-09 --> withdraw 1000. Balance is 2000 - 1000 = 1000.\n",
    "- 2021-11-11 --> deposit 3000. Balance is 1000 + 3000 = 4000.\n",
    "Account 2:\n",
    "- Initial balance is 0.\n",
    "- 2021-12-07 --> deposit 7000. Balance is 0 + 7000 = 7000.\n",
    "- 2021-12-12 --> withdraw 7000. Balance is 7000 - 7000 = 0.\n"
   ]
  },
  {
   "cell_type": "markdown",
   "metadata": {},
   "source": [
    "**Solution-1:**"
   ]
  },
  {
   "cell_type": "markdown",
   "metadata": {},
   "source": [
    "``` sql\n",
    "# Write your MySQL query statement below\n",
    "\n",
    "SELECT account_id, day,\n",
    "SUM(CASE WHEN type = 'Deposit' THEN amount ELSE -amount END) OVER(PARTITION BY account_id ORDER BY day)\n",
    "AS balance\n",
    "FROM Transactions\n",
    "ORDER BY 1,2"
   ]
  }
 ],
 "metadata": {
  "language_info": {
   "name": "python"
  }
 },
 "nbformat": 4,
 "nbformat_minor": 2
}
