{
 "cells": [
  {
   "cell_type": "markdown",
   "metadata": {},
   "source": [
    "# **3050. Pizza Toppings Cost Analysis**\n",
    "\n",
    "**Table: Toppings**\n",
    "``` console\n",
    "+--------------+---------+ \n",
    "| Column Name  | Type    | \n",
    "+--------------+---------+ \n",
    "| topping_name | varchar | \n",
    "| cost         | decimal |\n",
    "+--------------+---------+\n",
    "```\n",
    "topping_name is the primary key for this table.\n",
    "\n",
    "Each row of this table contains topping name and the cost of the topping. \n",
    "\n",
    "Write a solution to calculate the total cost of all possible 3-topping pizza combinations from a given list of toppings. The total cost of toppings must be rounded to 2 decimal places.\n",
    "\n",
    "Note:\n",
    "\n",
    "Do not include the pizzas where a topping is repeated. For example, ‘Pepperoni, Pepperoni, Onion Pizza’.\n",
    "Toppings must be listed in alphabetical order. For example, 'Chicken, Onions, Sausage'. 'Onion, Sausage, Chicken' is not acceptable.\n",
    "\n",
    "Return the result table ordered by total cost in descending order and combination of toppings in ascending order.\n",
    "\n",
    "The result format is in the following example.\n",
    "\n",
    " \n",
    "\n",
    "**Example 1:**\n",
    "\n",
    "**Input:** \n",
    "**Toppings table:**\n",
    "``` console\n",
    "+--------------+------+\n",
    "| topping_name | cost |\n",
    "+--------------+------+\n",
    "| Pepperoni    | 0.50 |\n",
    "| Sausage      | 0.70 |\n",
    "| Chicken      | 0.55 |\n",
    "| Extra Cheese | 0.40 |\n",
    "+--------------+------+\n",
    "```\n",
    "**Output:** \n",
    "``` console\n",
    "+--------------------------------+------------+\n",
    "| pizza                          | total_cost | \n",
    "+--------------------------------+------------+\n",
    "| Chicken,Pepperoni,Sausage      | 1.75       |  \n",
    "| Chicken,Extra Cheese,Sausage   | 1.65       |\n",
    "| Extra Cheese,Pepperoni,Sausage | 1.60       |\n",
    "| Chicken,Extra Cheese,Pepperoni | 1.45       | \n",
    "+--------------------------------+------------+\n",
    "```\n",
    "**Explanation:** \n",
    "There are only four different combinations possible with the three topings:\n",
    "- Chicken, Pepperoni, Sausage: Total cost is $1.75 (Chicken $0.55, Pepperoni $0.50, Sausage $0.70).\n",
    "- Chicken, Extra Cheese, Sausage: Total cost is $1.65 (Chicken $0.55, Extra Cheese $0.40, Sausage $0.70).\n",
    "- Extra Cheese, Pepperoni, Sausage: Total cost is $1.60 (Extra Cheese $0.40, Pepperoni $0.50, Sausage $0.70).\n",
    "- Chicken, Extra Cheese, Pepperoni: Total cost is $1.45 (Chicken $0.55, Extra Cheese $0.40, Pepperoni $0.50).\n",
    "Output table is ordered by the total cost in descending order."
   ]
  },
  {
   "cell_type": "markdown",
   "metadata": {},
   "source": [
    "**Solution-1:**"
   ]
  },
  {
   "cell_type": "markdown",
   "metadata": {},
   "source": [
    "``` sql\n",
    "# Write your MySQL query statement below\n",
    "\n",
    "select \n",
    "concat(a.topping_name, ',', b.topping_name, ',', c.topping_name) as pizza, \n",
    "(a.cost + b.cost + c.cost) as total_cost\n",
    "from toppings a, toppings b, toppings c\n",
    "where a.topping_name < b.topping_name and b.topping_name<c.topping_name\n",
    "order by total_cost desc, pizza asc"
   ]
  }
 ],
 "metadata": {
  "language_info": {
   "name": "python"
  }
 },
 "nbformat": 4,
 "nbformat_minor": 2
}
