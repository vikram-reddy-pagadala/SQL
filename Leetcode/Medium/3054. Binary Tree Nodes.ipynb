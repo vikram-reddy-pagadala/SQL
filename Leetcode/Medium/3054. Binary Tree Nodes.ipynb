{
 "cells": [
  {
   "cell_type": "markdown",
   "metadata": {},
   "source": [
    "# **3054. Binary Tree Nodes**\n",
    "``` console\n",
    "Table: Tree\n",
    "\n",
    "+-------------+------+ \n",
    "| Column Name | Type | \n",
    "+-------------+------+ \n",
    "| N           | int  | \n",
    "| P           | int  |\n",
    "+-------------+------+\n",
    "N is the column of unique values for this table.\n",
    "Each row includes N and P, where N represents the value of a node in Binary Tree, and P is the parent of N.\n",
    "Write a solution to find the node type of the Binary Tree. Output one of the following for each node:\n",
    "\n",
    "Root: if the node is the root node.\n",
    "Leaf: if the node is the leaf node.\n",
    "Inner: if the node is neither root nor leaf node.\n",
    "Return the result table ordered by node value in ascending order.\n",
    "\n",
    "The result format is in the following example.\n",
    "\n",
    " \n",
    "\n",
    "Example 1:\n",
    "\n",
    "Input: \n",
    "Tree table:\n",
    "+---+------+\n",
    "| N | P    | \n",
    "+---+------+\n",
    "| 1 | 2    |\n",
    "| 3 | 2    | \n",
    "| 6 | 8    | \n",
    "| 9 | 8    | \n",
    "| 2 | 5    | \n",
    "| 8 | 5    | \n",
    "| 5 | null | \n",
    "+---+------+\n",
    "\n",
    "Output: \n",
    "+---+-------+\n",
    "| N | Type  | \n",
    "+---+-------+\n",
    "| 1 | Leaf  | \n",
    "| 2 | Inner |\n",
    "| 3 | Leaf  |\n",
    "| 5 | Root  |\n",
    "| 6 | Leaf  |\n",
    "| 8 | Inner |\n",
    "| 9 | Leaf  |    \n",
    "+---+-------+\n",
    "\n",
    "Explanation: \n",
    "- Node 5 is the root node since it has no parent node.\n",
    "- Nodes 1, 3, 6, and 9 are leaf nodes because they don't have any child nodes.\n",
    "- Nodes 2, and 8 are inner nodes as they serve as parents to some of the nodes in the structure.\n",
    "```"
   ]
  },
  {
   "cell_type": "markdown",
   "metadata": {},
   "source": [
    "**Solutions:**"
   ]
  },
  {
   "cell_type": "code",
   "execution_count": null,
   "metadata": {
    "vscode": {
     "languageId": "sql"
    }
   },
   "outputs": [],
   "source": [
    "SELECT N, \n",
    "CASE WHEN P is null THEN 'Root'\n",
    "     WHEN N IN (select (P) FROM Tree) THEN 'Inner'\n",
    "     ELSE 'Leaf' END AS Type\n",
    "FROM Tree\n",
    "order by N"
   ]
  },
  {
   "cell_type": "code",
   "execution_count": null,
   "metadata": {
    "vscode": {
     "languageId": "sql"
    }
   },
   "outputs": [],
   "source": [
    "-- Write your PostgreSQL query statement below\n",
    "select N, \n",
    "case when t1.P is null then 'Root'\n",
    "     when t2.P is Null then 'Leaf' else 'Inner' end as Type\n",
    "from Tree t1 \n",
    "left join (select distinct P from Tree )t2 \n",
    "on t1.N = t2.P\n",
    "order by N"
   ]
  },
  {
   "cell_type": "code",
   "execution_count": null,
   "metadata": {
    "vscode": {
     "languageId": "sql"
    }
   },
   "outputs": [],
   "source": [
    "/* Write your PL/SQL query statement below */\n",
    "select \n",
    "N,\n",
    "case when P is null then 'Root'\n",
    "     when (select count(*) from tree t1 where t1.p=t.n)=0 then 'Leaf'\n",
    "    else 'Inner' end as Type\n",
    "from Tree t\n",
    "order by N;"
   ]
  }
 ],
 "metadata": {
  "language_info": {
   "name": "python"
  }
 },
 "nbformat": 4,
 "nbformat_minor": 2
}
