{
 "cells": [
  {
   "cell_type": "markdown",
   "metadata": {},
   "source": [
    "# **1613. Find the Missing IDs**\n",
    "``` console\n",
    "Table: Customers\n",
    "\n",
    "+---------------+---------+\n",
    "| Column Name   | Type    |\n",
    "+---------------+---------+\n",
    "| customer_id   | int     |\n",
    "| customer_name | varchar |\n",
    "+---------------+---------+\n",
    "customer_id is the column with unique values for this table.\n",
    "Each row of this table contains the name and the id customer.\n",
    " \n",
    "\n",
    "Write a solution to find the missing customer IDs. The missing IDs are ones that are not in the Customers table but are in the range between 1 and the maximum customer_id present in the table.\n",
    "\n",
    "Notice that the maximum customer_id will not exceed 100.\n",
    "\n",
    "Return the result table ordered by ids in ascending order.\n",
    "\n",
    "The result format is in the following example.\n",
    "\n",
    " \n",
    "\n",
    "Example 1:\n",
    "\n",
    "Input: \n",
    "Customers table:\n",
    "+-------------+---------------+\n",
    "| customer_id | customer_name |\n",
    "+-------------+---------------+\n",
    "| 1           | Alice         |\n",
    "| 4           | Bob           |\n",
    "| 5           | Charlie       |\n",
    "+-------------+---------------+\n",
    "\n",
    "Output: \n",
    "+-----+\n",
    "| ids |\n",
    "+-----+\n",
    "| 2   |\n",
    "| 3   |\n",
    "+-----+\n",
    "\n",
    "Explanation: \n",
    "The maximum customer_id present in the table is 5, so in the range [1,5], IDs 2 and 3 are missing from the table.\n",
    "```"
   ]
  },
  {
   "cell_type": "markdown",
   "metadata": {},
   "source": [
    "**Solution-1:**"
   ]
  },
  {
   "cell_type": "markdown",
   "metadata": {},
   "source": [
    "``` sql\n",
    "# Write your MySQL query statement below\n",
    "\n",
    "with recursive cte AS(\n",
    "    SELECT \n",
    "    1 AS customer_id\n",
    "    UNION\n",
    "    SELECT \n",
    "    customer_id + 1 \n",
    "    FROM cte\n",
    "    WHERE  customer_id < (SELECT max(customer_id) FROM customers) AND customer_id<=100\n",
    ")\n",
    "SELECT customer_id as ids\n",
    "FROM cte \n",
    "WHERE customer_id NOT IN (SELECT customer_id FROM Customers)"
   ]
  },
  {
   "cell_type": "markdown",
   "metadata": {},
   "source": []
  },
  {
   "cell_type": "markdown",
   "metadata": {},
   "source": [
    "**Solution-1:**"
   ]
  },
  {
   "cell_type": "markdown",
   "metadata": {},
   "source": [
    "``` sql\n",
    "-- Write your PostgreSQL query statement below\n",
    "\n",
    "select generate_series(1, max(customer_id)) ids\n",
    "from customers\n",
    "except \n",
    "select customer_id\n",
    "from customers\n",
    "order by ids"
   ]
  },
  {
   "cell_type": "markdown",
   "metadata": {},
   "source": []
  },
  {
   "cell_type": "markdown",
   "metadata": {},
   "source": [
    "**Solution-3:**"
   ]
  },
  {
   "cell_type": "markdown",
   "metadata": {},
   "source": [
    "``` sql\n",
    "-- Write your PostgreSQL query statement below\n",
    "\n",
    "select generate_series(1, case when max(customer_id) > 100 then 100 else max(customer_id) END) ids\n",
    "from customers\n",
    "except \n",
    "select customer_id\n",
    "from customers\n",
    "order by ids"
   ]
  }
 ],
 "metadata": {
  "language_info": {
   "name": "python"
  }
 },
 "nbformat": 4,
 "nbformat_minor": 2
}
