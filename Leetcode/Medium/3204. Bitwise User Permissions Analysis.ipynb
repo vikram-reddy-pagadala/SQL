{
 "cells": [
  {
   "cell_type": "markdown",
   "metadata": {},
   "source": [
    "# **3204. Bitwise User Permissions Analysis**\n",
    "\n",
    "**Table: user_permissions**\n",
    "``` sql\n",
    "+-------------+---------+\n",
    "| Column Name | Type    |\n",
    "+-------------+---------+\n",
    "| user_id     | int     |\n",
    "| permissions | int     |\n",
    "+-------------+---------+\n",
    "```\n",
    "user_id is the primary key.\n",
    "\n",
    "Each row of this table contains the user ID and their permissions encoded as an integer.\n",
    "\n",
    "Consider that each bit in the permissions integer represents a different access level or feature that a user has.\n",
    "\n",
    "Write a solution to calculate the following:\n",
    "\n",
    "common_perms: The access level granted to all users. This is computed using a bitwise AND operation on the permissions column.\n",
    "\n",
    "any_perms: The access level granted to any user. This is computed using a bitwise OR operation on the permissions column.\n",
    "\n",
    "Return the result table in any order.\n",
    "\n",
    "The result format is shown in the following example.\n",
    "\n",
    " \n",
    "\n",
    "Example:\n",
    "\n",
    "**Input:**\n",
    "\n",
    "**user_permissions table:**\n",
    "``` sql\n",
    "+---------+-------------+\n",
    "| user_id | permissions |\n",
    "+---------+-------------+\n",
    "| 1       | 5           |\n",
    "| 2       | 12          |\n",
    "| 3       | 7           |\n",
    "| 4       | 3           |\n",
    "+---------+-------------+\n",
    " ```\n",
    "**Output:**\n",
    "``` sql\n",
    "+-------------+--------------+\n",
    "| common_perms | any_perms   |\n",
    "+--------------+-------------+\n",
    "| 0            | 15          |\n",
    "+--------------+-------------+\n",
    "```\n",
    "**Explanation:**\n",
    "\n",
    "**common_perms:** Represents the bitwise AND result of all permissions:\n",
    "- For user 1 (5): 5 (binary 0101)\n",
    "- For user 2 (12): 12 (binary 1100)\n",
    "- For user 3 (7): 7 (binary 0111)\n",
    "- For user 4 (3): 3 (binary 0011)\n",
    "\n",
    "**Bitwise AND:** 5 & 12 & 7 & 3 = 0 (binary 0000)\n",
    "\n",
    "**any_perms:** Represents the bitwise OR result of all permissions:\n",
    "\n",
    "**Bitwise OR:** 5 | 12 | 7 | 3 = 15 (binary 1111)"
   ]
  },
  {
   "cell_type": "markdown",
   "metadata": {},
   "source": [
    "**Solution-1:**"
   ]
  },
  {
   "cell_type": "markdown",
   "metadata": {},
   "source": [
    "``` sql\n",
    "# Write your MySQL query statement below\n",
    "\n",
    "SELECT \n",
    "BIT_AND(permissions) as common_perms,\n",
    "BIT_OR(permissions) as any_perms\n",
    "FROM user_permissions "
   ]
  }
 ],
 "metadata": {
  "language_info": {
   "name": "python"
  }
 },
 "nbformat": 4,
 "nbformat_minor": 2
}
