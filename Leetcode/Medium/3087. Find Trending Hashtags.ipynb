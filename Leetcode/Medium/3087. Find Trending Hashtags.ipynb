{
 "cells": [
  {
   "cell_type": "markdown",
   "metadata": {},
   "source": [
    "# **3087. Find Trending Hashtags**\n",
    "\n",
    "**Table: Tweets**\n",
    "``` console\n",
    "+-------------+---------+\n",
    "| Column Name | Type    |\n",
    "+-------------+---------+\n",
    "| user_id     | int     |\n",
    "| tweet_id    | int     |\n",
    "| tweet_date  | date    |\n",
    "| tweet       | varchar |\n",
    "+-------------+---------+\n",
    "```\n",
    "tweet_id is the primary key (column with unique values) for this table.\n",
    "\n",
    "Each row of this table contains user_id, tweet_id, tweet_date and tweet.\n",
    "\n",
    "Write a solution to find the top 3 trending hashtags in February 2024. Each tweet only contains one hashtag.\n",
    "\n",
    "Return the result table orderd by count of hashtag, hashtag in descending order.\n",
    "\n",
    "The result format is in the following example.\n",
    "\n",
    " \n",
    "\n",
    "**Example 1:**\n",
    "\n",
    "**Input:**\n",
    "\n",
    "**Tweets table:**\n",
    "``` console\n",
    "+---------+----------+----------------------------------------------+------------+\n",
    "| user_id | tweet_id | tweet                                        | tweet_date |\n",
    "+---------+----------+----------------------------------------------+------------+\n",
    "| 135     | 13       | Enjoying a great start to the day! #HappyDay | 2024-02-01 |\n",
    "| 136     | 14       | Another #HappyDay with good vibes!           | 2024-02-03 |\n",
    "| 137     | 15       | Productivity peaks! #WorkLife                | 2024-02-04 |\n",
    "| 138     | 16       | Exploring new tech frontiers. #TechLife      | 2024-02-04 |\n",
    "| 139     | 17       | Gratitude for today's moments. #HappyDay     | 2024-02-05 |\n",
    "| 140     | 18       | Innovation drives us. #TechLife              | 2024-02-07 |\n",
    "| 141     | 19       | Connecting with nature's serenity. #Nature   | 2024-02-09 |\n",
    "+---------+----------+----------------------------------------------+------------+\n",
    " ```\n",
    "**Output:**\n",
    "``` console\n",
    "+-----------+--------------+\n",
    "| hashtag   | hashtag_count|\n",
    "+-----------+--------------+\n",
    "| #HappyDay | 3            |\n",
    "| #TechLife | 2            |\n",
    "| #WorkLife | 1            |\n",
    "+-----------+--------------+\n",
    "```\n",
    "**Explanation:**\n",
    "\n",
    "#HappyDay: Appeared in tweet IDs 13, 14, and 17, with a total count of 3 mentions.\n",
    "\n",
    "#TechLife: Appeared in tweet IDs 16 and 18, with a total count of 2 mentions.\n",
    "\n",
    "#WorkLife: Appeared in tweet ID 15, with a total count of 1 mention.\n",
    "\n",
    "Note: Output table is sorted in descending order by hashtag_count and hashtag respectively."
   ]
  },
  {
   "cell_type": "markdown",
   "metadata": {},
   "source": [
    "**Solution-1:**"
   ]
  },
  {
   "cell_type": "markdown",
   "metadata": {},
   "source": [
    "``` sql\n",
    "# Write your MySQL query statement below\n",
    "\n",
    "SELECT REGEXP_SUBSTR(tweet, '#[a-zA-Z0-9_]+') AS hashtag, count(*) AS hashtag_count\n",
    "FROM Tweets\n",
    "WHERE date_format(tweet_date,'%Y-%m') = '2024-02'\n",
    "GROUP BY 1\n",
    "ORDER BY 2 DESC, 1 DESC\n",
    "LIMIT 3"
   ]
  },
  {
   "cell_type": "markdown",
   "metadata": {},
   "source": [
    "**Solution-2:**"
   ]
  },
  {
   "cell_type": "markdown",
   "metadata": {},
   "source": [
    "``` sql\n",
    "SELECT CONCAT(\"#\", SUBSTRING_INDEX(SUBSTRING_INDEX(tweet, \"#\", -1), \" \", 1)) AS hashtag, COUNT(*) AS hashtag_count\n",
    "FROM Tweets\n",
    "WHERE tweet_date BETWEEN \"2024-02-01\" AND \"2024-02-29\"\n",
    "GROUP BY hashtag\n",
    "ORDER BY hashtag_count DESC, hashtag DESC\n",
    "LIMIT 3"
   ]
  }
 ],
 "metadata": {
  "language_info": {
   "name": "python"
  }
 },
 "nbformat": 4,
 "nbformat_minor": 2
}
