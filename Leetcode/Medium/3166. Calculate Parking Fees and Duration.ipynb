{
 "cells": [
  {
   "cell_type": "markdown",
   "metadata": {},
   "source": [
    "# **3166. Calculate Parking Fees and Duration**\n",
    "\n",
    "Table: ParkingTransactions\n",
    "``` console\n",
    "+--------------+-----------+\n",
    "| Column Name  | Type      |\n",
    "+--------------+-----------+\n",
    "| lot_id       | int       |\n",
    "| car_id       | int       |\n",
    "| entry_time   | datetime  |\n",
    "| exit_time    | datetime  |\n",
    "| fee_paid     | decimal   |\n",
    "+--------------+-----------+\n",
    "```\n",
    "(lot_id, car_id, entry_time) is the primary key (combination of columns with unique values) for this table.\n",
    "\n",
    "Each row of this table contains the ID of the parking lot, the ID of the car, the entry and exit times, and the fee paid for the parking duration.\n",
    "\n",
    "Write a solution to find the total parking fee paid by each car across all parking lots, and the average hourly fee (rounded to 2 decimal places) paid by each car. Also, find the parking lot where each car spent the most total time.\n",
    "\n",
    "Return the result table ordered by car_id in ascending order.\n",
    "\n",
    "Note: Test cases are generated in such a way that an individual car cannot be in multiple parking lots at the same time.\n",
    "\n",
    "The result format is in the following example.\n",
    "\n",
    " \n",
    "\n",
    "**Example:**\n",
    "\n",
    "**Input:**\n",
    "\n",
    "**ParkingTransactions table:**\n",
    "``` console\n",
    "+--------+--------+---------------------+---------------------+----------+\n",
    "| lot_id | car_id | entry_time          | exit_time           | fee_paid |\n",
    "+--------+--------+---------------------+---------------------+----------+\n",
    "| 1      | 1001   | 2023-06-01 08:00:00 | 2023-06-01 10:30:00 | 5.00     |\n",
    "| 1      | 1001   | 2023-06-02 11:00:00 | 2023-06-02 12:45:00 | 3.00     |\n",
    "| 2      | 1001   | 2023-06-01 10:45:00 | 2023-06-01 12:00:00 | 6.00     |\n",
    "| 2      | 1002   | 2023-06-01 09:00:00 | 2023-06-01 11:30:00 | 4.00     |\n",
    "| 3      | 1001   | 2023-06-03 07:00:00 | 2023-06-03 09:00:00 | 4.00     |\n",
    "| 3      | 1002   | 2023-06-02 12:00:00 | 2023-06-02 14:00:00 | 2.00     |\n",
    "+--------+--------+---------------------+---------------------+----------+\n",
    "```\n",
    "**Output:**\n",
    "``` console\n",
    "+--------+----------------+----------------+---------------+\n",
    "| car_id | total_fee_paid | avg_hourly_fee | most_time_lot |\n",
    "+--------+----------------+----------------+---------------+\n",
    "| 1001   | 18.00          | 2.40           | 1             |\n",
    "| 1002   | 6.00           | 1.33           | 2             |\n",
    "+--------+----------------+----------------+---------------+\n",
    "```\n",
    "**Explanation:**\n",
    "\n",
    "**For car ID 1001:**\n",
    "- From 2023-06-01 08:00:00 to 2023-06-01 10:30:00 in lot 1: 2.5 hours, fee 5.00\n",
    "- From 2023-06-02 11:00:00 to 2023-06-02 12:45:00 in lot 1: 1.75 hours, fee 3.00\n",
    "- From 2023-06-01 10:45:00 to 2023-06-01 12:00:00 in lot 2: 1.25 hours, fee 6.00\n",
    "- From 2023-06-03 07:00:00 to 2023-06-03 09:00:00 in lot 3: 2 hours, fee 4.00\n",
    "- Total fee paid: 18.00, total hours: 7.5, average hourly fee: 2.40, most time spent in lot 1: 4.25 hours.\n",
    "\n",
    "**For car ID 1002:**\n",
    "- From 2023-06-01 09:00:00 to 2023-06-01 11:30:00 in lot 2: 2.5 hours, fee 4.00\n",
    "- From 2023-06-02 12:00:00 to 2023-06-02 14:00:00 in lot 3: 2 hours, fee 2.00\n",
    "- Total fee paid: 6.00, total hours: 4.5, average hourly fee: 1.33, most time spent in lot 2: 2.5 hours.\n",
    "\n",
    "Note: Output table is ordered by car_id in ascending order."
   ]
  },
  {
   "cell_type": "markdown",
   "metadata": {},
   "source": [
    "**Solution-1:**"
   ]
  },
  {
   "cell_type": "markdown",
   "metadata": {},
   "source": [
    "``` sql\n",
    "# Write your MySQL query statement below\n",
    "\n",
    "with cte as(\n",
    "select distinct car_id,SUM(fee_paid) over(partition by car_id) AS total_fee_paid,lot_id,\n",
    "ROUND(SUM(fee_paid) over(partition by car_id)/ SUM(timestampdiff(minute, entry_time,exit_time)/60) over(partition by car_id),2) as avg_hourly_fee,\n",
    "sum(timestampdiff(minute, entry_time,exit_time)/60) over(partition by car_id, lot_id) as time_spent\n",
    "FROM ParkingTransactions)\n",
    "\n",
    "select car_id,total_fee_paid, avg_hourly_fee, most_time_lot\n",
    "from(\n",
    "select car_id,total_fee_paid, avg_hourly_fee,lot_id as most_time_lot,\n",
    "RANK() over(partition by car_id order by time_spent desc) as rn\n",
    "from cte) a where rn = 1"
   ]
  },
  {
   "cell_type": "markdown",
   "metadata": {},
   "source": [
    "**Solution-2:**"
   ]
  },
  {
   "cell_type": "markdown",
   "metadata": {},
   "source": [
    "``` sql\n",
    "# Write your MySQL query statement below\n",
    "\n",
    "with cte as(\n",
    "select distinct car_id,SUM(fee_paid) over(partition by car_id) AS total_fee_paid,lot_id,\n",
    "ROUND(SUM(fee_paid) over(partition by car_id)/ SUM(timestampdiff(minute, entry_time,exit_time)/60) over(partition by car_id),2) as avg_hourly_fee,\n",
    "sum(timestampdiff(minute, entry_time,exit_time)/60) over(partition by car_id, lot_id) as time_spent\n",
    "FROM ParkingTransactions)\n",
    "\n",
    "select car_id,total_fee_paid, avg_hourly_fee,lot_id as most_time_lot\n",
    "from cte\n",
    "where (car_id,time_spent) in (select car_id,max(time_spent) from cte group by car_id)"
   ]
  },
  {
   "cell_type": "markdown",
   "metadata": {},
   "source": [
    "**Solution-3:**"
   ]
  },
  {
   "cell_type": "markdown",
   "metadata": {},
   "source": [
    "``` sql\n",
    "with cte as(\n",
    "    select car_id, lot_id,\n",
    "        sum(fee_paid) as fee_paid_lot, \n",
    "        sum(timestampdiff(second, entry_time, exit_time))/3600\n",
    "    as time_lot,\n",
    "        first_value(lot_id)over(partition by car_id order by sum(timestampdiff(second, entry_time, exit_time))/3600 desc) as most_time_lot\n",
    "    from ParkingTransactions \n",
    "    group by 1, 2\n",
    ")\n",
    "\n",
    "select car_id, \n",
    "    sum(fee_paid_lot) as total_fee_paid,\n",
    "    round(sum(fee_paid_lot)/sum(time_lot), 2) as avg_hourly_fee,\n",
    "    most_time_lot\n",
    "from cte\n",
    "group by 1\n",
    "order by 1"
   ]
  }
 ],
 "metadata": {
  "language_info": {
   "name": "python"
  }
 },
 "nbformat": 4,
 "nbformat_minor": 2
}
