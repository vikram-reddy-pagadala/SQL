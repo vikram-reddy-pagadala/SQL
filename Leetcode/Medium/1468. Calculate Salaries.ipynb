{
 "cells": [
  {
   "cell_type": "markdown",
   "metadata": {},
   "source": [
    "# **1468. Calculate Salaries**\n",
    "``` console\n",
    "Table Salaries:\n",
    "\n",
    "+---------------+---------+\n",
    "| Column Name   | Type    |\n",
    "+---------------+---------+\n",
    "| company_id    | int     |\n",
    "| employee_id   | int     |\n",
    "| employee_name | varchar |\n",
    "| salary        | int     |\n",
    "+---------------+---------+\n",
    "In SQL,(company_id, employee_id) is the primary key for this table.\n",
    "This table contains the company id, the id, the name, and the salary for an employee.\n",
    " \n",
    "\n",
    "Find the salaries of the employees after applying taxes. Round the salary to the nearest integer.\n",
    "\n",
    "The tax rate is calculated for each company based on the following criteria:\n",
    "\n",
    "0% If the max salary of any employee in the company is less than $1000.\n",
    "24% If the max salary of any employee in the company is in the range [1000, 10000] inclusive.\n",
    "49% If the max salary of any employee in the company is greater than $10000.\n",
    "Return the result table in any order.\n",
    "\n",
    "The result format is in the following example.\n",
    "\n",
    " \n",
    "\n",
    "Example 1:\n",
    "\n",
    "Input: \n",
    "Salaries table:\n",
    "+------------+-------------+---------------+--------+\n",
    "| company_id | employee_id | employee_name | salary |\n",
    "+------------+-------------+---------------+--------+\n",
    "| 1          | 1           | Tony          | 2000   |\n",
    "| 1          | 2           | Pronub        | 21300  |\n",
    "| 1          | 3           | Tyrrox        | 10800  |\n",
    "| 2          | 1           | Pam           | 300    |\n",
    "| 2          | 7           | Bassem        | 450    |\n",
    "| 2          | 9           | Hermione      | 700    |\n",
    "| 3          | 7           | Bocaben       | 100    |\n",
    "| 3          | 2           | Ognjen        | 2200   |\n",
    "| 3          | 13          | Nyancat       | 3300   |\n",
    "| 3          | 15          | Morninngcat   | 7777   |\n",
    "+------------+-------------+---------------+--------+\n",
    "Output: \n",
    "+------------+-------------+---------------+--------+\n",
    "| company_id | employee_id | employee_name | salary |\n",
    "+------------+-------------+---------------+--------+\n",
    "| 1          | 1           | Tony          | 1020   |\n",
    "| 1          | 2           | Pronub        | 10863  |\n",
    "| 1          | 3           | Tyrrox        | 5508   |\n",
    "| 2          | 1           | Pam           | 300    |\n",
    "| 2          | 7           | Bassem        | 450    |\n",
    "| 2          | 9           | Hermione      | 700    |\n",
    "| 3          | 7           | Bocaben       | 76     |\n",
    "| 3          | 2           | Ognjen        | 1672   |\n",
    "| 3          | 13          | Nyancat       | 2508   |\n",
    "| 3          | 15          | Morninngcat   | 5911   |\n",
    "+------------+-------------+---------------+--------+\n",
    "\n",
    "Explanation: \n",
    "For company 1, Max salary is 21300. Employees in company 1 have taxes = 49%\n",
    "For company 2, Max salary is 700. Employees in company 2 have taxes = 0%\n",
    "For company 3, Max salary is 7777. Employees in company 3 have taxes = 24%\n",
    "The salary after taxes = salary - (taxes percentage / 100) * salary\n",
    "For example, Salary for Morninngcat (3, 15) after taxes = 7777 - 7777 * (24 / 100) = 7777 - 1866.48 = 5910.52, which is rounded to 5911.\n",
    "```"
   ]
  },
  {
   "cell_type": "markdown",
   "metadata": {},
   "source": [
    "**Solution-1**"
   ]
  },
  {
   "cell_type": "markdown",
   "metadata": {},
   "source": [
    "``` sql\n",
    "SELECT company_id,employee_id,employee_name,\n",
    "(CASE \n",
    "WHEN MAX(salary) OVER (PARTITION BY company_id) < 1000 THEN ROUND(salary*(100-0)/100)\n",
    "WHEN MAX(salary) OVER (PARTITION BY company_id) BETWEEN 1000 AND 10000 \n",
    "THEN ROUND(salary*(100-24)/100)\n",
    "ELSE ROUND(salary*(100-49)/100) END) AS salary\n",
    "FROM Salaries"
   ]
  }
 ],
 "metadata": {
  "language_info": {
   "name": "python"
  }
 },
 "nbformat": 4,
 "nbformat_minor": 2
}
