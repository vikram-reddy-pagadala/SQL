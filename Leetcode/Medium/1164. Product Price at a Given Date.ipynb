{
 "cells": [
  {
   "cell_type": "markdown",
   "metadata": {},
   "source": [
    "# **1164. Product Price at a Given Date**\n",
    "\n",
    "**Table: Products**\n",
    "``` console\n",
    "+---------------+---------+\n",
    "| Column Name   | Type    |\n",
    "+---------------+---------+\n",
    "| product_id    | int     |\n",
    "| new_price     | int     |\n",
    "| change_date   | date    |\n",
    "+---------------+---------+\n",
    "```\n",
    "(product_id, change_date) is the primary key (combination of columns with unique values) of this table.\n",
    "Each row of this table indicates that the price of some product was changed to a new price at some date.\n",
    " \n",
    "\n",
    "Write a solution to find the prices of all products on 2019-08-16. Assume the price of all products before any change is 10.\n",
    "\n",
    "Return the result table in any order.\n",
    "\n",
    "The result format is in the following example.\n",
    "\n",
    "**Example 1:**\n",
    "\n",
    "**Input:**\n",
    "**Products table:**\n",
    "``` console\n",
    "+------------+-----------+-------------+\n",
    "| product_id | new_price | change_date |\n",
    "+------------+-----------+-------------+\n",
    "| 1          | 20        | 2019-08-14  |\n",
    "| 2          | 50        | 2019-08-14  |\n",
    "| 1          | 30        | 2019-08-15  |\n",
    "| 1          | 35        | 2019-08-16  |\n",
    "| 2          | 65        | 2019-08-17  |\n",
    "| 3          | 20        | 2019-08-18  |\n",
    "+------------+-----------+-------------+\n",
    "```\n",
    "**Output:**\n",
    "``` console \n",
    "+------------+-------+\n",
    "| product_id | price |\n",
    "+------------+-------+\n",
    "| 2          | 50    |\n",
    "| 1          | 35    |\n",
    "| 3          | 10    |\n",
    "+------------+-------+\n",
    "```"
   ]
  },
  {
   "cell_type": "markdown",
   "metadata": {},
   "source": [
    "**Solution 1:**"
   ]
  },
  {
   "cell_type": "code",
   "execution_count": null,
   "metadata": {
    "vscode": {
     "languageId": "sql"
    }
   },
   "outputs": [],
   "source": [
    "SELECT DISTINCT p.product_id, COALESCE(a.new_price,10) AS price\n",
    "FROM Products p\n",
    "LEFT JOIN\n",
    "(SELECT product_id, new_price,RANK() OVER(PARTITION BY product_id ORDER BY change_date DESC) as rnk\n",
    "FROM Products WHERE change_date <= '2019-08-16')a\n",
    "ON p.product_id = a.product_id AND a.rnk = 1"
   ]
  },
  {
   "cell_type": "markdown",
   "metadata": {},
   "source": [
    "**Solution 2:**"
   ]
  },
  {
   "cell_type": "code",
   "execution_count": null,
   "metadata": {
    "vscode": {
     "languageId": "sql"
    }
   },
   "outputs": [],
   "source": [
    "SELECT DISTINCT product_id, 10 AS price \n",
    "FROM Products \n",
    "WHERE product_id NOT IN(SELECT DISTINCT product_id \n",
    "                        FROM Products \n",
    "                        WHERE change_date <='2019-08-16' )\n",
    "UNION \n",
    "SELECT product_id, new_price AS price \n",
    "FROM Products \n",
    "WHERE (product_id,change_date) IN (SELECT product_id , MAX(change_date) AS change_date \n",
    "                                    FROM Products \n",
    "                                    WHERE change_date <='2019-08-16' \n",
    "                                    GROUP BY product_id)"
   ]
  },
  {
   "cell_type": "markdown",
   "metadata": {},
   "source": [
    "**Solution 3:**"
   ]
  },
  {
   "cell_type": "code",
   "execution_count": null,
   "metadata": {
    "vscode": {
     "languageId": "sql"
    }
   },
   "outputs": [],
   "source": [
    "SELECT p.product_id, \n",
    "       COALESCE((\n",
    "           SELECT new_price \n",
    "           FROM Products \n",
    "           WHERE product_id = p.product_id AND change_date <= '2019-08-16'\n",
    "           ORDER BY change_date DESC \n",
    "           LIMIT 1\n",
    "       ), 10) AS price\n",
    "FROM (SELECT DISTINCT product_id FROM Products) p;"
   ]
  },
  {
   "cell_type": "markdown",
   "metadata": {},
   "source": [
    "**Solution 4:**"
   ]
  },
  {
   "cell_type": "code",
   "execution_count": null,
   "metadata": {
    "vscode": {
     "languageId": "sql"
    }
   },
   "outputs": [],
   "source": [
    "# Write your MySQL query statement below\n",
    "WITH cte AS\n",
    "(SELECT *, RANK() OVER (PARTITION BY product_id ORDER BY change_date DESC) AS r \n",
    "FROM Products\n",
    "WHERE change_date<= '2019-08-16')\n",
    "\n",
    "SELECT product_id, new_price AS price\n",
    "FROM cte\n",
    "WHERE r = 1\n",
    "UNION\n",
    "SELECT product_id, 10 AS price\n",
    "FROM Products\n",
    "WHERE product_id NOT IN (SELECT product_id FROM cte)"
   ]
  }
 ],
 "metadata": {
  "language_info": {
   "name": "python"
  }
 },
 "nbformat": 4,
 "nbformat_minor": 2
}
