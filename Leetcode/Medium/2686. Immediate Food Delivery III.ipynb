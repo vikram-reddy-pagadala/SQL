{
 "cells": [
  {
   "cell_type": "markdown",
   "metadata": {},
   "source": [
    "# **2686. Immediate Food Delivery III**\n",
    "\n",
    "**Table: Delivery**\n",
    "``` console\n",
    "+-----------------------------+---------+\n",
    "| Column Name                 | Type    |\n",
    "+-----------------------------+---------+\n",
    "| delivery_id                 | int     |\n",
    "| customer_id                 | int     |\n",
    "| order_date                  | date    |\n",
    "| customer_pref_delivery_date | date    |\n",
    "+-----------------------------+---------+\n",
    "```\n",
    "delivery_id is the column with unique values of this table.\n",
    "Each row contains information about food delivery to a customer that makes an order at some date and specifies a preferred delivery date (on the order date or after it).\n",
    "If the customer's preferred delivery date is the same as the order date, then the order is called immediate, otherwise, it is scheduled.\n",
    "\n",
    "Write a solution to find the percentage of immediate orders on each unique order_date, rounded to 2 decimal places. \n",
    "\n",
    "Return the result table ordered by order_date in ascending order.\n",
    "\n",
    "The result format is in the following example.\n",
    "\n",
    " \n",
    "\n",
    "**Example 1:**\n",
    "\n",
    "**Input:** \n",
    "**Delivery table:**\n",
    "``` console\n",
    "+-------------+-------------+------------+-----------------------------+\n",
    "| delivery_id | customer_id | order_date | customer_pref_delivery_date |\n",
    "+-------------+-------------+------------+-----------------------------+\n",
    "| 1           | 1           | 2019-08-01 | 2019-08-02                  |\n",
    "| 2           | 2           | 2019-08-01 | 2019-08-01                  |\n",
    "| 3           | 1           | 2019-08-01 | 2019-08-01                  |\n",
    "| 4           | 3           | 2019-08-02 | 2019-08-13                  |\n",
    "| 5           | 3           | 2019-08-02 | 2019-08-02                  |\n",
    "| 6           | 2           | 2019-08-02 | 2019-08-02                  |\n",
    "| 7           | 4           | 2019-08-03 | 2019-08-03                  |\n",
    "| 8           | 1           | 2019-08-03 | 2019-08-03                  |\n",
    "| 9           | 5           | 2019-08-04 | 2019-08-08                  |\n",
    "| 10          | 2           | 2019-08-04 | 2019-08-18                  |\n",
    "+-------------+-------------+------------+-----------------------------+\n",
    "```\n",
    "**Output:** \n",
    "``` console\n",
    "+------------+----------------------+\n",
    "| order_date | immediate_percentage |\n",
    "+------------+----------------------+\n",
    "| 2019-08-01 | 66.67                |\n",
    "| 2019-08-02 | 66.67                |\n",
    "| 2019-08-03 | 100.00               |\n",
    "| 2019-08-04 | 0.00                 |\n",
    "+------------+----------------------+\n",
    "```\n",
    "**Explanation:** \n",
    "\n",
    "- On 2019-08-01 there were three orders, out of those, two were immediate and one was scheduled. So, immediate percentage for that date was 66.67.\n",
    "\n",
    "- On 2019-08-02 there were three orders, out of those, two were immediate and one was scheduled. So, immediate percentage for that date was 66.67.\n",
    "\n",
    "- On 2019-08-03 there were two orders, both were immediate. So, the immediate percentage for that date was 100.00.\n",
    "\n",
    "- On 2019-08-04 there were two orders, both were scheduled. So, the immediate percentage for that date was 0.00.\n",
    "\n",
    "order_date is sorted in ascending order."
   ]
  },
  {
   "cell_type": "markdown",
   "metadata": {},
   "source": [
    "**Solution-1:**"
   ]
  },
  {
   "cell_type": "markdown",
   "metadata": {},
   "source": [
    "``` sql\n",
    "# Write your MySQL query statement below\n",
    "\n",
    "SELECT order_date, \n",
    "ROUND(SUM(order_date = customer_pref_delivery_date)*100 / COUNT(*),2) AS immediate_percentage\n",
    "FROM Delivery\n",
    "GROUP BY order_date\n",
    "ORDER BY order_date"
   ]
  },
  {
   "cell_type": "markdown",
   "metadata": {},
   "source": [
    "**Solution-2:**"
   ]
  },
  {
   "cell_type": "markdown",
   "metadata": {},
   "source": [
    "``` sql\n",
    "# Write your MySQL query statement below\n",
    "\n",
    "SELECT order_date, ROUND(AVG(customer_pref_delivery_date = order_date)*100, 2) AS immediate_percentage\n",
    "FROM Delivery\n",
    "GROUP BY order_date\n",
    "ORDER BY order_date ASC"
   ]
  }
 ],
 "metadata": {
  "language_info": {
   "name": "python"
  }
 },
 "nbformat": 4,
 "nbformat_minor": 2
}
