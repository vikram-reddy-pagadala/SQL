{
 "cells": [
  {
   "cell_type": "markdown",
   "metadata": {},
   "source": [
    "# **2238. Number of Times a Driver Was a Passenger**\n",
    "\n",
    "**Table: Rides**\n",
    "``` console\n",
    "+--------------+------+\n",
    "| Column Name  | Type |\n",
    "+--------------+------+\n",
    "| ride_id      | int  |\n",
    "| driver_id    | int  |\n",
    "| passenger_id | int  |\n",
    "+--------------+------+\n",
    "```\n",
    "ride_id is the column with unique values for this table.\n",
    "Each row of this table contains the ID of the driver and the ID of the passenger that rode in ride_id.\n",
    "Note that driver_id != passenger_id.\n",
    " \n",
    "\n",
    "Write a solution to report the ID of each driver and the number of times they were a passenger.\n",
    "\n",
    "Return the result table in any order.\n",
    "\n",
    "The result format is in the following example.\n",
    "\n",
    " \n",
    "\n",
    "**Example 1:**\n",
    "\n",
    "**Input:** \n",
    "**Rides table:**\n",
    "``` console\n",
    "+---------+-----------+--------------+\n",
    "| ride_id | driver_id | passenger_id |\n",
    "+---------+-----------+--------------+\n",
    "| 1       | 7         | 1            |\n",
    "| 2       | 7         | 2            |\n",
    "| 3       | 11        | 1            |\n",
    "| 4       | 11        | 7            |\n",
    "| 5       | 11        | 7            |\n",
    "| 6       | 11        | 3            |\n",
    "+---------+-----------+--------------+\n",
    "```\n",
    "**Output:**\n",
    "``` console\n",
    "+-----------+-----+\n",
    "| driver_id | cnt |\n",
    "+-----------+-----+\n",
    "| 7         | 2   |\n",
    "| 11        | 0   |\n",
    "+-----------+-----+\n",
    "```\n",
    "**Explanation:**\n",
    "\n",
    "There are two drivers in all the given rides: 7 and 11.\n",
    "\n",
    "The driver with ID = 7 was a passenger two times.\n",
    "\n",
    "The driver with ID = 11 was never a passenger.\n"
   ]
  },
  {
   "cell_type": "markdown",
   "metadata": {},
   "source": [
    "**Solution-1:**"
   ]
  },
  {
   "cell_type": "markdown",
   "metadata": {},
   "source": [
    "``` sql\n",
    "SELECT a.driver_id, COUNT(b.passenger_id) as cnt\n",
    "FROM (SELECT DISTINCT driver_id FROM Rides) a\n",
    "LEFT JOIN rides b\n",
    "ON b.passenger_id = a.driver_id\n",
    "GROUP BY a.driver_id"
   ]
  },
  {
   "cell_type": "markdown",
   "metadata": {},
   "source": []
  },
  {
   "cell_type": "markdown",
   "metadata": {},
   "source": [
    "**solution-2:**"
   ]
  },
  {
   "cell_type": "markdown",
   "metadata": {},
   "source": [
    "``` sql\n",
    "select a.driver_id, count(distinct b.ride_id) as cnt\n",
    "from Rides a \n",
    "left join Rides b \n",
    "on a.driver_id = b.passenger_id\n",
    "group by a.driver_id"
   ]
  }
 ],
 "metadata": {
  "language_info": {
   "name": "python"
  }
 },
 "nbformat": 4,
 "nbformat_minor": 2
}
