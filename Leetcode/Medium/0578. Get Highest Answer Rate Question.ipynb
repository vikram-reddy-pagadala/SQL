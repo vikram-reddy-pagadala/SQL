{
 "cells": [
  {
   "cell_type": "markdown",
   "metadata": {},
   "source": [
    "# **578. Get Highest Answer Rate Question**\n",
    "``` console\n",
    "Table: SurveyLog\n",
    "\n",
    "+-------------+------+\n",
    "| Column Name | Type |\n",
    "+-------------+------+\n",
    "| id          | int  |\n",
    "| action      | ENUM |\n",
    "| question_id | int  |\n",
    "| answer_id   | int  |\n",
    "| q_num       | int  |\n",
    "| timestamp   | int  |\n",
    "+-------------+------+\n",
    "\n",
    "This table may contain duplicate rows.\n",
    "action is an ENUM (category) of the type: \"show\", \"answer\", or \"skip\".\n",
    "Each row of this table indicates the user with ID = id has taken an action with the question question_id at time timestamp.\n",
    "If the action taken by the user is \"answer\", answer_id will contain the id of that answer, otherwise, it will be null.\n",
    "q_num is the numeral order of the question in the current session.\n",
    " \n",
    "\n",
    "The answer rate for a question is the number of times a user answered the question by the number of times a user showed the question.\n",
    "\n",
    "Write a solution to report the question that has the highest answer rate. If multiple questions have the same maximum answer rate, report the question with the smallest question_id.\n",
    "\n",
    "The result format is in the following example.\n",
    "\n",
    " \n",
    "\n",
    "Example 1:\n",
    "\n",
    "Input: \n",
    "SurveyLog table:\n",
    "+----+--------+-------------+-----------+-------+-----------+\n",
    "| id | action | question_id | answer_id | q_num | timestamp |\n",
    "+----+--------+-------------+-----------+-------+-----------+\n",
    "| 5  | show   | 285         | null      | 1     | 123       |\n",
    "| 5  | answer | 285         | 124124    | 1     | 124       |\n",
    "| 5  | show   | 369         | null      | 2     | 125       |\n",
    "| 5  | skip   | 369         | null      | 2     | 126       |\n",
    "+----+--------+-------------+-----------+-------+-----------+\n",
    "\n",
    "Output: \n",
    "+------------+\n",
    "| survey_log |\n",
    "+------------+\n",
    "| 285        |\n",
    "+------------+\n",
    "\n",
    "Explanation: \n",
    "\n",
    "Question 285 was showed 1 time and answered 1 time. The answer rate of question 285 is 1.0\n",
    "Question 369 was showed 1 time and was not answered. The answer rate of question 369 is 0.0\n",
    "Question 285 has the highest answer rate.\n",
    "```"
   ]
  },
  {
   "cell_type": "markdown",
   "metadata": {},
   "source": [
    "**Solution-1:**"
   ]
  },
  {
   "cell_type": "markdown",
   "metadata": {},
   "source": [
    "``` sql\n",
    "SELECT question_id as survey_log\n",
    "FROM surveyLog\n",
    "GROUP BY question_id\n",
    "ORDER BY (SUM(CASE WHEN action = 'answer' THEN 1 ELSE 0 END) / SUM(CASE WHEN action = 'show' THEN 1 ELSE 0 END)) DESC, question_id ASC\n",
    "LIMIT 1"
   ]
  },
  {
   "cell_type": "markdown",
   "metadata": {},
   "source": []
  },
  {
   "cell_type": "markdown",
   "metadata": {},
   "source": [
    "**Solution-2:**"
   ]
  },
  {
   "cell_type": "markdown",
   "metadata": {},
   "source": [
    "``` sql\n",
    "SELECT question_id as survey_log\n",
    "FROM\n",
    "(SELECT question_id, \n",
    "(SUM(CASE WHEN action = 'answer' THEN 1 ELSE 0 END) / SUM(CASE WHEN action = 'show' THEN 1 ELSE 0 END)) as answer_rate\n",
    "FROM surveyLog\n",
    "GROUP BY question_id\n",
    "ORDER BY answer_rate DESC, question_id ASC)a\n",
    "LIMIT 1"
   ]
  }
 ],
 "metadata": {
  "language_info": {
   "name": "python"
  }
 },
 "nbformat": 4,
 "nbformat_minor": 2
}
