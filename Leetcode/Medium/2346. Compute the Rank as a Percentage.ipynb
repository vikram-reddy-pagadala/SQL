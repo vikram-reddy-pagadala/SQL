{
 "cells": [
  {
   "cell_type": "markdown",
   "metadata": {},
   "source": [
    "# **2346. Compute the Rank as a Percentage**\n",
    "\n",
    "**Table: Students**\n",
    "``` console\n",
    "+---------------+------+\n",
    "| Column Name   | Type |\n",
    "+---------------+------+\n",
    "| student_id    | int  |\n",
    "| department_id | int  |\n",
    "| mark          | int  |\n",
    "+---------------+------+\n",
    "```\n",
    "student_id contains unique values.\n",
    "\n",
    "Each row of this table indicates a student's ID, the ID of the department in which the student enrolled, and their mark in the exam.\n",
    " \n",
    "\n",
    "Write a solution to report the rank of each student in their department as a percentage, where the rank as a percentage is computed using the following formula: (student_rank_in_the_department - 1) * 100 / (the_number_of_students_in_the_department - 1). The percentage should be rounded to 2 decimal places.\n",
    "\n",
    "student_rank_in_the_department is determined by descending mark, such that the student with the highest mark is rank 1. If two students get the same mark, they also get the same rank.\n",
    "\n",
    "Return the result table in any order.\n",
    "\n",
    "The result format is in the following example.\n",
    "\n",
    " \n",
    "\n",
    "**Example 1:**\n",
    "\n",
    "**Input:** \n",
    "**Students table:**\n",
    "``` console\n",
    "+------------+---------------+------+\n",
    "| student_id | department_id | mark |\n",
    "+------------+---------------+------+\n",
    "| 2          | 2             | 650  |\n",
    "| 8          | 2             | 650  |\n",
    "| 7          | 1             | 920  |\n",
    "| 1          | 1             | 610  |\n",
    "| 3          | 1             | 530  |\n",
    "+------------+---------------+------+\n",
    "```\n",
    "**Output:** \n",
    "``` console\n",
    "+------------+---------------+------------+\n",
    "| student_id | department_id | percentage |\n",
    "+------------+---------------+------------+\n",
    "| 7          | 1             | 0.0        |\n",
    "| 1          | 1             | 50.0       |\n",
    "| 3          | 1             | 100.0      |\n",
    "| 2          | 2             | 0.0        |\n",
    "| 8          | 2             | 0.0        |\n",
    "+------------+---------------+------------+\n",
    "```\n",
    "**Explanation:** \n",
    "\n",
    "For Department 1:\n",
    " - Student 7: percentage = (1 - 1) * 100 / (3 - 1) = 0.0\n",
    " - Student 1: percentage = (2 - 1) * 100 / (3 - 1) = 50.0\n",
    " - Student 3: percentage = (3 - 1) * 100 / (3 - 1) = 100.0\n",
    "\n",
    "For Department 2:\n",
    " - Student 2: percentage = (1 - 1) * 100 / (2 - 1) = 0.0\n",
    " - Student 8: percentage = (1 - 1) * 100 / (2 - 1) = 0.0"
   ]
  },
  {
   "cell_type": "markdown",
   "metadata": {},
   "source": [
    "**Solution-1:**"
   ]
  },
  {
   "cell_type": "markdown",
   "metadata": {},
   "source": [
    "``` sql\n",
    "# Write your MySQL query statement below\n",
    "\n",
    "SELECT student_id, department_id,\n",
    "COALESCE(ROUND(((RANK() OVER(PARTITION BY department_id ORDER BY mark DESC) - 1) * 100 /\n",
    "(COUNT(student_id) OVER(PARTITION BY department_id) - 1)),2),0) AS percentage\n",
    "FROM Students\n",
    "ORDER BY department_id ASC, percentage ASC, student_id ASC"
   ]
  },
  {
   "cell_type": "markdown",
   "metadata": {},
   "source": [
    "**Solution-2:**"
   ]
  },
  {
   "cell_type": "markdown",
   "metadata": {},
   "source": [
    "``` sql\n",
    "SELECT student_id, department_id, \n",
    "    ROUND(100*PERCENT_RANK() OVER (\n",
    "          PARTITION BY department_id \n",
    "          ORDER BY mark DESC)\n",
    "    , 2) AS percentage \n",
    "FROM Students"
   ]
  }
 ],
 "metadata": {
  "language_info": {
   "name": "python"
  }
 },
 "nbformat": 4,
 "nbformat_minor": 2
}
