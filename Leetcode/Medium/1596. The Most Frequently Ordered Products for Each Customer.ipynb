{
 "cells": [
  {
   "cell_type": "markdown",
   "metadata": {},
   "source": [
    "# **1596. The Most Frequently Ordered Products for Each Customer**\n",
    "``` console\n",
    "Table: Customers\n",
    "\n",
    "+---------------+---------+\n",
    "| Column Name   | Type    |\n",
    "+---------------+---------+\n",
    "| customer_id   | int     |\n",
    "| name          | varchar |\n",
    "+---------------+---------+\n",
    "customer_id is the column with unique values for this table.\n",
    "This table contains information about the customers.\n",
    " \n",
    "\n",
    "Table: Orders\n",
    "\n",
    "+---------------+---------+\n",
    "| Column Name   | Type    |\n",
    "+---------------+---------+\n",
    "| order_id      | int     |\n",
    "| order_date    | date    |\n",
    "| customer_id   | int     |\n",
    "| product_id    | int     |\n",
    "+---------------+---------+\n",
    "order_id is the column with unique values for this table.\n",
    "This table contains information about the orders made by customer_id.\n",
    "No customer will order the same product more than once in a single day.\n",
    " \n",
    "\n",
    "Table: Products\n",
    "\n",
    "+---------------+---------+\n",
    "| Column Name   | Type    |\n",
    "+---------------+---------+\n",
    "| product_id    | int     |\n",
    "| product_name  | varchar |\n",
    "| price         | int     |\n",
    "+---------------+---------+\n",
    "product_id is the column with unique values for this table.\n",
    "This table contains information about the products.\n",
    " \n",
    "\n",
    "Write a solution to find the most frequently ordered product(s) for each customer.\n",
    "\n",
    "The result table should have the product_id and product_name for each customer_id who ordered at least one order.\n",
    "\n",
    "Return the result table in any order.\n",
    "\n",
    "The result format is in the following example.\n",
    "\n",
    " \n",
    "\n",
    "Example 1:\n",
    "\n",
    "Input: \n",
    "Customers table:\n",
    "+-------------+-------+\n",
    "| customer_id | name  |\n",
    "+-------------+-------+\n",
    "| 1           | Alice |\n",
    "| 2           | Bob   |\n",
    "| 3           | Tom   |\n",
    "| 4           | Jerry |\n",
    "| 5           | John  |\n",
    "+-------------+-------+\n",
    "\n",
    "Orders table:\n",
    "+----------+------------+-------------+------------+\n",
    "| order_id | order_date | customer_id | product_id |\n",
    "+----------+------------+-------------+------------+\n",
    "| 1        | 2020-07-31 | 1           | 1          |\n",
    "| 2        | 2020-07-30 | 2           | 2          |\n",
    "| 3        | 2020-08-29 | 3           | 3          |\n",
    "| 4        | 2020-07-29 | 4           | 1          |\n",
    "| 5        | 2020-06-10 | 1           | 2          |\n",
    "| 6        | 2020-08-01 | 2           | 1          |\n",
    "| 7        | 2020-08-01 | 3           | 3          |\n",
    "| 8        | 2020-08-03 | 1           | 2          |\n",
    "| 9        | 2020-08-07 | 2           | 3          |\n",
    "| 10       | 2020-07-15 | 1           | 2          |\n",
    "+----------+------------+-------------+------------+\n",
    "\n",
    "Products table:\n",
    "+------------+--------------+-------+\n",
    "| product_id | product_name | price |\n",
    "+------------+--------------+-------+\n",
    "| 1          | keyboard     | 120   |\n",
    "| 2          | mouse        | 80    |\n",
    "| 3          | screen       | 600   |\n",
    "| 4          | hard disk    | 450   |\n",
    "+------------+--------------+-------+\n",
    "\n",
    "Output: \n",
    "+-------------+------------+--------------+\n",
    "| customer_id | product_id | product_name |\n",
    "+-------------+------------+--------------+\n",
    "| 1           | 2          | mouse        |\n",
    "| 2           | 1          | keyboard     |\n",
    "| 2           | 2          | mouse        |\n",
    "| 2           | 3          | screen       |\n",
    "| 3           | 3          | screen       |\n",
    "| 4           | 1          | keyboard     |\n",
    "+-------------+------------+--------------+\n",
    "\n",
    "Explanation: \n",
    "Alice (customer 1) ordered the mouse three times and the keyboard one time, so the mouse is the most frequently ordered product for them.\n",
    "Bob (customer 2) ordered the keyboard, the mouse, and the screen one time, so those are the most frequently ordered products for them.\n",
    "Tom (customer 3) only ordered the screen (two times), so that is the most frequently ordered product for them.\n",
    "Jerry (customer 4) only ordered the keyboard (one time), so that is the most frequently ordered product for them.\n",
    "John (customer 5) did not order anything, so we do not include them in the result table.\n",
    "````"
   ]
  },
  {
   "cell_type": "markdown",
   "metadata": {},
   "source": [
    "**Solutions:**"
   ]
  },
  {
   "cell_type": "code",
   "execution_count": null,
   "metadata": {
    "vscode": {
     "languageId": "sql"
    }
   },
   "outputs": [],
   "source": [
    "# Write your MySQL query statement below\n",
    "SELECT \n",
    "    customer_id,\n",
    "    product_id,\n",
    "    product_name\n",
    "FROM(\n",
    "    SELECT \n",
    "    customer_id,\n",
    "    product_id,\n",
    "    product_name,\n",
    "    DENSE_RANK() OVER(PARTITION BY customer_id ORDER BY cnt DESC) AS rn\n",
    "FROM (\n",
    "    SELECT \n",
    "        o.customer_id, \n",
    "        o.product_id, \n",
    "        p.product_name,\n",
    "        COUNT(*) AS cnt\n",
    "    FROM orders o\n",
    "    LEFT JOIN products p ON p.product_id = o.product_id\n",
    "    GROUP BY o.customer_id, o.product_id, p.product_name\n",
    ") AS subquery) a\n",
    "WHERE rn = 1;\n"
   ]
  },
  {
   "cell_type": "code",
   "execution_count": null,
   "metadata": {
    "vscode": {
     "languageId": "sql"
    }
   },
   "outputs": [],
   "source": [
    "# Write your MySQL query statement below\n",
    "SELECT DISTINCT\n",
    "    customer_id,\n",
    "    product_id,\n",
    "    product_name\n",
    "FROM(\n",
    "    SELECT \n",
    "    customer_id,\n",
    "    product_id,\n",
    "    product_name,\n",
    "    DENSE_RANK() OVER(PARTITION BY customer_id ORDER BY cnt DESC) AS rn\n",
    "FROM (\n",
    "    SELECT \n",
    "        o.customer_id, \n",
    "        o.product_id, \n",
    "        p.product_name,\n",
    "        COUNT(*) OVER(PARTITION BY o.customer_id, o.product_id, p.product_name) AS cnt\n",
    "    FROM orders o\n",
    "    LEFT JOIN products p ON p.product_id = o.product_id\n",
    ") AS subquery) a\n",
    "WHERE rn = 1;\n"
   ]
  },
  {
   "cell_type": "code",
   "execution_count": null,
   "metadata": {
    "vscode": {
     "languageId": "sql"
    }
   },
   "outputs": [],
   "source": [
    "SELECT customer_id, product_id, product_name\n",
    "FROM (\n",
    "    SELECT O.customer_id, O.product_id, P.product_name, \n",
    "    RANK() OVER (PARTITION BY customer_id ORDER BY COUNT(O.product_id) DESC) AS rnk\n",
    "    FROM Orders O\n",
    "    JOIN Products P\n",
    "    ON O.product_id = P.product_id  \n",
    "    GROUP BY customer_id, product_id\n",
    ") temp\n",
    "WHERE rnk = 1 \n",
    "ORDER BY customer_id, product_id"
   ]
  },
  {
   "cell_type": "code",
   "execution_count": null,
   "metadata": {
    "vscode": {
     "languageId": "sql"
    }
   },
   "outputs": [],
   "source": [
    "# Write your MySQL query statement below\n",
    "SELECT customer_id, product_id, product_name FROM Products p\n",
    "JOIN\n",
    "(SELECT customer_id, product_id, RANK() \n",
    "OVER(partition by customer_id order by count(*) desc) as rnk\n",
    "FROM Orders\n",
    "group by 1,2)a\n",
    "using(product_id)\n",
    "where rnk=1"
   ]
  }
 ],
 "metadata": {
  "language_info": {
   "name": "python"
  }
 },
 "nbformat": 4,
 "nbformat_minor": 2
}
