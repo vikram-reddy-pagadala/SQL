{
 "cells": [
  {
   "cell_type": "markdown",
   "metadata": {},
   "source": [
    "# **1212. Team Scores in Football Tournament**\n",
    "``` console\n",
    "Table: Teams\n",
    "\n",
    "+---------------+----------+\n",
    "| Column Name   | Type     |\n",
    "+---------------+----------+\n",
    "| team_id       | int      |\n",
    "| team_name     | varchar  |\n",
    "+---------------+----------+\n",
    "team_id is the column with unique values of this table.\n",
    "Each row of this table represents a single football team.\n",
    " \n",
    "\n",
    "Table: Matches\n",
    "\n",
    "+---------------+---------+\n",
    "| Column Name   | Type    |\n",
    "+---------------+---------+\n",
    "| match_id      | int     |\n",
    "| host_team     | int     |\n",
    "| guest_team    | int     | \n",
    "| host_goals    | int     |\n",
    "| guest_goals   | int     |\n",
    "+---------------+---------+\n",
    "match_id is the column of unique values of this table.\n",
    "Each row is a record of a finished match between two different teams. \n",
    "Teams host_team and guest_team are represented by their IDs in the Teams table (team_id), and they scored host_goals and guest_goals goals, respectively.\n",
    " \n",
    "\n",
    "You would like to compute the scores of all teams after all matches. Points are awarded as follows:\n",
    "A team receives three points if they win a match (i.e., Scored more goals than the opponent team).\n",
    "A team receives one point if they draw a match (i.e., Scored the same number of goals as the opponent team).\n",
    "A team receives no points if they lose a match (i.e., Scored fewer goals than the opponent team).\n",
    "Write a solution that selects the team_id, team_name and num_points of each team in the tournament after all described matches.\n",
    "\n",
    "Return the result table ordered by num_points in decreasing order. In case of a tie, order the records by team_id in increasing order.\n",
    "\n",
    "The result format is in the following example.\n",
    "\n",
    " \n",
    "\n",
    "Example 1:\n",
    "\n",
    "Input: \n",
    "Teams table:\n",
    "+-----------+--------------+\n",
    "| team_id   | team_name    |\n",
    "+-----------+--------------+\n",
    "| 10        | Leetcode FC  |\n",
    "| 20        | NewYork FC   |\n",
    "| 30        | Atlanta FC   |\n",
    "| 40        | Chicago FC   |\n",
    "| 50        | Toronto FC   |\n",
    "+-----------+--------------+\n",
    "\n",
    "Matches table:\n",
    "+------------+--------------+---------------+-------------+--------------+\n",
    "| match_id   | host_team    | guest_team    | host_goals  | guest_goals  |\n",
    "+------------+--------------+---------------+-------------+--------------+\n",
    "| 1          | 10           | 20            | 3           | 0            |\n",
    "| 2          | 30           | 10            | 2           | 2            |\n",
    "| 3          | 10           | 50            | 5           | 1            |\n",
    "| 4          | 20           | 30            | 1           | 0            |\n",
    "| 5          | 50           | 30            | 1           | 0            |\n",
    "+------------+--------------+---------------+-------------+--------------+\n",
    "\n",
    "Output: \n",
    "+------------+--------------+---------------+\n",
    "| team_id    | team_name    | num_points    |\n",
    "+------------+--------------+---------------+\n",
    "| 10         | Leetcode FC  | 7             |\n",
    "| 20         | NewYork FC   | 3             |\n",
    "| 50         | Toronto FC   | 3             |\n",
    "| 30         | Atlanta FC   | 1             |\n",
    "| 40         | Chicago FC   | 0             |\n",
    "+------------+--------------+---------------+\n",
    "```"
   ]
  },
  {
   "cell_type": "markdown",
   "metadata": {},
   "source": [
    "**Solution-1:**"
   ]
  },
  {
   "cell_type": "markdown",
   "metadata": {},
   "source": [
    "``` sql\n",
    "# Write your MySQL query statement below\n",
    "SELECT t.team_id, t.team_name, COALESCE(SUM(num_points),0) AS num_points\n",
    "FROM teams t\n",
    "LEFT JOIN\n",
    "(SELECT host_team AS team_id,\n",
    "(CASE WHEN host_goals > guest_goals THEN 3\n",
    "WHEN host_goals = guest_goals THEN 1 ELSE 0 END) as num_points\n",
    "FROM Matches\n",
    "UNION ALL\n",
    "SELECT guest_team AS team_id,\n",
    "(CASE WHEN guest_goals > host_goals  THEN 3\n",
    "WHEN host_goals = guest_goals THEN 1 ELSE 0 END) as num_points\n",
    "FROM Matches) a\n",
    "ON t.team_id = a.team_id\n",
    "GROUP BY 1,2\n",
    "ORDER BY num_points DESC, t.team_id"
   ]
  },
  {
   "cell_type": "markdown",
   "metadata": {},
   "source": []
  },
  {
   "cell_type": "markdown",
   "metadata": {},
   "source": [
    "**Solution-2:**"
   ]
  },
  {
   "cell_type": "markdown",
   "metadata": {},
   "source": [
    "``` sql\n",
    "# Write your MySQL query statement below\n",
    "SELECT team_id,team_name,\n",
    "SUM(CASE WHEN team_id=host_team AND host_goals>guest_goals THEN 3\n",
    "         WHEN team_id=guest_team AND guest_goals>host_goals THEN 3\n",
    "         WHEN team_id=host_team AND host_goals=guest_goals THEN 1\n",
    "         WHEN team_id=guest_team AND guest_goals=host_goals THEN 1 ELSE 0 END) as num_points\n",
    "FROM Teams\n",
    "LEFT JOIN Matches\n",
    "ON team_id=host_team OR team_id=guest_team\n",
    "GROUP BY team_id\n",
    "ORDER BY num_points DESC, team_id ASC;"
   ]
  },
  {
   "cell_type": "markdown",
   "metadata": {},
   "source": []
  },
  {
   "cell_type": "markdown",
   "metadata": {},
   "source": [
    "**Solution-3:**"
   ]
  },
  {
   "cell_type": "markdown",
   "metadata": {},
   "source": [
    "``` sql\n",
    "select t.team_id, t.team_name, \n",
    "        sum(case \n",
    "            when T.host_goals > T.guest_goals then 3 \n",
    "            when T.host_goals = T.guest_goals then 1\n",
    "            else 0\n",
    "            end) as num_points\n",
    "from teams t left join\n",
    "(select * from matches\n",
    "union all\n",
    "select match_id, guest_team, host_team, guest_goals, host_goals from matches) as T on t.team_id = T.host_team\n",
    "group by t.team_id\n",
    "order by num_points desc, t.team_id asc"
   ]
  }
 ],
 "metadata": {
  "language_info": {
   "name": "python"
  }
 },
 "nbformat": 4,
 "nbformat_minor": 2
}
