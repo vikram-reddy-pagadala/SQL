{
 "cells": [
  {
   "cell_type": "markdown",
   "metadata": {},
   "source": [
    "# **2989. Class Performance**\n",
    "\n",
    "**Table: Scores**\n",
    "``` console\n",
    "+--------------+---------+\n",
    "| Column Name  | Type    |\n",
    "+--------------+---------+\n",
    "| student_id   | int     |\n",
    "| student_name | varchar |\n",
    "| assignment1  | int     |\n",
    "| assignment2  | int     |\n",
    "| assignment3  | int     |\n",
    "+--------------+---------+\n",
    "```\n",
    "student_id is column of unique values for this table.\n",
    "\n",
    "This table contains student_id, student_name, assignment1, assignment2, and assignment3.\n",
    "\n",
    "Write a solution to calculate the difference in the total score (sum of all 3 assignments) between the highest score obtained by students and the lowest score obtained by them.\n",
    "\n",
    "Return the result table in any order.\n",
    "\n",
    "The result format is in the following example.\n",
    "\n",
    " \n",
    "\n",
    "**Example 1:**\n",
    "\n",
    "**Input:** \n",
    "**Scores table:**\n",
    "``` console\n",
    "+------------+--------------+-------------+-------------+-------------+\n",
    "| student_id | student_name | assignment1 | assignment2 | assignment3 |\n",
    "+------------+--------------+-------------+-------------+-------------+\n",
    "| 309        | Owen         | 88          | 47          | 87          |\n",
    "| 321        | Claire       | 98          | 95          | 37          |     \n",
    "| 338        | Julian       | 100         | 64          | 43          |  \n",
    "| 423        | Peyton       | 60          | 44          | 47          |  \n",
    "| 896        | David        | 32          | 37          | 50          | \n",
    "| 235        | Camila       | 31          | 53          | 69          | \n",
    "+------------+--------------+-------------+-------------+-------------+\n",
    "```\n",
    "**Output**\n",
    "``` console\n",
    "+---------------------+\n",
    "| difference_in_score | \n",
    "+---------------------+\n",
    "| 111                 | \n",
    "+---------------------+\n",
    "```\n",
    "**Explanation**\n",
    "- student_id 309 has a total score of 88 + 47 + 87 = 222.\n",
    "- student_id 321 has a total score of 98 + 95 + 37 = 230.\n",
    "- student_id 338 has a total score of 100 + 64 + 43 = 207.\n",
    "- student_id 423 has a total score of 60 + 44 + 47 = 151.\n",
    "- student_id 896 has a total score of 32 + 37 + 50 = 119.\n",
    "- student_id 235 has a total score of 31 + 53 + 69 = 153.\n",
    "student_id 321 has the highest score of 230, while student_id 896 has the lowest score of 119. Therefore, the difference between them is 111."
   ]
  },
  {
   "cell_type": "markdown",
   "metadata": {},
   "source": [
    "**Solution-1:**"
   ]
  },
  {
   "cell_type": "markdown",
   "metadata": {},
   "source": [
    "``` sql\n",
    "SELECT \n",
    "(MAX(assignment1 + assignment2 + assignment3) \n",
    "- MIN(assignment1 + assignment2 + assignment3)) AS difference_in_score \n",
    "FROM Scores\n"
   ]
  }
 ],
 "metadata": {
  "language_info": {
   "name": "python"
  }
 },
 "nbformat": 4,
 "nbformat_minor": 2
}
