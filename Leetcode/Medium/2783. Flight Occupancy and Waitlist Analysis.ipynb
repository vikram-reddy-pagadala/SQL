{
 "cells": [
  {
   "cell_type": "markdown",
   "metadata": {},
   "source": [
    "# **2783. Flight Occupancy and Waitlist Analysis**\n",
    "\n",
    "**Table: Flights**\n",
    "``` console\n",
    "+-------------+------+\n",
    "| Column Name | Type |\n",
    "+-------------+------+\n",
    "| flight_id   | int  |\n",
    "| capacity    | int  |\n",
    "+-------------+------+\n",
    "```\n",
    "flight_id is the column with unique values for this table.\n",
    "\n",
    "Each row of this table contains flight id and its capacity.\n",
    "**Table: Passengers**\n",
    "``` console\n",
    "+--------------+------+\n",
    "| Column Name  | Type |\n",
    "+--------------+------+\n",
    "| passenger_id | int  |\n",
    "| flight_id    | int  |\n",
    "+--------------+------+\n",
    "```\n",
    "passenger_id is the column with unique values for this table.\n",
    "\n",
    "Each row of this table contains passenger id and flight id.\n",
    "\n",
    "Passengers book tickets for flights in advance. If a passenger books a ticket for a flight and there are still empty seats available on the flight, the passenger ticket will be confirmed. However, the passenger will be on a waitlist if the flight is already at full capacity.\n",
    "\n",
    "Write a solution to report the number of passengers who successfully booked a flight (got a seat) and the number of passengers who are on the waitlist for each flight.\n",
    "\n",
    "Return the result table ordered by flight_id in ascending order.\n",
    "\n",
    "The result format is in the following example.\n",
    "\n",
    " \n",
    "\n",
    "**Example 1:**\n",
    "\n",
    "**Input:** \n",
    "**Flights table:**\n",
    "``` console\n",
    "+-----------+----------+\n",
    "| flight_id | capacity |\n",
    "+-----------+----------+\n",
    "| 1         | 2        |\n",
    "| 2         | 2        |\n",
    "| 3         | 1        |\n",
    "+-----------+----------+\n",
    "```\n",
    "**Passengers table:**\n",
    "``` console\n",
    "+--------------+-----------+\n",
    "| passenger_id | flight_id |\n",
    "+--------------+-----------+\n",
    "| 101          | 1         |\n",
    "| 102          | 1         |\n",
    "| 103          | 1         |\n",
    "| 104          | 2         |\n",
    "| 105          | 2         |\n",
    "| 106          | 3         |\n",
    "| 107          | 3         |\n",
    "+--------------+-----------+\n",
    "```\n",
    "**Output:** \n",
    "``` console\n",
    "+-----------+------------+--------------+\n",
    "| flight_id | booked_cnt | waitlist_cnt |\n",
    "+-----------+------------+--------------+\n",
    "| 1         | 2          | 1            |\n",
    "| 2         | 2          | 0            |\n",
    "| 3         | 1          | 1            |\n",
    "+-----------+------------+--------------+\n",
    "```\n",
    "**Explanation:** \n",
    "- Flight 1 has a capacity of 2. As there are 3 passengers who have booked tickets, only 2 passengers can get a seat. Therefore, 2 passengers are successfully booked, and 1 passenger is on the waitlist.\n",
    "- Flight 2 has a capacity of 2. Since there are exactly 2 passengers who booked tickets, everyone can secure a seat. As a result, 2 passengers successfully booked their seats and there are no passengers on the waitlist.\n",
    "- Flight 3 has a capacity of 1. As there are 2 passengers who have booked tickets, only 1 passenger can get a seat. Therefore, 1 passenger is successfully booked, and 1 passenger is on the waitlist."
   ]
  },
  {
   "cell_type": "markdown",
   "metadata": {},
   "source": [
    "**Solution-1:**"
   ]
  },
  {
   "cell_type": "markdown",
   "metadata": {},
   "source": [
    "``` sql\n",
    "# Write your MySQL query statement below\n",
    "\n",
    "SELECT flight_id,\n",
    "COALESCE(CASE WHEN capacity <= passenger_cnt THEN capacity ELSE passenger_cnt END,0) AS booked_cnt,\n",
    "CASE WHEN capacity <= passenger_cnt THEN (passenger_cnt - capacity) ELSE 0 END AS waitlist_cnt\n",
    "FROM Flights \n",
    "LEFT JOIN (SELECT flight_id, COUNT(*) as passenger_cnt FROM Passengers GROUP BY flight_id) a\n",
    "USING (flight_id)\n",
    "ORDER BY flight_id ASC"
   ]
  },
  {
   "cell_type": "markdown",
   "metadata": {},
   "source": [
    "**Solution-2:**"
   ]
  },
  {
   "cell_type": "markdown",
   "metadata": {},
   "source": [
    "``` sql\n",
    "# Write your MySQL query statement below\n",
    "\n",
    "SELECT flight_id, \n",
    "       LEAST(COUNT(passenger_id), capacity) AS booked_cnt,\n",
    "       GREATEST(0, COUNT(passenger_id) - capacity) AS waitlist_cnt\n",
    "FROM Flights f\n",
    "LEFT JOIN Passengers p USING (flight_id)\n",
    "GROUP BY flight_id\n",
    "ORDER BY flight_id"
   ]
  },
  {
   "cell_type": "markdown",
   "metadata": {},
   "source": [
    "**Solution-3:**"
   ]
  },
  {
   "cell_type": "markdown",
   "metadata": {},
   "source": [
    "``` sql\n",
    "SELECT flight_id, \n",
    "       IF(COUNT(passenger_id)< capacity, COUNT(passenger_id), capacity) AS booked_cnt,\n",
    "       IF(COUNT(passenger_id)< capacity, 0, COUNT(passenger_id) - capacity) AS waitlist_cnt\n",
    "FROM Flights f\n",
    "LEFT JOIN Passengers p USING (flight_id)\n",
    "GROUP BY flight_id\n",
    "ORDER BY flight_id"
   ]
  },
  {
   "cell_type": "markdown",
   "metadata": {},
   "source": [
    "**Solution-4:**"
   ]
  },
  {
   "cell_type": "markdown",
   "metadata": {},
   "source": [
    "``` sql\n",
    "# Write your MySQL query statement below\n",
    "\n",
    "select f.flight_id, LEAST(f.capacity, count(p.flight_id)) as booked_cnt, \n",
    "if (count(p.flight_id) > f.capacity, count(p.flight_id)-f.capacity, 0) as waitlist_cnt\n",
    "from Flights f\n",
    "left join Passengers p on p.flight_id = f.flight_id\n",
    "group by f.flight_id\n",
    "order by f.flight_id"
   ]
  }
 ],
 "metadata": {
  "language_info": {
   "name": "python"
  }
 },
 "nbformat": 4,
 "nbformat_minor": 2
}
