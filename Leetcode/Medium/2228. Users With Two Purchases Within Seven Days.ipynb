{
 "cells": [
  {
   "cell_type": "markdown",
   "metadata": {},
   "source": [
    "# **2228. Users With Two Purchases Within Seven Days**\n",
    "\n",
    "**Table: Purchases**\n",
    "``` console\n",
    "+---------------+------+\n",
    "| Column Name   | Type |\n",
    "+---------------+------+\n",
    "| purchase_id   | int  |\n",
    "| user_id       | int  |\n",
    "| purchase_date | date |\n",
    "+---------------+------+\n",
    "```\n",
    "purchase_id contains unique values.\n",
    "This table contains logs of the dates that users purchased from a certain retailer.\n",
    " \n",
    "\n",
    "Write a solution to report the IDs of the users that made any two purchases at most 7 days apart.\n",
    "\n",
    "Return the result table ordered by user_id.\n",
    "\n",
    "The result format is in the following example.\n",
    "\n",
    " \n",
    "\n",
    "**Example 1:**\n",
    "\n",
    "**Input:** \n",
    "**Purchases table:**\n",
    "``` console\n",
    "+-------------+---------+---------------+\n",
    "| purchase_id | user_id | purchase_date |\n",
    "+-------------+---------+---------------+\n",
    "| 4           | 2       | 2022-03-13    |\n",
    "| 1           | 5       | 2022-02-11    |\n",
    "| 3           | 7       | 2022-06-19    |\n",
    "| 6           | 2       | 2022-03-20    |\n",
    "| 5           | 7       | 2022-06-19    |\n",
    "| 2           | 2       | 2022-06-08    |\n",
    "+-------------+---------+---------------+\n",
    "```\n",
    "**Output:** \n",
    "``` console\n",
    "+---------+\n",
    "| user_id |\n",
    "+---------+\n",
    "| 2       |\n",
    "| 7       |\n",
    "+---------+\n",
    "```\n",
    "**Explanation:** \n",
    "\n",
    "- User 2 had two purchases on 2022-03-13 and 2022-03-20. Since the second purchase is within 7 days of the first purchase, we add their ID.\n",
    "- User 5 had only 1 purchase.\n",
    "- User 7 had two purchases on the same day so we add their ID."
   ]
  },
  {
   "cell_type": "markdown",
   "metadata": {},
   "source": [
    "**Solution-1:**"
   ]
  },
  {
   "cell_type": "markdown",
   "metadata": {},
   "source": [
    "``` sql\n",
    "# Write your MySQL query statement below\n",
    "SELECT DISTINCT user_id\n",
    "FROM\n",
    "(SELECT p1.user_id, p1.purchase_date,\n",
    "DATEDIFF(LEAD(p1.purchase_date)OVER(PARTITION BY p1.user_id ORDER BY p1.purchase_date), p1.purchase_date) as diff\n",
    "FROM purchases p1)a\n",
    "WHERE diff BETWEEN 0 AND 7"
   ]
  },
  {
   "cell_type": "markdown",
   "metadata": {},
   "source": [
    "**Solution-2:**"
   ]
  },
  {
   "cell_type": "markdown",
   "metadata": {},
   "source": [
    "``` sql\n",
    "# Write your MySQL query statement below\n",
    "\n",
    "SELECT DISTINCT p1.user_id\n",
    "FROM purchases p1\n",
    "JOIN purchases p2\n",
    "ON p1.user_id = p2.user_id AND p1.purchase_id <> p2.purchase_id\n",
    "WHERE DATEDIFF(p2.purchase_date,p1.purchase_date) BETWEEN 0 AND  7\n",
    "ORDER BY p1.user_id;"
   ]
  }
 ],
 "metadata": {
  "language_info": {
   "name": "python"
  }
 },
 "nbformat": 4,
 "nbformat_minor": 2
}
