{
 "cells": [
  {
   "cell_type": "markdown",
   "metadata": {},
   "source": [
    "# **2988. Manager of the Largest Department**\n",
    "\n",
    "**Table: Employees**\n",
    "``` console\n",
    "+-------------+---------+\n",
    "| Column Name | Type    |\n",
    "+-------------+---------+\n",
    "| emp_id      | int     |\n",
    "| emp_name    | varchar |\n",
    "| dep_id      | int     |\n",
    "| position    | varchar |\n",
    "+-------------+---------+\n",
    "```\n",
    "emp_id is column of unique values for this table.\n",
    "\n",
    "This table contains emp_id, emp_name, dep_id, and position.\n",
    "\n",
    "Write a solution to find the name of the manager from the largest department. There may be multiple largest departments when the number of employees in those departments is the same.\n",
    "\n",
    "Return the result table sorted by dep_id in ascending order.\n",
    "\n",
    "The result format is in the following example.\n",
    "\n",
    " \n",
    "\n",
    "**Example 1:**\n",
    "\n",
    "**Input:** \n",
    "**Employees table:**\n",
    "``` console\n",
    "+--------+----------+--------+---------------+\n",
    "| emp_id | emp_name | dep_id | position      | \n",
    "+--------+----------+--------+---------------+\n",
    "| 156    | Michael  | 107    | Manager       |\n",
    "| 112    | Lucas    | 107    | Consultant    |    \n",
    "| 8      | Isabella | 101    | Manager       | \n",
    "| 160    | Joseph   | 100    | Manager       | \n",
    "| 80     | Aiden    | 100    | Engineer      | \n",
    "| 190    | Skylar   | 100    | Freelancer    | \n",
    "| 196    | Stella   | 101    | Coordinator   |\n",
    "| 167    | Audrey   | 100    | Consultant    |\n",
    "| 97     | Nathan   | 101    | Supervisor    |\n",
    "| 128    | Ian      | 101    | Administrator |\n",
    "| 81     | Ethan    | 107    | Administrator |\n",
    "+--------+----------+--------+---------------+\n",
    "```\n",
    "**Output**\n",
    "``` console\n",
    "+--------------+--------+\n",
    "| manager_name | dep_id | \n",
    "+--------------+--------+\n",
    "| Joseph       | 100    | \n",
    "| Isabella     | 101    | \n",
    "+--------------+--------+\n",
    "```\n",
    "**Explanation**\n",
    "- Departments with IDs 100 and 101 each has a total of 4 employees, while department 107 has 3 employees. Since both departments 100 and 101 have an equal number of employees, their respective managers will be included.\n",
    "Output table is ordered by dep_id in ascending order."
   ]
  },
  {
   "cell_type": "markdown",
   "metadata": {},
   "source": [
    "**Solution-1:**"
   ]
  },
  {
   "cell_type": "markdown",
   "metadata": {},
   "source": [
    "``` sql\n",
    "# Write your MySQL query statement below\n",
    "\n",
    "select emp_name as manager_name, dep_id\n",
    "from employees\n",
    "where position = 'Manager' \n",
    "and dep_id in (\n",
    "select dep_id from employees \n",
    "group by dep_id \n",
    "having count(*) = (select count(*) as cnt\n",
    " from employees group by dep_id order by cnt desc limit 1) )\n",
    "order by dep_id ASC"
   ]
  },
  {
   "cell_type": "markdown",
   "metadata": {},
   "source": [
    "**Solution-2:**"
   ]
  },
  {
   "cell_type": "markdown",
   "metadata": {},
   "source": [
    "``` sql\n",
    "# Write your MySQL query statement below\n",
    "\n",
    "WITH t AS (SELECT dep_id, RANK() OVER(ORDER BY COUNT(emp_id) DESC) AS rnk\n",
    "FROM Employees\n",
    "GROUP BY dep_id)\n",
    "\n",
    "SELECT emp_name AS manager_name, dep_id\n",
    "FROM Employees\n",
    "WHERE position = \"Manager\" AND dep_id IN (SELECT dep_id\n",
    "FROM t\n",
    "WHERE rnk = 1)\n",
    "ORDER BY dep_id"
   ]
  }
 ],
 "metadata": {
  "language_info": {
   "name": "python"
  }
 },
 "nbformat": 4,
 "nbformat_minor": 2
}
