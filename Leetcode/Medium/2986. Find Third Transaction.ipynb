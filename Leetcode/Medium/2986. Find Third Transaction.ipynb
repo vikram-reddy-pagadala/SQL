{
 "cells": [
  {
   "cell_type": "markdown",
   "metadata": {},
   "source": [
    "# **2986. Find Third Transaction**\n",
    "\n",
    "**Table: Transactions**\n",
    "``` console\n",
    "+------------------+----------+\n",
    "| Column Name      | Type     |\n",
    "+------------------+----------+\n",
    "| user_id          | int      |\n",
    "| spend            | decimal  |\n",
    "| transaction_date | datetime |\n",
    "+------------------+----------+\n",
    "```\n",
    "(user_id, transaction_date) is column of unique values for this table.\n",
    "\n",
    "This table contains user_id, spend, and transaction_date.\n",
    "\n",
    "Write a solution to find the third transaction (if they have at least three transactions) of every user, where the spending on the preceding two transactions is lower than the spending on the third transaction.\n",
    "\n",
    "Return the result table by user_id in ascending order.\n",
    "\n",
    "The result format is in the following example.\n",
    "\n",
    " \n",
    "\n",
    "**Example 1:**\n",
    "\n",
    "**Input:** \n",
    "**Transactions table:**\n",
    "``` console\n",
    "+---------+--------+---------------------+\n",
    "| user_id | spend  | transaction_date    | \n",
    "+---------+--------+---------------------+\n",
    "| 1       | 65.56  | 2023-11-18 13:49:42 | \n",
    "| 1       | 96.0   | 2023-11-30 02:47:26 |     \n",
    "| 1       | 7.44   | 2023-11-02 12:15:23 | \n",
    "| 1       | 49.78  | 2023-11-12 00:13:46 | \n",
    "| 2       | 40.89  | 2023-11-21 04:39:15 |  \n",
    "| 2       | 100.44 | 2023-11-20 07:39:34 | \n",
    "| 3       | 37.33  | 2023-11-03 06:22:02 | \n",
    "| 3       | 13.89  | 2023-11-11 16:00:14 | \n",
    "| 3       | 7.0    | 2023-11-29 22:32:36 | \n",
    "+---------+--------+---------------------+\n",
    "**Output**\n",
    "``` console\n",
    "+---------+-------------------------+------------------------+\n",
    "| user_id | third_transaction_spend | third_transaction_date | \n",
    "+---------+-------------------------+------------------------+\n",
    "| 1       | 65.56                   | 2023-11-18 13:49:42    |  \n",
    "+---------+-------------------------+------------------------+\n",
    "```\n",
    "**Explanation**\n",
    "- For user_id 1, their third transaction occurred on 2023-11-18 at 13:49:42 with an amount of $65.56, surpassing the expenditures of the previous two transactions which were $7.44 on 2023-11-02 at 12:15:23 and $49.78 on 2023-11-12 at 00:13:46. Thus, this third transaction will be included in the output table.\n",
    "- user_id 2 only has a total of 2 transactions, so there isn't a third transaction to consider.\n",
    "- For user_id 3, the amount of $7.0 for their third transaction is less than that of the preceding two transactions, so it won't be included.\n",
    "Output table is ordered by user_id in ascending order."
   ]
  },
  {
   "cell_type": "markdown",
   "metadata": {},
   "source": [
    "**Solution-1:**"
   ]
  },
  {
   "cell_type": "markdown",
   "metadata": {},
   "source": [
    "``` sql\n",
    "# Write your MySQL query statement below\n",
    "\n",
    "with cte as(\n",
    "    select *, count(*) OVER(partition by user_id) as cnt,\n",
    "    rank() over (partition by user_id order by transaction_date) as rn\n",
    "    from Transactions\n",
    "),\n",
    "cte2 as(\n",
    "    select user_id, spend, transaction_date\n",
    "    from cte where cnt >= 3 and rn <= 3\n",
    ")\n",
    "select distinct\n",
    "t3.user_id, t3.spend as third_transaction_spend, \n",
    "t3.transaction_date as third_transaction_date \n",
    "from cte2 t1, cte2 t2, cte2 t3\n",
    "where t1.user_id = t2.user_id and t1.user_id = t3.user_id\n",
    "and t1.transaction_date < t2.transaction_date and t2.transaction_date < t3.transaction_date\n",
    "and t1.transaction_date < t3.transaction_date\n",
    "and t1.spend < t3.spend and t2.spend < t3.spend \n",
    "order by t3.user_id ASC"
   ]
  },
  {
   "cell_type": "markdown",
   "metadata": {},
   "source": [
    "**Solution-2:**"
   ]
  },
  {
   "cell_type": "markdown",
   "metadata": {},
   "source": [
    "``` sql\n",
    "# Write your MySQL query statement below\n",
    "\n",
    "WITH get_prior_spend AS (\n",
    "    SELECT\n",
    "        *\n",
    "        , RANK() OVER (PARTITION BY user_id ORDER BY transaction_date) AS rk\n",
    "        , LAG(spend) OVER (PARTITION BY user_id ORDER BY transaction_date) AS second_transaction_spend\n",
    "        , LAG(spend, 2) OVER (PARTITION BY user_id ORDER BY transaction_date) AS first_transaction_spend\n",
    "    FROM Transactions\n",
    ")\n",
    "SELECT user_id, spend AS third_transaction_spend, transaction_date AS third_transaction_date\n",
    "FROM get_prior_spend\n",
    "WHERE\n",
    "    rk = 3\n",
    "    AND spend > second_transaction_spend\n",
    "    AND spend > first_transaction_spend\n",
    "ORDER BY 1"
   ]
  }
 ],
 "metadata": {
  "language_info": {
   "name": "python"
  }
 },
 "nbformat": 4,
 "nbformat_minor": 2
}
