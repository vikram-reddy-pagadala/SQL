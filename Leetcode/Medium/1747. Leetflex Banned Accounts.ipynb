{
 "cells": [
  {
   "cell_type": "markdown",
   "metadata": {},
   "source": [
    "# **1747. Leetflex Banned Accounts**\n",
    "``` conosle\n",
    "Table: LogInfo\n",
    "\n",
    "+-------------+----------+\n",
    "| Column Name | Type     |\n",
    "+-------------+----------+\n",
    "| account_id  | int      |\n",
    "| ip_address  | int      |\n",
    "| login       | datetime |\n",
    "| logout      | datetime |\n",
    "+-------------+----------+\n",
    "This table may contain duplicate rows.\n",
    "The table contains information about the login and logout dates of Leetflex accounts. It also contains the IP address from which the account was logged in and out.\n",
    "It is guaranteed that the logout time is after the login time.\n",
    " \n",
    "\n",
    "Write a solution to find the account_id of the accounts that should be banned from Leetflex. An account should be banned if it was logged in at some moment from two different IP addresses.\n",
    "\n",
    "Return the result table in any order.\n",
    "\n",
    "The result format is in the following example.\n",
    "\n",
    " \n",
    "\n",
    "Example 1:\n",
    "\n",
    "Input: \n",
    "LogInfo table:\n",
    "+------------+------------+---------------------+---------------------+\n",
    "| account_id | ip_address | login               | logout              |\n",
    "+------------+------------+---------------------+---------------------+\n",
    "| 1          | 1          | 2021-02-01 09:00:00 | 2021-02-01 09:30:00 |\n",
    "| 1          | 2          | 2021-02-01 08:00:00 | 2021-02-01 11:30:00 |\n",
    "| 2          | 6          | 2021-02-01 20:30:00 | 2021-02-01 22:00:00 |\n",
    "| 2          | 7          | 2021-02-02 20:30:00 | 2021-02-02 22:00:00 |\n",
    "| 3          | 9          | 2021-02-01 16:00:00 | 2021-02-01 16:59:59 |\n",
    "| 3          | 13         | 2021-02-01 17:00:00 | 2021-02-01 17:59:59 |\n",
    "| 4          | 10         | 2021-02-01 16:00:00 | 2021-02-01 17:00:00 |\n",
    "| 4          | 11         | 2021-02-01 17:00:00 | 2021-02-01 17:59:59 |\n",
    "+------------+------------+---------------------+---------------------+\n",
    "\n",
    "Output: \n",
    "+------------+\n",
    "| account_id |\n",
    "+------------+\n",
    "| 1          |\n",
    "| 4          |\n",
    "+------------+\n",
    "\n",
    "Explanation: \n",
    "Account ID 1 --> The account was active from \"2021-02-01 09:00:00\" to \"2021-02-01 09:30:00\" with two different IP addresses (1 and 2). It should be banned.\n",
    "Account ID 2 --> The account was active from two different addresses (6, 7) but in two different times.\n",
    "Account ID 3 --> The account was active from two different addresses (9, 13) on the same day but they do not intersect at any moment.\n",
    "Account ID 4 --> The account was active from \"2021-02-01 17:00:00\" to \"2021-02-01 17:00:00\" with two different IP addresses (10 and 11). It should be banned.\n",
    "```"
   ]
  },
  {
   "cell_type": "markdown",
   "metadata": {},
   "source": [
    "**Solutions:**"
   ]
  },
  {
   "cell_type": "code",
   "execution_count": null,
   "metadata": {
    "vscode": {
     "languageId": "sql"
    }
   },
   "outputs": [],
   "source": [
    "SELECT DISTINCT l1.account_id\n",
    "FROM LogInfo l1 \n",
    "INNER JOIN Loginfo l2\n",
    "ON l1.account_id = l2. account_id and l1.ip_address <> l2.ip_address\n",
    "and (l1.login between l2.login and l2.logout)"
   ]
  },
  {
   "cell_type": "code",
   "execution_count": null,
   "metadata": {
    "vscode": {
     "languageId": "sql"
    }
   },
   "outputs": [],
   "source": [
    "SELECT\n",
    "    DISTINCT\n",
    "    account_id\n",
    "FROM\n",
    "    (SELECT\n",
    "        account_id,\n",
    "        ip_address,\n",
    "        LEAD(ip_address,1) OVER (PARTITION BY account_id ORDER BY login ASC) AS next_ip,\n",
    "        logout,\n",
    "        LEAD(login,1) OVER (PARTITION BY account_id ORDER BY login ASC) AS next_in\n",
    "    FROM LogInfo) A\n",
    "WHERE logout>= next_in AND ip_address!=next_ip"
   ]
  },
  {
   "cell_type": "code",
   "execution_count": null,
   "metadata": {
    "vscode": {
     "languageId": "sql"
    }
   },
   "outputs": [],
   "source": [
    "select distinct l1.account_id as account_id \n",
    "from LogInfo l1,LogInfo l2\n",
    "where l1.account_id=l2.account_id\n",
    "and l1.ip_address!=l2.ip_address\n",
    "and \n",
    "(l1.login >= l2.login and l1.login<=l2.logout\n",
    "or l2.login >= l1.login and l2.login<=l1.logout)"
   ]
  }
 ],
 "metadata": {
  "language_info": {
   "name": "python"
  }
 },
 "nbformat": 4,
 "nbformat_minor": 2
}
