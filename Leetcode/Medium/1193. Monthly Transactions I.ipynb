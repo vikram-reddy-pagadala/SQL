{
 "cells": [
  {
   "cell_type": "markdown",
   "metadata": {},
   "source": [
    "# **1193. Monthly Transactions I**\n",
    "\n",
    "**Table: Transactions**\n",
    "``` console\n",
    "+---------------+---------+\n",
    "| Column Name   | Type    |\n",
    "+---------------+---------+\n",
    "| id            | int     |\n",
    "| country       | varchar |\n",
    "| state         | enum    |\n",
    "| amount        | int     |\n",
    "| trans_date    | date    |\n",
    "+---------------+---------+\n",
    "```\n",
    "id is the primary key of this table.\n",
    "The table has information about incoming transactions.\n",
    "The state column is an enum of type [\"approved\", \"declined\"].\n",
    " \n",
    "\n",
    "Write an SQL query to find for each month and country, the number of transactions and their total amount, the number of approved transactions and their total amount.\n",
    "\n",
    "Return the result table in any order.\n",
    "\n",
    "The query result format is in the following example.\n",
    "\n",
    "\n",
    "**Example 1:**\n",
    "\n",
    "**Input:** \n",
    "**Transactions table:**\n",
    "``` console\n",
    "+------+---------+----------+--------+------------+\n",
    "| id   | country | state    | amount | trans_date |\n",
    "+------+---------+----------+--------+------------+\n",
    "| 121  | US      | approved | 1000   | 2018-12-18 |\n",
    "| 122  | US      | declined | 2000   | 2018-12-19 |\n",
    "| 123  | US      | approved | 2000   | 2019-01-01 |\n",
    "| 124  | DE      | approved | 2000   | 2019-01-07 |\n",
    "+------+---------+----------+--------+------------+\n",
    "```\n",
    "***Output:*** \n",
    "``` console\n",
    "+----------+---------+-------------+----------------+--------------------+-----------------------+\n",
    "| month    | country | trans_count | approved_count | trans_total_amount | approved_total_amount |\n",
    "+----------+---------+-------------+----------------+--------------------+-----------------------+\n",
    "| 2018-12  | US      | 2           | 1              | 3000               | 1000                  |\n",
    "| 2019-01  | US      | 1           | 1              | 2000               | 2000                  |\n",
    "| 2019-01  | DE      | 1           | 1              | 2000               | 2000                  |\n",
    "+----------+---------+-------------+----------------+--------------------+-----------------------+\n",
    "```"
   ]
  },
  {
   "cell_type": "markdown",
   "metadata": {},
   "source": [
    "**Solution 1:**"
   ]
  },
  {
   "cell_type": "code",
   "execution_count": null,
   "metadata": {
    "vscode": {
     "languageId": "sql"
    }
   },
   "outputs": [],
   "source": [
    "SELECT\n",
    "DATE_FORMAT(trans_date, '%Y-%m') AS month, country, COUNT(*) AS trans_count,\n",
    "SUM(CASE WHEN state = 'approved' THEN 1 ELSE 0 END) AS approved_count,\n",
    "SUM(amount) AS trans_total_amount,\n",
    "SUM(CASE WHEN state = 'approved' THEN amount ELSE 0 END) AS approved_total_amount\n",
    "FROM Transactions\n",
    "GROUP BY 1,2"
   ]
  },
  {
   "cell_type": "markdown",
   "metadata": {},
   "source": [
    "**Solution 2:**"
   ]
  },
  {
   "cell_type": "code",
   "execution_count": null,
   "metadata": {
    "vscode": {
     "languageId": "sql"
    }
   },
   "outputs": [],
   "source": [
    "SELECT\n",
    "SUBSTR(trans_date,1,7) AS month, country, COUNT(*) AS trans_count,\n",
    "SUM(CASE WHEN state = 'approved' THEN 1 ELSE 0 END) AS approved_count,\n",
    "SUM(amount) AS trans_total_amount,\n",
    "SUM(CASE WHEN state = 'approved' THEN amount ELSE 0 END) AS approved_total_amount\n",
    "FROM Transactions\n",
    "GROUP BY month, country"
   ]
  },
  {
   "cell_type": "markdown",
   "metadata": {},
   "source": [
    "**Solution 3:**"
   ]
  },
  {
   "cell_type": "code",
   "execution_count": null,
   "metadata": {
    "vscode": {
     "languageId": "sql"
    }
   },
   "outputs": [],
   "source": [
    "SELECT \n",
    "    DATE_FORMAT(trans_date, '%Y-%m') AS month,\n",
    "    country,\n",
    "    COUNT(state) AS trans_count,\n",
    "    SUM(IF(state = 'approved', 1, 0)) AS approved_count,\n",
    "    SUM(amount) AS trans_total_amount,\n",
    "    SUM(IF(state = 'approved', amount, 0)) AS approved_total_amount \n",
    "FROM \n",
    "    transactions\n",
    "GROUP BY \n",
    "    country, month;"
   ]
  }
 ],
 "metadata": {
  "language_info": {
   "name": "python"
  }
 },
 "nbformat": 4,
 "nbformat_minor": 2
}
