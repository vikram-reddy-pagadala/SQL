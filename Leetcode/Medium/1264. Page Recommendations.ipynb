{
 "cells": [
  {
   "cell_type": "markdown",
   "metadata": {},
   "source": [
    "# **1264. Page Recommendations**\n",
    "``` console\n",
    "Table: Friendship\n",
    "\n",
    "+---------------+---------+\n",
    "| Column Name   | Type    |\n",
    "+---------------+---------+\n",
    "| user1_id      | int     |\n",
    "| user2_id      | int     |\n",
    "+---------------+---------+\n",
    "(user1_id, user2_id) is the primary key (combination of columns with unique values) for this table.\n",
    "Each row of this table indicates that there is a friendship relation between user1_id and user2_id.\n",
    " \n",
    "\n",
    "Table: Likes\n",
    "\n",
    "+-------------+---------+\n",
    "| Column Name | Type    |\n",
    "+-------------+---------+\n",
    "| user_id     | int     |\n",
    "| page_id     | int     |\n",
    "+-------------+---------+\n",
    "(user_id, page_id) is the primary key (combination of columns with unique values) for this table.\n",
    "Each row of this table indicates that user_id likes page_id.\n",
    " \n",
    "\n",
    "Write a solution to recommend pages to the user with user_id = 1 using the pages that your friends liked. It should not recommend pages you already liked.\n",
    "\n",
    "Return result table in any order without duplicates.\n",
    "\n",
    "The result format is in the following example.\n",
    "\n",
    " \n",
    "\n",
    "Example 1:\n",
    "\n",
    "Input: \n",
    "Friendship table:\n",
    "+----------+----------+\n",
    "| user1_id | user2_id |\n",
    "+----------+----------+\n",
    "| 1        | 2        |\n",
    "| 1        | 3        |\n",
    "| 1        | 4        |\n",
    "| 2        | 3        |\n",
    "| 2        | 4        |\n",
    "| 2        | 5        |\n",
    "| 6        | 1        |\n",
    "+----------+----------+\n",
    "\n",
    "Likes table:\n",
    "+---------+---------+\n",
    "| user_id | page_id |\n",
    "+---------+---------+\n",
    "| 1       | 88      |\n",
    "| 2       | 23      |\n",
    "| 3       | 24      |\n",
    "| 4       | 56      |\n",
    "| 5       | 11      |\n",
    "| 6       | 33      |\n",
    "| 2       | 77      |\n",
    "| 3       | 77      |\n",
    "| 6       | 88      |\n",
    "+---------+---------+\n",
    "\n",
    "Output: \n",
    "+------------------+\n",
    "| recommended_page |\n",
    "+------------------+\n",
    "| 23               |\n",
    "| 24               |\n",
    "| 56               |\n",
    "| 33               |\n",
    "| 77               |\n",
    "+------------------+\n",
    "\n",
    "Explanation: \n",
    "User one is friend with users 2, 3, 4 and 6.\n",
    "Suggested pages are 23 from user 2, 24 from user 3, 56 from user 3 and 33 from user 6.\n",
    "Page 77 is suggested from both user 2 and user 3.\n",
    "Page 88 is not suggested because user 1 already likes it.\n",
    "```"
   ]
  },
  {
   "cell_type": "markdown",
   "metadata": {},
   "source": [
    "**Solution-1:**"
   ]
  },
  {
   "cell_type": "markdown",
   "metadata": {},
   "source": [
    "``` sql\n",
    "SELECT\n",
    "page_id  as recommended_page \n",
    "FROM Friendship\n",
    "INNER JOIN Likes\n",
    "ON user2_id = user_id\n",
    "WHERE user1_id = 1 and page_id NOT IN (SELECT page_id FROM Likes WHERE user_id = 1)\n",
    "UNION\n",
    "SELECT\n",
    "page_id  as recommended_page\n",
    "FROM Friendship\n",
    "INNER JOIN Likes\n",
    "ON user1_id = user_id\n",
    "WHERE user2_id = 1 and page_id NOT IN (SELECT page_id FROM Likes WHERE user_id = 1)"
   ]
  },
  {
   "cell_type": "markdown",
   "metadata": {},
   "source": []
  },
  {
   "cell_type": "markdown",
   "metadata": {},
   "source": [
    "**Solution-2:**"
   ]
  },
  {
   "cell_type": "markdown",
   "metadata": {},
   "source": [
    "``` sql\n",
    "# Write your MySQL query statement below\n",
    "WITH tmp AS (\n",
    "    SELECT *\n",
    "    FROM Friendship\n",
    "    WHERE user1_id = 1 OR user2_id = 1\n",
    ")\n",
    "\n",
    "SELECT DISTINCT page_id AS recommended_page\n",
    "FROM tmp t\n",
    "JOIN Likes l ON user1_id = user_id OR user2_id = user_id\n",
    "WHERE page_id NOT IN (SELECT page_id FROM Likes WHERE user_id = 1)"
   ]
  },
  {
   "cell_type": "markdown",
   "metadata": {},
   "source": []
  },
  {
   "cell_type": "markdown",
   "metadata": {},
   "source": [
    "**Solution-3:**"
   ]
  },
  {
   "cell_type": "markdown",
   "metadata": {},
   "source": [
    "``` sql\n",
    "select distinct page_id as recommended_page\n",
    "from\n",
    "(select\n",
    "case\n",
    "when user1_id=1 then user2_id\n",
    "when user2_id=1 then user1_id\n",
    "end as user_id\n",
    "from Friendship) a\n",
    "join Likes\n",
    "on a.user_id=Likes.user_id\n",
    "where page_id not in (select page_id from Likes where user_id=1)"
   ]
  }
 ],
 "metadata": {
  "language_info": {
   "name": "python"
  }
 },
 "nbformat": 4,
 "nbformat_minor": 2
}
