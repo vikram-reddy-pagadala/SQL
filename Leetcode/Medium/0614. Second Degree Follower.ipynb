{
 "cells": [
  {
   "cell_type": "markdown",
   "metadata": {},
   "source": [
    "# **614. Second Degree Follower**\n",
    "``` console\n",
    "Table: Follow\n",
    "\n",
    "+-------------+---------+\n",
    "| Column Name | Type    |\n",
    "+-------------+---------+\n",
    "| followee    | varchar |\n",
    "| follower    | varchar |\n",
    "+-------------+---------+\n",
    "(followee, follower) is the primary key (combination of columns with unique values) for this table.\n",
    "Each row of this table indicates that the user follower follows the user followee on a social network.\n",
    "There will not be a user following themself.\n",
    " \n",
    "\n",
    "A second-degree follower is a user who:\n",
    "\n",
    "follows at least one user, and\n",
    "is followed by at least one user.\n",
    "Write a solution to report the second-degree users and the number of their followers.\n",
    "\n",
    "Return the result table ordered by follower in alphabetical order.\n",
    "\n",
    "The result format is in the following example.\n",
    "\n",
    " \n",
    "\n",
    "Example 1:\n",
    "\n",
    "Input: \n",
    "Follow table:\n",
    "+----------+----------+\n",
    "| followee | follower |\n",
    "+----------+----------+\n",
    "| Alice    | Bob      |\n",
    "| Bob      | Cena     |\n",
    "| Bob      | Donald   |\n",
    "| Donald   | Edward   |\n",
    "+----------+----------+\n",
    "\n",
    "Output: \n",
    "+----------+-----+\n",
    "| follower | num |\n",
    "+----------+-----+\n",
    "| Bob      | 2   |\n",
    "| Donald   | 1   |\n",
    "+----------+-----+\n",
    "\n",
    "Explanation: \n",
    "User Bob has 2 followers. Bob is a second-degree follower because he follows Alice, so we include him in the result table.\n",
    "\n",
    "User Donald has 1 follower. Donald is a second-degree follower because he follows Bob, so we include him in the result table.\n",
    "\n",
    "User Alice has 1 follower. Alice is not a second-degree follower because she does not follow anyone, so we don not include her in the result table.\n",
    "\n",
    "```"
   ]
  },
  {
   "cell_type": "markdown",
   "metadata": {},
   "source": [
    "**Solution-1**"
   ]
  },
  {
   "cell_type": "markdown",
   "metadata": {},
   "source": [
    "``` sql\n",
    "SELECT\n",
    "b.follower, a.num as num\n",
    "FROM\n",
    "(SELECT followee, COUNT(follower) as num\n",
    "FROM Follow\n",
    "GROUP BY followee) a\n",
    "INNER JOIN\n",
    "(SELECT follower, COUNT(followee) as num\n",
    "FROM Follow\n",
    "GROUP BY follower) b\n",
    "ON a.followee = b.follower and a.num>=1 and b.num>=1\n",
    "ORDER BY b.follower"
   ]
  },
  {
   "cell_type": "markdown",
   "metadata": {},
   "source": []
  },
  {
   "cell_type": "markdown",
   "metadata": {},
   "source": [
    "**Solution-2**"
   ]
  },
  {
   "cell_type": "markdown",
   "metadata": {},
   "source": [
    "``` sql\n",
    "SELECT followee AS follower, COUNT(follower) num\n",
    "FROM Follow\n",
    "WHERE followee IN \n",
    "(\n",
    "    SELECT followee FROM Follow\n",
    ")\n",
    "AND followee IN \n",
    "(\n",
    "    SELECT follower FROM Follow\n",
    ")\n",
    "GROUP BY followee\n",
    "ORDER BY followee"
   ]
  },
  {
   "cell_type": "markdown",
   "metadata": {},
   "source": []
  },
  {
   "cell_type": "markdown",
   "metadata": {},
   "source": [
    "**Solution-3**"
   ]
  },
  {
   "cell_type": "markdown",
   "metadata": {},
   "source": [
    "``` sql\n",
    "Select f1.follower, count(distinct f2.follower) as num\n",
    "from follow f1\n",
    "inner join follow f2 on f1.follower = f2.followee\n",
    "Group by f1.follower"
   ]
  }
 ],
 "metadata": {
  "language_info": {
   "name": "python"
  }
 },
 "nbformat": 4,
 "nbformat_minor": 2
}
