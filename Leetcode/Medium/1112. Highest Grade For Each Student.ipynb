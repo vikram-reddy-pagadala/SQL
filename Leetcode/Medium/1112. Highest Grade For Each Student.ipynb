{
 "cells": [
  {
   "cell_type": "markdown",
   "metadata": {},
   "source": [
    "# **1112. Highest Grade For Each Student**\n",
    "``` console\n",
    "Table: Enrollments\n",
    "\n",
    "+---------------+---------+\n",
    "| Column Name   | Type    |\n",
    "+---------------+---------+\n",
    "| student_id    | int     |\n",
    "| course_id     | int     |\n",
    "| grade         | int     |\n",
    "+---------------+---------+\n",
    "(student_id, course_id) is the primary key (combination of columns with unique values) of this table.\n",
    "grade is never NULL.\n",
    " \n",
    "\n",
    "Write a solution to find the highest grade with its corresponding course for each student. In case of a tie, you should find the course with the smallest course_id.\n",
    "\n",
    "Return the result table ordered by student_id in ascending order.\n",
    "\n",
    "The result format is in the following example.\n",
    "\n",
    " \n",
    "\n",
    "Example 1:\n",
    "\n",
    "Input: \n",
    "Enrollments table:\n",
    "+------------+-------------------+\n",
    "| student_id | course_id | grade |\n",
    "+------------+-----------+-------+\n",
    "| 2          | 2         | 95    |\n",
    "| 2          | 3         | 95    |\n",
    "| 1          | 1         | 90    |\n",
    "| 1          | 2         | 99    |\n",
    "| 3          | 1         | 80    |\n",
    "| 3          | 2         | 75    |\n",
    "| 3          | 3         | 82    |\n",
    "+------------+-----------+-------+\n",
    "\n",
    "Output: \n",
    "+------------+-------------------+\n",
    "| student_id | course_id | grade |\n",
    "+------------+-----------+-------+\n",
    "| 1          | 2         | 99    |\n",
    "| 2          | 2         | 95    |\n",
    "| 3          | 3         | 82    |\n",
    "+------------+-----------+-------+\n",
    "\n",
    "```"
   ]
  },
  {
   "cell_type": "markdown",
   "metadata": {},
   "source": [
    "**Solution-1:**"
   ]
  },
  {
   "cell_type": "markdown",
   "metadata": {},
   "source": [
    "``` sql\n",
    "SELECT student_id,course_id, grade \n",
    "FROM\n",
    "(SELECT *, RANk() OVER(PARTITION BY student_id ORDER BY grade DESC, course_id ASC) AS rn\n",
    "FROM Enrollments)a\n",
    "WHERE rn = 1"
   ]
  },
  {
   "cell_type": "markdown",
   "metadata": {},
   "source": []
  },
  {
   "cell_type": "markdown",
   "metadata": {},
   "source": [
    "**Solution-2:**"
   ]
  },
  {
   "cell_type": "markdown",
   "metadata": {},
   "source": [
    "``` sql\n",
    "SELECT student_id, MIN(course_id) AS course_id, grade\n",
    "FROM Enrollments\n",
    "WHERE (student_id, grade) IN\n",
    "(SELECT student_id, MAX(grade)\n",
    "FROM Enrollments\n",
    "GROUP BY student_id)\n",
    "GROUP BY student_id, grade\n",
    "ORDER BY student_id"
   ]
  }
 ],
 "metadata": {
  "language_info": {
   "name": "python"
  }
 },
 "nbformat": 4,
 "nbformat_minor": 2
}
