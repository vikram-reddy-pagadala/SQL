{
 "cells": [
  {
   "cell_type": "markdown",
   "metadata": {},
   "source": [
    "# **2738. Count Occurrences in Text**\n",
    "\n",
    "**Table: Files**\n",
    "``` console\n",
    "+-------------+---------+\n",
    "| Column Name | Type    |\n",
    "+-- ----------+---------+\n",
    "| file_name   | varchar |\n",
    "| content     | text    |\n",
    "+-------------+---------+\n",
    "```\n",
    "file_name is the column with unique values of this table. \n",
    "\n",
    "Each row contains file_name and the content of that file.\n",
    "\n",
    "Write a solution to find the number of files that have at least one occurrence of the words 'bull' and 'bear' as a standalone word, respectively, disregarding any instances where it appears without space on either side (e.g. 'bullet', 'bears', 'bull.', or 'bear' at the beginning or end of a sentence will not be considered) \n",
    "\n",
    "Return the word 'bull' and 'bear' along with the corresponding number of occurrences in any order.\n",
    "\n",
    "The result format is in the following example.\n",
    "\n",
    " \n",
    "\n",
    "**Example 1:**\n",
    "\n",
    "**Input:** \n",
    "**Files table:**\n",
    "``` console\n",
    "+------------+----------------------------------------------------------------------------------+\n",
    "| file_name  | content                                                                         | \n",
    "+------------+----------------------------------------------------------------------------------+\n",
    "| draft1.txt | The stock exchange predicts a bull market which would make many investors happy. | \n",
    "| draft2.txt | The stock exchange predicts a bull market which would make many investors happy, |\n",
    "|            | but analysts warn of possibility of too much optimism and that in fact we are    |\n",
    "|            | awaiting a bear market.                                                          | \n",
    "| draft3.txt | The stock exchange predicts a bull market which would make many investors happy, |\n",
    "|            | but analysts warn of possibility of too much optimism and that in fact we are    |\n",
    "|            | awaiting a bear market. As always predicting the future market is an uncertain   |\n",
    "|            | game and all investors should follow their instincts and best practices.         | \n",
    "+------------+----------------------------------------------------------------------------------+\n",
    "```\n",
    "**Output:** \n",
    "``` console\n",
    "+------+-------+\n",
    "| word | count |  \n",
    "+------+-------+\n",
    "| bull | 3     | \n",
    "| bear | 2     | \n",
    "+------+-------+\n",
    "```\n",
    "**Explanation:** \n",
    "- The word \"bull\" appears 1 time in \"draft1.txt\", 1 time in \"draft2.txt\", and 1 time in \"draft3.txt\". Therefore, the total number of occurrences for the word \"bull\" is 3.\n",
    "- The word \"bear\" appears 1 time in \"draft2.txt\", and 1 time in \"draft3.txt\". Therefore, the total number of occurrences for the word \"bear\" is 2."
   ]
  },
  {
   "cell_type": "markdown",
   "metadata": {},
   "source": [
    "**Solution-1:**"
   ]
  },
  {
   "cell_type": "markdown",
   "metadata": {},
   "source": [
    "``` sql\n",
    "# Write your MySQL query statement below\n",
    "\n",
    "SELECT 'bull' AS word, COUNT(*) as count\n",
    "FROM Files\n",
    "WHERE content like '% bull %'\n",
    "UNION\n",
    "SELECT 'bear' AS word, COUNT(*) as count\n",
    "FROM Files\n",
    "WHERE content like '% bear %'"
   ]
  },
  {
   "cell_type": "markdown",
   "metadata": {},
   "source": [
    "**Solution-2:**"
   ]
  },
  {
   "cell_type": "markdown",
   "metadata": {},
   "source": [
    "``` sql\n",
    "# Write your MySQL query statement below\n",
    "\n",
    "SELECT 'bull' AS word, SUM(content LIKE '% bull %') AS count\n",
    "FROM Files\n",
    "UNION ALL\n",
    "SELECT 'bear' AS word, SUM(content LIKE '% bear %') AS count\n",
    "FROM Files"
   ]
  },
  {
   "cell_type": "markdown",
   "metadata": {},
   "source": [
    "**Solution-3:**"
   ]
  },
  {
   "cell_type": "markdown",
   "metadata": {},
   "source": [
    "``` sql\n",
    "SELECT 'bull' AS word, SUM(CASE WHEN content REGEXP '( bull )' THEN 1 ELSE 0 END) AS count FROM Files \n",
    "UNION \n",
    "SELECT 'bear' AS word, SUM(CASE WHEN content REGEXP '( bear )' THEN 1 ELSE 0 END) AS count FROM Files"
   ]
  }
 ],
 "metadata": {
  "language_info": {
   "name": "python"
  }
 },
 "nbformat": 4,
 "nbformat_minor": 2
}
