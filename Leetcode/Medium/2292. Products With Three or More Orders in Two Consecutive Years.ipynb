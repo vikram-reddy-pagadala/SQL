{
 "cells": [
  {
   "cell_type": "markdown",
   "metadata": {},
   "source": [
    "# **2292. Products With Three or More Orders in Two Consecutive Years**\n",
    "\n",
    "**Table: Orders**\n",
    "``` console\n",
    "+---------------+------+\n",
    "| Column Name   | Type |\n",
    "+---------------+------+\n",
    "| order_id      | int  |\n",
    "| product_id    | int  |\n",
    "| quantity      | int  |\n",
    "| purchase_date | date |\n",
    "+---------------+------+\n",
    "```\n",
    "order_id contains unique values.\n",
    "\n",
    "Each row in this table contains the ID of an order, the id of the product purchased, the quantity, and the purchase date.\n",
    " \n",
    "\n",
    "Write a solution to report the IDs of all the products that were ordered three or more times in two consecutive years.\n",
    "\n",
    "Return the result table in any order.\n",
    "\n",
    "The result format is shown in the following example.\n",
    "\n",
    " \n",
    "\n",
    "Example 1:\n",
    "\n",
    "**Input:** \n",
    "**Orders table:**\n",
    "``` console\n",
    "+----------+------------+----------+---------------+\n",
    "| order_id | product_id | quantity | purchase_date |\n",
    "+----------+------------+----------+---------------+\n",
    "| 1        | 1          | 7        | 2020-03-16    |\n",
    "| 2        | 1          | 4        | 2020-12-02    |\n",
    "| 3        | 1          | 7        | 2020-05-10    |\n",
    "| 4        | 1          | 6        | 2021-12-23    |\n",
    "| 5        | 1          | 5        | 2021-05-21    |\n",
    "| 6        | 1          | 6        | 2021-10-11    |\n",
    "| 7        | 2          | 6        | 2022-10-11    |\n",
    "+----------+------------+----------+---------------+\n",
    "```\n",
    "**Output:**\n",
    "``` console \n",
    "+------------+\n",
    "| product_id |\n",
    "+------------+\n",
    "| 1          |\n",
    "+------------+\n",
    "```\n",
    "**Explanation:** \n",
    "\n",
    "Product 1 was ordered in 2020 three times and in 2021 three times. Since it was ordered three times in two consecutive years, we include it in the answer.\n",
    "\n",
    "Product 2 was ordered one time in 2022. We do not include it in the answer."
   ]
  },
  {
   "cell_type": "markdown",
   "metadata": {},
   "source": [
    "**Solution-1:**"
   ]
  },
  {
   "cell_type": "markdown",
   "metadata": {},
   "source": [
    "``` sql\n",
    "# Write your MySQL query statement below\n",
    "\n",
    "with CTE AS(select product_id, YEAR(purchase_date) AS year\n",
    "FROM Orders\n",
    "GROUP BY product_id, year\n",
    "HAVING COUNT(*) >= 3)\n",
    "\n",
    "SELECT DISTINCT a.product_id\n",
    "FROM cte a\n",
    "JOIN cte b\n",
    "ON a.product_id = b.product_id AND a.year + 1 = b.year"
   ]
  },
  {
   "cell_type": "markdown",
   "metadata": {},
   "source": [
    "**Solution-2:**"
   ]
  },
  {
   "cell_type": "markdown",
   "metadata": {},
   "source": [
    "``` sql\n",
    "SELECT DISTINCT d.product_id FROM\n",
    "(SELECT product_id, \n",
    " YEAR(purchase_date) AS curr_year,\n",
    " LEAD(YEAR(purchase_date)) OVER(PARTITION BY product_id ORDER BY YEAR(purchase_date)) AS next_year\n",
    " FROM orders\n",
    " GROUP BY curr_year, product_id\n",
    " HAVING COUNT(order_id) >= 3) d\n",
    " WHERE d.next_year=d.curr_year+1"
   ]
  }
 ],
 "metadata": {
  "language_info": {
   "name": "python"
  }
 },
 "nbformat": 4,
 "nbformat_minor": 2
}
