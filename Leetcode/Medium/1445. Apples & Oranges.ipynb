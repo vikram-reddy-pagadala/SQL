{
 "cells": [
  {
   "cell_type": "markdown",
   "metadata": {},
   "source": [
    "# **1445. Apples & Oranges**\n",
    "``` console\n",
    "Table: Sales\n",
    "\n",
    "+---------------+---------+\n",
    "| Column Name   | Type    |\n",
    "+---------------+---------+\n",
    "| sale_date     | date    |\n",
    "| fruit         | enum    | \n",
    "| sold_num      | int     | \n",
    "+---------------+---------+\n",
    "(sale_date, fruit) is the primary key (combination of columns with unique values) of this table.\n",
    "This table contains the sales of \"apples\" and \"oranges\" sold each day.\n",
    " \n",
    "\n",
    "Write a solution to report the difference between the number of apples and oranges sold each day.\n",
    "\n",
    "Return the result table ordered by sale_date.\n",
    "\n",
    "The result format is in the following example.\n",
    "\n",
    " \n",
    "\n",
    "Example 1:\n",
    "\n",
    "Input: \n",
    "Sales table:\n",
    "+------------+------------+-------------+\n",
    "| sale_date  | fruit      | sold_num    |\n",
    "+------------+------------+-------------+\n",
    "| 2020-05-01 | apples     | 10          |\n",
    "| 2020-05-01 | oranges    | 8           |\n",
    "| 2020-05-02 | apples     | 15          |\n",
    "| 2020-05-02 | oranges    | 15          |\n",
    "| 2020-05-03 | apples     | 20          |\n",
    "| 2020-05-03 | oranges    | 0           |\n",
    "| 2020-05-04 | apples     | 15          |\n",
    "| 2020-05-04 | oranges    | 16          |\n",
    "+------------+------------+-------------+\n",
    "Output: \n",
    "+------------+--------------+\n",
    "| sale_date  | diff         |\n",
    "+------------+--------------+\n",
    "| 2020-05-01 | 2            |\n",
    "| 2020-05-02 | 0            |\n",
    "| 2020-05-03 | 20           |\n",
    "| 2020-05-04 | -1           |\n",
    "+------------+--------------+\n",
    "\n",
    "Explanation: \n",
    "Day 2020-05-01, 10 apples and 8 oranges were sold (Difference  10 - 8 = 2).\n",
    "Day 2020-05-02, 15 apples and 15 oranges were sold (Difference 15 - 15 = 0).\n",
    "Day 2020-05-03, 20 apples and 0 oranges were sold (Difference 20 - 0 = 20).\n",
    "Day 2020-05-04, 15 apples and 16 oranges were sold (Difference 15 - 16 = -1).\n",
    "\n",
    "```"
   ]
  },
  {
   "cell_type": "markdown",
   "metadata": {},
   "source": [
    "**Solution-1:**"
   ]
  },
  {
   "cell_type": "markdown",
   "metadata": {},
   "source": [
    "``` sql\n",
    "SELECT a.sale_date, a.sold_num - b.sold_num as diff\n",
    "FROM\n",
    "(SELECT sale_date, sold_num\n",
    "FROM Sales\n",
    "WHERE fruit = 'apples') a\n",
    "JOIN (SELECT sale_date, sold_num\n",
    "FROM Sales\n",
    "WHERE fruit = 'oranges') b\n",
    "ON a.sale_date = b.sale_date"
   ]
  },
  {
   "cell_type": "markdown",
   "metadata": {},
   "source": []
  },
  {
   "cell_type": "markdown",
   "metadata": {},
   "source": [
    "**Solution-2:**"
   ]
  },
  {
   "cell_type": "markdown",
   "metadata": {},
   "source": [
    "``` sql\n",
    "SELECT sale_date, SUM(CASE WHEN fruit='apples' THEN sold_num else -sold_num END) AS diff\n",
    "FROM sales\n",
    "GROUP BY sale_date"
   ]
  }
 ],
 "metadata": {
  "language_info": {
   "name": "python"
  }
 },
 "nbformat": 4,
 "nbformat_minor": 2
}
