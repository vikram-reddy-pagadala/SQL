{
 "cells": [
  {
   "cell_type": "markdown",
   "metadata": {},
   "source": [
    "# **1126. Active Businesses**\n",
    "``` console\n",
    "Table: Events\n",
    "\n",
    "+---------------+---------+\n",
    "| Column Name   | Type    |\n",
    "+---------------+---------+\n",
    "| business_id   | int     |\n",
    "| event_type    | varchar |\n",
    "| occurrences   | int     | \n",
    "+---------------+---------+\n",
    "(business_id, event_type) is the primary key (combination of columns with unique values) of this table.\n",
    "Each row in the table logs the info that an event of some type occurred at some business for a number of times.\n",
    "The average activity for a particular event_type is the average occurrences across all companies that have this event.\n",
    "\n",
    "An active business is a business that has more than one event_type such that their occurrences is strictly greater than the average activity for that event.\n",
    "\n",
    "Write a solution to find all active businesses.\n",
    "\n",
    "Return the result table in any order.\n",
    "\n",
    "The result format is in the following example.\n",
    "\n",
    " \n",
    "\n",
    "Example 1:\n",
    "\n",
    "Input: \n",
    "Events table:\n",
    "+-------------+------------+-------------+\n",
    "| business_id | event_type | occurrences |\n",
    "+-------------+------------+-------------+\n",
    "| 1           | reviews    | 7           |\n",
    "| 3           | reviews    | 3           |\n",
    "| 1           | ads        | 11          |\n",
    "| 2           | ads        | 7           |\n",
    "| 3           | ads        | 6           |\n",
    "| 1           | page views | 3           |\n",
    "| 2           | page views | 12          |\n",
    "+-------------+------------+-------------+\n",
    "\n",
    "Output: \n",
    "+-------------+\n",
    "| business_id |\n",
    "+-------------+\n",
    "| 1           |\n",
    "+-------------+\n",
    "\n",
    "Explanation:  \n",
    "The average activity for each event can be calculated as follows:\n",
    "- 'reviews': (7+3)/2 = 5\n",
    "- 'ads': (11+7+6)/3 = 8\n",
    "- 'page views': (3+12)/2 = 7.5\n",
    "The business with id=1 has 7 'reviews' events (more than 5) and 11 'ads' events (more than 8), so it is an active business.\n",
    "```"
   ]
  },
  {
   "cell_type": "markdown",
   "metadata": {},
   "source": [
    "**Solution-1:**"
   ]
  },
  {
   "cell_type": "markdown",
   "metadata": {},
   "source": [
    "``` sql\n",
    "SELECT business_id\n",
    "FROM\n",
    "(SELECT \n",
    "business_id, occurrences, AVG(occurrences) OVER(PARTITION BY event_type) as average_occurence\n",
    "FROM Events) a\n",
    "WHERE occurrences > average_occurence\n",
    "GROUP BY business_id\n",
    "HAVING COUNT(*) > 1"
   ]
  }
 ],
 "metadata": {
  "language_info": {
   "name": "python"
  }
 },
 "nbformat": 4,
 "nbformat_minor": 2
}
