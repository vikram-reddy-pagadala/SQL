{
 "cells": [
  {
   "cell_type": "markdown",
   "metadata": {},
   "source": [
    "# **1454. Active Users**\n",
    "``` console\n",
    "Table: Accounts\n",
    "\n",
    "+---------------+---------+\n",
    "| Column Name   | Type    |\n",
    "+---------------+---------+\n",
    "| id            | int     |\n",
    "| name          | varchar |\n",
    "+---------------+---------+\n",
    "id is the primary key (column with unique values) for this table.\n",
    "This table contains the account id and the user name of each account.\n",
    " \n",
    "\n",
    "Table: Logins\n",
    "\n",
    "+---------------+---------+\n",
    "| Column Name   | Type    |\n",
    "+---------------+---------+\n",
    "| id            | int     |\n",
    "| login_date    | date    |\n",
    "+---------------+---------+\n",
    "This table may contain duplicate rows.\n",
    "This table contains the account id of the user who logged in and the login date. A user may log in multiple times in the day.\n",
    " \n",
    "\n",
    "Active users are those who logged in to their accounts for five or more consecutive days.\n",
    "\n",
    "Write a solution to find the id and the name of active users.\n",
    "\n",
    "Return the result table ordered by id.\n",
    "\n",
    "The result format is in the following example.\n",
    "\n",
    " \n",
    "\n",
    "Example 1:\n",
    "\n",
    "Input: \n",
    "Accounts table:\n",
    "+----+----------+\n",
    "| id | name     |\n",
    "+----+----------+\n",
    "| 1  | Winston  |\n",
    "| 7  | Jonathan |\n",
    "+----+----------+\n",
    "\n",
    "Logins table:\n",
    "+----+------------+\n",
    "| id | login_date |\n",
    "+----+------------+\n",
    "| 7  | 2020-05-30 |\n",
    "| 1  | 2020-05-30 |\n",
    "| 7  | 2020-05-31 |\n",
    "| 7  | 2020-06-01 |\n",
    "| 7  | 2020-06-02 |\n",
    "| 7  | 2020-06-02 |\n",
    "| 7  | 2020-06-03 |\n",
    "| 1  | 2020-06-07 |\n",
    "| 7  | 2020-06-10 |\n",
    "+----+------------+\n",
    "\n",
    "Output: \n",
    "+----+----------+\n",
    "| id | name     |\n",
    "+----+----------+\n",
    "| 7  | Jonathan |\n",
    "+----+----------+\n",
    "\n",
    "Explanation: \n",
    "User Winston with id = 1 logged in 2 times only in 2 different days, so, Winston is not an active user.\n",
    "User Jonathan with id = 7 logged in 7 times in 6 different days, five of them were consecutive days, so, Jonathan is an active user.\n",
    " \n",
    "\n",
    "Follow up: Could you write a general solution if the active users are those who logged in to their accounts for n or more consecutive days?\n",
    "```"
   ]
  },
  {
   "cell_type": "markdown",
   "metadata": {},
   "source": [
    "**Solutions:**"
   ]
  },
  {
   "cell_type": "code",
   "execution_count": null,
   "metadata": {
    "vscode": {
     "languageId": "sql"
    }
   },
   "outputs": [],
   "source": [
    "WITH temp AS (SELECT l1.id, l1.login_date, COUNT(DISTINCT l2.login_date) AS cnt\n",
    "FROM Logins l1\n",
    "LEFT JOIN Logins l2 ON l1.id = l2.id AND DATEDIFF(l2.login_date, l1.login_date) BETWEEN 1 AND 4\n",
    "GROUP BY 1,2\n",
    "HAVING cnt>=4)\n",
    "\n",
    "SELECT DISTINCT temp.id, name\n",
    "FROM temp\n",
    "JOIN Accounts ON temp.id = Accounts.id\n",
    "ORDER BY 1;"
   ]
  },
  {
   "cell_type": "code",
   "execution_count": null,
   "metadata": {
    "vscode": {
     "languageId": "sql"
    }
   },
   "outputs": [],
   "source": [
    "SELECT *\n",
    "FROM Accounts\n",
    "WHERE id IN\n",
    "    (SELECT DISTINCT t1.id \n",
    "     FROM Logins t1 \n",
    "     INNER JOIN Logins t2 \n",
    "     on t1.id = t2.id AND DATEDIFF(t1.login_date, t2.login_date) BETWEEN 1 AND 4\n",
    "     GROUP BY t1.id, t1.login_date\n",
    "     HAVING COUNT(DISTINCT(t2.login_date)) = 4)\n",
    "ORDER BY id"
   ]
  },
  {
   "cell_type": "code",
   "execution_count": null,
   "metadata": {
    "vscode": {
     "languageId": "sql"
    }
   },
   "outputs": [],
   "source": [
    "SELECT \n",
    "DISTINCT l1.id, (SELECT name FROM Accounts WHERE id = l1.id) AS name\n",
    "FROM Logins l1\n",
    "JOIN Logins l2 ON l1.id = l2.id AND DATEDIFF(l2.login_date, l1.login_date) BETWEEN 1 AND 4\n",
    "GROUP BY l1.id, l1.login_date\n",
    "HAVING COUNT(DISTINCT l2.login_date) = 4"
   ]
  },
  {
   "cell_type": "code",
   "execution_count": null,
   "metadata": {
    "vscode": {
     "languageId": "sql"
    }
   },
   "outputs": [],
   "source": [
    "with temp0 AS\n",
    "(SELECT  id,\n",
    "            login_date,\n",
    "            dense_rank() OVER(PARTITION BY id ORDER BY login_date) as row_num\n",
    "    FROM Logins),\n",
    "\n",
    "temp1 as (\n",
    "    select id, login_date, row_num,\n",
    "        DATE_ADD(login_date, INTERVAL -row_num DAY) as Groupings\n",
    "    from temp0),\n",
    "\n",
    "answer_table as (SELECT  id,\n",
    "         MIN(login_date) as startDate,\n",
    "         MAX(login_date) as EndDate,\n",
    "         row_num,\n",
    "         Groupings, \n",
    "         count(id),\n",
    "        datediff(MAX(login_date), MIN(login_date)) as duration\n",
    " FROM temp1\n",
    " GROUP BY id, Groupings\n",
    " HAVING datediff(MAX(login_date), MIN(login_date)) >= 4\n",
    " ORDER BY id, StartDate)\n",
    " \n",
    "select distinct a.id, name\n",
    "from answer_table a\n",
    "join Accounts acc on acc.id = a.id\n",
    "order by a.id"
   ]
  },
  {
   "cell_type": "code",
   "execution_count": null,
   "metadata": {
    "vscode": {
     "languageId": "sql"
    }
   },
   "outputs": [],
   "source": [
    "-- Write your PostgreSQL query statement below\n",
    "-- formatted using a SQL formatter for easier reading\n",
    "\n",
    "SELECT DISTINCT tbl.id,\n",
    "                name\n",
    "FROM   (SELECT id,\n",
    "               login_date,\n",
    "               login_date - ( Row_number()\n",
    "                                over (\n",
    "                                  PARTITION BY id\n",
    "                                  ORDER BY login_date)\n",
    "                              || ' day' ) :: interval AS gr\n",
    "        FROM   (SELECT DISTINCT *\n",
    "                FROM   logins) t) tbl\n",
    "       join accounts USING (id)\n",
    "GROUP  BY tbl.id,\n",
    "          gr,\n",
    "          name\n",
    "HAVING Count(*) >= 5\n",
    "ORDER  BY 1; "
   ]
  }
 ],
 "metadata": {
  "language_info": {
   "name": "python"
  }
 },
 "nbformat": 4,
 "nbformat_minor": 2
}
