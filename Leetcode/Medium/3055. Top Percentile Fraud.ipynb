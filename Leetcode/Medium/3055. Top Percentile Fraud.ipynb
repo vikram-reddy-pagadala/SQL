{
 "cells": [
  {
   "cell_type": "markdown",
   "metadata": {},
   "source": [
    "# **3055. Top Percentile Fraud**\n",
    "\n",
    "**Table: Fraud**\n",
    "``` console\n",
    "+-------------+---------+\n",
    "| Column Name | Type    |\n",
    "+-------------+---------+\n",
    "| policy_id   | int     |\n",
    "| state       | varchar |\n",
    "| fraud_score | int     |\n",
    "+-------------+---------+\n",
    "```\n",
    "policy_id is column of unique values for this table.\n",
    "\n",
    "This table contains policy id, state, and fraud score.\n",
    "\n",
    "The Leetcode Insurance Corp has developed an ML-driven predictive model to detect the likelihood of fraudulent claims. Consequently, they allocate their most seasoned claim adjusters to address the top 5% of claims flagged by this model.\n",
    "\n",
    "Write a solution to find the top 5 percentile of claims from each state.\n",
    "\n",
    "Return the result table ordered by state in ascending order, fraud_score in descending order, and policy_id in ascending order.\n",
    "\n",
    "The result format is in the following example.\n",
    "\n",
    " \n",
    "\n",
    "**Example 1:**\n",
    "\n",
    "**Input:** \n",
    "**Fraud table:**\n",
    "``` console\n",
    "+-----------+------------+-------------+\n",
    "| policy_id | state      | fraud_score | \n",
    "+-----------+------------+-------------+\n",
    "| 1         | California | 0.92        | \n",
    "| 2         | California | 0.68        |   \n",
    "| 3         | California | 0.17        | \n",
    "| 4         | New York   | 0.94        | \n",
    "| 5         | New York   | 0.81        | \n",
    "| 6         | New York   | 0.77        |  \n",
    "| 7         | Texas      | 0.98        |  \n",
    "| 8         | Texas      | 0.97        | \n",
    "| 9         | Texas      | 0.96        | \n",
    "| 10        | Florida    | 0.97        |  \n",
    "| 11        | Florida    | 0.98        | \n",
    "| 12        | Florida    | 0.78        | \n",
    "| 13        | Florida    | 0.88        | \n",
    "| 14        | Florida    | 0.66        | \n",
    "+-----------+------------+-------------+\n",
    "```\n",
    "**Output:** \n",
    "``` console\n",
    "+-----------+------------+-------------+\n",
    "| policy_id | state      | fraud_score |\n",
    "+-----------+------------+-------------+\n",
    "| 1         | California | 0.92        | \n",
    "| 11        | Florida    | 0.98        | \n",
    "| 4         | New York   | 0.94        | \n",
    "| 7         | Texas      | 0.98        |  \n",
    "+-----------+------------+-------------+\n",
    "```\n",
    "**Explanation**\n",
    "- For the state of California, only policy ID 1, with a fraud score of 0.92, falls within the top 5 percentile for this state.\n",
    "- For the state of Florida, only policy ID 11, with a fraud score of 0.98, falls within the top 5 percentile for this state. \n",
    "- For the state of New York, only policy ID 4, with a fraud score of 0.94, falls within the top 5 percentile for this state. \n",
    "- For the state of Texas, only policy ID 7, with a fraud score of 0.98, falls within the top 5 percentile for this state. \n",
    "Output table is ordered by state in ascending order, fraud score in descending order, and policy ID in ascending order."
   ]
  },
  {
   "cell_type": "markdown",
   "metadata": {},
   "source": [
    "**Solution-1:**"
   ]
  },
  {
   "cell_type": "markdown",
   "metadata": {},
   "source": [
    "``` sql\n",
    "WITH CTE AS (\n",
    "    SELECT *,\n",
    "        PERCENT_RANK() OVER(PARTITION BY state ORDER BY fraud_score DESC) AS pct\n",
    "    FROM Fraud\n",
    ")\n",
    "SELECT policy_id, \n",
    "       state,\n",
    "       fraud_score\n",
    "FROM CTE\n",
    "WHERE pct <= 0.05\n",
    "ORDER BY state ASC, fraud_score DESC, policy_id ASC"
   ]
  },
  {
   "cell_type": "markdown",
   "metadata": {},
   "source": [
    "**Solution-2:**"
   ]
  },
  {
   "cell_type": "markdown",
   "metadata": {},
   "source": [
    "``` sql\n",
    "# Write your MySQL query statement below\n",
    "\n",
    "select policy_id, state, fraud_score\n",
    "FROM\n",
    "(select *, RANK() OVER (PARTITION BY state ORDER BY fraud_score desc) AS percentile_rank\n",
    "from Fraud) a\n",
    "WHERE a.percentile_rank = 1\n",
    "ORDER BY state ASC, fraud_score DESC, policy_id ASC\n"
   ]
  }
 ],
 "metadata": {
  "language_info": {
   "name": "python"
  }
 },
 "nbformat": 4,
 "nbformat_minor": 2
}
