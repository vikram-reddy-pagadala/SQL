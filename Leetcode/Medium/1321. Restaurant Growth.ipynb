{
 "cells": [
  {
   "cell_type": "markdown",
   "metadata": {},
   "source": [
    "# **1321. Restaurant Growth**\n",
    "``` console\n",
    "Table: Customer\n",
    "\n",
    "+---------------+---------+\n",
    "| Column Name   | Type    |\n",
    "+---------------+---------+\n",
    "| customer_id   | int     |\n",
    "| name          | varchar |\n",
    "| visited_on    | date    |\n",
    "| amount        | int     |\n",
    "+---------------+---------+\n",
    "In SQL,(customer_id, visited_on) is the primary key for this table.\n",
    "This table contains data about customer transactions in a restaurant.\n",
    "visited_on is the date on which the customer with ID (customer_id) has visited the restaurant.\n",
    "amount is the total paid by a customer.\n",
    " \n",
    "\n",
    "You are the restaurant owner and you want to analyze a possible expansion (there will be at least one customer every day).\n",
    "\n",
    "Compute the moving average of how much the customer paid in a seven days window (i.e., current day + 6 days before). average_amount should be rounded to two decimal places.\n",
    "\n",
    "Return the result table ordered by visited_on in ascending order.\n",
    "\n",
    "The result format is in the following example.\n",
    "\n",
    " \n",
    "\n",
    "Example 1:\n",
    "\n",
    "Input: \n",
    "Customer table:\n",
    "+-------------+--------------+--------------+-------------+\n",
    "| customer_id | name         | visited_on   | amount      |\n",
    "+-------------+--------------+--------------+-------------+\n",
    "| 1           | Jhon         | 2019-01-01   | 100         |\n",
    "| 2           | Daniel       | 2019-01-02   | 110         |\n",
    "| 3           | Jade         | 2019-01-03   | 120         |\n",
    "| 4           | Khaled       | 2019-01-04   | 130         |\n",
    "| 5           | Winston      | 2019-01-05   | 110         | \n",
    "| 6           | Elvis        | 2019-01-06   | 140         | \n",
    "| 7           | Anna         | 2019-01-07   | 150         |\n",
    "| 8           | Maria        | 2019-01-08   | 80          |\n",
    "| 9           | Jaze         | 2019-01-09   | 110         | \n",
    "| 1           | Jhon         | 2019-01-10   | 130         | \n",
    "| 3           | Jade         | 2019-01-10   | 150         | \n",
    "+-------------+--------------+--------------+-------------+\n",
    "\n",
    "Output: \n",
    "+--------------+--------------+----------------+\n",
    "| visited_on   | amount       | average_amount |\n",
    "+--------------+--------------+----------------+\n",
    "| 2019-01-07   | 860          | 122.86         |\n",
    "| 2019-01-08   | 840          | 120            |\n",
    "| 2019-01-09   | 840          | 120            |\n",
    "| 2019-01-10   | 1000         | 142.86         |\n",
    "+--------------+--------------+----------------+\n",
    "\n",
    "Explanation: \n",
    "1st moving average from 2019-01-01 to 2019-01-07 has an average_amount of (100 + 110 + 120 + 130 + 110 + 140 + 150)/7 = 122.86\n",
    "2nd moving average from 2019-01-02 to 2019-01-08 has an average_amount of (110 + 120 + 130 + 110 + 140 + 150 + 80)/7 = 120\n",
    "3rd moving average from 2019-01-03 to 2019-01-09 has an average_amount of (120 + 130 + 110 + 140 + 150 + 80 + 110)/7 = 120\n",
    "4th moving average from 2019-01-04 to 2019-01-10 has an average_amount of (130 + 110 + 140 + 150 + 80 + 110 + 130 + 150)/7 = 142.86\n",
    "```"
   ]
  },
  {
   "cell_type": "markdown",
   "metadata": {},
   "source": [
    "**Solutions**"
   ]
  },
  {
   "cell_type": "code",
   "execution_count": null,
   "metadata": {
    "vscode": {
     "languageId": "sql"
    }
   },
   "outputs": [],
   "source": [
    "-- Write your PostgreSQL query statement below\n",
    "WITH DailySales AS (\n",
    "SELECT  visited_on , SUM(amount) AS amount\n",
    "FROM Customer\n",
    "GROUP BY visited_on ),\n",
    "moving_avgs as(\n",
    "SELECT \n",
    "visited_on,\n",
    "SUM(amount) OVER(ORDER BY visited_on ROWS BETWEEN 6 PRECEDING AND CURRENT ROW)AS amount ,\n",
    "ROUND(AVG(amount) OVER(ORDER BY visited_on ROWS BETWEEN 6 PRECEDING AND CURRENT ROW),2) AS average_amount,\n",
    "MIN(visited_on) OVER() as min_date\n",
    "FROM DailySales)\n",
    "\n",
    "SELECT visited_on, amount, average_amount \n",
    "FROM moving_avgs\n",
    "WHERE (visited_on - min_date) >= 6"
   ]
  },
  {
   "cell_type": "code",
   "execution_count": null,
   "metadata": {
    "vscode": {
     "languageId": "sql"
    }
   },
   "outputs": [],
   "source": [
    "# Write your MySQL query statement below\n",
    "SELECT\n",
    "    visited_on,\n",
    "    (\n",
    "        SELECT SUM(amount)\n",
    "        FROM customer\n",
    "        WHERE visited_on BETWEEN DATE_SUB(c.visited_on, INTERVAL 6 DAY) AND c.visited_on\n",
    "    ) AS amount,\n",
    "    ROUND(\n",
    "        (\n",
    "            SELECT SUM(amount) / 7\n",
    "            FROM customer\n",
    "            WHERE visited_on BETWEEN DATE_SUB(c.visited_on, INTERVAL 6 DAY) AND c.visited_on\n",
    "        ),\n",
    "        2\n",
    "    ) AS average_amount\n",
    "FROM customer c\n",
    "WHERE visited_on >= (\n",
    "        SELECT DATE_ADD(MIN(visited_on), INTERVAL 6 DAY)\n",
    "        FROM customer\n",
    "    )\n",
    "GROUP BY visited_on;"
   ]
  },
  {
   "cell_type": "code",
   "execution_count": null,
   "metadata": {
    "vscode": {
     "languageId": "sql"
    }
   },
   "outputs": [],
   "source": [
    "select distinct visited_on,\n",
    "        sum(amount) over w as amount,\n",
    "        round((sum(amount) over w)/7, 2) as average_amount\n",
    "    from customer\n",
    "    WINDOW w AS ( \n",
    "            order by visited_on\n",
    "            range between interval 6 day PRECEDING and current row\n",
    "    )\n",
    "    OFFSET 6"
   ]
  },
  {
   "cell_type": "code",
   "execution_count": null,
   "metadata": {
    "vscode": {
     "languageId": "sql"
    }
   },
   "outputs": [],
   "source": [
    "-- Write your PostgreSQL query statement below\n",
    "\n",
    "WITH temp as \n",
    "(SELECT DISTINCT visited_on FROM Customer \n",
    "WHERE (visited_on - (SELECT MIN(visited_on) FROM Customer)) >= 6),\n",
    "\n",
    "temp2 AS \n",
    "(SELECT c.*,t.visited_on as vo FROM Customer c JOIN temp t ON t.visited_on - c.visited_on BETWEEN 0 AND 6)\n",
    "\n",
    "SELECT vo as visited_on,SUM(amount) AS amount, ROUND(SUM(amount) / 7::numeric, 2) AS average_amount FROM temp2\n",
    "GROUP BY vo"
   ]
  },
  {
   "cell_type": "code",
   "execution_count": null,
   "metadata": {
    "vscode": {
     "languageId": "sql"
    }
   },
   "outputs": [],
   "source": [
    "WITH virtualcustomer\n",
    "     AS (SELECT visited_on,\n",
    "                SUM(amount) AS vc_amount\n",
    "         FROM   customer\n",
    "         GROUP  BY visited_on)\n",
    "SELECT visited_on,\n",
    "       amount,\n",
    "       average_amount\n",
    "FROM   (SELECT visited_on,\n",
    "               SUM(vc_amount) OVER (ORDER BY visited_on ROWS BETWEEN 6 preceding AND CURRENT ROW) AS amount,\n",
    "               Round(Avg(vc_amount) OVER (ORDER BY visited_on ROWS BETWEEN 6 preceding AND CURRENT ROW), 2) AS average_amount,\n",
    "               ROW_NUMBER() OVER (ORDER BY visited_on) AS rn\n",
    "        FROM   virtualcustomer) AS t\n",
    "WHERE  rn > 6\n",
    "ORDER  BY visited_on;"
   ]
  }
 ],
 "metadata": {
  "language_info": {
   "name": "python"
  }
 },
 "nbformat": 4,
 "nbformat_minor": 2
}
