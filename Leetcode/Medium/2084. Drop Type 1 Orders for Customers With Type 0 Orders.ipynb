{
 "cells": [
  {
   "cell_type": "markdown",
   "metadata": {},
   "source": [
    "# **2084. Drop Type 1 Orders for Customers With Type 0 Orders**\n",
    "``` console\n",
    "Table: Orders\n",
    "\n",
    "+-------------+------+\n",
    "| Column Name | Type |\n",
    "+-------------+------+\n",
    "| order_id    | int  | \n",
    "| customer_id | int  |\n",
    "| order_type  | int  | \n",
    "+-------------+------+\n",
    "order_id is the column with unique values for this table.\n",
    "Each row of this table indicates the ID of an order, the ID of the customer who ordered it, and the order type.\n",
    "The orders could be of type 0 or type 1.\n",
    " \n",
    "\n",
    "Write a solution to report all the orders based on the following criteria:\n",
    "\n",
    "If a customer has at least one order of type 0, do not report any order of type 1 from that customer.\n",
    "Otherwise, report all the orders of the customer.\n",
    "Return the result table in any order.\n",
    "\n",
    "The result format is in the following example.\n",
    "\n",
    " \n",
    "\n",
    "Example 1:\n",
    "\n",
    "Input:\n",
    "Orders table:\n",
    "+----------+-------------+------------+\n",
    "| order_id | customer_id | order_type |\n",
    "+----------+-------------+------------+\n",
    "| 1        | 1           | 0          |\n",
    "| 2        | 1           | 0          |\n",
    "| 11       | 2           | 0          |\n",
    "| 12       | 2           | 1          |\n",
    "| 21       | 3           | 1          |\n",
    "| 22       | 3           | 0          |\n",
    "| 31       | 4           | 1          |\n",
    "| 32       | 4           | 1          |\n",
    "+----------+-------------+------------+\n",
    "\n",
    "Output:\n",
    "+----------+-------------+------------+\n",
    "| order_id | customer_id | order_type |\n",
    "+----------+-------------+------------+\n",
    "| 31       | 4           | 1          |\n",
    "| 32       | 4           | 1          |\n",
    "| 1        | 1           | 0          |\n",
    "| 2        | 1           | 0          |\n",
    "| 11       | 2           | 0          |\n",
    "| 22       | 3           | 0          |\n",
    "+----------+-------------+------------+\n",
    "\n",
    "Explanation:\n",
    "Customer 1 has two orders of type 0. We return both of them.\n",
    "Customer 2 has one order of type 0 and one order of type 1. We only return the order of type 0.\n",
    "Customer 3 has one order of type 0 and one order of type 1. We only return the order of type 0.\n",
    "Customer 4 has two orders of type 1. We return both of them.\n",
    "```"
   ]
  },
  {
   "cell_type": "markdown",
   "metadata": {},
   "source": [
    "**Solutions:**"
   ]
  },
  {
   "cell_type": "code",
   "execution_count": null,
   "metadata": {
    "vscode": {
     "languageId": "sql"
    }
   },
   "outputs": [],
   "source": [
    "SELECT * FROM Orders\n",
    "WHERE (customer_id, order_type) IN (SELECT customer_id, MIN(order_type) AS order_type\n",
    "                                    FROM Orders GROUP BY customer_id)"
   ]
  },
  {
   "cell_type": "code",
   "execution_count": null,
   "metadata": {
    "vscode": {
     "languageId": "sql"
    }
   },
   "outputs": [],
   "source": [
    "SELECT * FROM Orders\n",
    "WHERE (customer_id, order_type) IN \n",
    "        (SELECT customer_id, MIN(order_type) as order_type\n",
    "        FROM orders \n",
    "        group by customer_id \n",
    "        having count(distinct order_type) = 1 \n",
    "        UNION \n",
    "        SELECT customer_id, MIN(order_type) as order_type\n",
    "        FROM orders \n",
    "        group by customer_id \n",
    "        having count(distinct order_type) = 2)"
   ]
  },
  {
   "cell_type": "code",
   "execution_count": null,
   "metadata": {
    "vscode": {
     "languageId": "sql"
    }
   },
   "outputs": [],
   "source": [
    "SELECT order_id, customer_id, order_type\n",
    "FROM ( \n",
    "        SELECT *, DENSE_RANK() OVER(PARTITION BY customer_id ORDER BY order_type) AS rk FROM Orders\n",
    "        ) t\n",
    "WHERE rk = 1"
   ]
  }
 ],
 "metadata": {
  "language_info": {
   "name": "python"
  }
 },
 "nbformat": 4,
 "nbformat_minor": 2
}
