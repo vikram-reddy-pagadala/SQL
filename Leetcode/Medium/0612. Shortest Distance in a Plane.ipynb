{
 "cells": [
  {
   "cell_type": "markdown",
   "metadata": {},
   "source": [
    "# **612. Shortest Distance in a Plane**\n",
    "``` console\n",
    "Table: Point2D\n",
    "\n",
    "+-------------+------+\n",
    "| Column Name | Type |\n",
    "+-------------+------+\n",
    "| x           | int  |\n",
    "| y           | int  |\n",
    "+-------------+------+\n",
    "(x, y) is the primary key column (combination of columns with unique values) for this table.\n",
    "Each row of this table indicates the position of a point on the X-Y plane.\n",
    " \n",
    "\n",
    "The distance between two points p1(x1, y1) and p2(x2, y2) is sqrt((x2 - x1)2 + (y2 - y1)2).\n",
    "\n",
    "Write a solution to report the shortest distance between any two points from the Point2D table. Round the distance to two decimal points.\n",
    "\n",
    "The result format is in the following example.\n",
    "\n",
    " \n",
    "\n",
    "Example 1:\n",
    "\n",
    "Input: \n",
    "Point2D table:\n",
    "+----+----+\n",
    "| x  | y  |\n",
    "+----+----+\n",
    "| -1 | -1 |\n",
    "| 0  | 0  |\n",
    "| -1 | -2 |\n",
    "+----+----+\n",
    "\n",
    "Output: \n",
    "+----------+\n",
    "| shortest |\n",
    "+----------+\n",
    "| 1.00     |\n",
    "+----------+\n",
    "Explanation: The shortest distance is 1.00 from point (-1, -1) to (-1, 2).\n",
    "```"
   ]
  },
  {
   "cell_type": "markdown",
   "metadata": {},
   "source": [
    "**Solutions:**"
   ]
  },
  {
   "cell_type": "code",
   "execution_count": null,
   "metadata": {
    "vscode": {
     "languageId": "sql"
    }
   },
   "outputs": [],
   "source": [
    "SELECT\n",
    "ROUND(SQRT((b.x - a.x) * (b.x - a.x) + (b.y - a.y) * (b.y - a.y)),2) AS shortest\n",
    "FROM Point2D a \n",
    "CROSS JOIN Point2D b\n",
    "HAVING shortest != 0\n",
    "ORDER BY shortest ASC\n",
    "LIMIT 1"
   ]
  },
  {
   "cell_type": "code",
   "execution_count": null,
   "metadata": {
    "vscode": {
     "languageId": "sql"
    }
   },
   "outputs": [],
   "source": [
    "with t as    \n",
    "    (select *, row_number() over() row_n\n",
    "    from point_2d)\n",
    "\n",
    "select round(sqrt(min(power((a.x-b.x),2) + power((a.y-b.y),2))), 2) shortest\n",
    "from t a\n",
    "join t b on a.row_n>b.row_n"
   ]
  }
 ],
 "metadata": {
  "language_info": {
   "name": "python"
  }
 },
 "nbformat": 4,
 "nbformat_minor": 2
}
