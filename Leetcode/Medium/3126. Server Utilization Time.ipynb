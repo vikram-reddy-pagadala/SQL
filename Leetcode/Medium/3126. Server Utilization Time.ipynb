{
 "cells": [
  {
   "cell_type": "markdown",
   "metadata": {},
   "source": [
    "# **3126. Server Utilization Time**\n",
    "\n",
    "**Table: Servers**\n",
    "``` console\n",
    "+----------------+----------+\n",
    "| Column Name    | Type     |\n",
    "+----------------+----------+\n",
    "| server_id      | int      |\n",
    "| status_time    | datetime |\n",
    "| session_status | enum     |\n",
    "+----------------+----------+\n",
    "```\n",
    "(server_id, status_time, session_status) is the primary key (combination of columns with unique values) for this table.\n",
    "\n",
    "session_status is an ENUM (category) type of ('start', 'stop').\n",
    "\n",
    "Each row of this table contains server_id, status_time, and session_status.\n",
    "\n",
    "Write a solution to find the total time when servers were running. The output should be rounded down to the nearest number of full days.\n",
    "\n",
    "Return the result table in any order.\n",
    "\n",
    "The result format is in the following example.\n",
    "\n",
    " \n",
    "\n",
    "**Example:**\n",
    "\n",
    "**Input:**\n",
    "\n",
    "**Servers table:**\n",
    "``` console\n",
    "+-----------+---------------------+----------------+\n",
    "| server_id | status_time         | session_status |\n",
    "+-----------+---------------------+----------------+\n",
    "| 3         | 2023-11-04 16:29:47 | start          |\n",
    "| 3         | 2023-11-05 01:49:47 | stop           |\n",
    "| 3         | 2023-11-25 01:37:08 | start          |\n",
    "| 3         | 2023-11-25 03:50:08 | stop           |\n",
    "| 1         | 2023-11-13 03:05:31 | start          |\n",
    "| 1         | 2023-11-13 11:10:31 | stop           |\n",
    "| 4         | 2023-11-29 15:11:17 | start          |\n",
    "| 4         | 2023-11-29 15:42:17 | stop           |\n",
    "| 4         | 2023-11-20 00:31:44 | start          |\n",
    "| 4         | 2023-11-20 07:03:44 | stop           |\n",
    "| 1         | 2023-11-20 00:27:11 | start          |\n",
    "| 1         | 2023-11-20 01:41:11 | stop           |\n",
    "| 3         | 2023-11-04 23:16:48 | start          |\n",
    "| 3         | 2023-11-05 01:15:48 | stop           |\n",
    "| 4         | 2023-11-30 15:09:18 | start          |\n",
    "| 4         | 2023-11-30 20:48:18 | stop           |\n",
    "| 4         | 2023-11-25 21:09:06 | start          |\n",
    "| 4         | 2023-11-26 04:58:06 | stop           |\n",
    "| 5         | 2023-11-16 19:42:22 | start          |\n",
    "| 5         | 2023-11-16 21:08:22 | stop           |\n",
    "+-----------+---------------------+----------------+\n",
    "```\n",
    "**Output:**\n",
    "``` console\n",
    "+-------------------+\n",
    "| total_uptime_days |\n",
    "+-------------------+\n",
    "| 1                 |\n",
    "+-------------------+\n",
    "```\n",
    "**Explanation:**\n",
    "\n",
    "**For server ID 3:**\n",
    "- From 2023-11-04 16:29:47 to 2023-11-05 01:49:47: ~9.3 hours\n",
    "- From 2023-11-25 01:37:08 to 2023-11-25 03:50:08: ~2.2 hours\n",
    "- From 2023-11-04 23:16:48 to 2023-11-05 01:15:48: ~1.98 hours\n",
    "- Total for server 3: ~13.48 hours\n",
    "\n",
    "**For server ID 1:**\n",
    "- From 2023-11-13 03:05:31 to 2023-11-13 11:10:31: ~8 hours\n",
    "- From 2023-11-20 00:27:11 to 2023-11-20 01:41:11: ~1.23 hours\n",
    "- Total for server 1: ~9.23 hours\n",
    "\n",
    "**For server ID 4:**\n",
    "- From 2023-11-29 15:11:17 to 2023-11-29 15:42:17: ~0.52 hours\n",
    "- From 2023-11-20 00:31:44 to 2023-11-20 07:03:44: ~6.53 hours\n",
    "- From 2023-11-30 15:09:18 to 2023-11-30 20:48:18: ~5.65 hours\n",
    "- From 2023-11-25 21:09:06 to 2023-11-26 04:58:06: ~7.82 hours\n",
    "- Total for server 4: ~20.52 hours\n",
    "\n",
    "- **For server ID 5:**\n",
    "- From 2023-11-16 19:42:22 to 2023-11-16 21:08:22: ~1.43 hours\n",
    "- Total for server 5: ~1.43 hours\n",
    "\n",
    "- The accumulated runtime for all servers totals approximately 44.46 hours, equivalent to one full day plus some additional hours. However, since we consider only full days, the final output is rounded to 1 full day."
   ]
  },
  {
   "cell_type": "markdown",
   "metadata": {},
   "source": [
    "**Solution-1:**"
   ]
  },
  {
   "cell_type": "markdown",
   "metadata": {},
   "source": [
    "``` sql\n",
    "# Write your MySQL query statement below\n",
    "\n",
    "with cte as(select session_status,\n",
    "TIMESTAMPDIFF(second,status_time,LEAD(status_time,1) OVER(partition by server_id order by status_time)) as diff\n",
    "FROM servers)\n",
    "\n",
    "select floor(SUM(diff)/86400) as total_uptime_days \n",
    "from cte \n",
    "where session_status = 'start'\n"
   ]
  },
  {
   "cell_type": "markdown",
   "metadata": {},
   "source": [
    "**Solution-2:**"
   ]
  },
  {
   "cell_type": "markdown",
   "metadata": {},
   "source": [
    "``` sql\n",
    "# Write your MySQL query statement below\n",
    "\n",
    "select floor(sum(case when session_status='start' then -unix_timestamp(status_time) else unix_timestamp(status_time) end)/(60*60*24)) as total_uptime_days\n",
    "from servers"
   ]
  }
 ],
 "metadata": {
  "language_info": {
   "name": "python"
  }
 },
 "nbformat": 4,
 "nbformat_minor": 2
}
