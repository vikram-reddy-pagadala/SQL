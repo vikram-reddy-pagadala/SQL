{
 "cells": [
  {
   "cell_type": "markdown",
   "metadata": {},
   "source": [
    "# **3089. Find Bursty Behavior**\n",
    "\n",
    "**Table: Posts**\n",
    "``` console\n",
    "+-------------+---------+\n",
    "| Column Name | Type    |\n",
    "+-------------+---------+\n",
    "| post_id     | int     |\n",
    "| user_id     | int     |\n",
    "| post_date   | date    |\n",
    "+-------------+---------+\n",
    "```\n",
    "post_id is the primary key (column with unique values) for this table.\n",
    "\n",
    "Each row of this table contains post_id, user_id, and post_date.\n",
    "\n",
    "Write a solution to find users who demonstrate bursty behavior in their posting patterns during February 2024. Bursty behavior is defined as any period of 7 consecutive days where a user's posting frequency is at least twice to their average weekly posting frequency for February 2024.\n",
    "\n",
    "Note: Only include the dates from February 1 to February 28 in your analysis, which means you should count February as having exactly 4 weeks.\n",
    "\n",
    "Return the result table orderd by user_id in ascending order.\n",
    "\n",
    "The result format is in the following example.\n",
    "\n",
    " \n",
    "\n",
    "**Example:**\n",
    "\n",
    "**Input:**\n",
    "\n",
    "**Posts table:**\n",
    "``` console\n",
    "+---------+---------+------------+\n",
    "| post_id | user_id | post_date  |\n",
    "+---------+---------+------------+\n",
    "| 1       | 1       | 2024-02-27 |\n",
    "| 2       | 5       | 2024-02-06 |\n",
    "| 3       | 3       | 2024-02-25 |\n",
    "| 4       | 3       | 2024-02-14 |\n",
    "| 5       | 3       | 2024-02-06 |\n",
    "| 6       | 2       | 2024-02-25 |\n",
    "+---------+---------+------------+\n",
    "```\n",
    "**Output:**\n",
    "``` console\n",
    "+---------+----------------+------------------+\n",
    "| user_id | max_7day_posts | avg_weekly_posts |\n",
    "+---------+----------------+------------------+\n",
    "| 1       | 1              | 0.2500           |\n",
    "| 2       | 1              | 0.2500           |\n",
    "| 5       | 1              | 0.2500           |\n",
    "+---------+----------------+------------------+\n",
    "```\n",
    "**Explanation:**\n",
    "\n",
    "User 1: Made only 1 post in February, resulting in an average of 0.25 posts per week and a max of 1 post in any 7-day period.\n",
    "\n",
    "User 2: Also made just 1 post, with the same average and max 7-day posting frequency as User 1.\n",
    "\n",
    "User 5: Like Users 1 and 2, User 5 made only 1 post throughout February, leading to the same average and max 7-day posting metrics.\n",
    "\n",
    "User 3: Although User 3 made more posts than the others (3 posts), they did not reach twice the average weekly posts in their consecutive 7-day window, so they are not listed in the output.\n",
    "\n",
    "Note: Output table is ordered by user_id in ascending order."
   ]
  },
  {
   "cell_type": "markdown",
   "metadata": {},
   "source": [
    "**Solution-1:**"
   ]
  },
  {
   "cell_type": "markdown",
   "metadata": {},
   "source": [
    "``` sql\n",
    "WITH CTE AS (\n",
    "        Select *, count(*) over(partition by user_id)/4 as avg_weekly_posts\n",
    "        from Posts\n",
    "        where post_date between '2024-02-01' and '2024-02-28'\n",
    "),\n",
    "\n",
    "CTE2 AS (\n",
    "    Select *, count(post_id) over(partition by user_id order by post_date range between interval 6 day preceding and current row) as max_7day_posts \n",
    "    from CTE\n",
    ")\n",
    "select distinct user_id , max(max_7day_posts) as max_7day_posts , avg_weekly_posts \n",
    "from CTE2\n",
    "where max_7day_posts >=2*avg_weekly_posts \n",
    "group by 1\n",
    "order by 1"
   ]
  },
  {
   "cell_type": "markdown",
   "metadata": {},
   "source": [
    "**Solution-2:**"
   ]
  },
  {
   "cell_type": "markdown",
   "metadata": {},
   "source": [
    "``` sql\n",
    "# Write your MySQL query statement below\n",
    "\n",
    "with t1 as (\n",
    "    select user_id, \n",
    "        count(*)over(partition by user_id order by post_date range between interval 6 day preceding and current row) as max_7day_posts, \n",
    "        count(*)over(partition by user_id)/4 as avg_weekly_posts\n",
    "    from posts\n",
    "    where post_date between '2024-02-01' and '2024-02-28')\n",
    "\n",
    "select distinct *\n",
    "from t1\n",
    "where max_7day_posts >= 2*avg_weekly_posts \n",
    "and (user_id, max_7day_posts) in (select user_id, max(max_7day_posts) from t1 group by 1)\n",
    "order by user_id"
   ]
  }
 ],
 "metadata": {
  "language_info": {
   "name": "python"
  }
 },
 "nbformat": 4,
 "nbformat_minor": 2
}
