{
 "cells": [
  {
   "cell_type": "markdown",
   "metadata": {},
   "source": [
    "# **1951. All the Pairs With the Maximum Number of Common Followers**\n",
    "\n",
    "**Table: Relations**\n",
    "``` console\n",
    "+-------------+------+\n",
    "| Column Name | Type |\n",
    "+-------------+------+\n",
    "| user_id     | int  |\n",
    "| follower_id | int  |\n",
    "+-------------+------+\n",
    "```\n",
    "(user_id, follower_id) is the primary key (combination of columns with unique values) for this table.\n",
    "Each row of this table indicates that the user with ID follower_id is following the user with ID user_id.\n",
    " \n",
    "\n",
    "Write a solution to find all the pairs of users with the maximum number of common followers. In other words, if the maximum number of common followers between any two users is maxCommon, then you have to return all pairs of users that have maxCommon common followers.\n",
    "\n",
    "The result table should contain the pairs user1_id and user2_id where user1_id < user2_id.\n",
    "\n",
    "Return the result table in any order.\n",
    "\n",
    "The result format is in the following example.\n",
    "\n",
    " \n",
    "\n",
    "**Example 1:**\n",
    "\n",
    "**Input:** \n",
    "**Relations table:**\n",
    "``` console\n",
    "+---------+-------------+\n",
    "| user_id | follower_id |\n",
    "+---------+-------------+\n",
    "| 1       | 3           |\n",
    "| 2       | 3           |\n",
    "| 7       | 3           |\n",
    "| 1       | 4           |\n",
    "| 2       | 4           |\n",
    "| 7       | 4           |\n",
    "| 1       | 5           |\n",
    "| 2       | 6           |\n",
    "| 7       | 5           |\n",
    "+---------+-------------+\n",
    "```\n",
    "**Output:** \n",
    "``` console\n",
    "+----------+----------+\n",
    "| user1_id | user2_id |\n",
    "+----------+----------+\n",
    "| 1        | 7        |\n",
    "+----------+----------+\n",
    "```\n",
    "**Explanation:** \n",
    "\n",
    "Users 1 and 2 have two common followers (3 and 4).\n",
    "\n",
    "Users 1 and 7 have three common followers (3, 4, and 5).\n",
    "\n",
    "Users 2 and 7 have two common followers (3 and 4).\n",
    "\n",
    "Since the maximum number of common followers between any two users is 3, we return all pairs of users with three common followers, which is only the pair (1, 7). We return the pair as (1, 7), not as (7, 1).\n",
    "\n",
    "Note that we do not have any information about the users that follow users 3, 4, and 5, so we consider them to have 0 followers."
   ]
  },
  {
   "cell_type": "markdown",
   "metadata": {},
   "source": [
    "**Solution-1:**"
   ]
  },
  {
   "cell_type": "markdown",
   "metadata": {},
   "source": [
    "``` sql\n",
    "# Write your MySQL query statement below\n",
    "\n",
    "with cte as\n",
    "(SELECT a.user_id AS user1_id, b.user_id AS user2_id,\n",
    "COUNT( distinct b.follower_id) as cnt\n",
    "FROM Relations a\n",
    "JOIN Relations b\n",
    "ON a.follower_id = b.follower_id and a.user_id <> b.user_id and a.user_id < b.user_id\n",
    "GROUP BY 1,2)\n",
    "\n",
    "SELECT user1_id, user2_id\n",
    "FROM cte\n",
    "WHERE cnt = (SELECT max(cnt) FROM cte)"
   ]
  },
  {
   "cell_type": "markdown",
   "metadata": {},
   "source": []
  },
  {
   "cell_type": "markdown",
   "metadata": {},
   "source": [
    "**Solution-2:**"
   ]
  },
  {
   "cell_type": "markdown",
   "metadata": {},
   "source": [
    "``` sql\n",
    "# Write your MySQL query statement below\n",
    "\n",
    "SELECT user1_id, user2_id\n",
    "FROM (SELECT a.user_id AS user1_id, b.user_id AS user2_id,\n",
    "DENSE_RANK() OVER(ORDER BY COUNT( distinct b.follower_id) DESC) as rn\n",
    "FROM Relations a\n",
    "JOIN Relations b\n",
    "ON a.follower_id = b.follower_id and a.user_id < b.user_id\n",
    "GROUP BY 1,2) a\n",
    "WHERE rn = 1"
   ]
  }
 ],
 "metadata": {
  "language_info": {
   "name": "python"
  }
 },
 "nbformat": 4,
 "nbformat_minor": 2
}
