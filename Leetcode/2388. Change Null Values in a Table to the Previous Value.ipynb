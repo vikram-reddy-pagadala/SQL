{
 "cells": [
  {
   "cell_type": "markdown",
   "metadata": {},
   "source": [
    "# **2388. Change Null Values in a Table to the Previous Value**\n",
    "\n",
    "**Table: CoffeeShop**\n",
    "``` console\n",
    "+-------------+---------+\n",
    "| Column Name | Type    |\n",
    "+-------------+---------+\n",
    "| id          | int     |\n",
    "| drink       | varchar |\n",
    "+-------------+---------+\n",
    "``` \n",
    "id is the primary key (column with unique values) for this table.\n",
    "\n",
    "Each row in this table shows the order id and the name of the drink ordered. Some drink rows are nulls.\n",
    " \n",
    "\n",
    "Write a solution to replace the null values of the drink with the name of the drink of the previous row that is not null. It is guaranteed that the drink on the first row of the table is not null.\n",
    "\n",
    "Return the result table in the same order as the input.\n",
    "\n",
    "The result format is shown in the following example.\n",
    "\n",
    " \n",
    "\n",
    "**Example 1:**\n",
    "\n",
    "**Input:** \n",
    "**CoffeeShop table:**\n",
    "``` console\n",
    "+----+-------------------+\n",
    "| id | drink             |\n",
    "+----+-------------------+\n",
    "| 9  | Rum and Coke      |\n",
    "| 6  | null              |\n",
    "| 7  | null              |\n",
    "| 3  | St Germain Spritz |\n",
    "| 1  | Orange Margarita  |\n",
    "| 2  | null              |\n",
    "+----+-------------------+\n",
    "```\n",
    "**Output:** \n",
    "``` console\n",
    "+----+-------------------+\n",
    "| id | drink             |\n",
    "+----+-------------------+\n",
    "| 9  | Rum and Coke      |\n",
    "| 6  | Rum and Coke      |\n",
    "| 7  | Rum and Coke      |\n",
    "| 3  | St Germain Spritz |\n",
    "| 1  | Orange Margarita  |\n",
    "| 2  | Orange Margarita  |\n",
    "+----+-------------------+\n",
    "```\n",
    "**Explanation:** \n",
    "- For ID 6, the previous value that is not null is from ID 9. We replace the null with \"Rum and Coke\".\n",
    "- For ID 7, the previous value that is not null is from ID 9. We replace the null with \"Rum and Coke;.\n",
    "- For ID 2, the previous value that is not null is from ID 1. We replace the null with \"Orange Margarita\".\n",
    "- Note that the rows in the output are the same as in the input."
   ]
  },
  {
   "cell_type": "markdown",
   "metadata": {},
   "source": [
    "``` sql\n"
   ]
  }
 ],
 "metadata": {
  "language_info": {
   "name": "python"
  }
 },
 "nbformat": 4,
 "nbformat_minor": 2
}
