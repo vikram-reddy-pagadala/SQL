{
 "cells": [
  {
   "cell_type": "markdown",
   "metadata": {},
   "source": [
    "# **1303. Find the Team Size**\n",
    "``` console\n",
    "Table: Employee\n",
    "\n",
    "+---------------+---------+\n",
    "| Column Name   | Type    |\n",
    "+---------------+---------+\n",
    "| employee_id   | int     |\n",
    "| team_id       | int     |\n",
    "+---------------+---------+\n",
    "employee_id is the primary key (column with unique values) for this table.\n",
    "Each row of this table contains the ID of each employee and their respective team.\n",
    " \n",
    "\n",
    "Write a solution to find the team size of each of the employees.\n",
    "\n",
    "Return the result table in any order.\n",
    "\n",
    "The result format is in the following example.\n",
    "\n",
    " \n",
    "\n",
    "Example 1:\n",
    "\n",
    "Input: \n",
    "Employee Table:\n",
    "+-------------+------------+\n",
    "| employee_id | team_id    |\n",
    "+-------------+------------+\n",
    "|     1       |     8      |\n",
    "|     2       |     8      |\n",
    "|     3       |     8      |\n",
    "|     4       |     7      |\n",
    "|     5       |     9      |\n",
    "|     6       |     9      |\n",
    "+-------------+------------+\n",
    "\n",
    "Output: \n",
    "+-------------+------------+\n",
    "| employee_id | team_size  |\n",
    "+-------------+------------+\n",
    "|     1       |     3      |\n",
    "|     2       |     3      |\n",
    "|     3       |     3      |\n",
    "|     4       |     1      |\n",
    "|     5       |     2      |\n",
    "|     6       |     2      |\n",
    "+-------------+------------+\n",
    "\n",
    "Explanation: \n",
    "Employees with Id 1,2,3 are part of a team with team_id = 8.\n",
    "Employee with Id 4 is part of a team with team_id = 7.\n",
    "Employees with Id 5,6 are part of a team with team_id = 9.\n",
    "```"
   ]
  },
  {
   "cell_type": "markdown",
   "metadata": {},
   "source": [
    "**Solution-1:**"
   ]
  },
  {
   "cell_type": "markdown",
   "metadata": {},
   "source": [
    "``` sql\n",
    "SELECT\n",
    "employee_id, COUNT(employee_id) OVER(PARTITION BY team_id) AS team_size\n",
    "FROM Employee"
   ]
  }
 ],
 "metadata": {
  "language_info": {
   "name": "python"
  }
 },
 "nbformat": 4,
 "nbformat_minor": 2
}
