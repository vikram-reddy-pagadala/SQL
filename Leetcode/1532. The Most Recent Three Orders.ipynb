{
 "cells": [
  {
   "cell_type": "markdown",
   "metadata": {},
   "source": [
    "# **1532. The Most Recent Three Orders**\n",
    "``` console\n",
    "Table: Customers\n",
    "\n",
    "+---------------+---------+\n",
    "| Column Name   | Type    |\n",
    "+---------------+---------+\n",
    "| customer_id   | int     |\n",
    "| name          | varchar |\n",
    "+---------------+---------+\n",
    "customer_id is the column with unique values for this table.\n",
    "This table contains information about customers.\n",
    " \n",
    "\n",
    "Table: Orders\n",
    "\n",
    "+---------------+---------+\n",
    "| Column Name   | Type    |\n",
    "+---------------+---------+\n",
    "| order_id      | int     |\n",
    "| order_date    | date    |\n",
    "| customer_id   | int     |\n",
    "| cost          | int     |\n",
    "+---------------+---------+\n",
    "order_id is the column with unique values for this table.\n",
    "This table contains information about the orders made by customer_id.\n",
    "Each customer has one order per day.\n",
    " \n",
    "\n",
    "Write a solution to find the most recent three orders of each user. If a user ordered less than three orders, return all of their orders.\n",
    "\n",
    "Return the result table ordered by customer_name in ascending order and in case of a tie by the customer_id in ascending order. If there is still a tie, order them by order_date in descending order.\n",
    "\n",
    "The result format is in the following example.\n",
    "\n",
    " \n",
    "\n",
    "Example 1:\n",
    "\n",
    "Input: \n",
    "Customers table:\n",
    "+-------------+-----------+\n",
    "| customer_id | name      |\n",
    "+-------------+-----------+\n",
    "| 1           | Winston   |\n",
    "| 2           | Jonathan  |\n",
    "| 3           | Annabelle |\n",
    "| 4           | Marwan    |\n",
    "| 5           | Khaled    |\n",
    "+-------------+-----------+\n",
    "\n",
    "Orders table:\n",
    "+----------+------------+-------------+------+\n",
    "| order_id | order_date | customer_id | cost |\n",
    "+----------+------------+-------------+------+\n",
    "| 1        | 2020-07-31 | 1           | 30   |\n",
    "| 2        | 2020-07-30 | 2           | 40   |\n",
    "| 3        | 2020-07-31 | 3           | 70   |\n",
    "| 4        | 2020-07-29 | 4           | 100  |\n",
    "| 5        | 2020-06-10 | 1           | 1010 |\n",
    "| 6        | 2020-08-01 | 2           | 102  |\n",
    "| 7        | 2020-08-01 | 3           | 111  |\n",
    "| 8        | 2020-08-03 | 1           | 99   |\n",
    "| 9        | 2020-08-07 | 2           | 32   |\n",
    "| 10       | 2020-07-15 | 1           | 2    |\n",
    "+----------+------------+-------------+------+\n",
    "\n",
    "Output: \n",
    "+---------------+-------------+----------+------------+\n",
    "| customer_name | customer_id | order_id | order_date |\n",
    "+---------------+-------------+----------+------------+\n",
    "| Annabelle     | 3           | 7        | 2020-08-01 |\n",
    "| Annabelle     | 3           | 3        | 2020-07-31 |\n",
    "| Jonathan      | 2           | 9        | 2020-08-07 |\n",
    "| Jonathan      | 2           | 6        | 2020-08-01 |\n",
    "| Jonathan      | 2           | 2        | 2020-07-30 |\n",
    "| Marwan        | 4           | 4        | 2020-07-29 |\n",
    "| Winston       | 1           | 8        | 2020-08-03 |\n",
    "| Winston       | 1           | 1        | 2020-07-31 |\n",
    "| Winston       | 1           | 10       | 2020-07-15 |\n",
    "+---------------+-------------+----------+------------+\n",
    "\n",
    "Explanation: \n",
    "Winston has 4 orders, we discard the order of \"2020-06-10\" because it is the oldest order.\n",
    "Annabelle has only 2 orders, we return them.\n",
    "Jonathan has exactly 3 orders.\n",
    "Marwan ordered only one time.\n",
    "We sort the result table by customer_name in ascending order, by customer_id in ascending order, and by order_date in descending order in case of a tie.\n",
    " \n",
    "\n",
    "Follow up: Could you write a general solution for the most recent n orders?\n",
    "```"
   ]
  },
  {
   "cell_type": "markdown",
   "metadata": {},
   "source": [
    "**Solutions**"
   ]
  },
  {
   "cell_type": "code",
   "execution_count": null,
   "metadata": {
    "vscode": {
     "languageId": "sql"
    }
   },
   "outputs": [],
   "source": [
    "SELECT customer_name, customer_id, order_id, order_date\n",
    "FROM(\n",
    "    SELECT name AS customer_name, o.customer_id AS customer_id,\n",
    "    o.order_id AS order_id, o.order_date AS order_date,\n",
    "    RANK() OVER(PARTITION BY o.customer_id ORDER BY o.order_date DESC) AS rn\n",
    "    FROM Orders o\n",
    "    INNER JOIN Customers c\n",
    "    ON c.customer_id = o.customer_id) a\n",
    "WHERE rn <= 3\n",
    "ORDER BY customer_name, customer_id, order_date DESC"
   ]
  },
  {
   "cell_type": "code",
   "execution_count": null,
   "metadata": {
    "vscode": {
     "languageId": "sql"
    }
   },
   "outputs": [],
   "source": [
    "SELECT a.name as customer_name,a.customer_id,b.order_id,b.order_date\n",
    "FROM Customers as a\n",
    "JOIN Orders as b\n",
    "ON a.customer_id=b.customer_id\n",
    "JOIN Orders as c\n",
    "ON b.customer_id=c.customer_id AND b.order_date<=c.order_date\n",
    "GROUP BY a.customer_id,b.order_id\n",
    "HAVING COUNT(c.order_date)<=3\n",
    "ORDER BY customer_name,customer_id,order_date DESC;"
   ]
  },
  {
   "cell_type": "code",
   "execution_count": null,
   "metadata": {
    "vscode": {
     "languageId": "sql"
    }
   },
   "outputs": [],
   "source": [
    "SELECT\n",
    " c.name AS customer_name, o1.customer_id, o1.order_id, o1.order_date\n",
    "FROM\n",
    " orders o1\n",
    " LEFT JOIN\n",
    "      orders o2\n",
    "      ON o1.customer_id = o2.customer_id\n",
    "      AND o1.order_date < o2.order_date\n",
    " INNER JOIN\n",
    "       customers c\n",
    "       ON o1.customer_id = c.customer_id\n",
    "GROUP BY\n",
    " o1.customer_id, c.name, o1.order_id, o1.order_date\n",
    "HAVING\n",
    " COUNT(o2.order_date) <= 2\n",
    "ORDER BY\n",
    " c.name, o1.customer_id, o1.order_date desc"
   ]
  }
 ],
 "metadata": {
  "language_info": {
   "name": "python"
  }
 },
 "nbformat": 4,
 "nbformat_minor": 2
}
