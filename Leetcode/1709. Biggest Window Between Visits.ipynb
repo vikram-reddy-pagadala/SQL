{
 "cells": [
  {
   "cell_type": "markdown",
   "metadata": {},
   "source": [
    "# **1709. Biggest Window Between Visits**\n",
    "``` console\n",
    "Table: UserVisits\n",
    "\n",
    "+-------------+------+\n",
    "| Column Name | Type |\n",
    "+-------------+------+\n",
    "| user_id     | int  |\n",
    "| visit_date  | date |\n",
    "+-------------+------+\n",
    "This table does not have a primary key, it might contain duplicate rows.\n",
    "This table contains logs of the dates that users visited a certain retailer.\n",
    " \n",
    "\n",
    "Assume today's date is '2021-1-1'.\n",
    "\n",
    "Write a solution that will, for each user_id, find out the largest window of days between each visit and the one right after it (or today if you are considering the last visit).\n",
    "\n",
    "Return the result table ordered by user_id.\n",
    "\n",
    "The query result format is in the following example.\n",
    "\n",
    " \n",
    "\n",
    "Example 1:\n",
    "\n",
    "Input: \n",
    "UserVisits table:\n",
    "+---------+------------+\n",
    "| user_id | visit_date |\n",
    "+---------+------------+\n",
    "| 1       | 2020-11-28 |\n",
    "| 1       | 2020-10-20 |\n",
    "| 1       | 2020-12-3  |\n",
    "| 2       | 2020-10-5  |\n",
    "| 2       | 2020-12-9  |\n",
    "| 3       | 2020-11-11 |\n",
    "+---------+------------+\n",
    "\n",
    "Output: \n",
    "+---------+---------------+\n",
    "| user_id | biggest_window|\n",
    "+---------+---------------+\n",
    "| 1       | 39            |\n",
    "| 2       | 65            |\n",
    "| 3       | 51            |\n",
    "+---------+---------------+\n",
    "\n",
    "Explanation: \n",
    "For the first user, the windows in question are between dates:\n",
    "    - 2020-10-20 and 2020-11-28 with a total of 39 days. \n",
    "    - 2020-11-28 and 2020-12-3 with a total of 5 days. \n",
    "    - 2020-12-3 and 2021-1-1 with a total of 29 days.\n",
    "Making the biggest window the one with 39 days.\n",
    "For the second user, the windows in question are between dates:\n",
    "    - 2020-10-5 and 2020-12-9 with a total of 65 days.\n",
    "    - 2020-12-9 and 2021-1-1 with a total of 23 days.\n",
    "Making the biggest window the one with 65 days.\n",
    "For the third user, the only window in question is between dates 2020-11-11 and 2021-1-1 with a total of 51 days.\n",
    "```"
   ]
  },
  {
   "cell_type": "markdown",
   "metadata": {},
   "source": [
    "**Solution-1:**"
   ]
  },
  {
   "cell_type": "markdown",
   "metadata": {},
   "source": [
    "``` sql\n",
    "SELECT user_id, MAX(biggest_window) AS biggest_window\n",
    "FROM\n",
    "(SELECT\n",
    "user_id,\n",
    "datediff(COALESCE(LEAD(visit_date) OVER(PARTITION BY user_id ORDER BY visit_date asc), '2021-01-01'),visit_date) AS biggest_window \n",
    "FROM uservisits)a\n",
    "GROUP BY user_id\n",
    "ORDER BY user_id"
   ]
  }
 ],
 "metadata": {
  "language_info": {
   "name": "python"
  }
 },
 "nbformat": 4,
 "nbformat_minor": 2
}
