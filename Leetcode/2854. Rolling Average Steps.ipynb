{
 "cells": [
  {
   "cell_type": "markdown",
   "metadata": {},
   "source": [
    "# **2854. Rolling Average Steps**\n",
    "\n",
    "**Table: Steps**\n",
    "``` console\n",
    "+-------------+------+ \n",
    "| Column Name | Type | \n",
    "+-------------+------+ \n",
    "| user_id     | int  | \n",
    "| steps_count | int  |\n",
    "| steps_date  | date |\n",
    "+-------------+------+\n",
    "```\n",
    "(user_id, steps_date) is the primary key for this table.\n",
    "\n",
    "Each row of this table contains user_id, steps_count, and steps_date.\n",
    "\n",
    "Write a solution to calculate 3-day rolling averages of steps for each user.\n",
    "\n",
    "We calculate the n-day rolling average this way:\n",
    "\n",
    "For each day, we calculate the average of n consecutive days of step counts ending on that day if available, otherwise, n-day rolling average is not defined for it.\n",
    "\n",
    "Output the user_id, steps_date, and rolling average. Round the rolling average to two decimal places.\n",
    "\n",
    "Return the result table ordered by user_id, steps_date in ascending order.\n",
    "\n",
    "The result format is in the following example.\n",
    "\n",
    " \n",
    "\n",
    "**Example 1:**\n",
    "\n",
    "**Input:** \n",
    "**Steps table:**\n",
    "``` console\n",
    "+---------+-------------+------------+\n",
    "| user_id | steps_count | steps_date |\n",
    "+---------+-------------+------------+\n",
    "| 1       | 687         | 2021-09-02 |\n",
    "| 1       | 395         | 2021-09-04 |\n",
    "| 1       | 499         | 2021-09-05 |\n",
    "| 1       | 712         | 2021-09-06 |\n",
    "| 1       | 576         | 2021-09-07 |\n",
    "| 2       | 153         | 2021-09-06 |\n",
    "| 2       | 171         | 2021-09-07 |\n",
    "| 2       | 530         | 2021-09-08 |\n",
    "| 3       | 945         | 2021-09-04 |\n",
    "| 3       | 120         | 2021-09-07 |\n",
    "| 3       | 557         | 2021-09-08 |\n",
    "| 3       | 840         | 2021-09-09 |\n",
    "| 3       | 627         | 2021-09-10 |\n",
    "| 5       | 382         | 2021-09-05 |\n",
    "| 6       | 480         | 2021-09-01 |\n",
    "| 6       | 191         | 2021-09-02 |\n",
    "| 6       | 303         | 2021-09-05 |\n",
    "+---------+-------------+------------+\n",
    "```\n",
    "**Output:** \n",
    "``` console\n",
    "+---------+------------+-----------------+\n",
    "| user_id | steps_date | rolling_average | \n",
    "+---------+------------+-----------------+\n",
    "| 1       | 2021-09-06 | 535.33          | \n",
    "| 1       | 2021-09-07 | 595.67          | \n",
    "| 2       | 2021-09-08 | 284.67          |\n",
    "| 3       | 2021-09-09 | 505.67          |\n",
    "| 3       | 2021-09-10 | 674.67          |    \n",
    "+---------+------------+-----------------+\n",
    "```\n",
    "**Explanation:** \n",
    "\n",
    "- For user id 1, the step counts for the three consecutive days up to 2021-09-06 are available. Consequently, the rolling average for this particular date is computed as (395 + 499 + 712) / 3 = 535.33.\n",
    "\n",
    "- For user id 1, the step counts for the three consecutive days up to 2021-09-07 are available. Consequently, the rolling average for this particular date is computed as (499 + 712 + 576) / 3 = 595.67.\n",
    "\n",
    "- For user id 2, the step counts for the three consecutive days up to 2021-09-08 are available. Consequently, the rolling average for this particular date is computed as (153 + 171 + 530) / 3 = 284.67.\n",
    "\n",
    "- For user id 3, the step counts for the three consecutive days up to 2021-09-09 are available. Consequently, the rolling average for this particular date is computed as (120 + 557 + 840) / 3 = 505.67.\n",
    "\n",
    "- For user id 3, the step counts for the three consecutive days up to 2021-09-10 are available. Consequently, the rolling average for this particular date is computed as (557 + 840 + 627) / 3 = 674.67.\n",
    "\n",
    "- For user id 4 and 5, the calculation of the rolling average is not viable as there is insufficient data for the consecutive three days. Output table ordered by user_id and steps_date in ascending order."
   ]
  },
  {
   "cell_type": "markdown",
   "metadata": {},
   "source": [
    "**Solution-1:**"
   ]
  },
  {
   "cell_type": "markdown",
   "metadata": {},
   "source": [
    "``` sql\n",
    "# Write your MySQL query statement below\n",
    "\n",
    "select\n",
    "a.user_id, c.steps_date, \n",
    "ROUND((a.steps_count + b.steps_count + c.steps_count)/3,2) AS rolling_average \n",
    "from steps a, steps b, steps c\n",
    "where a.user_id = b.user_id and a.user_id = c.user_id \n",
    "and datediff(b.steps_date, a.steps_date)=1 and datediff(c.steps_date, a.steps_date)=2\n",
    "order by a.user_id, c.steps_date"
   ]
  },
  {
   "cell_type": "markdown",
   "metadata": {},
   "source": [
    "**Solution-2:**"
   ]
  },
  {
   "cell_type": "markdown",
   "metadata": {},
   "source": [
    "``` sql\n",
    "# Write your MySQL query statement below\n",
    "\n",
    "select\n",
    "a.user_id, c.steps_date, \n",
    "ROUND((a.steps_count + b.steps_count + c.steps_count)/3,2) AS rolling_average \n",
    "from steps a\n",
    "inner join steps b\n",
    "on a.user_id = b.user_id and datediff(b.steps_date, a.steps_date)=1\n",
    "inner join steps c\n",
    "on a.user_id = c.user_id and datediff(c.steps_date, a.steps_date)=2\n",
    "order by a.user_id, c.steps_date"
   ]
  },
  {
   "cell_type": "markdown",
   "metadata": {},
   "source": [
    "**Solution-3:**"
   ]
  },
  {
   "cell_type": "markdown",
   "metadata": {},
   "source": [
    "``` sql\n",
    "# Write your MySQL query statement below\n",
    "\n",
    "select user_id, steps_date, rolling_average\n",
    "from (\n",
    "    select user_id, steps_date,\n",
    "    round(avg(steps_count) over (partition by user_id order by steps_date rows between 2 preceding and current row), 2) as rolling_average,\n",
    "    lag(steps_date, 2) over (partition by user_id order by steps_date) as two_dates_before\n",
    "    from steps\n",
    ") tmp\n",
    "where datediff(steps_date, two_dates_before) = 2\n",
    "order by 1, 2\n",
    ";"
   ]
  }
 ],
 "metadata": {
  "language_info": {
   "name": "python"
  }
 },
 "nbformat": 4,
 "nbformat_minor": 2
}
