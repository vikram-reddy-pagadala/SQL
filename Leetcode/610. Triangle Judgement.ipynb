{
 "cells": [
  {
   "cell_type": "markdown",
   "metadata": {},
   "source": [
    "# **610. Triangle Judgement**\n",
    "\n",
    "**Table: Triangle**\n",
    "``` console\n",
    "+-------------+------+\n",
    "| Column Name | Type |\n",
    "+-------------+------+\n",
    "| x           | int  |\n",
    "| y           | int  |\n",
    "| z           | int  |\n",
    "+-------------+------+\n",
    "```\n",
    "In SQL, (x, y, z) is the primary key column for this table.\n",
    "Each row of this table contains the lengths of three line segments.\n",
    " \n",
    "\n",
    "Report for every three line segments whether they can form a triangle.\n",
    "\n",
    "Return the result table in any order.\n",
    "\n",
    "The result format is in the following example.\n",
    "\n",
    "**Example 1:**\n",
    "\n",
    "**Input:** \n",
    "**Triangle table:**\n",
    "``` console\n",
    "+----+----+----+\n",
    "| x  | y  | z  |\n",
    "+----+----+----+\n",
    "| 13 | 15 | 30 |\n",
    "| 10 | 20 | 15 |\n",
    "+----+----+----+\n",
    "```\n",
    "**Output:** \n",
    "``` console\n",
    "+----+----+----+----------+\n",
    "| x  | y  | z  | triangle |\n",
    "+----+----+----+----------+\n",
    "| 13 | 15 | 30 | No       |\n",
    "| 10 | 20 | 15 | Yes      |\n",
    "+----+----+----+----------+\n",
    "``` "
   ]
  },
  {
   "cell_type": "markdown",
   "metadata": {},
   "source": [
    "**Solution 1:**"
   ]
  },
  {
   "cell_type": "code",
   "execution_count": null,
   "metadata": {
    "vscode": {
     "languageId": "sql"
    }
   },
   "outputs": [],
   "source": [
    "SELECT *, CASE WHEN x + y > z AND y + z > x AND z + x > y then 'Yes' ELSE 'No' END AS triangle \n",
    "FROM Triangle"
   ]
  },
  {
   "cell_type": "markdown",
   "metadata": {},
   "source": [
    "**Solution 2:**"
   ]
  },
  {
   "cell_type": "code",
   "execution_count": null,
   "metadata": {
    "vscode": {
     "languageId": "sql"
    }
   },
   "outputs": [],
   "source": [
    "SELECT x,y,z, IF(ABS(x+y)>ABS(z) AND ABS(y+z)>ABS(x) AND ABS(x+z)>ABS(y) ,\"Yes\",\"No\") AS triangle \n",
    "FROM Triangle"
   ]
  },
  {
   "cell_type": "markdown",
   "metadata": {},
   "source": [
    "**Solution 3:**"
   ]
  },
  {
   "cell_type": "code",
   "execution_count": null,
   "metadata": {
    "vscode": {
     "languageId": "sql"
    }
   },
   "outputs": [],
   "source": [
    "SELECT\n",
    "*,\n",
    "CASE\n",
    "WHEN x <= 0 OR y <= 0 OR z <=0 THEN \"No\"\n",
    "WHEN LEAST(x, y, z) + LEAST(GREATEST(x, y), GREATEST(y, z), GREATEST(x, z)) > GREATEST(x, y, z) THEN \"Yes\"\n",
    "ELSE \"No\"\n",
    "END AS triangle\n",
    "FROM Triangle"
   ]
  }
 ],
 "metadata": {
  "language_info": {
   "name": "python"
  }
 },
 "nbformat": 4,
 "nbformat_minor": 2
}
