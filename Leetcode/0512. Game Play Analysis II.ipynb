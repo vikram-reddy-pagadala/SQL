{
 "cells": [
  {
   "cell_type": "markdown",
   "metadata": {},
   "source": [
    "# **512. Game Play Analysis II**\n",
    "\n",
    "**Table: Activity**\n",
    "``` console\n",
    "+--------------+---------+\n",
    "| Column Name  | Type    |\n",
    "+--------------+---------+\n",
    "| player_id    | int     |\n",
    "| device_id    | int     |\n",
    "| event_date   | date    |\n",
    "| games_played | int     |\n",
    "+--------------+---------+\n",
    "```\n",
    "(player_id, event_date) is the primary key (combination of columns with unique values) of this table.\n",
    "This table shows the activity of players of some games.\n",
    "Each row is a record of a player who logged in and played a number of games (possibly 0) before logging out on someday using some device.\n",
    " \n",
    "\n",
    "Write a solution to report the device that is first logged in for each player.\n",
    "\n",
    "Return the result table in any order.\n",
    "\n",
    "The result format is in the following example.\n",
    "\n",
    "**Example 1:**\n",
    "\n",
    "**Input:** \n",
    "**Activity table:**\n",
    "``` console\n",
    "+-----------+-----------+------------+--------------+\n",
    "| player_id | device_id | event_date | games_played |\n",
    "+-----------+-----------+------------+--------------+\n",
    "| 1         | 2         | 2016-03-01 | 5            |\n",
    "| 1         | 2         | 2016-05-02 | 6            |\n",
    "| 2         | 3         | 2017-06-25 | 1            |\n",
    "| 3         | 1         | 2016-03-02 | 0            |\n",
    "| 3         | 4         | 2018-07-03 | 5            |\n",
    "+-----------+-----------+------------+--------------+\n",
    "```\n",
    "**Output:** \n",
    "``` console\n",
    "+-----------+-----------+\n",
    "| player_id | device_id |\n",
    "+-----------+-----------+\n",
    "| 1         | 2         |\n",
    "| 2         | 3         |\n",
    "| 3         | 1         |\n",
    "+-----------+-----------+\n",
    "```"
   ]
  },
  {
   "cell_type": "markdown",
   "metadata": {},
   "source": [
    "**Solution 1:**"
   ]
  },
  {
   "cell_type": "code",
   "execution_count": null,
   "metadata": {
    "vscode": {
     "languageId": "sql"
    }
   },
   "outputs": [],
   "source": [
    "SELECT A.player_id, A.device_id\n",
    "FROM activity A\n",
    "INNER JOIN (\n",
    "    SELECT  player_id, MIN(event_date ) AS min_event_date\n",
    "    FROM Activity\n",
    "    GROUP BY player_id\n",
    ") B\n",
    "ON A.player_id =B.player_id  AND A.event_date = B.min_event_date"
   ]
  },
  {
   "cell_type": "markdown",
   "metadata": {},
   "source": [
    "**Solution 2:**"
   ]
  },
  {
   "cell_type": "code",
   "execution_count": null,
   "metadata": {
    "vscode": {
     "languageId": "sql"
    }
   },
   "outputs": [],
   "source": [
    "SELECT player_id, device_id \n",
    "FROM activity \n",
    "WHERE (player_id, event_date) IN (\n",
    "                                SELECT player_id, min(event_date)\n",
    "                                FROM activity \n",
    "                                GROUP BY player_id\n",
    "                                 ) "
   ]
  },
  {
   "cell_type": "markdown",
   "metadata": {},
   "source": [
    "**Solution 3**"
   ]
  },
  {
   "cell_type": "code",
   "execution_count": null,
   "metadata": {
    "vscode": {
     "languageId": "sql"
    }
   },
   "outputs": [],
   "source": [
    "SELECT A.player_id, A.device_id \n",
    "FROM Activity A \n",
    "INNER JOIN (SELECT player_id, device_id, MIN(event_date) as l \n",
    "            FROM Activity \n",
    "            GROUP BY player_id) tmp \n",
    "ON A.player_id = tmp.player_id AND A.event_date = tmp.l"
   ]
  },
  {
   "cell_type": "markdown",
   "metadata": {},
   "source": [
    "**Solution 4:**"
   ]
  },
  {
   "cell_type": "code",
   "execution_count": null,
   "metadata": {
    "vscode": {
     "languageId": "sql"
    }
   },
   "outputs": [],
   "source": [
    "SELECT player_id\n",
    "        ,device_id\n",
    "FROM \n",
    "    (SELECT player_id\n",
    "            ,device_id\n",
    "            ,rank() OVER(PARTITION BY player_id ORDER BY event_date) AS rnk\n",
    "    FROM Activity) rnk_table\n",
    "WHERE rnk_table.rnk = 1"
   ]
  },
  {
   "cell_type": "markdown",
   "metadata": {},
   "source": [
    "**Solution 5:**"
   ]
  },
  {
   "cell_type": "code",
   "execution_count": null,
   "metadata": {
    "vscode": {
     "languageId": "sql"
    }
   },
   "outputs": [],
   "source": [
    "SELECT  DISTINCT player_id,\n",
    "        FIRST_VALUE(device_id) OVER(PARTITION BY player_id ORDER BY event_date ASC) AS device_id \n",
    "FROM Activity "
   ]
  },
  {
   "cell_type": "code",
   "execution_count": null,
   "metadata": {
    "vscode": {
     "languageId": "sql"
    }
   },
   "outputs": [],
   "source": [
    "-- THIS CODE IS TIME LIMIT EXCEEDED\n",
    "SELECT player_id, device_id\n",
    "FROM activity a\n",
    "WHERE 1 > (SELECT count(DISTINCT event_date)\n",
    "FROM activity b\n",
    "WHERE a.player_id = b.player_id\n",
    "AND a.event_date > b.event_date)"
   ]
  }
 ],
 "metadata": {
  "language_info": {
   "name": "python"
  }
 },
 "nbformat": 4,
 "nbformat_minor": 2
}
