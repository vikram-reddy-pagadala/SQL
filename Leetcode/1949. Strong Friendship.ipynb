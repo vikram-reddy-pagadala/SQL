{
 "cells": [
  {
   "cell_type": "markdown",
   "metadata": {},
   "source": [
    "# **1949. Strong Friendship**\n",
    "\n",
    "**Table: Friendship**\n",
    "``` console\n",
    "+-------------+------+\n",
    "| Column Name | Type |\n",
    "+-------------+------+\n",
    "| user1_id    | int  |\n",
    "| user2_id    | int  |\n",
    "+-------------+------+\n",
    "```\n",
    "(user1_id, user2_id) is the primary key (combination of columns with unique values) for this table.\n",
    "Each row of this table indicates that the users user1_id and user2_id are friends.\n",
    "Note that user1_id < user2_id.\n",
    " \n",
    "\n",
    "A friendship between a pair of friends x and y is strong if x and y have at least three common friends.\n",
    "\n",
    "Write a solution to find all the strong friendships.\n",
    "\n",
    "Note that the result table should not contain duplicates with user1_id < user2_id.\n",
    "\n",
    "Return the result table in any order.\n",
    "\n",
    "The result format is in the following example.\n",
    "\n",
    " \n",
    "\n",
    "**Example 1:**\n",
    "\n",
    "**Input:** \n",
    "**Friendship table:**\n",
    "``` console\n",
    "+----------+----------+\n",
    "| user1_id | user2_id |\n",
    "+----------+----------+\n",
    "| 1        | 2        |\n",
    "| 1        | 3        |\n",
    "| 2        | 3        |\n",
    "| 1        | 4        |\n",
    "| 2        | 4        |\n",
    "| 1        | 5        |\n",
    "| 2        | 5        |\n",
    "| 1        | 7        |\n",
    "| 3        | 7        |\n",
    "| 1        | 6        |\n",
    "| 3        | 6        |\n",
    "| 2        | 6        |\n",
    "+----------+----------+\n",
    "```\n",
    "**Output:** \n",
    "``` console\n",
    "+----------+----------+---------------+\n",
    "| user1_id | user2_id | common_friend |\n",
    "+----------+----------+---------------+\n",
    "| 1        | 2        | 4             |\n",
    "| 1        | 3        | 3             |\n",
    "+----------+----------+---------------+\n",
    "```\n",
    "**Explanation:**\n",
    "\n",
    "Users 1 and 2 have 4 common friends (3, 4, 5, and 6).\n",
    "Users 1 and 3 have 3 common friends (2, 6, and 7).\n",
    "We did not include the friendship of users 2 and 3 because they only have two common friends (1 and 6).\n",
    "```"
   ]
  },
  {
   "cell_type": "markdown",
   "metadata": {},
   "source": [
    "**Solution-1:**"
   ]
  },
  {
   "cell_type": "markdown",
   "metadata": {},
   "source": [
    "``` sql\n",
    "with T as (\n",
    "    select user1_id 'user', user2_id 'fid' from Friendship \n",
    "    union\n",
    "    select user2_id 'user', user1_id 'fid' from Friendship \n",
    ")\n",
    "select F.user1_id, F.user2_id , count(*) as 'common_friend' \n",
    "from Friendship F, T T1, T T2\n",
    "where F.user1_id = T1.user \n",
    "and F.user2_id = T2.user    \n",
    "and T1.fid = T2.fid  \n",
    "group by F.user1_id, F.user2_id\n",
    "having count(*) >=3"
   ]
  },
  {
   "cell_type": "markdown",
   "metadata": {},
   "source": [
    "**Solution-2:**"
   ]
  },
  {
   "cell_type": "markdown",
   "metadata": {},
   "source": [
    "``` sql\n",
    "with f as (\n",
    "select user1_id, user2_id \n",
    "from Friendship\n",
    "union \n",
    "select user2_id user1_id, user1_id user2_id\n",
    "from Friendship\n",
    ")\n",
    "\n",
    "select a.user1_id, a.user2_id, count(c.user2_id) common_friend\n",
    "from Friendship a \n",
    "join f b \n",
    "on a.user1_id = b.user1_id # u1 friends\n",
    "join f c \n",
    "on a.user2_id = c.user1_id # u2 friends\n",
    "and b.user2_id = c.user2_id # u1 u2 comman friends\n",
    "group by a.user1_id, a.user2_id\n",
    "having count(c.user2_id) >= 3"
   ]
  },
  {
   "cell_type": "markdown",
   "metadata": {},
   "source": []
  },
  {
   "cell_type": "markdown",
   "metadata": {},
   "source": [
    "**Solution-3:**"
   ]
  },
  {
   "cell_type": "markdown",
   "metadata": {},
   "source": [
    "``` sql\n",
    "with allfriends as (\n",
    "    select user1_id as user, user2_id as friend\n",
    "    from Friendship\n",
    "    UNION ALL\n",
    "    select user2_id as user, user1_id as friend\n",
    "    from Friendship)\n",
    "    \n",
    "select a.user as user1_id, b.user as user2_id, count(*) as common_friend\n",
    "from allfriends a\n",
    "join allfriends b\n",
    "where a.user < b.user AND a.friend = b.friend and (a.user, b.user) in (select user, friend from allfriends)\n",
    "group by 1, 2\n",
    "having common_friend >=3"
   ]
  }
 ],
 "metadata": {
  "language_info": {
   "name": "python"
  }
 },
 "nbformat": 4,
 "nbformat_minor": 2
}
