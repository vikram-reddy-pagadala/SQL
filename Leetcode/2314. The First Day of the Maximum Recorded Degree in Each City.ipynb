{
 "cells": [
  {
   "cell_type": "markdown",
   "metadata": {},
   "source": [
    "# **2314. The First Day of the Maximum Recorded Degree in Each City**\n",
    "\n",
    "**Table: Weather**\n",
    "``` console\n",
    "+-------------+------+\n",
    "| Column Name | Type |\n",
    "+-------------+------+\n",
    "| city_id     | int  |\n",
    "| day         | date |\n",
    "| degree      | int  |\n",
    "+-------------+------+\n",
    "```\n",
    "(city_id, day) is the primary key (combination of columns with unique values) for this table.\n",
    "\n",
    "Each row in this table contains the degree of the weather of a city on a certain day.\n",
    "\n",
    "All the degrees are recorded in the year 2022.\n",
    " \n",
    "\n",
    "Write a solution to report the day that has the maximum recorded degree in each city. If the maximum degree was recorded for the same city multiple times, return the earliest day among them.\n",
    "\n",
    "Return the result table ordered by city_id in ascending order.\n",
    "\n",
    "The result format is shown in the following example.\n",
    "\n",
    " \n",
    "\n",
    "**Example 1:**\n",
    "\n",
    "**Input:** \n",
    "**Weather table:**\n",
    "``` console\n",
    "+---------+------------+--------+\n",
    "| city_id | day        | degree |\n",
    "+---------+------------+--------+\n",
    "| 1       | 2022-01-07 | -12    |\n",
    "| 1       | 2022-03-07 | 5      |\n",
    "| 1       | 2022-07-07 | 24     |\n",
    "| 2       | 2022-08-07 | 37     |\n",
    "| 2       | 2022-08-17 | 37     |\n",
    "| 3       | 2022-02-07 | -7     |\n",
    "| 3       | 2022-12-07 | -6     |\n",
    "+---------+------------+--------+\n",
    "```\n",
    "**Output:** \n",
    "``` console\n",
    "+---------+------------+--------+\n",
    "| city_id | day        | degree |\n",
    "+---------+------------+--------+\n",
    "| 1       | 2022-07-07 | 24     |\n",
    "| 2       | 2022-08-07 | 37     |\n",
    "| 3       | 2022-12-07 | -6     |\n",
    "+---------+------------+--------+\n",
    "```\n",
    "**Explanation:** \n",
    "\n",
    "For city 1, the maximum degree was recorded on 2022-07-07 with 24 degrees.\n",
    "\n",
    "For city 2, the maximum degree was recorded on 2022-08-07 and 2022-08-17 with 37 degrees. We choose the earlier date (2022-08-07).\n",
    "\n",
    "For city 3, the maximum degree was recorded on 2022-12-07 with -6 degrees."
   ]
  },
  {
   "cell_type": "markdown",
   "metadata": {},
   "source": [
    "**Solution-1:**"
   ]
  },
  {
   "cell_type": "markdown",
   "metadata": {},
   "source": [
    "``` sql\n",
    "# Write your MySQL query statement below\n",
    "\n",
    "SELECT city_id, day, degree\n",
    "FROM(\n",
    "SELECT *, ROW_NUMBER()OVER(PARTITION BY city_id ORDER BY degree DESC, day ASC) as rn\n",
    "FROM Weather\n",
    ")a\n",
    "WHERE rn = 1\n",
    "ORDER BY city_id ASC"
   ]
  }
 ],
 "metadata": {
  "language_info": {
   "name": "python"
  }
 },
 "nbformat": 4,
 "nbformat_minor": 2
}
