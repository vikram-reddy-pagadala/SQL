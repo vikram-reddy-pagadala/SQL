{
 "cells": [
  {
   "cell_type": "markdown",
   "metadata": {},
   "source": [
    "# **2339. All the Matches of the League**\n",
    "\n",
    "**Table: Teams**\n",
    "``` console\n",
    "+-------------+---------+\n",
    "| Column Name | Type    |\n",
    "+-------------+---------+\n",
    "| team_name   | varchar |\n",
    "+-------------+---------+\n",
    "```\n",
    "team_name is the column with unique values of this table.\n",
    "\n",
    "Each row of this table shows the name of a team.\n",
    " \n",
    "\n",
    "Write a solution to report all the possible matches of the league. Note that every two teams play two matches with each other, with one team being the home_team once and the other time being the away_team.\n",
    "\n",
    "Return the result table in any order.\n",
    "\n",
    "The result format is in the following example.\n",
    "\n",
    " \n",
    "\n",
    "**Example 1:**\n",
    "\n",
    "**Input:** \n",
    "**Teams table:**\n",
    "``` console\n",
    "+-------------+\n",
    "| team_name   |\n",
    "+-------------+\n",
    "| Leetcode FC |\n",
    "| Ahly SC     |\n",
    "| Real Madrid |\n",
    "+-------------+\n",
    "```\n",
    "**Output:** \n",
    "``` console\n",
    "+-------------+-------------+\n",
    "| home_team   | away_team   |\n",
    "+-------------+-------------+\n",
    "| Real Madrid | Leetcode FC |\n",
    "| Real Madrid | Ahly SC     |\n",
    "| Leetcode FC | Real Madrid |\n",
    "| Leetcode FC | Ahly SC     |\n",
    "| Ahly SC     | Real Madrid |\n",
    "| Ahly SC     | Leetcode FC |\n",
    "+-------------+-------------+\n",
    "```\n",
    "**Explanation:** All the matches of the league are shown in the table."
   ]
  },
  {
   "cell_type": "markdown",
   "metadata": {},
   "source": [
    "**Solution-1:**"
   ]
  },
  {
   "cell_type": "markdown",
   "metadata": {},
   "source": [
    "``` sql\n",
    "# Write your MySQL query statement below\n",
    "\n",
    "SELECT a.team_name as home_team, b.team_name as away_team\n",
    "FROM teams a, teams b\n",
    "WHERE a.team_name <> b.team_name"
   ]
  }
 ],
 "metadata": {
  "language_info": {
   "name": "python"
  }
 },
 "nbformat": 4,
 "nbformat_minor": 2
}
