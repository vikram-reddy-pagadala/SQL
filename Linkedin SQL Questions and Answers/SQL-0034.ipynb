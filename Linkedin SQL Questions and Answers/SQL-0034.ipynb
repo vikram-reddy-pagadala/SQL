{
 "cells": [
  {
   "cell_type": "markdown",
   "id": "beebe9c4",
   "metadata": {},
   "source": [
    "``` sql\n",
    "CREATE TABLE COUNTRY(\n",
    "    NAME VARCHAR(100));\n",
    "\n",
    "INSERT INTO COUNTRY VALUES('INDIA');\n",
    "INSERT INTO COUNTRY VALUES('CHINA');\n",
    "INSERT INTO COUNTRY VALUES('PAKISTAN');\n",
    "INSERT INTO COUNTRY VALUES('SRI LANKA');\n",
    "INSERT INTO COUNTRY VALUES('AFGHANISTAN');\n",
    "INSERT INTO COUNTRY VALUES('UNITED KINGDOM');\n",
    "INSERT INTO COUNTRY VALUES('RUSSIA');\n",
    "INSERT INTO COUNTRY VALUES('NEW ZEALAND');\n",
    "INSERT INTO COUNTRY VALUES(null);\n",
    "\n",
    "select * from COUNTRY;\n",
    "\n",
    "+----------------+\n",
    "| NAME           |\n",
    "+----------------+\n",
    "| INDIA          |\n",
    "| CHINA          |\n",
    "| PAKISTAN       |\n",
    "| SRI LANKA      |\n",
    "| AFGHANISTAN    |\n",
    "| UNITED KINGDOM |\n",
    "| RUSSIA         |\n",
    "| NEW ZEALAND    |\n",
    "| NULL           |\n",
    "+----------------+\n",
    "\n",
    "Question: Write an SQL query to sort the country names in ascending order with countries having spaces in between displayed at the top.\n",
    "\n",
    "Expected Output:\n",
    "\n",
    "+----------------+\n",
    "| name           |\n",
    "+----------------+\n",
    "| NEW ZEALAND    |\n",
    "| SRI LANKA      |\n",
    "| UNITED KINGDOM |\n",
    "| AFGHANISTAN    |\n",
    "| CHINA          |\n",
    "| INDIA          |\n",
    "| PAKISTAN       |\n",
    "| RUSSIA         |\n",
    "| NULL           |\n",
    "+----------------+\n",
    "```\n",
    "----"
   ]
  },
  {
   "cell_type": "markdown",
   "id": "287572d0",
   "metadata": {},
   "source": [
    "#### **Solution-1:**\n",
    "``` sql\n",
    "select name from COUNTRY\n",
    "order by (length(name) - length(REPLACE(name,' ',''))) desc, name asc;\n",
    "```\n",
    "---"
   ]
  }
 ],
 "metadata": {
  "language_info": {
   "name": "python"
  }
 },
 "nbformat": 4,
 "nbformat_minor": 5
}
