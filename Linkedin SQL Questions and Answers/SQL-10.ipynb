{
 "cells": [
  {
   "cell_type": "markdown",
   "id": "491fbc6f",
   "metadata": {},
   "source": [
    "``` sql\n",
    "CREATE TABLE bankstatement (\n",
    "    txndate DATE,\n",
    "    status VARCHAR(10),\n",
    "    amount INT\n",
    ");\n",
    "\n",
    "INSERT INTO bankstatement VALUES (STR_TO_DATE('11-01-2022','%d-%m-%Y'), 'credit', 1000);\n",
    "INSERT INTO bankstatement VALUES (STR_TO_DATE('11-02-2022','%d-%m-%Y'), 'debit', 150);\n",
    "INSERT INTO bankstatement VALUES (STR_TO_DATE('11-03-2022','%d-%m-%Y'), 'credit', 160);\n",
    "INSERT INTO bankstatement VALUES (STR_TO_DATE('11-04-2022','%d-%m-%Y'), 'credit', 200);\n",
    "INSERT INTO bankstatement VALUES (STR_TO_DATE('20-04-2022','%d-%m-%Y'), 'debit', NULL);\n",
    "INSERT INTO bankstatement VALUES (STR_TO_DATE('25-04-2022','%d-%m-%Y'), 'debit', 80);\n",
    "INSERT INTO bankstatement VALUES (STR_TO_DATE('11-05-2022','%d-%m-%Y'), 'debit', 300);"
   ]
  },
  {
   "cell_type": "markdown",
   "id": "f10ea78a",
   "metadata": {},
   "source": [
    "``` sql\n",
    "select * from bankstatement;\n",
    "+------------+--------+--------+\n",
    "| txndate    | status | amount |\n",
    "+------------+--------+--------+\n",
    "| 2022-01-11 | credit |   1000 |\n",
    "| 2022-02-11 | debit  |    150 |\n",
    "| 2022-03-11 | credit |    160 |\n",
    "| 2022-04-11 | credit |    200 |\n",
    "| 2022-04-20 | debit  |   NULL |\n",
    "| 2022-04-25 | debit  |     80 |\n",
    "| 2022-05-11 | debit  |    300 |\n",
    "+------------+--------+--------+\n",
    "\n",
    "Q.Write an SQL query to get the net balance for the below data.\n",
    "\n",
    "expected output:\n",
    "\n",
    "+------------+---------+\n",
    "| txndate    | balance |\n",
    "+------------+---------+\n",
    "| 2022-01-11 |    1000 |\n",
    "| 2022-02-11 |     850 |\n",
    "| 2022-03-11 |    1010 |\n",
    "| 2022-04-11 |    1210 |\n",
    "| 2022-04-20 |    1210 |\n",
    "| 2022-04-25 |    1130 |\n",
    "| 2022-05-11 |     830 |\n",
    "+------------+---------+\n"
   ]
  },
  {
   "cell_type": "markdown",
   "id": "0d06811b",
   "metadata": {},
   "source": [
    "**Solutions:**\n",
    "``` sql\n",
    "\n",
    "select txndate, \n",
    "sum(\n",
    "case when status = 'credit' then amount\n",
    "else - amount end) over(order by txndate) as balance\n",
    "from bankstatement;\n",
    "\n",
    "\n",
    "\n",
    "select txndate, \n",
    "sum(\n",
    "case when status = 'credit' then coalesce(amount,0)\n",
    "else coalesce(- amount, 0) end) over(order by txndate) as balance\n",
    "from bankstatement;"
   ]
  }
 ],
 "metadata": {
  "language_info": {
   "name": "python"
  }
 },
 "nbformat": 4,
 "nbformat_minor": 5
}
