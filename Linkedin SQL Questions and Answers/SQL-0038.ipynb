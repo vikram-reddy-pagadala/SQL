{
 "cells": [
  {
   "cell_type": "markdown",
   "id": "ed31d658",
   "metadata": {},
   "source": [
    "``` sql\n",
    "Create Table Dept\n",
    "( Id int,Name Varchar(50));\n",
    "\n",
    "Insert Into Dept Values(1,'hari@hdfc.com');\n",
    "Insert Into Dept Values(2,'kumar@icici.com');\n",
    "Insert Into Dept Values(3,'surya.k@kotak.com');\n",
    "Insert Into Dept Values(4,'kalyan.h@axis.co.in');\n",
    "\n",
    "\n",
    "SELECT * FROM Dept;\n",
    "\n",
    "+------+---------------------+\n",
    "| Id   | Name                |\n",
    "+------+---------------------+\n",
    "|    1 | hari@hdfc.com       |\n",
    "|    2 | kumar@icici.com     |\n",
    "|    3 | surya.k@kotak.com   |\n",
    "|    4 | kalyan.h@axis.co.in |\n",
    "+------+---------------------+\n",
    "\n",
    "Write a sql query to get the name and orgname from email id in the below format\n",
    "expected output:\n",
    "\n",
    "+------+----------+---------+\n",
    "| id   | ename    | orgname |\n",
    "+------+----------+---------+\n",
    "|    1 | hari     | hdfc    |\n",
    "|    2 | kumar    | icici   |\n",
    "|    3 | surya.k  | kotak   |\n",
    "|    4 | kalyan.h | axis    |\n",
    "+------+----------+---------+\n",
    "```\n",
    "### **Solution-1:**\n",
    "``` sql\n",
    "select id, ename, substring(domain, 1, locate('.',domain)-1) as orgname\n",
    "FROM\n",
    "(select id, substring(name,1, locate('@',name)-1) as ename,\n",
    "substring(name, locate('@',name)+1) as domain\n",
    "from Dept)a\n",
    "```"
   ]
  }
 ],
 "metadata": {
  "language_info": {
   "name": "python"
  }
 },
 "nbformat": 4,
 "nbformat_minor": 5
}
