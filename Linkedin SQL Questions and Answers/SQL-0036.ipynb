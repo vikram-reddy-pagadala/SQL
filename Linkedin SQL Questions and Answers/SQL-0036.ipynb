{
 "cells": [
  {
   "cell_type": "markdown",
   "id": "e7a7ec3c",
   "metadata": {},
   "source": [
    "``` sql\n",
    "Table Script: \n",
    "create table input(\n",
    "    productid int,\n",
    "    price int,\n",
    "    country varchar(50));\n",
    "\n",
    "insert into input values(1,100,'INDIA');\n",
    "insert into input values(1,50,'INDIA');\n",
    "insert into input values(2,110,'US');\n",
    "insert into input values(2,100,'CHINA');\n",
    "\n",
    "select * from input;\n",
    "\n",
    "+-----------+-------+---------+\n",
    "| productid | price | country |\n",
    "+-----------+-------+---------+\n",
    "|         1 |   100 | INDIA   |\n",
    "|         1 |    50 | INDIA   |\n",
    "|         2 |   110 | US      |\n",
    "|         2 |   100 | CHINA   |\n",
    "+-----------+-------+---------+\n",
    "\n",
    "Q. Write an SQL query to get the below output.\n",
    "\n",
    "expected output:\n",
    "\n",
    "+-----------+-------+------+-------+\n",
    "| productid | INDIA | US   | CHINA |\n",
    "+-----------+-------+------+-------+\n",
    "|         1 |   150 |    0 |     0 |\n",
    "|         2 |     0 |  110 |   100 |\n",
    "+-----------+-------+------+-------+\n"
   ]
  },
  {
   "cell_type": "markdown",
   "id": "eaa48e21",
   "metadata": {},
   "source": [
    "### **Solution-1:**\n",
    "``` sql\n",
    "select \n",
    "productid,\n",
    "sum(case when country='INDIA' then price else 0 end) as INDIA,\n",
    "sum(case when country='US' then price else 0 end) as US,\n",
    "sum(case when country='CHINA' then price else 0 end) as CHINA\n",
    "from input\n",
    "group by productid;"
   ]
  }
 ],
 "metadata": {
  "language_info": {
   "name": "python"
  }
 },
 "nbformat": 4,
 "nbformat_minor": 5
}
