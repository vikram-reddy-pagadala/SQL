{
 "cells": [
  {
   "cell_type": "markdown",
   "id": "3fbb500e",
   "metadata": {},
   "source": [
    "``` sql\n",
    "\n",
    "Q. Three friends David,Abraham and Abdul drove car from Delhi to Ladakh.\n",
    "\n",
    "They have covered the entire journey in 12 days.\n",
    "\n",
    "David drove the car till day4,Abraham drove the car from day6 till day8 and Abdul covered the remaining journey.\n",
    "\n",
    "They have taken rest on day5 and day9.\n",
    "\n",
    "Write an SQL query to find the total distance covered by each friend in their respective order.\n",
    "\n",
    "Table Script:\n",
    "create table journey(daycount int,distancecovered int);\n",
    "insert into journey values('1',20);\n",
    "insert into journey values('2',40);\n",
    "insert into journey values('3',90);\n",
    "insert into journey values('4',30);\n",
    "insert into journey values('5',0);\n",
    "insert into journey values('6',90);\n",
    "insert into journey values('7',40);\n",
    "insert into journey values('8',10);\n",
    "insert into journey values('9',0);\n",
    "insert into journey values('10',40);\n",
    "insert into journey values('11',10);\n",
    "insert into journey values('12',0);\n",
    "\n",
    "Output:\n",
    "TotalDistance\n",
    "180\n",
    "140\n",
    "50"
   ]
  },
  {
   "cell_type": "markdown",
   "id": "c4dfc169",
   "metadata": {},
   "source": [
    "``` sql\n",
    "select * from journey;\n",
    "\n",
    "+----------+-----------------+\n",
    "| daycount | distancecovered |\n",
    "+----------+-----------------+\n",
    "|        1 |              20 |\n",
    "|        2 |              40 |\n",
    "|        3 |              90 |\n",
    "|        4 |              30 |\n",
    "|        5 |               0 |\n",
    "|        6 |              90 |\n",
    "|        7 |              40 |\n",
    "|        8 |              10 |\n",
    "|        9 |               0 |\n",
    "|       10 |              40 |\n",
    "|       11 |              10 |\n",
    "|       12 |               0 |\n",
    "+----------+-----------------+\n",
    "\n",
    "expected output:\n",
    "\n",
    "+----------------+\n",
    "| total_distance |\n",
    "+----------------+\n",
    "|            180 |\n",
    "|            140 |\n",
    "|             50 |\n",
    "+----------------+\n",
    "\n"
   ]
  },
  {
   "cell_type": "markdown",
   "id": "3b6a69fc",
   "metadata": {},
   "source": [
    "**Solution:**\n",
    "``` sql\n",
    "select sum(distancecovered) as total_distance\n",
    "from\n",
    "(\n",
    "select \n",
    "distancecovered,\n",
    "(daycount - row_number() over(order by daycount))  as grp\n",
    "from journey\n",
    "where distancecovered <> 0\n",
    ")a\n",
    "group by grp"
   ]
  }
 ],
 "metadata": {
  "language_info": {
   "name": "python"
  }
 },
 "nbformat": 4,
 "nbformat_minor": 5
}
