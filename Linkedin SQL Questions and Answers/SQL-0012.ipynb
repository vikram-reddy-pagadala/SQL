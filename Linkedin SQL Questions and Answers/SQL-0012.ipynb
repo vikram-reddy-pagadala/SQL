{
 "cells": [
  {
   "cell_type": "markdown",
   "id": "71c41271",
   "metadata": {},
   "source": [
    "``` sql\n",
    "create table practice (\n",
    "    orderdate date,\n",
    "    deliverydate date);\n",
    "\n",
    "insert into practice values('2022-03-06','2022-03-10');\n",
    "insert into practice values('2022-03-06','2022-03-11');\n",
    "insert into practice values('2022-03-06','2022-03-13');\n",
    "insert into practice values('2022-03-06','2022-03-17');\n",
    "insert into practice values('2022-03-06','2022-03-20');"
   ]
  },
  {
   "cell_type": "markdown",
   "id": "e8978471",
   "metadata": {},
   "source": [
    "``` sql\n",
    "select * from practice;\n",
    "\n",
    "+------------+--------------+\n",
    "| orderdate  | deliverydate |\n",
    "+------------+--------------+\n",
    "| 2022-03-06 | 2022-03-10   |\n",
    "| 2022-03-06 | 2022-03-11   |\n",
    "| 2022-03-06 | 2022-03-13   |\n",
    "| 2022-03-06 | 2022-03-17   |\n",
    "| 2022-03-06 | 2022-03-20   |\n",
    "+------------+--------------+\n",
    "\n",
    "\n",
    "Q.Write an SQL query to find the number of days taken to deliver the order.\n",
    "Weekends should be excluded as it is not the working days.\n",
    "\n",
    "expected output:\n",
    "\n",
    "+------------+--------------+------------+\n",
    "| orderdate  | deliverydate | no_of_days |\n",
    "+------------+--------------+------------+\n",
    "| 2022-03-06 | 2022-03-10   |          4 |\n",
    "| 2022-03-06 | 2022-03-11   |          5 |\n",
    "| 2022-03-06 | 2022-03-13   |          5 |\n",
    "| 2022-03-06 | 2022-03-17   |          9 |\n",
    "| 2022-03-06 | 2022-03-20   |         10 |\n",
    "+------------+--------------+------------+"
   ]
  },
  {
   "cell_type": "markdown",
   "id": "a945f576",
   "metadata": {},
   "source": [
    "**Solution:**\n",
    "``` sql\n",
    "\n",
    "WITH RECURSIVE cte as(\n",
    "select orderdate, deliverydate from practice\n",
    "union\n",
    "select orderdate + INTERVAL 1 DAY as orderdate, deliverydate\n",
    "from cte\n",
    "where orderdate + INTERVAL 1 DAY <= deliverydate\n",
    ")\n",
    "\n",
    ",cte2 as(\n",
    "select deliverydate, \n",
    "sum(case when DAYOFWEEK(orderdate)= 7 or DAYOFWEEK(orderdate) = 1 then 1 else 0 end) as no_of_holidays\n",
    "from cte\n",
    "group by deliverydate\n",
    "order by deliverydate)\n",
    "\n",
    "\n",
    "select p.orderdate,p.deliverydate, \n",
    "datediff(p.deliverydate, p.orderdate) as days_diff, c.no_of_holidays,\n",
    "datediff(p.deliverydate, p.orderdate) + 1 - c.no_of_holidays as no_of_days_for_delivery\n",
    "from practice p\n",
    "join cte2 c\n",
    "on c.deliverydate = p.deliverydate\n",
    "\n",
    "+------------+--------------+-----------+----------------+-------------------------+\n",
    "| orderdate  | deliverydate | days_diff | no_of_holidays | no_of_days_for_delivery |\n",
    "+------------+--------------+-----------+----------------+-------------------------+\n",
    "| 2022-03-06 | 2022-03-10   |         4 |              1 |                       4 |\n",
    "| 2022-03-06 | 2022-03-11   |         5 |              1 |                       5 |\n",
    "| 2022-03-06 | 2022-03-13   |         7 |              3 |                       5 |\n",
    "| 2022-03-06 | 2022-03-17   |        11 |              3 |                       9 |\n",
    "| 2022-03-06 | 2022-03-20   |        14 |              5 |                      10 |\n",
    "+------------+--------------+-----------+----------------+-------------------------+"
   ]
  }
 ],
 "metadata": {
  "language_info": {
   "name": "python"
  }
 },
 "nbformat": 4,
 "nbformat_minor": 5
}
