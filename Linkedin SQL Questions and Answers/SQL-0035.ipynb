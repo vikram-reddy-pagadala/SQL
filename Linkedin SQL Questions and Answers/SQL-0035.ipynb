{
 "cells": [
  {
   "cell_type": "markdown",
   "id": "51fff002",
   "metadata": {},
   "source": [
    "``` sql\n",
    "Table script:\n",
    "\n",
    "create table world(\n",
    "    country varchar(50),\n",
    "    Region varchar(50),\n",
    "    Population int,\n",
    "    InternetUsers int);\n",
    "\n",
    "insert into world values('Afganistan','Asia',40403518,9237489);\n",
    "insert into world values('Albania','Europe',2872758,2191467);\n",
    "insert into world values('Algeria','Africa',45150879,37836425);\n",
    "insert into world values('Azerbaijan','Asia',10288594,8745304);\n",
    "insert into world values('Brazil','America',215016658,446445);\n",
    "insert into world values('British Virgin Islands','Asia',30558,20557);\n",
    "insert into world values('Brunei Darussulam','Europe',444336,44339);\n",
    "insert into world values('Bulgaria','Africa',6865308,5854207);\n",
    "insert into world values('Burkina Faso','Africa',21863344,10752232);\n",
    "insert into world values('Burundi','Africa',12487044,1134560);\n",
    "insert into world values('Cabo Verde','Asia',565751,345651);\n",
    "insert into world values('Cambodia','Africa',17101186,16232269);\n",
    "insert into world values('Cameroon','America',27646656,1256458);\n",
    "insert into world values('Canada','America',38281870,17171760);\n",
    "insert into world values('Cayman Islands','Africa',66990,54550);\n",
    "insert into world values('Central African Rep.','Africa',4967426,3232546);\n",
    "\n",
    "select * from world;\n",
    "\n",
    "+------------------------+---------+------------+---------------+\n",
    "| country                | Region  | Population | InternetUsers |\n",
    "+------------------------+---------+------------+---------------+\n",
    "| Afganistan             | Asia    |   40403518 |       9237489 |\n",
    "| Albania                | Europe  |    2872758 |       2191467 |\n",
    "| Algeria                | Africa  |   45150879 |      37836425 |\n",
    "| Azerbaijan             | Asia    |   10288594 |       8745304 |\n",
    "| Brazil                 | America |  215016658 |        446445 |\n",
    "| British Virgin Islands | Asia    |      30558 |         20557 |\n",
    "| Brunei Darussulam      | Europe  |     444336 |         44339 |\n",
    "| Bulgaria               | Africa  |    6865308 |       5854207 |\n",
    "| Burkina Faso           | Africa  |   21863344 |      10752232 |\n",
    "| Burundi                | Africa  |   12487044 |       1134560 |\n",
    "| Cabo Verde             | Asia    |     565751 |        345651 |\n",
    "| Cambodia               | Africa  |   17101186 |      16232269 |\n",
    "| Cameroon               | America |   27646656 |       1256458 |\n",
    "| Canada                 | America |   38281870 |      17171760 |\n",
    "| Cayman Islands         | Africa  |      66990 |         54550 |\n",
    "| Central African Rep.   | Africa  |    4967426 |       3232546 |\n",
    "+------------------------+---------+------------+---------------+\n",
    "\n",
    "\n",
    "Q. Write an SQL Query to find the country with the highest internet users in each region.\n",
    "\n",
    "expected output:\n",
    "\n",
    "+---------+------------+---------------+\n",
    "| region  | country    | InternetUsers |\n",
    "+---------+------------+---------------+\n",
    "| Africa  | Algeria    |      37836425 |\n",
    "| America | Canada     |      17171760 |\n",
    "| Asia    | Afganistan |       9237489 |\n",
    "| Europe  | Albania    |       2191467 |\n",
    "+---------+------------+---------------+"
   ]
  },
  {
   "cell_type": "markdown",
   "id": "487b3dd8",
   "metadata": {
    "vscode": {
     "languageId": "plaintext"
    }
   },
   "source": [
    "### **Solution-1**\n",
    "``` sql\n",
    "select * from world\n",
    "where(region, InternetUsers) in (\n",
    "select region, max(InternetUsers) as InternetUsers\n",
    "from world\n",
    "group by region);\n",
    "```\n",
    "\n",
    "### **Solution-2**\n",
    "``` sql\n",
    "select region, country,InternetUsers\n",
    "from(\n",
    "select *, rank()over(partition by region order by InternetUsers desc) as rn\n",
    "from world)a\n",
    "where rn=1;\n",
    "```"
   ]
  }
 ],
 "metadata": {
  "language_info": {
   "name": "python"
  }
 },
 "nbformat": 4,
 "nbformat_minor": 5
}
