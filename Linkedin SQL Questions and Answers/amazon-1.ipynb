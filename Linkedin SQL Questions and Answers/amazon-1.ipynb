{
 "cells": [
  {
   "cell_type": "markdown",
   "id": "c23f3e69",
   "metadata": {},
   "source": [
    "``` sql\n",
    "CREATE TABLE fct_customer_sale (\n",
    "    cust_id VARCHAR(50), \n",
    "    prod_sku_id VARCHAR(50), \n",
    "    order_date DATETIME, \n",
    "    order_value BIGINT, \n",
    "    order_id VARCHAR(50)\n",
    ");\n",
    "\n",
    "CREATE TABLE map_customer_territories (\n",
    "    cust_id VARCHAR(50), \n",
    "    territory_id VARCHAR(50)\n",
    ");\n",
    "\n",
    "INSERT INTO fct_customer_sale (cust_id, prod_sku_id, order_date, order_value, order_id) \n",
    "VALUES \n",
    "('C001', 'P100', '2021-07-15', 100, 'O1001'),\n",
    "('C002', 'P101', '2021-07-20', 200, 'O1002'),\n",
    "('C001', 'P100', '2021-10-05', 150, 'O1003'),\n",
    "('C002', 'P101', '2021-10-10', 250, 'O1004'),\n",
    "('C003', 'P102', '2021-08-22', 180, 'O1005'),\n",
    "('C003', 'P102', '2021-11-30', 210, 'O1006');\n",
    "\n",
    "INSERT INTO map_customer_territories (cust_id, territory_id) \n",
    "VALUES  \n",
    "('C001', 'T001'), \n",
    "('C002', 'T002'), \n",
    "('C003', 'T003');\n",
    "```"
   ]
  },
  {
   "cell_type": "markdown",
   "id": "7f82e4d6",
   "metadata": {},
   "source": [
    "``` console\n",
    "\n",
    "table: fct_customer_sale\n",
    "+---------+-------------+---------------------+-------------+---------+\n",
    "| cust_id | prod_sku_id |     order_date      | order_value | order_id|\n",
    "+---------+-------------+---------------------+-------------+---------+\n",
    "|  C001   |    P100     | 2021-07-15 00:00:00 |     100     |  O1001  |\n",
    "|  C002   |    P101     | 2021-07-20 00:00:00 |     200     |  O1002  |\n",
    "|  C001   |    P100     | 2021-10-05 00:00:00 |     150     |  O1003  |\n",
    "|  C002   |    P101     | 2021-10-10 00:00:00 |     250     |  O1004  |\n",
    "|  C003   |    P102     | 2021-08-22 00:00:00 |     180     |  O1005  |\n",
    "|  C003   |    P102     | 2021-11-30 00:00:00 |     210     |  O1006  |\n",
    "+---------+-------------+---------------------+-------------+---------+\n",
    "\n",
    "table: map_customer_territories\n",
    "+---------+---------------+\n",
    "| cust_id | territory_id  |\n",
    "+---------+---------------+\n",
    "|  C001   |     T001      |\n",
    "|  C002   |     T002      |\n",
    "|  C003   |     T003      |\n",
    "+---------+---------------+\n"
   ]
  },
  {
   "cell_type": "markdown",
   "id": "18a693d7",
   "metadata": {},
   "source": [
    "### **Question:**\n",
    "\n",
    "Write a query to return Territory and corresponding Sales Growth. Compare growth between periods Q4-2021 vs Q3-2021. If Territory (say T123) has Sales worth $100 in Q3-2021 and Sales worth $110 in Q4-2021, then the Sales Growth will be 10% [ i.e. = ((110 - 100)/100) * 100 ]\n",
    "\n",
    "Output the ID of the Territory and the Sales Growth. Only output these territories that had any sales in both quarters."
   ]
  },
  {
   "cell_type": "markdown",
   "id": "2b80565d",
   "metadata": {},
   "source": [
    "### **Solution**"
   ]
  },
  {
   "cell_type": "markdown",
   "id": "faab8d7a",
   "metadata": {},
   "source": [
    "``` sql\n",
    "\n",
    "with total_sales as(\n",
    "    SELECT \n",
    "    territory_id, \n",
    "    SUM(CASE \n",
    "    WHEN year(fcs.order_date) = 2021 and QUARTER(fcs.order_date) = 3 \n",
    "    THEN fcs.order_value ELSE 0 END) as Q3_sales,\n",
    "    SUM(CASE \n",
    "    WHEN year(fcs.order_date) = 2021 and QUARTER(fcs.order_date) = 4\n",
    "    THEN fcs.order_value ELSE 0 END) as Q4_sales,\n",
    "    FROM map_customer_territories mt\n",
    "    JOIN fct_customer_sales fcs\n",
    "    ON fcs.cust_id = mt.cust_id\n",
    "    GROUP BY territory_id\n",
    ")\n",
    "\n",
    "SELECT\n",
    "territory_id, \n",
    "ROUND(((Q4_sales/Q3_sales)-1)*100,2) as sales_growth_percentage\n",
    "FROM total_sales\n",
    "where Q4_sales > 0 AND Q4_sales > 0\n"
   ]
  }
 ],
 "metadata": {
  "language_info": {
   "name": "python"
  }
 },
 "nbformat": 4,
 "nbformat_minor": 5
}
