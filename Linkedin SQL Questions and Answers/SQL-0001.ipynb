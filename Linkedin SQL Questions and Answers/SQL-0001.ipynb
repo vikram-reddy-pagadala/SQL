{
 "cells": [
  {
   "cell_type": "markdown",
   "id": "5d7840c8",
   "metadata": {},
   "source": [
    "```sql\n",
    "CREATE TABLE tableA (\n",
    "value INT\n",
    ");\n",
    "\n",
    "\n",
    "INSERT INTO tableA (value) VALUES\n",
    "(10),\n",
    "(10),\n",
    "(10),\n",
    "(10),\n",
    "(20),\n",
    "(20),\n",
    "(30),\n",
    "(50),\n",
    "(50),\n",
    "(10),\n",
    "(10),\n",
    "(10);\n",
    "\n",
    "select * from tableA;\n",
    "\n",
    "+-------+\n",
    "| value |\n",
    "+-------+\n",
    "|    10 |\n",
    "|    10 |\n",
    "|    10 |\n",
    "|    10 |\n",
    "|    20 |\n",
    "|    20 |\n",
    "|    30 |\n",
    "|    50 |\n",
    "|    50 |\n",
    "|    10 |\n",
    "|    10 |\n",
    "|    10 |\n",
    "+-------+\n",
    "\n",
    "expected output:\n",
    "\n",
    "+-------+\n",
    "| value |\n",
    "+-------+\n",
    "|    10 |\n",
    "|    20 |\n",
    "|    30 |\n",
    "|    50 |\n",
    "|    10 |\n",
    "+-------+"
   ]
  },
  {
   "cell_type": "markdown",
   "id": "6d04915a",
   "metadata": {},
   "source": [
    "**Solution:**\n",
    "``` sql\n",
    "\n",
    "select value \n",
    "from\n",
    "(\n",
    "select value, lag(value) over(order by id asc) as previous_value\n",
    "from\n",
    "(\n",
    "select value, row_number() over() as id\n",
    "from tableA\n",
    ") a\n",
    ")b\n",
    "where value != previous_value or previous_value is null;"
   ]
  },
  {
   "cell_type": "markdown",
   "id": "91e38761",
   "metadata": {},
   "source": [
    "### **Solution-2:**\n",
    "``` sql\n",
    "select value\n",
    "from\n",
    "(\n",
    "select value, \n",
    "row_number() over(order by null) as id, \n",
    "row_number() over(order by value) as id2\n",
    "from tableA\n",
    ")a\n",
    "group by value, (case when id > id2 then id-id2 else id2-id end)\n",
    "order by (case when id > id2 then id-id2 else id2-id end);"
   ]
  }
 ],
 "metadata": {
  "language_info": {
   "name": "python"
  }
 },
 "nbformat": 4,
 "nbformat_minor": 5
}
