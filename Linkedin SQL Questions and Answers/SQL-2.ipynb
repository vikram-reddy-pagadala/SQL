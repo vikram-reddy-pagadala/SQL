{
 "cells": [
  {
   "cell_type": "markdown",
   "id": "07205d5a",
   "metadata": {},
   "source": [
    "``` sql\n",
    "CREATE TABLE teams (\n",
    "    team_name VARCHAR(50) NOT NULL\n",
    ");\n",
    "\n",
    "\n",
    "INSERT INTO teams (team_name) VALUES \n",
    "('CSK'),\n",
    "('KKR'),\n",
    "('GT'),\n",
    "('DC'),\n",
    "('LSG');\n",
    "\n",
    "select * from teams;\n",
    "\n",
    "+-----------+\n",
    "| team_name |\n",
    "+-----------+\n",
    "| CSK       |\n",
    "| KKR       |\n",
    "| GT        |\n",
    "| DC        |\n",
    "| LSG       |\n",
    "+-----------+\n",
    "\n",
    "**Question:**\n",
    "\n",
    "Write a SQL query to generate all possible unique match combinations between the teams in the format: team1 VS team2\n",
    "\n",
    "Expected Output:\n",
    "\n",
    "+------------+\n",
    "| matches    |\n",
    "+------------+\n",
    "| CSK VS DC  |\n",
    "| CSK VS GT  |\n",
    "| CSK VS KKR |\n",
    "| CSK VS LSG |\n",
    "| DC VS GT   |\n",
    "| DC VS KKR  |\n",
    "| DC VS LSG  |\n",
    "| GT VS KKR  |\n",
    "| GT VS LSG  |\n",
    "| KKR VS LSG |\n",
    "+------------+"
   ]
  },
  {
   "cell_type": "markdown",
   "id": "481a4eaa",
   "metadata": {},
   "source": [
    "**Solution:**\n",
    "``` sql\n",
    "\n",
    "SELECT CONCAT(a.team_name,' VS ', b.team_name) as matches\n",
    "FROM teams a\n",
    "JOIN teams b\n",
    "ON a.team_name < b.team_name\n",
    "ORDER BY matches;"
   ]
  }
 ],
 "metadata": {
  "language_info": {
   "name": "python"
  }
 },
 "nbformat": 4,
 "nbformat_minor": 5
}
