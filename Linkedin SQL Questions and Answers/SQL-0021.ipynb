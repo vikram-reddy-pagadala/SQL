{
 "cells": [
  {
   "cell_type": "markdown",
   "id": "6ba232de",
   "metadata": {},
   "source": [
    "``` sql\n",
    "create table practice(\n",
    "    id int,\n",
    "    c1 varchar(50),\n",
    "    c2 varchar(50),\n",
    "    c3 varchar(50)\n",
    "    );\n",
    "\n",
    "    \n",
    "insert into practice values(1,'red','yellow','blue');\n",
    "insert into practice values(2,null,'red','green');\n",
    "insert into practice values(3,'yellow',null,'violet');\n",
    "\n",
    "select * from practice;\n",
    "\n",
    "+------+--------+--------+--------+\n",
    "| id   | c1     | c2     | c3     |\n",
    "+------+--------+--------+--------+\n",
    "|    1 | red    | yellow | blue   |\n",
    "|    2 | NULL   | red    | green  |\n",
    "|    3 | yellow | NULL   | violet |\n",
    "+------+--------+--------+--------+\n",
    "\n",
    "Question. Write an SQL query to fetch the records which have atleast one yellow present in any of the columns(c1,c2 or c3) without using 'OR' operator.\n",
    "\n",
    "Output:\n",
    "\n",
    "+------+--------+--------+--------+\n",
    "| id   | c1     | c2     | c3     |\n",
    "+------+--------+--------+--------+\n",
    "|    1 | red    | yellow | blue   |\n",
    "|    3 | yellow | NULL   | violet |\n",
    "+------+--------+--------+--------+\n",
    "```\n",
    "### **Solution:1**\n",
    "``` sql\n",
    "select * from practice\n",
    "where concat(coalesce(c1,0),coalesce(c2,0),coalesce(c3,0)) like '%yellow%';\n",
    "```\n",
    "\n",
    "### **Solution:2**\n",
    "``` sql\n",
    "\n",
    "select * from practice\n",
    "where c1 = 'yellow'\n",
    "union\n",
    "select * from practice\n",
    "where c2 = 'yellow'\n",
    "union\n",
    "select * from practice\n",
    "where c3 = 'yellow';"
   ]
  }
 ],
 "metadata": {
  "language_info": {
   "name": "python"
  }
 },
 "nbformat": 4,
 "nbformat_minor": 5
}
