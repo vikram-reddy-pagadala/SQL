{
 "cells": [
  {
   "cell_type": "markdown",
   "id": "bf0ea8ec",
   "metadata": {},
   "source": [
    "``` sql\n",
    "create table icc_world_cup\n",
    "(\n",
    "Team_1 Varchar(20),\n",
    "Team_2 Varchar(20),\n",
    "Winner Varchar(20)\n",
    ");\n",
    "INSERT INTO icc_world_cup values('India','SL','India');\n",
    "INSERT INTO icc_world_cup values('SL','Aus','Aus');\n",
    "INSERT INTO icc_world_cup values('SA','Eng','Eng');\n",
    "INSERT INTO icc_world_cup values('Eng','NZ','NZ');\n",
    "INSERT INTO icc_world_cup values('Aus','India','India');\n",
    "\n",
    "select * from icc_world_cup;\n",
    "\n",
    "+--------+--------+--------+\n",
    "| Team_1 | Team_2 | Winner |\n",
    "+--------+--------+--------+\n",
    "| India  | SL     | India  |\n",
    "| SL     | Aus    | Aus    |\n",
    "| SA     | Eng    | Eng    |\n",
    "| Eng    | NZ     | NZ     |\n",
    "| Aus    | India  | India  |\n",
    "+--------+--------+--------+\n",
    "\n",
    "expected output:\n",
    "\n",
    "+-------+----------------+------------+--------------+\n",
    "| team  | matches_played | no_of_wins | no_of_losses |\n",
    "+-------+----------------+------------+--------------+\n",
    "| India |              2 |          2 |            0 |\n",
    "| SL    |              2 |          0 |            2 |\n",
    "| SA    |              1 |          0 |            1 |\n",
    "| Eng   |              2 |          1 |            1 |\n",
    "| Aus   |              2 |          1 |            1 |\n",
    "| NZ    |              1 |          1 |            0 |\n",
    "+-------+----------------+------------+--------------+"
   ]
  },
  {
   "cell_type": "markdown",
   "id": "d2f13580",
   "metadata": {},
   "source": [
    "**Solution:**\n",
    "``` sql\n",
    "\n",
    "SELECT TEAM,\n",
    "\tCOUNT(*) AS MATCHES_PLAYED,\n",
    "\tSUM(WINNING_FLAG) AS NO_OF_WINS,\n",
    "\t(COUNT(*) - SUM(WINNING_FLAG)) AS NO_OF_LOSSES\n",
    "FROM\n",
    "\t(SELECT TEAM_1 AS TEAM,\n",
    "\t\t\tCASE WHEN TEAM_1 = WINNER THEN 1  ELSE 0 END AS WINNING_FLAG\n",
    "\t\tFROM ICC_WORLD_CUP\n",
    "\t UNION ALL \n",
    "\t SELECT TEAM_2 AS TEAM,\n",
    "\t\t\tCASE WHEN TEAM_2 = WINNER THEN 1 ELSE 0 END AS WINNING_FLAG\n",
    "\t\tFROM ICC_WORLD_CUP\n",
    "    ) A\n",
    "GROUP BY TEAM\n",
    "ORDER BY NO_OF_WINS DESC;"
   ]
  }
 ],
 "metadata": {
  "language_info": {
   "name": "python"
  }
 },
 "nbformat": 4,
 "nbformat_minor": 5
}
