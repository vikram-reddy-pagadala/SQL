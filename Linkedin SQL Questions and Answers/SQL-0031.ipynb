{
 "cells": [
  {
   "cell_type": "markdown",
   "id": "f5f8969e",
   "metadata": {},
   "source": [
    "``` sql\n",
    "create table student(name varchar(50));\n",
    "insert into student values('Tanweer,Khan');\n",
    "insert into student values('Khan,Tanweer');\n",
    "insert into student values('Aman,Kumar');\n",
    "insert into student values('Kumar,Aman');\n",
    "\n",
    "select * from student;\n",
    "\n",
    "+--------------+\n",
    "| name         |\n",
    "+--------------+\n",
    "| Tanweer,Khan |\n",
    "| Khan,Tanweer |\n",
    "| Aman,Kumar   |\n",
    "| Kumar,Aman   |\n",
    "+--------------+\n",
    "\n",
    "Question:\n",
    "Q. By mistake, the user has inserted 2 records for the same employee in the below format:\n",
    "Firstname,Lastname and LastName,FirstName\n",
    "Write an SQL query to display the unique records only.\n",
    "\n"
   ]
  }
 ],
 "metadata": {
  "language_info": {
   "name": "python"
  }
 },
 "nbformat": 4,
 "nbformat_minor": 5
}
