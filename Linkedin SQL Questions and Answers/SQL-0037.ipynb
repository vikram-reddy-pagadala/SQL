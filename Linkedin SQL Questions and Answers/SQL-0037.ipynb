{
 "cells": [
  {
   "cell_type": "markdown",
   "id": "3fa53ed8",
   "metadata": {},
   "source": [
    "``` sql\n",
    "Table Script:\n",
    "\n",
    "CREATE TABLE Student(\n",
    "    Id INT,\n",
    "    StudentName VARCHAR (50),\n",
    "    Math INT,English INT,\n",
    "    History INT,Science INT);\n",
    "\n",
    "INSERT INTO Student VALUES (1,'Ashok', 78, 85, 91, 76 );\n",
    "INSERT INTO Student VALUES (2,'Raj', 87, 90, 82, 87);\n",
    "INSERT INTO Student VALUES (3,'Yusuf',95,80,65,77);\n",
    "\n",
    "select * from Student;\n",
    "\n",
    "+------+-------------+------+---------+---------+---------+\n",
    "| Id   | StudentName | Math | English | History | Science |\n",
    "+------+-------------+------+---------+---------+---------+\n",
    "|    1 | Ashok       |   78 |      85 |      91 |      76 |\n",
    "|    2 | Raj         |   87 |      90 |      82 |      87 |\n",
    "|    3 | Yusuf       |   95 |      80 |      65 |      77 |\n",
    "+------+-------------+------+---------+---------+---------+\n",
    "\n",
    "Q.Write an SQL query to find the total marks scored by each student.\n",
    "\n",
    "Expected Output\n",
    "\n",
    "+-------------+-------------+\n",
    "| StudentName | total_marks |\n",
    "+-------------+-------------+\n",
    "| Ashok       |         330 |\n",
    "| Raj         |         346 |\n",
    "| Yusuf       |         317 |\n",
    "+-------------+-------------+\n",
    "\n"
   ]
  },
  {
   "cell_type": "markdown",
   "id": "ad69c325",
   "metadata": {},
   "source": [
    "### **Solution-1:**\n",
    "``` sql\n",
    "select StudentName, (Math + English + History + Science) as total_marks\n",
    "from Student;"
   ]
  }
 ],
 "metadata": {
  "language_info": {
   "name": "python"
  }
 },
 "nbformat": 4,
 "nbformat_minor": 5
}
