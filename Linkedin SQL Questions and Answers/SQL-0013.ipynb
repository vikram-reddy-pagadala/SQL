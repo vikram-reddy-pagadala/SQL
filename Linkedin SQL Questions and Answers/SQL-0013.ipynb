{
 "cells": [
  {
   "cell_type": "markdown",
   "id": "8ff70caa",
   "metadata": {},
   "source": [
    "``` sql\n",
    "CREATE TABLE Student(\n",
    "    Id INT,\n",
    "    StudentName VARCHAR (50),\n",
    "    Math INT,\n",
    "    English INT,\n",
    "    History INT,\n",
    "    Science INT);\n",
    "\n",
    "INSERT INTO Student VALUES (1,'Ashok', 78, 85, 91, 76 );\n",
    "INSERT INTO Student VALUES (2,'Raj', 87, 90, 82, 87);\n",
    "INSERT INTO Student VALUES (3,'Yusuf',95,80,65,77);\n",
    "\n",
    "select * from Student;\n",
    "\n",
    "+------+-------------+------+---------+---------+---------+\n",
    "| Id   | StudentName | Math | English | History | Science |\n",
    "+------+-------------+------+---------+---------+---------+\n",
    "|    1 | Ashok       |   78 |      85 |      91 |      76 |\n",
    "|    2 | Raj         |   87 |      90 |      82 |      87 |\n",
    "|    3 | Yusuf       |   95 |      80 |      65 |      77 |\n",
    "+------+-------------+------+---------+---------+---------+\n",
    "\n",
    "expected output:\n",
    "\n",
    "+-------------+-------------+\n",
    "| StudentName | total_marks |\n",
    "+-------------+-------------+\n",
    "| Ashok       |         330 |\n",
    "| Raj         |         346 |\n",
    "| Yusuf       |         317 |\n",
    "+-------------+-------------+\n"
   ]
  },
  {
   "cell_type": "markdown",
   "id": "760d930d",
   "metadata": {},
   "source": [
    "**Solution:**\n",
    "``` sql\n",
    "select StudentName, sum(marks) as total_marks\n",
    "from(\n",
    "select StudentName, Math as marks from Student\n",
    "union all\n",
    "select StudentName, English as marks from Student\n",
    "union all\n",
    "select StudentName, History as marks from Student\n",
    "union all\n",
    "select StudentName, Science as marks from Student) a\n",
    "group by StudentName;\n",
    "```\n",
    "**Solution-2:**\n",
    "\n",
    "``` sql\n",
    "select StudentName, (Math + English + History + Science) as total_marks\n",
    "from Student;"
   ]
  }
 ],
 "metadata": {
  "language_info": {
   "name": "python"
  }
 },
 "nbformat": 4,
 "nbformat_minor": 5
}
