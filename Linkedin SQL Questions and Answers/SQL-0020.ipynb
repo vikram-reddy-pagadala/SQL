{
 "cells": [
  {
   "cell_type": "markdown",
   "id": "98efae76",
   "metadata": {},
   "source": [
    "``` sql\n",
    "create table input(location varchar(50));\n",
    "\n",
    "insert into input values('Delhi');\n",
    "insert into input values('Mumbai');\n",
    "insert into input values('Chennai');\n",
    "\n",
    "select * from input;\n",
    "\n",
    "+----------+\n",
    "| location |\n",
    "+----------+\n",
    "| Delhi    |\n",
    "| Mumbai   |\n",
    "| Chennai  |\n",
    "+----------+\n",
    "\n",
    "question: Write an SQL query to display the ascii values for each and every character of location mentioned in the below table.\n",
    "\n",
    "expected output:\n",
    "\n",
    "+----------+---------------------+\n",
    "| location | ascii_num_name      |\n",
    "+----------+---------------------+\n",
    "| Chennai  | 6710410111011097105 |\n",
    "| Delhi    | 68101108104105      |\n",
    "| Mumbai   | 771171099897105     |\n",
    "+----------+---------------------+\n",
    "\n",
    "```\n",
    "### **Solution**\n",
    "``` sql\n",
    "WITH RECURSIVE char_split AS (\n",
    "  SELECT \n",
    "    1 AS pos,\n",
    "    SUBSTRING(location, 1, 1) AS ch,\n",
    "    location,\n",
    "    LENGTH(location) AS len\n",
    "    from input\n",
    "  UNION ALL\n",
    "  SELECT \n",
    "    pos + 1 as pos,\n",
    "    SUBSTRING(location, pos + 1, 1) as ch,\n",
    "    location,\n",
    "    len\n",
    "  FROM char_split\n",
    "  WHERE pos < len\n",
    ")\n",
    "\n",
    "select location, group_concat(ascii(ch) order by pos SEPARATOR '') as ascii_num_name\n",
    "from char_split group by location;"
   ]
  }
 ],
 "metadata": {
  "language_info": {
   "name": "python"
  }
 },
 "nbformat": 4,
 "nbformat_minor": 5
}
