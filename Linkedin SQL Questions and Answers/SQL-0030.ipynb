{
 "cells": [
  {
   "cell_type": "markdown",
   "id": "640ae878",
   "metadata": {},
   "source": [
    "``` sql\n",
    "CREATE TABLE ab_test (\n",
    "    user_id INT,\n",
    "    variant CHAR(1),\n",
    "    converted INT\n",
    ");\n",
    "INSERT INTO ab_test (user_id, variant, converted) VALUES\n",
    "(1, 'A', 1),\n",
    "(2, 'A', 0),\n",
    "(3, 'A', 1),\n",
    "(4, 'A', 0),\n",
    "(5, 'B', 1),\n",
    "(6, 'B', 1),\n",
    "(7, 'B', 1),\n",
    "(8, 'B', 0);\n",
    "\n",
    "\n",
    "select * from ab_test;\n",
    "\n",
    "+---------+---------+-----------+\n",
    "| user_id | variant | converted |\n",
    "+---------+---------+-----------+\n",
    "|       1 | A       |         1 |\n",
    "|       2 | A       |         0 |\n",
    "|       3 | A       |         1 |\n",
    "|       4 | A       |         0 |\n",
    "|       5 | B       |         1 |\n",
    "|       6 | B       |         1 |\n",
    "|       7 | B       |         1 |\n",
    "|       8 | B       |         0 |\n",
    "+---------+---------+-----------+\n",
    "\n",
    "Question:\n",
    "\n",
    "You are given A/B testing dataset. Each row represents a user's interaction: whether they were shown a variant and whether they converted.\n",
    "\n",
    "your task: calculate the conversion rate(probability) for each variant A and B , and list of users who had a higher probality of converting based on the variant compared to overall average conversion rate\n",
    "```\n",
    "Expected Output:\n",
    "``` sql\n",
    "+---------+---------+-------------------------+-------------------------+\n",
    "| user_id | variant | variant_convertion_rate | overall_convertion_rate |\n",
    "+---------+---------+-------------------------+-------------------------+\n",
    "|       5 | B       |                  0.7500 |                  0.6250 |\n",
    "|       6 | B       |                  0.7500 |                  0.6250 |\n",
    "|       7 | B       |                  0.7500 |                  0.6250 |\n",
    "|       8 | B       |                  0.7500 |                  0.6250 |\n",
    "+---------+---------+-------------------------+-------------------------+\n",
    "```\n",
    "---"
   ]
  },
  {
   "cell_type": "markdown",
   "id": "859ed396",
   "metadata": {},
   "source": [
    "#### **Solution-1:**\n",
    "``` sql\n",
    "select * \n",
    "from\n",
    "(\n",
    "select user_id, variant, \n",
    "sum(converted) over(partition by variant)/ count(*) over(partition by variant) as variant_convertion_rate,\n",
    "sum(converted) over()/ count(*) over() as overall_convertion_rate\n",
    "from ab_test\n",
    ")a\n",
    "where variant_convertion_rate > overall_convertion_rate;\n",
    "```"
   ]
  }
 ],
 "metadata": {
  "language_info": {
   "name": "python"
  }
 },
 "nbformat": 4,
 "nbformat_minor": 5
}
