{
 "cells": [
  {
   "cell_type": "markdown",
   "id": "cad371ad",
   "metadata": {},
   "source": [
    "Q. Write an SQL query to display the below output.\n",
    "\n",
    "Table Script:\n",
    "\n",
    "create table input(id int,val1 varchar(50),val2 varchar(50),val3 varchar(50));\n",
    "\n",
    "insert into input values(1,null,null,'hello');\n",
    "\n",
    "insert into input values(1,'world',null,null);\n",
    "\n",
    "insert into input values(2,'good','morning','spark');\n",
    "\n",
    "insert into input values(1,null,'spark',null);\n",
    "\n",
    "\n",
    "Output:\n",
    "\n",
    "1, world, spark, hello\n",
    "\n",
    "2, good, morning, spark"
   ]
  },
  {
   "cell_type": "markdown",
   "id": "6fcad806",
   "metadata": {},
   "source": [
    "``` sql\n",
    "\n",
    "select * from input;\n",
    "\n",
    "+------+-------+---------+-------+\n",
    "| id   | val1  | val2    | val3  |\n",
    "+------+-------+---------+-------+\n",
    "|    1 | NULL  | NULL    | hello |\n",
    "|    1 | world | NULL    | NULL  |\n",
    "|    2 | good  | morning | spark |\n",
    "|    1 | NULL  | spark   | NULL  |\n",
    "+------+-------+---------+-------+\n",
    "```\n",
    "### Q. Write an SQL query to display the below output.\n",
    "\n",
    "``` sql\n",
    "+------+-------+---------+-------+\n",
    "| id   | val1  | val2    | val3  |\n",
    "+------+-------+---------+-------+\n",
    "|    1 | world | spark   | hello |\n",
    "|    2 | good  | morning | spark |\n",
    "+------+-------+---------+-------+\n",
    "```"
   ]
  },
  {
   "cell_type": "markdown",
   "id": "0f77139d",
   "metadata": {},
   "source": [
    "**Solution:**\n",
    "``` sql\n",
    "\n",
    "select id, max(val1) as val1, max(val2) as val2, max(val3) as val3\n",
    "from input\n",
    "group by id\n",
    "order by id;"
   ]
  }
 ],
 "metadata": {
  "language_info": {
   "name": "python"
  }
 },
 "nbformat": 4,
 "nbformat_minor": 5
}
