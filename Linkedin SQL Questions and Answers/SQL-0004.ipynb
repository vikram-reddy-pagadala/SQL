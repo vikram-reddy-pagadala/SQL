{
 "cells": [
  {
   "cell_type": "markdown",
   "id": "cdcb0b55",
   "metadata": {},
   "source": [
    "``` sql\n",
    "CREATE TABLE tableA (\n",
    "Balance INT,\n",
    "dates date\n",
    ");\n",
    "\n",
    "\n",
    "INSERT INTO tableA (Balance, dates) VALUES\n",
    "(26000, '2020-01-01'),\n",
    "(26000, '2020-01-02'),\n",
    "(26000, '2020-01-03'),\n",
    "(30000, '2020-01-04'),\n",
    "(30000, '2020-01-05'),\n",
    "(26000, '2020-01-06'),\n",
    "(26000, '2020-01-07'),\n",
    "(32000, '2020-01-08'),\n",
    "(31000, '2020-01-09');\n",
    "\n",
    "select * from tableA;\n",
    "\n",
    "+---------+------------+\n",
    "| Balance | dates      |\n",
    "+---------+------------+\n",
    "|   26000 | 2020-01-01 |\n",
    "|   26000 | 2020-01-02 |\n",
    "|   26000 | 2020-01-03 |\n",
    "|   30000 | 2020-01-04 |\n",
    "|   30000 | 2020-01-05 |\n",
    "|   26000 | 2020-01-06 |\n",
    "|   26000 | 2020-01-07 |\n",
    "|   32000 | 2020-01-08 |\n",
    "|   31000 | 2020-01-09 |\n",
    "+---------+------------+\n",
    "\n",
    "expected output:\n",
    "\n",
    "+---------+------------+------------+\n",
    "| Balance | start_date | end_date   |\n",
    "+---------+------------+------------+\n",
    "|   26000 | 2020-01-01 | 2020-01-03 |\n",
    "|   30000 | 2020-01-04 | 2020-01-05 |\n",
    "|   26000 | 2020-01-06 | 2020-01-07 |\n",
    "|   32000 | 2020-01-08 | 2020-01-08 |\n",
    "|   31000 | 2020-01-09 | 2020-01-09 |\n",
    "+---------+------------+------------+"
   ]
  },
  {
   "cell_type": "markdown",
   "id": "e568b886",
   "metadata": {},
   "source": [
    "**Solution:**\n",
    "\n",
    "``` sql\n",
    "select \n",
    "Balance, min(dates) as start_date, max(dates) as end_date\n",
    "from\n",
    "(\n",
    "select \n",
    "Balance, dates,\n",
    "sum(case when Balance =  next_balance then 0 else 1 end) over(order by dates) as grp\n",
    "from\n",
    "(\n",
    "select *, lag(Balance,1, Balance) over(order by dates) as next_balance\n",
    "from tableA\n",
    ") a\n",
    ") b\n",
    "group by Balance,grp;"
   ]
  }
 ],
 "metadata": {
  "language_info": {
   "name": "python"
  }
 },
 "nbformat": 4,
 "nbformat_minor": 5
}
