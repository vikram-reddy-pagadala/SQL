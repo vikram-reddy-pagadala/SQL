{
 "cells": [
  {
   "cell_type": "markdown",
   "id": "bd99111e",
   "metadata": {},
   "source": [
    "``` sql\n",
    "create table numbers (n int);\n",
    "insert into numbers values (1),(2),(3),(4),(5),(9);\n",
    "select * from numbers;\n",
    "\n",
    "+------+\n",
    "| n    |\n",
    "+------+\n",
    "|    1 |\n",
    "|    2 |\n",
    "|    3 |\n",
    "|    4 |\n",
    "|    5 |\n",
    "|    9 |\n",
    "+------+\n",
    "\n",
    "expected output:\n",
    "\n",
    "+------+\n",
    "| n    |\n",
    "+------+\n",
    "|    1 |\n",
    "|    2 |\n",
    "|    2 |\n",
    "|    3 |\n",
    "|    3 |\n",
    "|    3 |\n",
    "|    4 |\n",
    "|    4 |\n",
    "|    4 |\n",
    "|    4 |\n",
    "|    5 |\n",
    "|    5 |\n",
    "|    5 |\n",
    "|    5 |\n",
    "|    5 |\n",
    "|    9 |\n",
    "|    9 |\n",
    "|    9 |\n",
    "|    9 |\n",
    "|    9 |\n",
    "|    9 |\n",
    "|    9 |\n",
    "|    9 |\n",
    "|    9 |\n",
    "+------+"
   ]
  },
  {
   "cell_type": "markdown",
   "id": "f5616726",
   "metadata": {},
   "source": [
    "**Solution:**\n",
    "``` sql\n",
    "with recursive cte as(\n",
    "select max(n) as n from numbers\n",
    "union\n",
    "select n-1 as n from cte\n",
    "where n-1 >= 1)\n",
    "\n",
    "select a.n\n",
    "from numbers a\n",
    "join cte b\n",
    "on a.n >= b.n\n",
    "order by a.n asc;"
   ]
  }
 ],
 "metadata": {
  "language_info": {
   "name": "python"
  }
 },
 "nbformat": 4,
 "nbformat_minor": 5
}
