{
 "cells": [
  {
   "cell_type": "markdown",
   "id": "c484952b",
   "metadata": {},
   "source": [
    "``` sql\n",
    "Q. Write an SQL query to sort the result in alternate order of Gender.\n",
    "\n",
    "Table Script:\n",
    "create table emp(\n",
    "    id int,\n",
    "    name varchar(10),\n",
    "    Gender varchar(10)\n",
    "    );\n",
    "    \n",
    "insert into emp values(1,'A','MALE');\n",
    "insert into emp values(2,'B','MALE');\n",
    "insert into emp values(3,'C','MALE');\n",
    "insert into emp values(4,'D','FEMALE');\n",
    "insert into emp values(5,'E','FEMALE');\n",
    "\n",
    "Exp. Output\n",
    "ID NAME GENDER\n",
    "1 A MALE\n",
    "4 D FEMALE\n",
    "2 B MALE\n",
    "5 E FEMALE\n",
    "3 C MALE"
   ]
  },
  {
   "cell_type": "markdown",
   "id": "7059a54f",
   "metadata": {},
   "source": [
    "``` sql\n",
    "select * from emp;\n",
    "\n",
    "+------+------+--------+\n",
    "| id   | name | Gender |\n",
    "+------+------+--------+\n",
    "|    1 | A    | MALE   |\n",
    "|    2 | B    | MALE   |\n",
    "|    3 | C    | MALE   |\n",
    "|    4 | D    | FEMALE |\n",
    "|    5 | E    | FEMALE |\n",
    "+------+------+--------+\n",
    "\n",
    "Q. Write an SQL query to sort the result in alternate order of Gender.\n",
    "\n",
    "expected output:\n",
    "\n",
    "+------+------+--------+\n",
    "| id   | name | Gender |\n",
    "+------+------+--------+\n",
    "|    1 | A    | MALE   |\n",
    "|    4 | D    | FEMALE |\n",
    "|    2 | B    | MALE   |\n",
    "|    5 | E    | FEMALE |\n",
    "|    3 | C    | MALE   |\n",
    "+------+------+--------+"
   ]
  },
  {
   "cell_type": "markdown",
   "id": "6de334de",
   "metadata": {},
   "source": [
    "**Solution:**\n",
    "``` sql\n",
    "select id, name, Gender\n",
    "from(\n",
    "select *, row_number() over(partition by Gender order by id) as row_num\n",
    "from emp)a\n",
    "order by row_num,id\n"
   ]
  }
 ],
 "metadata": {
  "language_info": {
   "name": "python"
  }
 },
 "nbformat": 4,
 "nbformat_minor": 5
}
