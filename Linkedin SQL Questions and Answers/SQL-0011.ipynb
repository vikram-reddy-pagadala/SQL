{
 "cells": [
  {
   "cell_type": "markdown",
   "id": "36b6f554",
   "metadata": {},
   "source": [
    "```sql\n",
    "--Table Script:\n",
    "\n",
    "create table dept (\n",
    "    dept_id int,\n",
    "    deptname varchar(10),\n",
    "    empname varchar(10),\n",
    "    salary int\n",
    "    );\n",
    "\n",
    "insert into dept values(1,'HR','A',100);\n",
    "insert into dept values(1,'HR','B',200);\n",
    "insert into dept values(1,'HR','C',300);\n",
    "\n",
    "insert into dept values(2,'SALES','D',400);\n",
    "insert into dept values(2,'SALES','E',500);\n",
    "insert into dept values(2,'SALES','F',600);\n",
    "\n",
    "insert into dept values(3,'TECH','G',700);\n",
    "insert into dept values(3,'TECH','H',800);\n",
    "insert into dept values(3,'TECH','I',900);"
   ]
  },
  {
   "cell_type": "markdown",
   "id": "ff80fca7",
   "metadata": {},
   "source": [
    "``` sql\n",
    "select * from dept;\n",
    "\n",
    "+---------+----------+---------+--------+\n",
    "| dept_id | deptname | empname | salary |\n",
    "+---------+----------+---------+--------+\n",
    "|       1 | HR       | A       |    100 |\n",
    "|       1 | HR       | B       |    200 |\n",
    "|       1 | HR       | C       |    300 |\n",
    "|       2 | SALES    | D       |    400 |\n",
    "|       2 | SALES    | E       |    500 |\n",
    "|       2 | SALES    | F       |    600 |\n",
    "|       3 | TECH     | G       |    700 |\n",
    "|       3 | TECH     | H       |    800 |\n",
    "|       3 | TECH     | I       |    900 |\n",
    "+---------+----------+---------+--------+\n",
    "\n",
    "Q. Write an SQL query to display the second highest salary deptwise using correlated query.\n",
    "\n",
    "Expected Output:\n",
    "+----------+---------+--------+\n",
    "| deptname | empname | salary |\n",
    "+----------+---------+--------+\n",
    "| HR       | C       |    300 |\n",
    "| SALES    | E       |    500 |\n",
    "| TECH     | G       |    700 |\n",
    "+----------+---------+--------+\n"
   ]
  },
  {
   "cell_type": "markdown",
   "id": "b31a337a",
   "metadata": {},
   "source": [
    "**Solution:**\n",
    "``` sql\n",
    "select * from dept as d1\n",
    "where 1 = (select count(*) from dept as d2 \n",
    "where d2.salary > d1.salary and d2.deptname = d1.deptname)"
   ]
  },
  {
   "cell_type": "markdown",
   "id": "7f2badca",
   "metadata": {},
   "source": [
    "**Question-2:**\n",
    "``` sql\n",
    "\n",
    "+---------+----------+---------+--------+\n",
    "| dept_id | deptname | empname | salary |\n",
    "+---------+----------+---------+--------+\n",
    "|       1 | HR       | A       |    100 |\n",
    "|       1 | HR       | B       |    200 |\n",
    "|       1 | HR       | C       |    300 |\n",
    "|       2 | SALES    | D       |    400 |\n",
    "|       2 | SALES    | E       |    500 |\n",
    "|       2 | SALES    | F       |    600 |\n",
    "|       3 | TECH     | G       |    700 |\n",
    "|       3 | TECH     | H       |    800 |\n",
    "|       3 | TECH     | I       |    900 |\n",
    "+---------+----------+---------+--------+\n",
    "\n",
    "Q.Write an SQL query to find the employee earning highest salary in HR dept,second highest salary in Sales dept and third highest salary in Tech dept.\n",
    "\n",
    "+----------+---------+--------+\n",
    "| deptname | empname | salary |\n",
    "+----------+---------+--------+\n",
    "| HR       | C       |    300 |\n",
    "| SALES    | E       |    500 |\n",
    "| TECH     | G       |    700 |\n",
    "+----------+---------+--------+"
   ]
  },
  {
   "cell_type": "markdown",
   "id": "3a9078ce",
   "metadata": {},
   "source": [
    "**Solution:**\n",
    "``` sql\n",
    "\n",
    "select deptname, empname, salary \n",
    "from(\n",
    "select *, rank() over(partition by deptname order by salary desc) as rn from dept\n",
    ") a\n",
    "where dept_id = rn\n",
    "\n",
    "=======================================================================\n",
    "\n",
    "with cte as(\n",
    "select Deptname,empname,salary, \n",
    "dense_rank() over (partition by deptname order by salary desc ) as rnk from dept)\n",
    "\n",
    "select Deptname,empname,salary from cte \n",
    "where (rnk = 1 and Deptname = 'HR') or (rnk =2 and Deptname = 'SALES') or (rnk =3 and Deptname = 'TECH');"
   ]
  }
 ],
 "metadata": {
  "language_info": {
   "name": "python"
  }
 },
 "nbformat": 4,
 "nbformat_minor": 5
}
