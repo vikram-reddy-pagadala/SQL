{
 "cells": [
  {
   "cell_type": "markdown",
   "id": "9b219bc5",
   "metadata": {},
   "source": [
    "[Histogram of Tweets](https://datalemur.com/questions/sql-histogram-tweets)"
   ]
  },
  {
   "cell_type": "markdown",
   "id": "c180d887",
   "metadata": {},
   "source": [
    "``` sql\n",
    "\n",
    "--Assume you're given a table Twitter tweet data, write a query to obtain a histogram of tweets posted per user in 2022. Output the tweet count per user as the bucket and the number of Twitter users who fall into that bucket.\n",
    "\n",
    "--In other words, group the users by the number of tweets they posted in 2022 and count the number of users in each group.\n",
    "\n",
    "tweets Table:\n",
    "\n",
    "------------------------------------------------------------------------------------------------------------------\n",
    "| tweet_id   | user_id   | msg                                                               | tweet_date           |\n",
    "| --------- | -------- | ----------------------------------------------------------------- | ------------------- |\n",
    "| 214252    | 111      | Am considering taking Tesla private at \\$420. Funding secured.    | 2021-12-30 00:00:00 |\n",
    "| 739252    | 111      | Despite the constant negative press covfefe                       | 2022-01-01 00:00:00 |\n",
    "| 846402    | 111      | Following @NickSinghTech on Twitter changed my life!              | 2022-02-14 00:00:00 |\n",
    "| 241425    | 254      | If the salary is so competitive why won’t you tell me what it is? | 2022-03-01 00:00:00 |\n",
    "| 231574    | 148      | I no longer have a manager. I can't be managed                    | 2022-03-23 00:00:00 |\n",
    "------------------------------------------------------------------------------------------------------------------\n",
    "\n",
    "\n",
    "expected output:\n",
    "\n",
    "------------------------------\n",
    "| tweet_bucket  | users_num  |\n",
    "| ------------- | ---------- |\n",
    "| 1             | 2          |\n",
    "| 2             | 1          |\n",
    "------------------------------\n",
    "\n",
    "\n",
    "Explanation:\n",
    "\n",
    "Based on the example output, there are two users who posted only one tweet in 2022, and one user who posted two tweets in 2022. The query groups the users by the number of tweets they posted and displays the number of users in each group."
   ]
  },
  {
   "cell_type": "markdown",
   "id": "2a6edd12",
   "metadata": {},
   "source": [
    "**Solution**\n",
    "``` sql\n"
   ]
  }
 ],
 "metadata": {
  "language_info": {
   "name": "python"
  }
 },
 "nbformat": 4,
 "nbformat_minor": 5
}
